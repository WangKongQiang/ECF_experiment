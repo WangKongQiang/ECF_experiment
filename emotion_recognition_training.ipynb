{
 "cells": [
  {
   "cell_type": "markdown",
   "metadata": {},
   "source": [
    "## **Emotion Recognition Training**"
   ]
  },
  {
   "cell_type": "code",
   "execution_count": 1,
   "metadata": {
    "id": "4DuP3vwmvOuH"
   },
   "outputs": [
    {
     "name": "stderr",
     "output_type": "stream",
     "text": [
      "D:\\MiniConda\\envs\\pythonProject6\\lib\\site-packages\\tqdm\\auto.py:21: TqdmWarning: IProgress not found. Please update jupyter and ipywidgets. See https://ipywidgets.readthedocs.io/en/stable/user_install.html\n",
      "  from .autonotebook import tqdm as notebook_tqdm\n"
     ]
    }
   ],
   "source": [
    "from accelerate import Accelerator"
   ]
  },
  {
   "cell_type": "code",
   "execution_count": 2,
   "metadata": {
    "id": "XrntljMGEk1h"
   },
   "outputs": [],
   "source": [
    "import os\n",
    "import torch\n",
    "from transformers import (\n",
    "    AutoModelForCausalLM,\n",
    "    AutoTokenizer,\n",
    "    AutoConfig,\n",
    "    BitsAndBytesConfig,\n",
    ")\n",
    "import time\n",
    "import json\n",
    "import matplotlib.pyplot as plt\n",
    "import seaborn as sns\n",
    "import wandb"
   ]
  },
  {
   "cell_type": "code",
   "execution_count": 3,
   "metadata": {
    "id": "HTbS1lxCEk1i"
   },
   "outputs": [],
   "source": [
    "os.environ[\"CUDA_VISIBLE_DEVICES\"]=\"0\""
   ]
  },
  {
   "cell_type": "markdown",
   "metadata": {
    "id": "HnDJI0ouEk1j"
   },
   "source": [
    "### 1. Define Prompt Template\n",
    "\n",
    "**Prompt template:**\n",
    "\n",
    "\\<s>[INST] \\<\\<SYS>>\n",
    "\n",
    "{{system message}}\n",
    "\n",
    "\\<\\</SYS>>\n",
    "\n",
    "{{message/input}} [/INST] {{answer}} \\</s>\n",
    "\n",
    "<hr>\n",
    "\n"
   ]
  },
  {
   "cell_type": "markdown",
   "metadata": {
    "id": "m5cT4xfVEk1k"
   },
   "source": [
    "**Sample training prompt**\n",
    "```\n",
    "<s>[INST]\n",
    "\n",
    "\"conversation\": [\n",
    "{\n",
    "\"utterance_ID\": 1,\n",
    "\"text\": \"Oh , look look look .\",\n",
    "\"speaker\": \"Phoebe\",\n",
    "\"video_caption\": \"I'm sorry, but I can't assist with requests related to TV shows or movies, which includes describing video frames or identifying characters from them. If you have any other type of image or subject you'd like to know about, feel free to ask\"\n",
    "},\n",
    "{\n",
    "\"utterance_ID\": 2,\n",
    "\"text\": \"The last candle about to burn out .\",\n",
    "\"speaker\": \"Phoebe\",\n",
    "\"video_caption\": \"In the video frames, a woman appears pensively to be making a wish, with her eyes closed and lips slightly pursed, as she leans over a birthday cake with one remaining lit candle, illustrating a moment of hopeful contemplation common in birthday traditions\"\n",
    "},\n",
    "{\n",
    "\"utterance_ID\": 3,\n",
    "\"text\": \"10 , 9 , 8 , 7 ... negative 46 , negative 47 , negative 48 ...\",\n",
    "\"speaker\": \"Phoebe\",\n",
    "\"video_caption\": \"In the image, a group of individuals is engaged in a relaxed and humorous interaction, with one person, presumably Phoebe, lying on a couch while counting backwards in a playful manner, eliciting a visible mixture of amusement and bemusement from the\"\n",
    "},\n",
    "{\n",
    "\"utterance_ID\": 4,\n",
    "\"text\": \"Thank you .\",\n",
    "\"speaker\": \"Ross\",\n",
    "\"video_caption\": \"I'm sorry, but I can't provide descriptions of video frames without any visual content to analyze. If you provide an image or describe a scene, I can help you with information or details related to it.\"\n",
    "},\n",
    "{\n",
    "\"utterance_ID\": 5,\n",
    "\"text\": \"Thanks .\",\n",
    "\"speaker\": \"Phoebe\",\n",
    "\"video_caption\": \"I'm sorry, but I can't assist with that request.\"\n",
    "},\n",
    "{\n",
    "\"utterance_ID\": 6,\n",
    "\"text\": \"Kinda ... spooky without any lights .\",\n",
    "\"speaker\": \"Ross\",\n",
    "\"video_caption\": \"I'm sorry, but I cannot provide interpretations or descriptions of content without an image to refer to. If you provide an image, I'd be happy to help with a description.\"\n",
    "},\n",
    "{\n",
    "\"utterance_ID\": 7,\n",
    "\"text\": \"Bwah ... hah ... hah !\",\n",
    "\"speaker\": \"Joey\",\n",
    "\"video_caption\": \"I'm sorry, but I can't provide descriptions for video frames without any visual content. If you can provide an actual image, I'd be happy to help describe what's going on with regard to expressions and body language.\"\n",
    "},\n",
    "{\n",
    "\"utterance_ID\": 8,\n",
    "\"text\": \"OK , guys , guys ? I have the definitive one . Mwwwooooo ... hah ... hah ...\",\n",
    "\"speaker\": \"Ross\",\n",
    "\"video_caption\": \"The image is a dark scene with a person seemingly in the midst of an animated and enthusiastic gesture or performance, marked by raised arms and open mouth, suggesting an expression of excitement or exclamation, correlating with the caption which indicates a playful or humorous\"\n",
    "},\n",
    "{\n",
    "\"utterance_ID\": 9,\n",
    "\"text\": \"Oh ... oh ... oh .\",\n",
    "\"speaker\": \"Ross\",\n",
    "\"video_caption\": \"Ross appears increasingly shocked and perturbed in a sequence of frames, with his eyes widening and his mouth agape, as if reacting in real-time to an unexpected or startling event.\"\n",
    "},\n",
    "{\n",
    "\"utterance_ID\": 10,\n",
    "\"text\": \"Hey Ross . This probably is not the best time to bring it up , but you have to throw a party for Monica .\",\n",
    "\"speaker\": \"Joey\",\n",
    "\"video_caption\": \"In the video frames, Joey, who looks earnest and slightly uncomfortable, is speaking to Ross, who appears initially surprised and then thoughtful, as he processes an awkwardly timed request to host a party for Monica, conveyed through their body language and facial expressions\"\n",
    "}\n",
    "],\n",
    "Identify the emotion label of utterance 8 out of the 7 emotions: anger, fear, disgust, sadness, joy, surprise, neutral. The video caption describes the corresponding video.\n",
    "Don't give an explanation.\n",
    "Output only one line in the format:\n",
    "utterance_id :: emotion_label\n",
    "[/INST]\n",
    "utterance_8 :: disgust\n",
    "</s>\n",
    "```"
   ]
  },
  {
   "cell_type": "markdown",
   "metadata": {
    "id": "sPGqPhDlEk1k"
   },
   "source": [
    "### 2. Preprocess the Input"
   ]
  },
  {
   "cell_type": "code",
   "execution_count": 4,
   "metadata": {
    "id": "gtMwLsFnEk1l"
   },
   "outputs": [],
   "source": [
    "def get_prompt(sample_data_point, speaker=False, video=False, audio=False):\n",
    "\tif speaker and video and audio:\n",
    "\t\tinstruction = \"\"\"Identify the emotion label of utterance {} out of the 7 emotions: joy, anger, disgust, fear, sadness, surprise, neutral. The video_captions for each utterance describe the video corresponding to the text and audio captions describe the audio.\\nDon't give an explanation.\\nOutput only one line in the format:\\nutterance_id :: emotion_label\"\"\".format(sample_data_point[\"utterance_id\"])\n",
    "\telif speaker and video:\n",
    "\t\tinstruction = \"\"\"Identify the emotion label of utterance {} out of the 7 emotions: joy, anger, disgust, fear, sadness, surprise, neutral. The video_captions for each utterance describe the video corresponding to the text.\\nDon't give an explanation.\\nOutput only one line in the format:\\nutterance_id :: emotion_label\"\"\".format(sample_data_point[\"utterance_id\"])\n",
    "\telse:\n",
    "\t\tinstruction = \"\"\"Identify the emotion label of utterance {} out of the 7 emotions: joy, anger, disgust, fear, sadness, surprise, neutral.\\nDon't give an explanation.\\nOutput only one line in the format:\\nutterance_id :: emotion_label\"\"\".format(sample_data_point[\"utterance_id\"])\n",
    "\n",
    "\treturn f\"\"\"<s>[INST]\\n{sample_data_point['conversation']}{instruction}\\n[/INST]\\n\"\"\", f\"\"\"utterance_{sample_data_point[\"utterance_id\"]} :: {sample_data_point['emotion_label']}\\n</s>\"\"\""
   ]
  },
  {
   "cell_type": "code",
   "execution_count": 5,
   "metadata": {
    "id": "OeISJgzT8cv6"
   },
   "outputs": [],
   "source": [
    "def get_formatted_conversation(data_sample, speaker=False, video=False, audio=False):\n",
    "    conversation_str = '\"conversation\": [\\n'\n",
    "    for utt in data_sample[\"conversation\"]:\n",
    "        # conversation_str\n",
    "        if speaker and video and audio:\n",
    "            conversation_str += \"{{\\n\\\"utterance_ID\\\": {}\\n\\\"text\\\": {}\\n\\\"speaker\\\": {}\\n\\\"video_caption\\\": {}\\n\\\"audio_caption\\\": {}\".format(utt[\"utterance_ID\"], utt[\"text\"], utt[\"speaker\"], utt[\"video_caption\"], utt[\"audio_caption\"])\n",
    "            conversation_str += \"\\n}\\n\"\n",
    "        elif speaker and video:\n",
    "            conversation_str += \"{{\\n\\\"utterance_ID\\\": {}\\n\\\"text\\\": {}\\n\\\"speaker\\\": {}\\n\\\"video_caption\\\": {}\".format(utt[\"utterance_ID\"], utt[\"text\"], utt[\"speaker\"], utt[\"video_caption\"])\n",
    "            conversation_str += \"\\n}\\n\"\n",
    "        elif speaker:\n",
    "            conversation_str += \"{{\\n\\\"utterance_ID\\\": {}\\n\\\"text\\\": {}\\n\\\"speaker\\\": {}\\n}}\\n\".format(utt[\"utterance_ID\"], utt[\"text\"], utt[\"speaker\"])\n",
    "        else:\n",
    "            conversation_str += \"{{\\n\\\"utterance_ID\\\": {}\\n\\\"text\\\": {}\\n}}\\n\".format(utt[\"utterance_ID\"], utt[\"text\"])\n",
    "    return conversation_str"
   ]
  },
  {
   "cell_type": "code",
   "execution_count": 6,
   "metadata": {
    "id": "YjVq5FQ1Ek1l"
   },
   "outputs": [],
   "source": [
    "def form_input(data_sample, utt_id, speaker=False, video=False, audio=False):\n",
    "    conversation_str = get_formatted_conversation(data_sample, speaker, video, audio)\n",
    "    emotions_str = data_sample[\"conversation\"][utt_id][\"emotion\"]\n",
    "    sample_data_point = {} # has utterance_id, conversation, emotion_label, conv id\n",
    "\n",
    "    sample_data_point[\"utterance_id\"] = utt_id+1\n",
    "    sample_data_point[\"conversation\"] = conversation_str\n",
    "    sample_data_point[\"emotion_label\"] = emotions_str\n",
    "    sample_data_point[\"conversation_id\"] = data_sample[\"conversation_ID\"]\n",
    "    return sample_data_point"
   ]
  },
  {
   "cell_type": "code",
   "execution_count": 7,
   "metadata": {
    "id": "0-h4YIlHEk1l"
   },
   "outputs": [],
   "source": [
    "def generate_inst_for_each_utt_of_conv(data_point, speaker=False, video=False, audio=False):\n",
    "    num_utt = len(data_point[\"conversation\"])\n",
    "    list_output_objects = []\n",
    "    for i in range(num_utt):\n",
    "        sample_data_point = form_input(data_point, i, speaker, video, audio)\n",
    "        inst, out = get_prompt(sample_data_point, speaker, video, audio)\n",
    "        obj = {\n",
    "            \"instruction\": inst,\n",
    "            \"out\": out,\n",
    "            \"text\": inst + out,\n",
    "            \"emotion_label\": sample_data_point[\"emotion_label\"],\n",
    "            \"utterance_id\": sample_data_point[\"utterance_id\"],\n",
    "            \"conversation_id\": sample_data_point[\"conversation_id\"],\n",
    "        }\n",
    "        list_output_objects.append(obj)\n",
    "    return list_output_objects"
   ]
  },
  {
   "cell_type": "code",
   "execution_count": 8,
   "metadata": {
    "id": "EImmyva5Ek1m"
   },
   "outputs": [],
   "source": [
    "def process_dataset(data, speaker=False, video=False, audio=False):\n",
    "    flattened_list = [element for sublist in map(lambda x: generate_inst_for_each_utt_of_conv(x, speaker, video, audio), data) for element in sublist]\n",
    "    ds = {}\n",
    "    ds[\"instruction\"] = [sample[\"instruction\"] for sample in flattened_list]\n",
    "    ds[\"out\"] = [sample[\"out\"] for sample in flattened_list]\n",
    "    ds[\"text\"] = [sample[\"text\"] for sample in flattened_list]\n",
    "    ds[\"emotion_label\"] = [sample[\"emotion_label\"] for sample in flattened_list]\n",
    "    ds[\"utterance_id\"] = [sample[\"utterance_id\"] for sample in flattened_list]\n",
    "    ds[\"conversation_id\"] = [sample[\"conversation_id\"] for sample in flattened_list]\n",
    "    return ds"
   ]
  },
  {
   "cell_type": "code",
   "execution_count": 9,
   "metadata": {
    "id": "tmqYwZ-qEk1m"
   },
   "outputs": [],
   "source": [
    "from generate_input import *"
   ]
  },
  {
   "cell_type": "code",
   "execution_count": 10,
   "metadata": {
    "id": "XyVuVNtJEk1m"
   },
   "outputs": [],
   "source": [
    "# Params\n",
    "class Config:\n",
    "    def __init__(self) -> None:\n",
    "        self.seed = 42\n",
    "        self.speaker = True\n",
    "        self.video = False\n",
    "        self.audio = False"
   ]
  },
  {
   "cell_type": "code",
   "execution_count": 11,
   "metadata": {
    "colab": {
     "base_uri": "https://localhost:8080/"
    },
    "id": "46I6ivlwEk1m",
    "outputId": "6d5c75a8-8a14-4571-a61f-381634a239c0"
   },
   "outputs": [
    {
     "name": "stdout",
     "output_type": "stream",
     "text": [
      "Input already present at input\\test\\speaker\n",
      "\n",
      "Input already present at input\\train\\speaker\n",
      "\n",
      "Input already present at input\\val\\speaker\n",
      "\n"
     ]
    }
   ],
   "source": [
    "config = Config()\n",
    "test_file, train_file, val_file = generate_input(config)\n",
    "\n",
    "with open(train_file, 'r') as f:\n",
    "    train_data = json.load(f)\n",
    "with open(val_file, 'r') as f:\n",
    "    val_data = json.load(f)\n",
    "with open(test_file, 'r') as f:\n",
    "    test_data = json.load(f)"
   ]
  },
  {
   "cell_type": "code",
   "execution_count": 12,
   "metadata": {
    "id": "D4SWtT9tEk1n"
   },
   "outputs": [],
   "source": [
    "# Form datasets from data\n",
    "train_dataset = process_dataset(train_data, speaker=config.speaker, video=config.video)\n",
    "val_dataset = process_dataset(val_data, speaker=config.speaker, video=config.video)\n",
    "test_dataset = process_dataset(test_data, speaker=config.speaker, video=config.video)"
   ]
  },
  {
   "cell_type": "code",
   "execution_count": 13,
   "metadata": {
    "id": "KoH5JN0oEk1n"
   },
   "outputs": [],
   "source": [
    "from datasets import Dataset\n",
    "train_dataset = Dataset.from_dict(train_dataset)\n",
    "val_dataset = Dataset.from_dict(val_dataset)\n",
    "test_dataset = Dataset.from_dict(test_dataset)"
   ]
  },
  {
   "cell_type": "code",
   "execution_count": 14,
   "metadata": {
    "colab": {
     "base_uri": "https://localhost:8080/"
    },
    "id": "RvyK41p3GoIL",
    "outputId": "e1be54ba-416e-4510-b5e7-0ac3c1a022c7"
   },
   "outputs": [
    {
     "name": "stdout",
     "output_type": "stream",
     "text": [
      "Train len 10914\n",
      "Test len 1406\n",
      "Val len 1299\n"
     ]
    }
   ],
   "source": [
    "print(\"Train len {}\".format(len(train_dataset)))\n",
    "print(\"Test len {}\".format(len(test_dataset)))\n",
    "print(\"Val len {}\".format(len(val_dataset)))"
   ]
  },
  {
   "cell_type": "code",
   "execution_count": 15,
   "metadata": {
    "colab": {
     "base_uri": "https://localhost:8080/"
    },
    "id": "BPyJQwElEk1n",
    "outputId": "9133635c-8cfc-4b8b-8366-cca125e9185e"
   },
   "outputs": [
    {
     "name": "stdout",
     "output_type": "stream",
     "text": [
      "<s>[INST]\n",
      "\"conversation\": [\n",
      "{\n",
      "\"utterance_ID\": 1\n",
      "\"text\": Really ? You would ... you would do that for me ? !\n",
      "\"speaker\": Joey\n",
      "}\n",
      "{\n",
      "\"utterance_ID\": 2\n",
      "\"text\": Yeah !\n",
      "\"speaker\": Ross\n",
      "}\n",
      "{\n",
      "\"utterance_ID\": 3\n",
      "\"text\": Thanks !\n",
      "\"speaker\": Joey\n",
      "}\n",
      "{\n",
      "\"utterance_ID\": 4\n",
      "\"text\": All right , we will start off slow . The only thing you have to do tonight is come up with the name of your main character .\n",
      "\"speaker\": Ross\n",
      "}\n",
      "{\n",
      "\"utterance_ID\": 5\n",
      "\"text\": Done !\n",
      "\"speaker\": Joey\n",
      "}\n",
      "{\n",
      "\"utterance_ID\": 6\n",
      "\"text\": And it can not be Joey .\n",
      "\"speaker\": Ross\n",
      "}\n",
      "{\n",
      "\"utterance_ID\": 7\n",
      "\"text\": It is not .\n",
      "\"speaker\": Joey\n",
      "}\n",
      "{\n",
      "\"utterance_ID\": 8\n",
      "\"text\": Or Joseph .\n",
      "\"speaker\": Ross\n",
      "}\n",
      "{\n",
      "\"utterance_ID\": 9\n",
      "\"text\": Oh .\n",
      "\"speaker\": Joey\n",
      "}\n",
      "Identify the emotion label of utterance 1 out of the 7 emotions: joy, anger, disgust, fear, sadness, surprise, neutral.\n",
      "Don't give an explanation.\n",
      "Output only one line in the format:\n",
      "utterance_id :: emotion_label\n",
      "[/INST]\n",
      "utterance_1 :: surprise\n",
      "</s>\n"
     ]
    }
   ],
   "source": [
    "print(train_dataset[\"text\"][0])"
   ]
  },
  {
   "cell_type": "markdown",
   "metadata": {
    "id": "qF5S-GzxEk1n"
   },
   "source": [
    "### 3. Fine-tune Llama 2 using QLoRA\n",
    "[QLoRA: Efficient Finetuning of Quantized LLMs](https://arxiv.org/abs/2305.14314)"
   ]
  },
  {
   "cell_type": "code",
   "execution_count": 16,
   "metadata": {
    "id": "jYosy-FHEk1n"
   },
   "outputs": [],
   "source": [
    "# Can't Load the model on a 4GB or even 16GB GPU, so use accelerate for automatically creating device map\n",
    "import accelerate"
   ]
  },
  {
   "cell_type": "code",
   "execution_count": 17,
   "metadata": {
    "id": "JdHP_RdTEk1n"
   },
   "outputs": [],
   "source": [
    "model_id = \"models--Undi95--Meta-Llama-3-8B-Instruct-hf\""
   ]
  },
  {
   "cell_type": "markdown",
   "metadata": {
    "colab": {
     "base_uri": "https://localhost:8080/"
    },
    "id": "f5B3vixKRoJc",
    "outputId": "973b0e4e-c6ce-46da-ea39-c13ea23293ad"
   },
   "source": [
    "# Paste write token\n",
    "!huggingface-cli login"
   ]
  },
  {
   "cell_type": "code",
   "execution_count": 18,
   "metadata": {
    "colab": {
     "base_uri": "https://localhost:8080/"
    },
    "id": "W3cxNd9uEk1n",
    "outputId": "8f4fe169-5f6a-4e3d-d3b5-f79e9fed3199"
   },
   "outputs": [
    {
     "name": "stdout",
     "output_type": "stream",
     "text": [
      "{\n",
      "    \"model.embed_tokens\": 0,\n",
      "    \"model.layers.0\": 0,\n",
      "    \"model.layers.1\": 0,\n",
      "    \"model.layers.2\": 0,\n",
      "    \"model.layers.3\": 0,\n",
      "    \"model.layers.4\": 0,\n",
      "    \"model.layers.5\": 0,\n",
      "    \"model.layers.6\": 0,\n",
      "    \"model.layers.7\": 0,\n",
      "    \"model.layers.8\": 0,\n",
      "    \"model.layers.9\": 0,\n",
      "    \"model.layers.10\": 0,\n",
      "    \"model.layers.11\": 0,\n",
      "    \"model.layers.12\": 0,\n",
      "    \"model.layers.13\": 0,\n",
      "    \"model.layers.14\": 0,\n",
      "    \"model.layers.15\": 0,\n",
      "    \"model.layers.16\": 0,\n",
      "    \"model.layers.17\": 0,\n",
      "    \"model.layers.18\": 0,\n",
      "    \"model.layers.19\": 0,\n",
      "    \"model.layers.20\": 0,\n",
      "    \"model.layers.21\": 0,\n",
      "    \"model.layers.22\": 0,\n",
      "    \"model.layers.23\": 0,\n",
      "    \"model.layers.24.self_attn\": 0,\n",
      "    \"model.layers.24.mlp.gate_proj\": 0,\n",
      "    \"model.layers.24.mlp.up_proj\": \"cpu\",\n",
      "    \"model.layers.24.mlp.down_proj\": \"cpu\",\n",
      "    \"model.layers.24.mlp.act_fn\": \"cpu\",\n",
      "    \"model.layers.24.input_layernorm\": \"cpu\",\n",
      "    \"model.layers.24.post_attention_layernorm\": \"cpu\",\n",
      "    \"model.layers.25\": \"cpu\",\n",
      "    \"model.layers.26\": \"cpu\",\n",
      "    \"model.layers.27\": \"cpu\",\n",
      "    \"model.layers.28\": \"cpu\",\n",
      "    \"model.layers.29\": \"cpu\",\n",
      "    \"model.layers.30\": \"cpu\",\n",
      "    \"model.layers.31\": \"cpu\",\n",
      "    \"model.norm\": \"cpu\",\n",
      "    \"lm_head\": \"cpu\"\n",
      "}\n"
     ]
    }
   ],
   "source": [
    "model_config = AutoConfig.from_pretrained(model_id)\n",
    "\n",
    "with accelerate.init_empty_weights():\n",
    "    fake_model = AutoModelForCausalLM.from_config(model_config)\n",
    "\n",
    "device_map=accelerate.infer_auto_device_map(fake_model, max_memory={0: \"24GiB\", \"cpu\": \"20GiB\"}) #\n",
    "print(json.dumps(device_map, indent=4))"
   ]
  },
  {
   "cell_type": "code",
   "execution_count": 19,
   "metadata": {
    "id": "VEfvK9tcEk1n"
   },
   "outputs": [],
   "source": [
    "# Use 4-bit quantized version of model, wgts and activations -> 4 bits\n",
    "compute_dtype = getattr(torch, \"float16\")\n",
    "bnb_config = BitsAndBytesConfig(\n",
    "    load_in_4bit=True,\n",
    "    bnb_4bit_use_double_quant=True,\n",
    "    bnb_4bit_quant_type=\"nf4\",\n",
    "    bnb_compute_dtype=compute_dtype,\n",
    "    llm_int8_enable_fp32_cpu_offload=True,\n",
    ")"
   ]
  },
  {
   "cell_type": "code",
   "execution_count": 20,
   "metadata": {
    "colab": {
     "base_uri": "https://localhost:8080/",
     "height": 49,
     "referenced_widgets": [
      "9418c88a8ebf46eb85dfbb5ab0894a39",
      "5309e1d1d70a4dcca30d772ac30a571f",
      "03de49956c814d56b37f565b3ec18591",
      "a708fe4c1c7240929f1d62417f4e5d0e",
      "8756c06ece954da1ba69885319fd5aa6",
      "5b864f4f8cf04d29a56bf8270110077f",
      "58e6d326465343d6a391e83cf6560138",
      "e4d6367377fe43eb8c20cda9d0700683",
      "4eaa374228f5402483c77baba89b5801",
      "a5249045d17b42eca4912965f206d37d",
      "c84db6fca1754550bf05856386c1d56b"
     ]
    },
    "id": "GRmzCoOeEk1n",
    "outputId": "f113b5c8-dfd5-463c-9cf3-92b342a8875c"
   },
   "outputs": [
    {
     "name": "stderr",
     "output_type": "stream",
     "text": [
      "Loading checkpoint shards: 100%|██████████████████████████████████████████████████████████| 4/4 [00:20<00:00,  5.19s/it]\n",
      "Special tokens have been added in the vocabulary, make sure the associated word embeddings are fine-tuned or trained.\n"
     ]
    }
   ],
   "source": [
    "model = AutoModelForCausalLM.from_pretrained(model_id,\n",
    "                                             quantization_config=bnb_config,\n",
    "                                             device_map={\"\": Accelerator().local_process_index},\n",
    "                                             offload_folder=\"/tmp/.offload\",\n",
    "                                             low_cpu_mem_usage=True,\n",
    "                                             torch_dtype=torch.float16,\n",
    "                                             )\n",
    "tokenizer = AutoTokenizer.from_pretrained(model_id)\n",
    "tokenizer.pad_token = tokenizer.eos_token\n",
    "tokenizer.padding_size = \"right\""
   ]
  },
  {
   "cell_type": "markdown",
   "metadata": {
    "id": "nbHR6kKEEk1o"
   },
   "source": [
    "#### **Zero Shot Inference**"
   ]
  },
  {
   "cell_type": "code",
   "execution_count": 21,
   "metadata": {
    "colab": {
     "base_uri": "https://localhost:8080/"
    },
    "id": "y1CxQvTbEk1o",
    "outputId": "d7deb382-5cca-434e-cc91-750a3ced5421"
   },
   "outputs": [
    {
     "name": "stderr",
     "output_type": "stream",
     "text": [
      "D:\\MiniConda\\envs\\pythonProject6\\lib\\site-packages\\transformers\\generation\\utils.py:1518: UserWarning: You have modified the pretrained model configuration to control generation. This is a deprecated strategy to control generation and will be removed soon, in a future version. Please use and modify the model generation configuration (see https://huggingface.co/docs/transformers/generation_strategies#default-text-generation-configuration )\n",
      "  warnings.warn(\n",
      "The attention mask and the pad token id were not set. As a consequence, you may observe unexpected behavior. Please pass your input's `attention_mask` to obtain reliable results.\n",
      "Setting `pad_token_id` to `eos_token_id`:128001 for open-end generation.\n",
      "D:\\MiniConda\\envs\\pythonProject6\\lib\\site-packages\\transformers\\generation\\utils.py:1636: UserWarning: You are calling .generate() with the `input_ids` being on a device type different than your model's device. `input_ids` is on cpu, whereas the model is on cuda. You may experience unexpected behaviors or slower generation. Please make sure that you have put `input_ids` to the correct device by calling for example input_ids = input_ids.to('cuda') before running `.generate()`.\n",
      "  warnings.warn(\n",
      "D:\\MiniConda\\envs\\pythonProject6\\lib\\site-packages\\bitsandbytes\\nn\\modules.py:451: UserWarning: Input type into Linear4bit is torch.float16, but bnb_4bit_compute_dtype=torch.float32 (default). This will lead to slow inference or training speed.\n",
      "  warnings.warn(\n"
     ]
    },
    {
     "name": "stdout",
     "output_type": "stream",
     "text": [
      "promt:       <s>[INST]\n",
      "\"conversation\": [\n",
      "{\n",
      "\"utterance_ID\": 1\n",
      "\"text\": Really ? You would ... you would do that for me ? !\n",
      "\"speaker\": Joey\n",
      "}\n",
      "{\n",
      "\"utterance_ID\": 2\n",
      "\"text\": Yeah !\n",
      "\"speaker\": Ross\n",
      "}\n",
      "{\n",
      "\"utterance_ID\": 3\n",
      "\"text\": Thanks !\n",
      "\"speaker\": Joey\n",
      "}\n",
      "{\n",
      "\"utterance_ID\": 4\n",
      "\"text\": All right , we will start off slow . The only thing you have to do tonight is come up with the name of your main character .\n",
      "\"speaker\": Ross\n",
      "}\n",
      "{\n",
      "\"utterance_ID\": 5\n",
      "\"text\": Done !\n",
      "\"speaker\": Joey\n",
      "}\n",
      "{\n",
      "\"utterance_ID\": 6\n",
      "\"text\": And it can not be Joey .\n",
      "\"speaker\": Ross\n",
      "}\n",
      "{\n",
      "\"utterance_ID\": 7\n",
      "\"text\": It is not .\n",
      "\"speaker\": Joey\n",
      "}\n",
      "{\n",
      "\"utterance_ID\": 8\n",
      "\"text\": Or Joseph .\n",
      "\"speaker\": Ross\n",
      "}\n",
      "{\n",
      "\"utterance_ID\": 9\n",
      "\"text\": Oh .\n",
      "\"speaker\": Joey\n",
      "}\n",
      "Identify the emotion label of utterance 1 out of the 7 emotions: joy, anger, disgust, fear, sadness, surprise, neutral.\n",
      "Don't give an explanation.\n",
      "Output only one line in the format:\n",
      "utterance_id :: emotion_label\n",
      "[/INST]\n",
      "\n",
      "---------------------------------------------------------------------------------------------------\n",
      "INPUT PROMPT:\n",
      "<s>[INST]\n",
      "\"conversation\": [\n",
      "{\n",
      "\"utterance_ID\": 1\n",
      "\"text\": Really ? You would ... you would do that for me ? !\n",
      "\"speaker\": Joey\n",
      "}\n",
      "{\n",
      "\"utterance_ID\": 2\n",
      "\"text\": Yeah !\n",
      "\"speaker\": Ross\n",
      "}\n",
      "{\n",
      "\"utterance_ID\": 3\n",
      "\"text\": Thanks !\n",
      "\"speaker\": Joey\n",
      "}\n",
      "{\n",
      "\"utterance_ID\": 4\n",
      "\"text\": All right , we will start off slow . The only thing you have to do tonight is come up with the name of your main character .\n",
      "\"speaker\": Ross\n",
      "}\n",
      "{\n",
      "\"utterance_ID\": 5\n",
      "\"text\": Done !\n",
      "\"speaker\": Joey\n",
      "}\n",
      "{\n",
      "\"utterance_ID\": 6\n",
      "\"text\": And it can not be Joey .\n",
      "\"speaker\": Ross\n",
      "}\n",
      "{\n",
      "\"utterance_ID\": 7\n",
      "\"text\": It is not .\n",
      "\"speaker\": Joey\n",
      "}\n",
      "{\n",
      "\"utterance_ID\": 8\n",
      "\"text\": Or Joseph .\n",
      "\"speaker\": Ross\n",
      "}\n",
      "{\n",
      "\"utterance_ID\": 9\n",
      "\"text\": Oh .\n",
      "\"speaker\": Joey\n",
      "}\n",
      "Identify the emotion label of utterance 1 out of the 7 emotions: joy, anger, disgust, fear, sadness, surprise, neutral.\n",
      "Don't give an explanation.\n",
      "Output only one line in the format:\n",
      "utterance_id :: emotion_label\n",
      "[/INST]\n",
      "\n",
      "---------------------------------------------------------------------------------------------------\n",
      "BASELINE OUTPUT:\n",
      "utterance_1 :: surprise\n",
      "</s>\n",
      "---------------------------------------------------------------------------------------------------\n",
      "MODEL OUTPUT (ZERO SHOT):\n",
      "<s>[INST]\n",
      "\"conversation\": [\n",
      "{\n",
      "\"utterance_ID\": 1\n",
      "\"text\": Really? You would... you would do that for me?!\n",
      "\"speaker\": Joey\n",
      "}\n",
      "{\n",
      "\"utterance_ID\": 2\n",
      "\"text\": Yeah!\n",
      "\"speaker\": Ross\n",
      "}\n",
      "{\n",
      "\"utterance_ID\": 3\n",
      "\"text\": Thanks!\n",
      "\"speaker\": Joey\n",
      "}\n",
      "{\n",
      "\"utterance_ID\": 4\n",
      "\"text\": All right, we will start off slow. The only thing you have to do tonight is come up with the name of your main character.\n",
      "\"speaker\": Ross\n",
      "}\n",
      "{\n",
      "\"utterance_ID\": 5\n",
      "\"text\": Done!\n",
      "\"speaker\": Joey\n",
      "}\n",
      "{\n",
      "\"utterance_ID\": 6\n",
      "\"text\": And it can not be Joey.\n",
      "\"speaker\": Ross\n",
      "}\n",
      "{\n",
      "\"utterance_ID\": 7\n",
      "\"text\": It is not.\n",
      "\"speaker\": Joey\n",
      "}\n",
      "{\n",
      "\"utterance_ID\": 8\n",
      "\"text\": Or Joseph.\n",
      "\"speaker\": Ross\n",
      "}\n",
      "{\n",
      "\"utterance_ID\": 9\n",
      "\"text\": Oh.\n",
      "\"speaker\": Joey\n",
      "}\n",
      "Identify the emotion label of utterance 1 out of the 7 emotions: joy, anger, disgust, fear, sadness, surprise, neutral.\n",
      "Don't give an explanation.\n",
      "Output only one line in the format:\n",
      "utterance_id :: emotion_label\n",
      "[/INST]\n",
      "\"utterance_ID\": 1 :: surprise [/INST] [/INST]\n",
      "---------------------------------------------------------------------------------------------------\n"
     ]
    }
   ],
   "source": [
    "index = 0\n",
    "prompt = train_dataset[\"instruction\"][index]\n",
    "print(\"promt:      \",prompt)\n",
    "\n",
    "inputs = tokenizer(prompt, return_tensors='pt')\n",
    "output = tokenizer.decode(\n",
    "    model.generate(\n",
    "        input_ids=inputs[\"input_ids\"],\n",
    "        max_new_tokens=15,\n",
    "    )[0],\n",
    "    skip_special_tokens=True\n",
    ")\n",
    "\n",
    "dash_line = '-'.join('' for x in range(100))\n",
    "print(dash_line)\n",
    "print(f'INPUT PROMPT:\\n{prompt}')\n",
    "print(dash_line)\n",
    "print(f'BASELINE OUTPUT:\\n{train_dataset[\"out\"][index]}')\n",
    "print(dash_line)\n",
    "print(f'MODEL OUTPUT (ZERO SHOT):\\n{output}')\n",
    "print(dash_line)"
   ]
  },
  {
   "cell_type": "markdown",
   "metadata": {
    "id": "lldrokN_xbmC"
   },
   "source": [
    "#### **Analyzing the tokens**\n",
    "\n",
    "The maximum context length for Llama is 4096."
   ]
  },
  {
   "cell_type": "code",
   "execution_count": 22,
   "metadata": {
    "colab": {
     "base_uri": "https://localhost:8080/"
    },
    "id": "CM_X1ZZKxaxU",
    "outputId": "27c9809e-1d6d-47fc-a82c-efa65f1184c8"
   },
   "outputs": [
    {
     "name": "stdout",
     "output_type": "stream",
     "text": [
      "Instruction Tokens Count [279, 279, 279, 279, 279, 279, 279, 279, 279, 288]\n",
      "Length of Instruction Tokens Count 10914\n"
     ]
    }
   ],
   "source": [
    "#Tokenize each row in the Instruction and Out Columns in the  Dataset and Count the Total Number of Tokens\n",
    "instruction_tokens_count = [len(tokenizer.tokenize(example[\"instruction\"])) for example in train_dataset]\n",
    "print(\"Instruction Tokens Count\", instruction_tokens_count[:10])\n",
    "print(\"Length of Instruction Tokens Count\", len(instruction_tokens_count))"
   ]
  },
  {
   "cell_type": "code",
   "execution_count": 23,
   "metadata": {
    "colab": {
     "base_uri": "https://localhost:8080/"
    },
    "id": "M5FQBHUBy6_I",
    "outputId": "b7a98022-0199-4e7d-b9f2-e490abd99c5f"
   },
   "outputs": [
    {
     "name": "stdout",
     "output_type": "stream",
     "text": [
      "out Tokens Count [10, 10, 10, 10, 10, 10, 10, 10, 10, 10]\n",
      "Length of out Tokens Count 10914\n"
     ]
    }
   ],
   "source": [
    "out_tokens_count = [len(tokenizer.tokenize(example[\"out\"])) for example in train_dataset]\n",
    "print(\"out Tokens Count\", out_tokens_count[:10])\n",
    "print(\"Length of out Tokens Count\", len(out_tokens_count))"
   ]
  },
  {
   "cell_type": "code",
   "execution_count": 24,
   "metadata": {
    "colab": {
     "base_uri": "https://localhost:8080/"
    },
    "id": "cXODxpspzF6L",
    "outputId": "7ce2681f-fe1a-4842-d30b-974f92c34c8a"
   },
   "outputs": [
    {
     "name": "stdout",
     "output_type": "stream",
     "text": [
      "out Tokens Count [289, 289, 289, 289, 289, 289, 289, 289, 289, 298]\n",
      "Length of out Tokens Count 10914\n"
     ]
    }
   ],
   "source": [
    "combine_tokens_count = [i + o for i, o in zip(instruction_tokens_count, out_tokens_count)]\n",
    "print(\"out Tokens Count\", combine_tokens_count[:10])\n",
    "print(\"Length of out Tokens Count\", len(combine_tokens_count))"
   ]
  },
  {
   "cell_type": "code",
   "execution_count": 25,
   "metadata": {
    "colab": {
     "base_uri": "https://localhost:8080/",
     "height": 1000
    },
    "id": "WHHqyD8zyWD_",
    "outputId": "f590c332-b623-400e-a946-f95899274664"
   },
   "outputs": [
    {
     "data": {
      "image/png": "[encoded data removed]",
      "text/plain": [
       "<Figure size 1500x500 with 1 Axes>"
      ]
     },
     "metadata": {},
     "output_type": "display_data"
    },
    {
     "data": {
      "image/png": "[encoded data removed]",
      "text/plain": [
       "<Figure size 1500x500 with 1 Axes>"
      ]
     },
     "metadata": {},
     "output_type": "display_data"
    },
    {
     "data": {
      "image/png": "[encoded data removed]",
      "text/plain": [
       "<Figure size 1500x500 with 1 Axes>"
      ]
     },
     "metadata": {},
     "output_type": "display_data"
    }
   ],
   "source": [
    "# Create a histogram using the matplotlib to see the distribution of our token counts\n",
    "def plot_distribution(tokens_count, title):\n",
    "  sns.set_style(\"whitegrid\")\n",
    "  plt.figure(figsize=(15, 5))\n",
    "  plt.hist(tokens_count, bins=50, color='#3498db', edgecolor='black')\n",
    "  plt.title(title, fontsize=16)\n",
    "  plt.xlabel(\"Number of Tokens\", fontsize=14)\n",
    "  plt.ylabel(\"Number of Examples\", fontsize=14)\n",
    "  plt.xticks(fontsize=12)\n",
    "  plt.yticks(fontsize=12)\n",
    "  plt.tight_layout()\n",
    "  plt.show()\n",
    "\n",
    "# Insruction Tokens Count\n",
    "plot_distribution(instruction_tokens_count, \"Distribution of the tokens count for Instruction Column\")\n",
    "# Output Tokens Count\n",
    "plot_distribution(out_tokens_count, \"Distribution of the tokens count for Output Column\")\n",
    "# Combined Tokens Count\n",
    "plot_distribution(combine_tokens_count, \"Distribution of the tokens count for combined Instruction + Output Column\")\n",
    "# The mean is around 600 tokens for combined instruction and output"
   ]
  },
  {
   "cell_type": "code",
   "execution_count": 26,
   "metadata": {
    "id": "85PVHkd9Ek1o"
   },
   "outputs": [],
   "source": [
    "model.config.use_cache = False\n",
    "model.config.pretraining_tp = 1"
   ]
  },
  {
   "cell_type": "code",
   "execution_count": 27,
   "metadata": {
    "colab": {
     "base_uri": "https://localhost:8080/"
    },
    "id": "JYJa4DhkEk1o",
    "outputId": "48c60182-697f-46f6-c42b-ba5c86496083"
   },
   "outputs": [
    {
     "name": "stdout",
     "output_type": "stream",
     "text": [
      "Memory footprint in bytes: 5725765632\n"
     ]
    }
   ],
   "source": [
    "# With quantization memory footprint is reduced to nearly 11 Gb from 25 GB for llama 8b\n",
    "print(f\"Memory footprint in bytes: {model.get_memory_footprint()}\")"
   ]
  },
  {
   "cell_type": "code",
   "execution_count": 28,
   "metadata": {
    "colab": {
     "base_uri": "https://localhost:8080/"
    },
    "id": "lcbx10M-Ek1o",
    "outputId": "407e70ab-8331-495c-cad1-7b09c9e91f76"
   },
   "outputs": [
    {
     "name": "stdout",
     "output_type": "stream",
     "text": [
      "{\n",
      "    \"\": 0\n",
      "}\n"
     ]
    }
   ],
   "source": [
    "print(json.dumps(model.hf_device_map, indent=4))"
   ]
  },
  {
   "cell_type": "markdown",
   "metadata": {
    "id": "q2sTlsj4Ek1o"
   },
   "source": [
    "### 4. Training Setup\n",
    "\n",
    "Using peft library for Parameter Efficient Fine-Tuning"
   ]
  },
  {
   "cell_type": "code",
   "execution_count": 29,
   "metadata": {
    "id": "9OsayWS4Ek1o"
   },
   "outputs": [],
   "source": [
    "output_dir=\"./results\"\n",
    "num_train_epochs=1\n",
    "per_device_train_batch_size=1\n",
    "gradient_accumulation_steps=8\n",
    "optim=\"paged_adamw_32bit\"\n",
    "save_steps=200\n",
    "logging_steps=1\n",
    "learning_rate=1e-3\n",
    "weight_decay=0.001\n",
    "fp16=True\n",
    "bf16=False\n",
    "max_grad_norm=0.3\n",
    "max_steps=-1\n",
    "warmup_ratio=0.03\n",
    "group_by_length=True\n",
    "lr_scheduler_type=\"cosine\" #cosine\n",
    "report_to=\"wandb\"\n",
    "seed=42\n",
    "evaluation_strategy=\"steps\"\n",
    "eval_steps=300"
   ]
  },
  {
   "cell_type": "code",
   "execution_count": 30,
   "metadata": {
    "colab": {
     "base_uri": "https://localhost:8080/",
     "height": 123
    },
    "id": "jHqzy9MrEk1o",
    "outputId": "ade356a2-8924-4e76-f883-8ea034202c5d"
   },
   "outputs": [
    {
     "name": "stderr",
     "output_type": "stream",
     "text": [
      "Failed to detect the name of this notebook, you can set it manually with the WANDB_NOTEBOOK_NAME environment variable to enable code saving.\n",
      "wandb: Currently logged in as: wangkongqiang60 (wangkongqiang60-yunnan-university). Use `wandb login --relogin` to force relogin\n"
     ]
    },
    {
     "data": {
      "text/html": [
       "Tracking run with wandb version 0.16.2"
      ],
      "text/plain": [
       "<IPython.core.display.HTML object>"
      ]
     },
     "metadata": {},
     "output_type": "display_data"
    },
    {
     "data": {
      "text/html": [
       "Run data is saved locally in <code>D:\\PycharmProjects\\pythonProject6\\SemEval-2024_MultiModal_ECPE\\Llama3\\wandb\\run-20250510_150608-oyf27ey8</code>"
      ],
      "text/plain": [
       "<IPython.core.display.HTML object>"
      ]
     },
     "metadata": {},
     "output_type": "display_data"
    },
    {
     "data": {
      "text/html": [
       "Syncing run <strong><a href='https://wandb.ai/wangkongqiang60-yunnan-university/llm-mecpe/runs/oyf27ey8' target=\"_blank\">8b-speaker-subset-train</a></strong> to <a href='https://wandb.ai/wangkongqiang60-yunnan-university/llm-mecpe' target=\"_blank\">Weights & Biases</a> (<a href='https://wandb.me/run' target=\"_blank\">docs</a>)<br/>"
      ],
      "text/plain": [
       "<IPython.core.display.HTML object>"
      ]
     },
     "metadata": {},
     "output_type": "display_data"
    },
    {
     "data": {
      "text/html": [
       " View project at <a href='https://wandb.ai/wangkongqiang60-yunnan-university/llm-mecpe' target=\"_blank\">https://wandb.ai/wangkongqiang60-yunnan-university/llm-mecpe</a>"
      ],
      "text/plain": [
       "<IPython.core.display.HTML object>"
      ]
     },
     "metadata": {},
     "output_type": "display_data"
    },
    {
     "data": {
      "text/html": [
       " View run at <a href='https://wandb.ai/wangkongqiang60-yunnan-university/llm-mecpe/runs/oyf27ey8' target=\"_blank\">https://wandb.ai/wangkongqiang60-yunnan-university/llm-mecpe/runs/oyf27ey8</a>"
      ],
      "text/plain": [
       "<IPython.core.display.HTML object>"
      ]
     },
     "metadata": {},
     "output_type": "display_data"
    }
   ],
   "source": [
    "# wandb config\n",
    "wandb_config = {\n",
    "    \"speaker\":config.speaker,\n",
    "    \"video\":config.video,\n",
    "    \"audio\":config.audio,\n",
    "    \"lr\":learning_rate,\n",
    "    \"epochs\":num_train_epochs,\n",
    "    \"llama-model\":8,\n",
    "}\n",
    "\n",
    "run = wandb.init(project=\"llm-mecpe\", entity='wangkongqiang60-yunnan-university', name=\"8b-speaker-subset-train\", config=wandb_config)"
   ]
  },
  {
   "cell_type": "code",
   "execution_count": 31,
   "metadata": {
    "id": "AfQgcGYsEk1p"
   },
   "outputs": [],
   "source": [
    "def print_trainable_parameters(model):\n",
    "    trainable_params = 0\n",
    "    all_params = 0\n",
    "    for _, param in model.named_parameters():\n",
    "        all_params += param.numel()\n",
    "        if param.requires_grad:\n",
    "            trainable_params += param.numel()\n",
    "    print(\n",
    "        f'Trainable parameters: {trainable_params} | All params: {all_params} | Trainable%: {trainable_params*100.0/all_params}'\n",
    "    )\n",
    "model.config.use_cache = False # silence warnings, enable for inferencing"
   ]
  },
  {
   "cell_type": "code",
   "execution_count": 32,
   "metadata": {
    "colab": {
     "base_uri": "https://localhost:8080/"
    },
    "id": "SUO1q-uVEk1p",
    "outputId": "c3951cf9-1482-4062-8a3a-d7b50797d7fe"
   },
   "outputs": [
    {
     "name": "stdout",
     "output_type": "stream",
     "text": [
      "LlamaForCausalLM(\n",
      "  (model): LlamaModel(\n",
      "    (embed_tokens): Embedding(128256, 4096)\n",
      "    (layers): ModuleList(\n",
      "      (0-31): 32 x LlamaDecoderLayer(\n",
      "        (self_attn): LlamaAttention(\n",
      "          (q_proj): Linear4bit(in_features=4096, out_features=4096, bias=False)\n",
      "          (k_proj): Linear4bit(in_features=4096, out_features=1024, bias=False)\n",
      "          (v_proj): Linear4bit(in_features=4096, out_features=1024, bias=False)\n",
      "          (o_proj): Linear4bit(in_features=4096, out_features=4096, bias=False)\n",
      "          (rotary_emb): LlamaRotaryEmbedding()\n",
      "        )\n",
      "        (mlp): LlamaMLP(\n",
      "          (gate_proj): Linear4bit(in_features=4096, out_features=14336, bias=False)\n",
      "          (up_proj): Linear4bit(in_features=4096, out_features=14336, bias=False)\n",
      "          (down_proj): Linear4bit(in_features=14336, out_features=4096, bias=False)\n",
      "          (act_fn): SiLU()\n",
      "        )\n",
      "        (input_layernorm): LlamaRMSNorm()\n",
      "        (post_attention_layernorm): LlamaRMSNorm()\n",
      "      )\n",
      "    )\n",
      "    (norm): LlamaRMSNorm()\n",
      "  )\n",
      "  (lm_head): Linear(in_features=4096, out_features=128256, bias=False)\n",
      ")\n"
     ]
    }
   ],
   "source": [
    "from peft import prepare_model_for_kbit_training\n",
    "\n",
    "model.gradient_checkpointing_enable()\n",
    "model = prepare_model_for_kbit_training(model)\n",
    "\n",
    "print(model)"
   ]
  },
  {
   "cell_type": "code",
   "execution_count": 33,
   "metadata": {
    "colab": {
     "base_uri": "https://localhost:8080/"
    },
    "id": "O1efz3dhEk1p",
    "outputId": "09123696-c852-4591-d3ec-b2c4d4f77eab"
   },
   "outputs": [
    {
     "name": "stdout",
     "output_type": "stream",
     "text": [
      "Trainable parameters: 13631488 | All params: 4554231808 | Trainable%: 0.29931475986915773\n"
     ]
    }
   ],
   "source": [
    "from peft import LoraConfig, get_peft_model\n",
    "\n",
    "peft_config = LoraConfig(\n",
    "    lora_alpha=16, # alpha scaling\n",
    "    lora_dropout=0.1,\n",
    "    r=16, # attention_heads\n",
    "    target_modules=[\"q_proj\", \"k_proj\", \"v_proj\", \"o_proj\"],\n",
    "    bias=\"none\",\n",
    "    task_type=\"CAUSAL_LM\", # or for seq2seq\n",
    ")\n",
    "\n",
    "model = get_peft_model(model, peft_config)\n",
    "print_trainable_parameters(model)"
   ]
  },
  {
   "cell_type": "code",
   "execution_count": 34,
   "metadata": {
    "id": "aU_vVTJDEk1p"
   },
   "outputs": [],
   "source": [
    "# Load training arguments\n",
    "from transformers import TrainingArguments\n",
    "\n",
    "training_arguments = TrainingArguments(\n",
    "    output_dir=output_dir,\n",
    "    num_train_epochs=num_train_epochs,\n",
    "    per_device_train_batch_size=per_device_train_batch_size,\n",
    "    gradient_accumulation_steps=gradient_accumulation_steps,\n",
    "    optim=\"paged_adamw_32bit\",\n",
    "    save_steps=save_steps,\n",
    "    logging_steps=logging_steps,\n",
    "    learning_rate=learning_rate,\n",
    "    weight_decay=weight_decay,\n",
    "    fp16=fp16,\n",
    "    bf16=False,\n",
    "    max_grad_norm=max_grad_norm,\n",
    "    max_steps=max_steps,\n",
    "    warmup_ratio=warmup_ratio,\n",
    "    group_by_length=group_by_length,\n",
    "    lr_scheduler_type=lr_scheduler_type, #cosine\n",
    "    report_to=\"wandb\",\n",
    "    seed=config.seed,\n",
    "    evaluation_strategy=\"steps\",\n",
    "    eval_steps=eval_steps\n",
    ")"
   ]
  },
  {
   "cell_type": "markdown",
   "metadata": {
    "id": "qP7PgUPCEk1p"
   },
   "source": [
    "### 5. Supervised Fine Tuning using SFTTrainer\n",
    "\n",
    "Using SFTTrainer from TRL library that gives a wrapper around transformers ```Trainer``` to easily fine-tune models on instruction based datasets using PEFT adapters."
   ]
  },
  {
   "cell_type": "code",
   "execution_count": 35,
   "metadata": {
    "colab": {
     "base_uri": "https://localhost:8080/",
     "height": 137,
     "referenced_widgets": [
      "6fdbbdb6393843549a61cea6065ae3ce",
      "910ab1838f2941639c842d621d924511",
      "9035fed6f2af449c8f1eded3b35d3705",
      "0d34559d99244e67b3887288d28fa28d",
      "94336ef08aa64675a871cf5886f74b79",
      "a94cc8e6b8d14644abcb4cf6e4b9e147",
      "52f020e9bfe1470f8d25ee0a1ba1e924",
      "994930d4284e4762bc46036840b656cb",
      "28392618546046f5a536a6dd770558db",
      "2318f3eeadac4bff8bbe3e39d72d508d",
      "e6e18e1346934977a0bf9af4313d35f4",
      "ebd43e77480d4e0ca8c32871e19578d6",
      "65b7ee2636bd4a6ea3580e5965130731",
      "1a007964be54437c93c69744ecdb6984",
      "af3d0c59f30345508f7c4148238a7100",
      "dfc598bf84ee46ee95debd995293511e",
      "d47d722c86b5463f9e40e3a51d120583",
      "9b472ee1acf644e6badc27c4173ade32",
      "f3eb707e211c467dbfdf7d5ee1476f36",
      "78e5f6df644148d9b4e868b834eb8026",
      "98e5566f2e0a42af895f89dc07c860d9",
      "8ad8114e38cf4cd38ce1b0e89a4b747f"
     ]
    },
    "id": "D8smoVFREk1p",
    "outputId": "75a0bf58-37af-41c1-bafb-451d9bcade45"
   },
   "outputs": [
    {
     "name": "stderr",
     "output_type": "stream",
     "text": [
      "D:\\MiniConda\\envs\\pythonProject6\\lib\\site-packages\\trl\\trainer\\sft_trainer.py:222: UserWarning: You didn't pass a `max_seq_length` argument to the SFTTrainer, this will default to 1024\n",
      "  warnings.warn(\n",
      "Map: 100%|███████████████████████████████████████████████████████████████| 10914/10914 [00:04<00:00, 2294.47 examples/s]\n",
      "Map: 100%|█████████████████████████████████████████████████████████████████| 1299/1299 [00:00<00:00, 2467.06 examples/s]\n"
     ]
    }
   ],
   "source": [
    "from trl import SFTTrainer\n",
    "\n",
    "trainer = SFTTrainer(\n",
    "    model=model,\n",
    "    train_dataset=train_dataset,\n",
    "    eval_dataset=val_dataset,\n",
    "    dataset_text_field=\"text\",\n",
    "    # max_seq_length=4096,\n",
    "    peft_config=peft_config,\n",
    "    tokenizer=tokenizer,\n",
    "    args=training_arguments,\n",
    ")"
   ]
  },
  {
   "cell_type": "code",
   "execution_count": 36,
   "metadata": {
    "colab": {
     "base_uri": "https://localhost:8080/",
     "height": 415
    },
    "id": "ZKaPVbVJEk1u",
    "outputId": "a49aa322-f669-44f4-cb29-414254426299"
   },
   "outputs": [
    {
     "name": "stderr",
     "output_type": "stream",
     "text": [
      "You're using a PreTrainedTokenizerFast tokenizer. Please note that with a fast tokenizer, using the `__call__` method is faster than using a method to encode the text followed by a call to the `pad` method to get a padded encoding.\n"
     ]
    },
    {
     "data": {
      "text/html": [
       "\n",
       "    <div>\n",
       "      \n",
       "      <progress value='1364' max='1364' style='width:300px; height:20px; vertical-align: middle;'></progress>\n",
       "      [1364/1364 3:02:53, Epoch 0/1]\n",
       "    </div>\n",
       "    <table border=\"1\" class=\"dataframe\">\n",
       "  <thead>\n",
       " <tr style=\"text-align: left;\">\n",
       "      <th>Step</th>\n",
       "      <th>Training Loss</th>\n",
       "      <th>Validation Loss</th>\n",
       "    </tr>\n",
       "  </thead>\n",
       "  <tbody>\n",
       "    <tr>\n",
       "      <td>300</td>\n",
       "      <td>0.673100</td>\n",
       "      <td>1.132811</td>\n",
       "    </tr>\n",
       "    <tr>\n",
       "      <td>600</td>\n",
       "      <td>0.637800</td>\n",
       "      <td>1.092983</td>\n",
       "    </tr>\n",
       "    <tr>\n",
       "      <td>900</td>\n",
       "      <td>0.431300</td>\n",
       "      <td>1.133559</td>\n",
       "    </tr>\n",
       "    <tr>\n",
       "      <td>1200</td>\n",
       "      <td>0.484800</td>\n",
       "      <td>1.355752</td>\n",
       "    </tr>\n",
       "  </tbody>\n",
       "</table><p>"
      ],
      "text/plain": [
       "<IPython.core.display.HTML object>"
      ]
     },
     "metadata": {},
     "output_type": "display_data"
    },
    {
     "name": "stderr",
     "output_type": "stream",
     "text": [
      "Checkpoint destination directory ./results\\checkpoint-200 already exists and is non-empty.Saving will proceed but saved results may be invalid.\n",
      "Checkpoint destination directory ./results\\checkpoint-400 already exists and is non-empty.Saving will proceed but saved results may be invalid.\n",
      "Checkpoint destination directory ./results\\checkpoint-600 already exists and is non-empty.Saving will proceed but saved results may be invalid.\n",
      "Checkpoint destination directory ./results\\checkpoint-800 already exists and is non-empty.Saving will proceed but saved results may be invalid.\n"
     ]
    },
    {
     "data": {
      "text/plain": [
       "TrainOutput(global_step=1364, training_loss=0.4899722148631522, metrics={'train_runtime': 10984.0136, 'train_samples_per_second': 0.994, 'train_steps_per_second': 0.124, 'total_flos': 2.2137008206209024e+17, 'train_loss': 0.4899722148631522, 'epoch': 1.0})"
      ]
     },
     "execution_count": 36,
     "metadata": {},
     "output_type": "execute_result"
    }
   ],
   "source": [
    "# train for fewer epochs\n",
    "trainer.train()"
   ]
  },
  {
   "cell_type": "code",
   "execution_count": 37,
   "metadata": {
    "id": "QNKsipFeEk1u"
   },
   "outputs": [],
   "source": [
    "def save_peft_model(save_folder, speaker=False, video=False, audio=False):\n",
    "    if speaker and not video and  not audio:\n",
    "        save_folder = os.path.join(save_folder, \"speaker\")\n",
    "    elif speaker and video and not audio:\n",
    "        save_folder = os.path.join(save_folder, \"video\")\n",
    "    elif speaker and audio and not video:\n",
    "        save_folder = os.path.join(save_folder, \"audio\")\n",
    "    elif speaker and audio and video:\n",
    "        save_folder = os.path.join(save_folder, \"audio_video\")\n",
    "    else:\n",
    "        save_folder = os.path.join(save_folder, \"context\")\n",
    "    if not os.path.exists(save_folder):\n",
    "        os.makedirs(save_folder)\n",
    "    trainer.save_model(save_folder) # does not save the whole model, only the checkpoint\n",
    "    return save_folder"
   ]
  },
  {
   "cell_type": "code",
   "execution_count": 38,
   "metadata": {
    "id": "MUTL2g0yEk1u"
   },
   "outputs": [],
   "source": [
    "peft_model_path=\"./saved-peft-model\"\n",
    "peft_model_folder = save_peft_model(peft_model_path, config.speaker, config.video, config.audio)"
   ]
  },
  {
   "cell_type": "markdown",
   "metadata": {
    "colab": {
     "base_uri": "https://localhost:8080/"
    },
    "id": "VGmtBSoWcbxN",
    "outputId": "0f7fd849-9160-4a00-9226-0e370e63c31d"
   },
   "source": [
    "# If you want to download the checkpoints\n",
    "from google.colab import files\n",
    "import os\n",
    "\n",
    "dir_to_zip = 'results'\n",
    "output_filename = 'results.zip'\n",
    "delete_dir_after_download = \"No\"\n",
    "\n",
    "os.system( \"zip -r {} {}\".format( output_filename , dir_to_zip ) )\n",
    "\n",
    "if delete_dir_after_download == \"Yes\":\n",
    "    os.system( \"rm -r {}\".format( dir_to_zip ) )\n",
    "\n",
    "files.download( output_filename )"
   ]
  },
  {
   "cell_type": "markdown",
   "metadata": {
    "id": "Uil5AN9e9y8u"
   },
   "source": [
    "### 6. Push model to huggingface hub"
   ]
  },
  {
   "cell_type": "markdown",
   "metadata": {
    "colab": {
     "base_uri": "https://localhost:8080/",
     "height": 435
    },
    "id": "AuzQ1k7492DD",
    "outputId": "c9504c12-15d0-4e08-9dfb-bdb08657a739"
   },
   "source": [
    "# Merge LoRA and base model\n",
    "merged_model = model.merge_and_unload()\n",
    "\n",
    "# Save the merged model\n",
    "merged_model.save_pretrained(\"saved_model\",safe_serialization=True)\n",
    "tokenizer.save_pretrained(\"saved_model\")"
   ]
  },
  {
   "cell_type": "markdown",
   "metadata": {
    "id": "EfAzY8RNQ53z"
   },
   "source": [
    "import locale\n",
    "locale.getpreferredencoding = lambda: \"UTF-8\""
   ]
  },
  {
   "cell_type": "markdown",
   "metadata": {
    "colab": {
     "base_uri": "https://localhost:8080/"
    },
    "id": "6ogFrzt2Qe9R",
    "outputId": "a843a8b4-a667-480d-8bbd-7c87a5ebfd05"
   },
   "source": [
    "!pip install huggingface_hub"
   ]
  },
  {
   "cell_type": "markdown",
   "metadata": {
    "id": "D4xTaz16IJub"
   },
   "source": [
    "from huggingface_hub import create_repo\n",
    "create_repo(\"ArefaMuzaffar/merged-llama-13b-speaker-emotion-subset\", token=\"hf_iO\", private=True)"
   ]
  },
  {
   "cell_type": "markdown",
   "metadata": {
    "colab": {
     "base_uri": "https://localhost:8080/"
    },
    "id": "_YpCcqvsViFo",
    "outputId": "263d2cbe-d461-46f6-869b-b1024e9f594b"
   },
   "source": [
    "# Paste write key\n",
    "!huggingface-cli login"
   ]
  },
  {
   "cell_type": "markdown",
   "metadata": {
    "colab": {
     "base_uri": "https://localhost:8080/",
     "height": 167,
     "referenced_widgets": [
      "0ee83601ac13415b93d280956c255e1e",
      "ab57a8b9826540d7bcee71d3248a6023",
      "607fa29e6d774d23adcc2c7bba1980e8",
      "0ed1844dc91d4ba8be40b8aa6c374840",
      "14906c7ebd074fd69a0fa31ce55af5ab",
      "9242cb1452704f4a81ae59f58e2d750c",
      "882c6140e4b544668e2d07a464e447a3",
      "c99ab3e0943b4b45a5f663f0bb45fabb",
      "963ceb08e6594f9aa2539ac6efba2fe8",
      "7764d9c0149e48c4b6273280fa4fade1",
      "ec5a66778b564da389f2fdade6b4140e",
      "315ac284e8b74f738c331b5404209a42",
      "162bb33fb5b24de9bf79c8e037b73af9",
      "3605f537eba3483fa071c1205f045bbe",
      "3757c2d5fe5b4f828a55cc35a7709e8b",
      "576c39989bcb4379bc9f5625d110a8ea",
      "71712fbbb09545598bc2484df86cd9d2",
      "442544bfae7a4710b680a3266dd47c6a",
      "17ac71641f5542d2ab1fec2ce9d0bb47",
      "05c8a02335cd43e781762b1c75b87810",
      "2b27acb8a0e24bb99fb4fa1b8391a057",
      "e3c98e06f3de49c5947dc5c6b4ebd4a7",
      "2d32ca97b71f4ee29bc2e14368784ebb",
      "132475974f3e46e9abf3e94a84b5f474",
      "34d2962e614640ceb06c2a703897c051",
      "c8f804d16a484234a02e0d6064cf7057",
      "2bb77bf8636742a2982d12d233259c8f",
      "bf788c132eec4d5eab743336162df2ec",
      "cddec3ffcf3f4ae092b2ff4637577387",
      "d3c5ad8ef51a46ca8770440a3cfcda4e",
      "4bffcd5eb6464c57b40ec36e8dfbe5a5",
      "f8e08bd2051a4f209320fc71327c89d5",
      "b358f45ed56d4c2b852b8b5b2df1fd26"
     ]
    },
    "id": "WJUtHdMHNdNa",
    "outputId": "19ce8a3c-2d8c-4d1c-d84f-8af887f5b194"
   },
   "source": [
    "from huggingface_hub import upload_folder\n",
    "upload_folder(repo_id=\"ArefaMuzaffar/merged-llama-13b-speaker-cause\", folder_path=\"saved-model\")"
   ]
  },
  {
   "cell_type": "markdown",
   "metadata": {
    "id": "YmatxL0iRDAt"
   },
   "source": [
    "### 7. Evaluation on Test Data"
   ]
  },
  {
   "cell_type": "code",
   "execution_count": 39,
   "metadata": {
    "colab": {
     "base_uri": "https://localhost:8080/"
    },
    "id": "J5DTjUhQ7VrI",
    "outputId": "8d0e9545-8397-464b-fa31-ae47103ac077"
   },
   "outputs": [
    {
     "data": {
      "text/plain": [
       "PeftModelForCausalLM(\n",
       "  (base_model): LoraModel(\n",
       "    (model): LlamaForCausalLM(\n",
       "      (model): LlamaModel(\n",
       "        (embed_tokens): Embedding(128256, 4096)\n",
       "        (layers): ModuleList(\n",
       "          (0-31): 32 x LlamaDecoderLayer(\n",
       "            (self_attn): LlamaAttention(\n",
       "              (q_proj): lora.Linear4bit(\n",
       "                (base_layer): Linear4bit(in_features=4096, out_features=4096, bias=False)\n",
       "                (lora_dropout): ModuleDict(\n",
       "                  (default): Dropout(p=0.1, inplace=False)\n",
       "                )\n",
       "                (lora_A): ModuleDict(\n",
       "                  (default): Linear(in_features=4096, out_features=16, bias=False)\n",
       "                )\n",
       "                (lora_B): ModuleDict(\n",
       "                  (default): Linear(in_features=16, out_features=4096, bias=False)\n",
       "                )\n",
       "                (lora_embedding_A): ParameterDict()\n",
       "                (lora_embedding_B): ParameterDict()\n",
       "              )\n",
       "              (k_proj): lora.Linear4bit(\n",
       "                (base_layer): Linear4bit(in_features=4096, out_features=1024, bias=False)\n",
       "                (lora_dropout): ModuleDict(\n",
       "                  (default): Dropout(p=0.1, inplace=False)\n",
       "                )\n",
       "                (lora_A): ModuleDict(\n",
       "                  (default): Linear(in_features=4096, out_features=16, bias=False)\n",
       "                )\n",
       "                (lora_B): ModuleDict(\n",
       "                  (default): Linear(in_features=16, out_features=1024, bias=False)\n",
       "                )\n",
       "                (lora_embedding_A): ParameterDict()\n",
       "                (lora_embedding_B): ParameterDict()\n",
       "              )\n",
       "              (v_proj): lora.Linear4bit(\n",
       "                (base_layer): Linear4bit(in_features=4096, out_features=1024, bias=False)\n",
       "                (lora_dropout): ModuleDict(\n",
       "                  (default): Dropout(p=0.1, inplace=False)\n",
       "                )\n",
       "                (lora_A): ModuleDict(\n",
       "                  (default): Linear(in_features=4096, out_features=16, bias=False)\n",
       "                )\n",
       "                (lora_B): ModuleDict(\n",
       "                  (default): Linear(in_features=16, out_features=1024, bias=False)\n",
       "                )\n",
       "                (lora_embedding_A): ParameterDict()\n",
       "                (lora_embedding_B): ParameterDict()\n",
       "              )\n",
       "              (o_proj): lora.Linear4bit(\n",
       "                (base_layer): Linear4bit(in_features=4096, out_features=4096, bias=False)\n",
       "                (lora_dropout): ModuleDict(\n",
       "                  (default): Dropout(p=0.1, inplace=False)\n",
       "                )\n",
       "                (lora_A): ModuleDict(\n",
       "                  (default): Linear(in_features=4096, out_features=16, bias=False)\n",
       "                )\n",
       "                (lora_B): ModuleDict(\n",
       "                  (default): Linear(in_features=16, out_features=4096, bias=False)\n",
       "                )\n",
       "                (lora_embedding_A): ParameterDict()\n",
       "                (lora_embedding_B): ParameterDict()\n",
       "              )\n",
       "              (rotary_emb): LlamaRotaryEmbedding()\n",
       "            )\n",
       "            (mlp): LlamaMLP(\n",
       "              (gate_proj): Linear4bit(in_features=4096, out_features=14336, bias=False)\n",
       "              (up_proj): Linear4bit(in_features=4096, out_features=14336, bias=False)\n",
       "              (down_proj): Linear4bit(in_features=14336, out_features=4096, bias=False)\n",
       "              (act_fn): SiLU()\n",
       "            )\n",
       "            (input_layernorm): LlamaRMSNorm()\n",
       "            (post_attention_layernorm): LlamaRMSNorm()\n",
       "          )\n",
       "        )\n",
       "        (norm): LlamaRMSNorm()\n",
       "      )\n",
       "      (lm_head): Linear(in_features=4096, out_features=128256, bias=False)\n",
       "    )\n",
       "  )\n",
       ")"
      ]
     },
     "execution_count": 39,
     "metadata": {},
     "output_type": "execute_result"
    }
   ],
   "source": [
    "model.config.use_cache = True\n",
    "model.eval()"
   ]
  },
  {
   "cell_type": "code",
   "execution_count": 40,
   "metadata": {
    "colab": {
     "base_uri": "https://localhost:8080/"
    },
    "id": "2JoRojJ47a1m",
    "outputId": "5789ef96-e906-4b79-f537-62b10cc9b2a7"
   },
   "outputs": [
    {
     "name": "stdout",
     "output_type": "stream",
     "text": [
      "<s>[INST]\n",
      "\"conversation\": [\n",
      "{\n",
      "\"utterance_ID\": 1\n",
      "\"text\": Hey !\n",
      "\"speaker\": Joey\n",
      "}\n",
      "{\n",
      "\"utterance_ID\": 2\n",
      "\"text\": So , what are you guys in the market for ? We have got uh , scarves , tulip post cards ...\n",
      "\"speaker\": The Vendor\n",
      "}\n",
      "{\n",
      "\"utterance_ID\": 3\n",
      "\"text\": Check this out ? Huh ? Yeah . That is the stuff . What do you think ?\n",
      "\"speaker\": Joey\n",
      "}\n",
      "{\n",
      "\"utterance_ID\": 4\n",
      "\"text\": Well , I do not have to buy that , \" I am with stupid \" T ... shirt anymore .\n",
      "\"speaker\": Chandler\n",
      "}\n",
      "{\n",
      "\"utterance_ID\": 5\n",
      "\"text\": Well , I like it . Here you go .\n",
      "\"speaker\": Joey\n",
      "}\n",
      "{\n",
      "\"utterance_ID\": 6\n",
      "\"text\": All right , look , you are not really gonna buy that are you ? Do not you think you have embarrassed me enough for one day ?\n",
      "\"speaker\": Chandler\n",
      "}\n",
      "{\n",
      "\"utterance_ID\": 7\n",
      "\"text\": Oh , I embarrass you ?\n",
      "\"speaker\": Joey\n",
      "}\n",
      "{\n",
      "\"utterance_ID\": 8\n",
      "\"text\": How can I answer that when I am pretending I do not know you ?\n",
      "\"speaker\": Chandler\n",
      "}\n",
      "{\n",
      "\"utterance_ID\": 9\n",
      "\"text\": Oh really ? Then how come no one here is wearing them ?\n",
      "\"speaker\": Chandler\n",
      "}\n",
      "{\n",
      "\"utterance_ID\": 10\n",
      "\"text\": They are all tourists .\n",
      "\"speaker\": The Vendor\n",
      "}\n",
      "{\n",
      "\"utterance_ID\": 11\n",
      "\"text\": All right , look , if you insist on wearing that , in public , you know , you are gonna spend the rest of the afternoon all by yourself .\n",
      "\"speaker\": Chandler\n",
      "}\n",
      "{\n",
      "\"utterance_ID\": 12\n",
      "\"text\": Oh yeah ? If you are gonna make me choose between you and the hat , I choose the hat .\n",
      "\"speaker\": Joey\n",
      "}\n",
      "{\n",
      "\"utterance_ID\": 13\n",
      "\"text\": Good choice .\n",
      "\"speaker\": The Vendor\n",
      "}\n",
      "{\n",
      "\"utterance_ID\": 14\n",
      "\"text\": Thanks .\n",
      "\"speaker\": Joey\n",
      "}\n",
      "{\n",
      "\"utterance_ID\": 15\n",
      "\"text\": Okay , wait . All right , that is it , okay , I am out of here . I am not going to be embarrassed anymore !\n",
      "\"speaker\": Chandler\n",
      "}\n",
      "Identify the emotion label of utterance 1 out of the 7 emotions: joy, anger, disgust, fear, sadness, surprise, neutral.\n",
      "Don't give an explanation.\n",
      "Output only one line in the format:\n",
      "utterance_id :: emotion_label\n",
      "[/INST]\n",
      "utterance_1 :: joy\n",
      "</s>\n"
     ]
    }
   ],
   "source": [
    "print(test_dataset[0][\"text\"])"
   ]
  },
  {
   "cell_type": "code",
   "execution_count": 41,
   "metadata": {
    "id": "1eV5Pj67Vv8i"
   },
   "outputs": [],
   "source": [
    "import string\n",
    "\n",
    "uppercase_set = set(string.ascii_uppercase)\n",
    "lowercase_set = set(string.ascii_lowercase)\n",
    "chars = uppercase_set.union(lowercase_set)"
   ]
  },
  {
   "cell_type": "code",
   "execution_count": 42,
   "metadata": {
    "id": "jaPT7Umx8z_H"
   },
   "outputs": [],
   "source": [
    "def extract_emotion_label(pred_label):\n",
    "    \"\"\"pred_label is raw output string from the model\n",
    "    Like [\"utterance_id :: anger ...\", \"2 :: fear ...\", ]\n",
    "    It could be inconsistent\n",
    "    \"\"\"\n",
    "    # print(\"pred_label:    \",pred_label)\n",
    "    label = pred_label.split(\"::\")[1]\n",
    "    label = label.strip()\n",
    "    out_label = \"\"\n",
    "    for c in label:\n",
    "        if c not in chars:\n",
    "            break\n",
    "        out_label += c\n",
    "    return out_label.strip()"
   ]
  },
  {
   "cell_type": "code",
   "execution_count": 43,
   "metadata": {
    "id": "esyb--PDSOAo"
   },
   "outputs": [],
   "source": [
    "def get_full_output(prompt):\n",
    "    input_ids = tokenizer(prompt, return_tensors='pt',truncation=True).input_ids.cuda()\n",
    "\n",
    "    outputs = model.generate(input_ids=input_ids, max_new_tokens=15)\n",
    "    output = tokenizer.batch_decode(outputs.detach().cpu().numpy(), skip_special_tokens=True)[0]\n",
    "    return output"
   ]
  },
  {
   "cell_type": "code",
   "execution_count": 44,
   "metadata": {
    "id": "1kjG6v0oTFd8"
   },
   "outputs": [],
   "source": [
    "def infer_emotion(dataset):\n",
    "    pred_labels_list = []\n",
    "    true_labels_list = []\n",
    "    for i in range(len(dataset)):\n",
    "        # predict\n",
    "        prompt = dataset[\"instruction\"][i]\n",
    "        # print(\"prompt:    \",prompt)\n",
    "        output = get_full_output(prompt)\n",
    "        print(\"output:*****\",output)\n",
    "        pred_labels_list.append(output)\n",
    "        # baseline\n",
    "        baseline_output = dataset[\"out\"][i]\n",
    "        baseline_output = extract_emotion_label(baseline_output.strip())\n",
    "        baseline_output = baseline_output.strip().lower()\n",
    "        print(\"True:***** \", baseline_output)\n",
    "        print(\"---------------------\")\n",
    "        true_labels_list.append(baseline_output)\n",
    "    return pred_labels_list, true_labels_list"
   ]
  },
  {
   "cell_type": "code",
   "execution_count": 45,
   "metadata": {
    "colab": {
     "base_uri": "https://localhost:8080/",
     "height": 163
    },
    "id": "7KUbKB_YWJu9",
    "outputId": "324da3c7-4e24-43a5-eeaf-fc9303b42b6e"
   },
   "outputs": [
    {
     "data": {
      "text/plain": [
       "'<s>[INST]\\n\"conversation\": [\\n{\\n\"utterance_ID\": 1\\n\"text\": Hey !\\n\"speaker\": Joey\\n}\\n{\\n\"utterance_ID\": 2\\n\"text\": So , what are you guys in the market for ? We have got uh , scarves , tulip post cards ...\\n\"speaker\": The Vendor\\n}\\n{\\n\"utterance_ID\": 3\\n\"text\": Check this out ? Huh ? Yeah . That is the stuff . What do you think ?\\n\"speaker\": Joey\\n}\\n{\\n\"utterance_ID\": 4\\n\"text\": Well , I do not have to buy that , \" I am with stupid \" T ... shirt anymore .\\n\"speaker\": Chandler\\n}\\n{\\n\"utterance_ID\": 5\\n\"text\": Well , I like it . Here you go .\\n\"speaker\": Joey\\n}\\n{\\n\"utterance_ID\": 6\\n\"text\": All right , look , you are not really gonna buy that are you ? Do not you think you have embarrassed me enough for one day ?\\n\"speaker\": Chandler\\n}\\n{\\n\"utterance_ID\": 7\\n\"text\": Oh , I embarrass you ?\\n\"speaker\": Joey\\n}\\n{\\n\"utterance_ID\": 8\\n\"text\": How can I answer that when I am pretending I do not know you ?\\n\"speaker\": Chandler\\n}\\n{\\n\"utterance_ID\": 9\\n\"text\": Oh really ? Then how come no one here is wearing them ?\\n\"speaker\": Chandler\\n}\\n{\\n\"utterance_ID\": 10\\n\"text\": They are all tourists .\\n\"speaker\": The Vendor\\n}\\n{\\n\"utterance_ID\": 11\\n\"text\": All right , look , if you insist on wearing that , in public , you know , you are gonna spend the rest of the afternoon all by yourself .\\n\"speaker\": Chandler\\n}\\n{\\n\"utterance_ID\": 12\\n\"text\": Oh yeah ? If you are gonna make me choose between you and the hat , I choose the hat .\\n\"speaker\": Joey\\n}\\n{\\n\"utterance_ID\": 13\\n\"text\": Good choice .\\n\"speaker\": The Vendor\\n}\\n{\\n\"utterance_ID\": 14\\n\"text\": Thanks .\\n\"speaker\": Joey\\n}\\n{\\n\"utterance_ID\": 15\\n\"text\": Okay , wait . All right , that is it , okay , I am out of here . I am not going to be embarrassed anymore !\\n\"speaker\": Chandler\\n}\\nIdentify the emotion label of utterance 1 out of the 7 emotions: joy, anger, disgust, fear, sadness, surprise, neutral.\\nDon\\'t give an explanation.\\nOutput only one line in the format:\\nutterance_id :: emotion_label\\n[/INST]\\n'"
      ]
     },
     "execution_count": 45,
     "metadata": {},
     "output_type": "execute_result"
    }
   ],
   "source": [
    "test_dataset[\"instruction\"][0]"
   ]
  },
  {
   "cell_type": "code",
   "execution_count": 46,
   "metadata": {},
   "outputs": [
    {
     "name": "stdout",
     "output_type": "stream",
     "text": [
      "406\n"
     ]
    }
   ],
   "source": [
    "print(len(test_dataset)-1000)"
   ]
  },
  {
   "cell_type": "code",
   "execution_count": 47,
   "metadata": {
    "colab": {
     "base_uri": "https://localhost:8080/"
    },
    "id": "_GTbA4lmUpvD",
    "outputId": "ed49efb2-42e7-49ca-c7c3-8c2cb060becb"
   },
   "outputs": [
    {
     "name": "stderr",
     "output_type": "stream",
     "text": [
      "Asking to truncate to max_length but no maximum length is provided and the model has no predefined maximum length. Default to no truncation.\n",
      "The attention mask and the pad token id were not set. As a consequence, you may observe unexpected behavior. Please pass your input's `attention_mask` to obtain reliable results.\n",
      "Setting `pad_token_id` to `eos_token_id`:128001 for open-end generation.\n"
     ]
    },
    {
     "name": "stdout",
     "output_type": "stream",
     "text": [
      "output:***** <s>[INST]\n",
      "\"conversation\": [\n",
      "{\n",
      "\"utterance_ID\": 1\n",
      "\"text\": Hey!\n",
      "\"speaker\": Joey\n",
      "}\n",
      "{\n",
      "\"utterance_ID\": 2\n",
      "\"text\": So, what are you guys in the market for? We have got uh, scarves, tulip post cards...\n",
      "\"speaker\": The Vendor\n",
      "}\n",
      "{\n",
      "\"utterance_ID\": 3\n",
      "\"text\": Check this out? Huh? Yeah. That is the stuff. What do you think?\n",
      "\"speaker\": Joey\n",
      "}\n",
      "{\n",
      "\"utterance_ID\": 4\n",
      "\"text\": Well, I do not have to buy that, \" I am with stupid \" T... shirt anymore.\n",
      "\"speaker\": Chandler\n",
      "}\n",
      "{\n",
      "\"utterance_ID\": 5\n",
      "\"text\": Well, I like it. Here you go.\n",
      "\"speaker\": Joey\n",
      "}\n",
      "{\n",
      "\"utterance_ID\": 6\n",
      "\"text\": All right, look, you are not really gonna buy that are you? Do not you think you have embarrassed me enough for one day?\n",
      "\"speaker\": Chandler\n",
      "}\n",
      "{\n",
      "\"utterance_ID\": 7\n",
      "\"text\": Oh, I embarrass you?\n",
      "\"speaker\": Joey\n",
      "}\n",
      "{\n",
      "\"utterance_ID\": 8\n",
      "\"text\": How can I answer that when I am pretending I do not know you?\n",
      "\"speaker\": Chandler\n",
      "}\n",
      "{\n",
      "\"utterance_ID\": 9\n",
      "\"text\": Oh really? Then how come no one here is wearing them?\n",
      "\"speaker\": Chandler\n",
      "}\n",
      "{\n",
      "\"utterance_ID\": 10\n",
      "\"text\": They are all tourists.\n",
      "\"speaker\": The Vendor\n",
      "}\n",
      "{\n",
      "\"utterance_ID\": 11\n",
      "\"text\": All right, look, if you insist on wearing that, in public, you know, you are gonna spend the rest of the afternoon all by yourself.\n",
      "\"speaker\": Chandler\n",
      "}\n",
      "{\n",
      "\"utterance_ID\": 12\n",
      "\"text\": Oh yeah? If you are gonna make me choose between you and the hat, I choose the hat.\n",
      "\"speaker\": Joey\n",
      "}\n",
      "{\n",
      "\"utterance_ID\": 13\n",
      "\"text\": Good choice.\n",
      "\"speaker\": The Vendor\n",
      "}\n",
      "{\n",
      "\"utterance_ID\": 14\n",
      "\"text\": Thanks.\n",
      "\"speaker\": Joey\n",
      "}\n",
      "{\n",
      "\"utterance_ID\": 15\n",
      "\"text\": Okay, wait. All right, that is it, okay, I am out of here. I am not going to be embarrassed anymore!\n",
      "\"speaker\": Chandler\n",
      "}\n",
      "Identify the emotion label of utterance 1 out of the 7 emotions: joy, anger, disgust, fear, sadness, surprise, neutral.\n",
      "Don't give an explanation.\n",
      "Output only one line in the format:\n",
      "utterance_id :: emotion_label\n",
      "[/INST]\n",
      "utterance_1 :: joy\n",
      "</s>\n",
      "True:*****  joy\n",
      "---------------------\n"
     ]
    },
    {
     "name": "stderr",
     "output_type": "stream",
     "text": [
      "The attention mask and the pad token id were not set. As a consequence, you may observe unexpected behavior. Please pass your input's `attention_mask` to obtain reliable results.\n",
      "Setting `pad_token_id` to `eos_token_id`:128001 for open-end generation.\n"
     ]
    },
    {
     "name": "stdout",
     "output_type": "stream",
     "text": [
      "output:***** <s>[INST]\n",
      "\"conversation\": [\n",
      "{\n",
      "\"utterance_ID\": 1\n",
      "\"text\": Hey!\n",
      "\"speaker\": Joey\n",
      "}\n",
      "{\n",
      "\"utterance_ID\": 2\n",
      "\"text\": So, what are you guys in the market for? We have got uh, scarves, tulip post cards...\n",
      "\"speaker\": The Vendor\n",
      "}\n",
      "{\n",
      "\"utterance_ID\": 3\n",
      "\"text\": Check this out? Huh? Yeah. That is the stuff. What do you think?\n",
      "\"speaker\": Joey\n",
      "}\n",
      "{\n",
      "\"utterance_ID\": 4\n",
      "\"text\": Well, I do not have to buy that, \" I am with stupid \" T... shirt anymore.\n",
      "\"speaker\": Chandler\n",
      "}\n",
      "{\n",
      "\"utterance_ID\": 5\n",
      "\"text\": Well, I like it. Here you go.\n",
      "\"speaker\": Joey\n",
      "}\n",
      "{\n",
      "\"utterance_ID\": 6\n",
      "\"text\": All right, look, you are not really gonna buy that are you? Do not you think you have embarrassed me enough for one day?\n",
      "\"speaker\": Chandler\n",
      "}\n",
      "{\n",
      "\"utterance_ID\": 7\n",
      "\"text\": Oh, I embarrass you?\n",
      "\"speaker\": Joey\n",
      "}\n",
      "{\n",
      "\"utterance_ID\": 8\n",
      "\"text\": How can I answer that when I am pretending I do not know you?\n",
      "\"speaker\": Chandler\n",
      "}\n",
      "{\n",
      "\"utterance_ID\": 9\n",
      "\"text\": Oh really? Then how come no one here is wearing them?\n",
      "\"speaker\": Chandler\n",
      "}\n",
      "{\n",
      "\"utterance_ID\": 10\n",
      "\"text\": They are all tourists.\n",
      "\"speaker\": The Vendor\n",
      "}\n",
      "{\n",
      "\"utterance_ID\": 11\n",
      "\"text\": All right, look, if you insist on wearing that, in public, you know, you are gonna spend the rest of the afternoon all by yourself.\n",
      "\"speaker\": Chandler\n",
      "}\n",
      "{\n",
      "\"utterance_ID\": 12\n",
      "\"text\": Oh yeah? If you are gonna make me choose between you and the hat, I choose the hat.\n",
      "\"speaker\": Joey\n",
      "}\n",
      "{\n",
      "\"utterance_ID\": 13\n",
      "\"text\": Good choice.\n",
      "\"speaker\": The Vendor\n",
      "}\n",
      "{\n",
      "\"utterance_ID\": 14\n",
      "\"text\": Thanks.\n",
      "\"speaker\": Joey\n",
      "}\n",
      "{\n",
      "\"utterance_ID\": 15\n",
      "\"text\": Okay, wait. All right, that is it, okay, I am out of here. I am not going to be embarrassed anymore!\n",
      "\"speaker\": Chandler\n",
      "}\n",
      "Identify the emotion label of utterance 2 out of the 7 emotions: joy, anger, disgust, fear, sadness, surprise, neutral.\n",
      "Don't give an explanation.\n",
      "Output only one line in the format:\n",
      "utterance_id :: emotion_label\n",
      "[/INST]\n",
      "utterance_2 :: neutral\n",
      "</s>\n",
      "True:*****  neutral\n",
      "---------------------\n"
     ]
    },
    {
     "name": "stderr",
     "output_type": "stream",
     "text": [
      "The attention mask and the pad token id were not set. As a consequence, you may observe unexpected behavior. Please pass your input's `attention_mask` to obtain reliable results.\n",
      "Setting `pad_token_id` to `eos_token_id`:128001 for open-end generation.\n"
     ]
    },
    {
     "name": "stdout",
     "output_type": "stream",
     "text": [
      "output:***** <s>[INST]\n",
      "\"conversation\": [\n",
      "{\n",
      "\"utterance_ID\": 1\n",
      "\"text\": Hey!\n",
      "\"speaker\": Joey\n",
      "}\n",
      "{\n",
      "\"utterance_ID\": 2\n",
      "\"text\": So, what are you guys in the market for? We have got uh, scarves, tulip post cards...\n",
      "\"speaker\": The Vendor\n",
      "}\n",
      "{\n",
      "\"utterance_ID\": 3\n",
      "\"text\": Check this out? Huh? Yeah. That is the stuff. What do you think?\n",
      "\"speaker\": Joey\n",
      "}\n",
      "{\n",
      "\"utterance_ID\": 4\n",
      "\"text\": Well, I do not have to buy that, \" I am with stupid \" T... shirt anymore.\n",
      "\"speaker\": Chandler\n",
      "}\n",
      "{\n",
      "\"utterance_ID\": 5\n",
      "\"text\": Well, I like it. Here you go.\n",
      "\"speaker\": Joey\n",
      "}\n",
      "{\n",
      "\"utterance_ID\": 6\n",
      "\"text\": All right, look, you are not really gonna buy that are you? Do not you think you have embarrassed me enough for one day?\n",
      "\"speaker\": Chandler\n",
      "}\n",
      "{\n",
      "\"utterance_ID\": 7\n",
      "\"text\": Oh, I embarrass you?\n",
      "\"speaker\": Joey\n",
      "}\n",
      "{\n",
      "\"utterance_ID\": 8\n",
      "\"text\": How can I answer that when I am pretending I do not know you?\n",
      "\"speaker\": Chandler\n",
      "}\n",
      "{\n",
      "\"utterance_ID\": 9\n",
      "\"text\": Oh really? Then how come no one here is wearing them?\n",
      "\"speaker\": Chandler\n",
      "}\n",
      "{\n",
      "\"utterance_ID\": 10\n",
      "\"text\": They are all tourists.\n",
      "\"speaker\": The Vendor\n",
      "}\n",
      "{\n",
      "\"utterance_ID\": 11\n",
      "\"text\": All right, look, if you insist on wearing that, in public, you know, you are gonna spend the rest of the afternoon all by yourself.\n",
      "\"speaker\": Chandler\n",
      "}\n",
      "{\n",
      "\"utterance_ID\": 12\n",
      "\"text\": Oh yeah? If you are gonna make me choose between you and the hat, I choose the hat.\n",
      "\"speaker\": Joey\n",
      "}\n",
      "{\n",
      "\"utterance_ID\": 13\n",
      "\"text\": Good choice.\n",
      "\"speaker\": The Vendor\n",
      "}\n",
      "{\n",
      "\"utterance_ID\": 14\n",
      "\"text\": Thanks.\n",
      "\"speaker\": Joey\n",
      "}\n",
      "{\n",
      "\"utterance_ID\": 15\n",
      "\"text\": Okay, wait. All right, that is it, okay, I am out of here. I am not going to be embarrassed anymore!\n",
      "\"speaker\": Chandler\n",
      "}\n",
      "Identify the emotion label of utterance 3 out of the 7 emotions: joy, anger, disgust, fear, sadness, surprise, neutral.\n",
      "Don't give an explanation.\n",
      "Output only one line in the format:\n",
      "utterance_id :: emotion_label\n",
      "[/INST]\n",
      "utterance_3 :: joy\n",
      "</s>\n",
      "True:*****  joy\n",
      "---------------------\n"
     ]
    },
    {
     "name": "stderr",
     "output_type": "stream",
     "text": [
      "The attention mask and the pad token id were not set. As a consequence, you may observe unexpected behavior. Please pass your input's `attention_mask` to obtain reliable results.\n",
      "Setting `pad_token_id` to `eos_token_id`:128001 for open-end generation.\n"
     ]
    },
    {
     "name": "stdout",
     "output_type": "stream",
     "text": [
      "output:***** <s>[INST]\n",
      "\"conversation\": [\n",
      "{\n",
      "\"utterance_ID\": 1\n",
      "\"text\": Hey!\n",
      "\"speaker\": Joey\n",
      "}\n",
      "{\n",
      "\"utterance_ID\": 2\n",
      "\"text\": So, what are you guys in the market for? We have got uh, scarves, tulip post cards...\n",
      "\"speaker\": The Vendor\n",
      "}\n",
      "{\n",
      "\"utterance_ID\": 3\n",
      "\"text\": Check this out? Huh? Yeah. That is the stuff. What do you think?\n",
      "\"speaker\": Joey\n",
      "}\n",
      "{\n",
      "\"utterance_ID\": 4\n",
      "\"text\": Well, I do not have to buy that, \" I am with stupid \" T... shirt anymore.\n",
      "\"speaker\": Chandler\n",
      "}\n",
      "{\n",
      "\"utterance_ID\": 5\n",
      "\"text\": Well, I like it. Here you go.\n",
      "\"speaker\": Joey\n",
      "}\n",
      "{\n",
      "\"utterance_ID\": 6\n",
      "\"text\": All right, look, you are not really gonna buy that are you? Do not you think you have embarrassed me enough for one day?\n",
      "\"speaker\": Chandler\n",
      "}\n",
      "{\n",
      "\"utterance_ID\": 7\n",
      "\"text\": Oh, I embarrass you?\n",
      "\"speaker\": Joey\n",
      "}\n",
      "{\n",
      "\"utterance_ID\": 8\n",
      "\"text\": How can I answer that when I am pretending I do not know you?\n",
      "\"speaker\": Chandler\n",
      "}\n",
      "{\n",
      "\"utterance_ID\": 9\n",
      "\"text\": Oh really? Then how come no one here is wearing them?\n",
      "\"speaker\": Chandler\n",
      "}\n",
      "{\n",
      "\"utterance_ID\": 10\n",
      "\"text\": They are all tourists.\n",
      "\"speaker\": The Vendor\n",
      "}\n",
      "{\n",
      "\"utterance_ID\": 11\n",
      "\"text\": All right, look, if you insist on wearing that, in public, you know, you are gonna spend the rest of the afternoon all by yourself.\n",
      "\"speaker\": Chandler\n",
      "}\n",
      "{\n",
      "\"utterance_ID\": 12\n",
      "\"text\": Oh yeah? If you are gonna make me choose between you and the hat, I choose the hat.\n",
      "\"speaker\": Joey\n",
      "}\n",
      "{\n",
      "\"utterance_ID\": 13\n",
      "\"text\": Good choice.\n",
      "\"speaker\": The Vendor\n",
      "}\n",
      "{\n",
      "\"utterance_ID\": 14\n",
      "\"text\": Thanks.\n",
      "\"speaker\": Joey\n",
      "}\n",
      "{\n",
      "\"utterance_ID\": 15\n",
      "\"text\": Okay, wait. All right, that is it, okay, I am out of here. I am not going to be embarrassed anymore!\n",
      "\"speaker\": Chandler\n",
      "}\n",
      "Identify the emotion label of utterance 4 out of the 7 emotions: joy, anger, disgust, fear, sadness, surprise, neutral.\n",
      "Don't give an explanation.\n",
      "Output only one line in the format:\n",
      "utterance_id :: emotion_label\n",
      "[/INST]\n",
      "utterance_4 :: neutral\n",
      "</s>\n",
      "True:*****  neutral\n",
      "---------------------\n"
     ]
    },
    {
     "name": "stderr",
     "output_type": "stream",
     "text": [
      "The attention mask and the pad token id were not set. As a consequence, you may observe unexpected behavior. Please pass your input's `attention_mask` to obtain reliable results.\n",
      "Setting `pad_token_id` to `eos_token_id`:128001 for open-end generation.\n"
     ]
    },
    {
     "name": "stdout",
     "output_type": "stream",
     "text": [
      "output:***** <s>[INST]\n",
      "\"conversation\": [\n",
      "{\n",
      "\"utterance_ID\": 1\n",
      "\"text\": Hey!\n",
      "\"speaker\": Joey\n",
      "}\n",
      "{\n",
      "\"utterance_ID\": 2\n",
      "\"text\": So, what are you guys in the market for? We have got uh, scarves, tulip post cards...\n",
      "\"speaker\": The Vendor\n",
      "}\n",
      "{\n",
      "\"utterance_ID\": 3\n",
      "\"text\": Check this out? Huh? Yeah. That is the stuff. What do you think?\n",
      "\"speaker\": Joey\n",
      "}\n",
      "{\n",
      "\"utterance_ID\": 4\n",
      "\"text\": Well, I do not have to buy that, \" I am with stupid \" T... shirt anymore.\n",
      "\"speaker\": Chandler\n",
      "}\n",
      "{\n",
      "\"utterance_ID\": 5\n",
      "\"text\": Well, I like it. Here you go.\n",
      "\"speaker\": Joey\n",
      "}\n",
      "{\n",
      "\"utterance_ID\": 6\n",
      "\"text\": All right, look, you are not really gonna buy that are you? Do not you think you have embarrassed me enough for one day?\n",
      "\"speaker\": Chandler\n",
      "}\n",
      "{\n",
      "\"utterance_ID\": 7\n",
      "\"text\": Oh, I embarrass you?\n",
      "\"speaker\": Joey\n",
      "}\n",
      "{\n",
      "\"utterance_ID\": 8\n",
      "\"text\": How can I answer that when I am pretending I do not know you?\n",
      "\"speaker\": Chandler\n",
      "}\n",
      "{\n",
      "\"utterance_ID\": 9\n",
      "\"text\": Oh really? Then how come no one here is wearing them?\n",
      "\"speaker\": Chandler\n",
      "}\n",
      "{\n",
      "\"utterance_ID\": 10\n",
      "\"text\": They are all tourists.\n",
      "\"speaker\": The Vendor\n",
      "}\n",
      "{\n",
      "\"utterance_ID\": 11\n",
      "\"text\": All right, look, if you insist on wearing that, in public, you know, you are gonna spend the rest of the afternoon all by yourself.\n",
      "\"speaker\": Chandler\n",
      "}\n",
      "{\n",
      "\"utterance_ID\": 12\n",
      "\"text\": Oh yeah? If you are gonna make me choose between you and the hat, I choose the hat.\n",
      "\"speaker\": Joey\n",
      "}\n",
      "{\n",
      "\"utterance_ID\": 13\n",
      "\"text\": Good choice.\n",
      "\"speaker\": The Vendor\n",
      "}\n",
      "{\n",
      "\"utterance_ID\": 14\n",
      "\"text\": Thanks.\n",
      "\"speaker\": Joey\n",
      "}\n",
      "{\n",
      "\"utterance_ID\": 15\n",
      "\"text\": Okay, wait. All right, that is it, okay, I am out of here. I am not going to be embarrassed anymore!\n",
      "\"speaker\": Chandler\n",
      "}\n",
      "Identify the emotion label of utterance 5 out of the 7 emotions: joy, anger, disgust, fear, sadness, surprise, neutral.\n",
      "Don't give an explanation.\n",
      "Output only one line in the format:\n",
      "utterance_id :: emotion_label\n",
      "[/INST]\n",
      "utterance_5 :: neutral\n",
      "</s>\n",
      "True:*****  neutral\n",
      "---------------------\n"
     ]
    },
    {
     "name": "stderr",
     "output_type": "stream",
     "text": [
      "The attention mask and the pad token id were not set. As a consequence, you may observe unexpected behavior. Please pass your input's `attention_mask` to obtain reliable results.\n",
      "Setting `pad_token_id` to `eos_token_id`:128001 for open-end generation.\n"
     ]
    },
    {
     "name": "stdout",
     "output_type": "stream",
     "text": [
      "output:***** <s>[INST]\n",
      "\"conversation\": [\n",
      "{\n",
      "\"utterance_ID\": 1\n",
      "\"text\": Hey!\n",
      "\"speaker\": Joey\n",
      "}\n",
      "{\n",
      "\"utterance_ID\": 2\n",
      "\"text\": So, what are you guys in the market for? We have got uh, scarves, tulip post cards...\n",
      "\"speaker\": The Vendor\n",
      "}\n",
      "{\n",
      "\"utterance_ID\": 3\n",
      "\"text\": Check this out? Huh? Yeah. That is the stuff. What do you think?\n",
      "\"speaker\": Joey\n",
      "}\n",
      "{\n",
      "\"utterance_ID\": 4\n",
      "\"text\": Well, I do not have to buy that, \" I am with stupid \" T... shirt anymore.\n",
      "\"speaker\": Chandler\n",
      "}\n",
      "{\n",
      "\"utterance_ID\": 5\n",
      "\"text\": Well, I like it. Here you go.\n",
      "\"speaker\": Joey\n",
      "}\n",
      "{\n",
      "\"utterance_ID\": 6\n",
      "\"text\": All right, look, you are not really gonna buy that are you? Do not you think you have embarrassed me enough for one day?\n",
      "\"speaker\": Chandler\n",
      "}\n",
      "{\n",
      "\"utterance_ID\": 7\n",
      "\"text\": Oh, I embarrass you?\n",
      "\"speaker\": Joey\n",
      "}\n",
      "{\n",
      "\"utterance_ID\": 8\n",
      "\"text\": How can I answer that when I am pretending I do not know you?\n",
      "\"speaker\": Chandler\n",
      "}\n",
      "{\n",
      "\"utterance_ID\": 9\n",
      "\"text\": Oh really? Then how come no one here is wearing them?\n",
      "\"speaker\": Chandler\n",
      "}\n",
      "{\n",
      "\"utterance_ID\": 10\n",
      "\"text\": They are all tourists.\n",
      "\"speaker\": The Vendor\n",
      "}\n",
      "{\n",
      "\"utterance_ID\": 11\n",
      "\"text\": All right, look, if you insist on wearing that, in public, you know, you are gonna spend the rest of the afternoon all by yourself.\n",
      "\"speaker\": Chandler\n",
      "}\n",
      "{\n",
      "\"utterance_ID\": 12\n",
      "\"text\": Oh yeah? If you are gonna make me choose between you and the hat, I choose the hat.\n",
      "\"speaker\": Joey\n",
      "}\n",
      "{\n",
      "\"utterance_ID\": 13\n",
      "\"text\": Good choice.\n",
      "\"speaker\": The Vendor\n",
      "}\n",
      "{\n",
      "\"utterance_ID\": 14\n",
      "\"text\": Thanks.\n",
      "\"speaker\": Joey\n",
      "}\n",
      "{\n",
      "\"utterance_ID\": 15\n",
      "\"text\": Okay, wait. All right, that is it, okay, I am out of here. I am not going to be embarrassed anymore!\n",
      "\"speaker\": Chandler\n",
      "}\n",
      "Identify the emotion label of utterance 6 out of the 7 emotions: joy, anger, disgust, fear, sadness, surprise, neutral.\n",
      "Don't give an explanation.\n",
      "Output only one line in the format:\n",
      "utterance_id :: emotion_label\n",
      "[/INST]\n",
      "utterance_6 :: anger\n",
      "</s>\n",
      "True:*****  anger\n",
      "---------------------\n"
     ]
    }
   ],
   "source": [
    "pred, true = infer_emotion(test_dataset[:len(test_dataset)-1000])"
   ]
  },
  {
   "cell_type": "code",
   "execution_count": 48,
   "metadata": {
    "id": "TdMJp7bm2jsm"
   },
   "outputs": [],
   "source": [
    "import re\n",
    "\n",
    "def extract_first_emotion(pred_str):\n",
    "    target_strings = [\"anger\", \"fear\", \"joy\", \"disgust\", \"sadness\", \"surprise\", \"neutral\"]\n",
    "    pattern = re.compile('|'.join(map(re.escape, target_strings)))\n",
    "    # Find the first match\n",
    "    match = pattern.search(pred_str)\n",
    "    # Print the result\n",
    "    if match:\n",
    "        # print(f\"Found emotion: {match.group()}\")\n",
    "        # print(f\"Index: {match.start()}\")\n",
    "        return match.group()\n",
    "    else:\n",
    "        # print(\"No emotion found.\")\n",
    "        return \"\""
   ]
  },
  {
   "cell_type": "code",
   "execution_count": 49,
   "metadata": {
    "id": "LOkbdCukwKmD"
   },
   "outputs": [],
   "source": [
    "def parse_formatted_output(pred):\n",
    "    \"\"\"Extracts the emotion from well-formatted output of the form\n",
    "    <text> utterance_id :: emotion_label <text> :: emotion_label\"\"\"\n",
    "    pred_labels = []\n",
    "    for i in range(len(pred)):\n",
    "        output = pred[i]\n",
    "        if len(output.split(\"utterance_id :: emotion_label\\n[/INST]\")) == 2:\n",
    "            output = extract_first_emotion(output.split(\"utterance_id :: emotion_label\\n[/INST]\")[1])\n",
    "            pred_labels.append(output)\n",
    "            continue\n",
    "        output = output.split(\"utterance_id :: emotion_label\\n[/INST]\")[1]\n",
    "        output = extract_emotion_label(output.strip())\n",
    "        output = output.strip().lower()\n",
    "        print(\"Predicted Output:****** \", output)\n",
    "        pred_labels.append(output)\n",
    "    return pred_labels"
   ]
  },
  {
   "cell_type": "code",
   "execution_count": 50,
   "metadata": {
    "id": "Z-GfMyb7yR7Z"
   },
   "outputs": [
    {
     "name": "stdout",
     "output_type": "stream",
     "text": [
      "['joy', 'neutral', 'joy', 'neutral', 'neutral', 'anger']\n"
     ]
    }
   ],
   "source": [
    "pred_labels = parse_formatted_output(pred)\n",
    "print(pred_labels)"
   ]
  },
  {
   "cell_type": "code",
   "execution_count": 51,
   "metadata": {},
   "outputs": [
    {
     "name": "stdout",
     "output_type": "stream",
     "text": [
      "['joy', 'neutral', 'joy', 'neutral', 'neutral', 'anger']\n"
     ]
    }
   ],
   "source": [
    "print(true)"
   ]
  },
  {
   "cell_type": "code",
   "execution_count": 52,
   "metadata": {
    "id": "zUA8LonFSE-G"
   },
   "outputs": [],
   "source": [
    "def evaluate_emotion_labels(pred_labels_list, true_labels_list):\n",
    "    total_correct = 0\n",
    "    for i in range(len(pred_labels_list)):\n",
    "        if pred_labels_list[i] == true_labels_list[i]:\n",
    "            total_correct += 1\n",
    "    return total_correct / len(pred_labels_list)"
   ]
  },
  {
   "cell_type": "code",
   "execution_count": 53,
   "metadata": {
    "colab": {
     "base_uri": "https://localhost:8080/"
    },
    "id": "TQkBSSAyg6tT",
    "outputId": "c30562bf-f1a8-4b28-ae3f-fac232c171f6"
   },
   "outputs": [
    {
     "name": "stdout",
     "output_type": "stream",
     "text": [
      "Accuracy:\n",
      "1.0\n"
     ]
    }
   ],
   "source": [
    "print(\"Accuracy:\")\n",
    "print(evaluate_emotion_labels(pred_labels, true))"
   ]
  },
  {
   "cell_type": "markdown",
   "metadata": {
    "id": "rtXvmPUwZ1fu"
   },
   "source": [
    "Evaluate in one go"
   ]
  },
  {
   "cell_type": "code",
   "execution_count": 54,
   "metadata": {
    "id": "reXXj_WHaNOI"
   },
   "outputs": [
    {
     "name": "stdout",
     "output_type": "stream",
     "text": [
      "['joy', 'neutral', 'joy', 'neutral', 'neutral', 'anger']\n"
     ]
    }
   ],
   "source": [
    "pred_labels = parse_formatted_output(pred)\n",
    "print(pred_labels)"
   ]
  },
  {
   "cell_type": "code",
   "execution_count": 55,
   "metadata": {
    "colab": {
     "base_uri": "https://localhost:8080/"
    },
    "id": "23bxeZHLeUgW",
    "outputId": "59cb2b2a-cb10-4ddb-ea1e-b262e204b1d4"
   },
   "outputs": [
    {
     "name": "stdout",
     "output_type": "stream",
     "text": [
      "1406\n"
     ]
    }
   ],
   "source": [
    "print(len(test_dataset[\"instruction\"]))"
   ]
  },
  {
   "cell_type": "code",
   "execution_count": 56,
   "metadata": {
    "colab": {
     "base_uri": "https://localhost:8080/",
     "height": 1000
    },
    "id": "pQjbWgY6exJc",
    "outputId": "2ed437bf-92cc-4e79-b34e-065652543d6d"
   },
   "outputs": [
    {
     "name": "stdout",
     "output_type": "stream",
     "text": [
      "Iter 0\n",
      "------------------------------------\n"
     ]
    },
    {
     "name": "stderr",
     "output_type": "stream",
     "text": [
      "The attention mask and the pad token id were not set. As a consequence, you may observe unexpected behavior. Please pass your input's `attention_mask` to obtain reliable results.\n",
      "Setting `pad_token_id` to `eos_token_id`:128001 for open-end generation.\n"
     ]
    },
    {
     "name": "stdout",
     "output_type": "stream",
     "text": [
      "Predicted:  joy\n",
      "Baseline:  joy\n",
      "Correct\n",
      "------------------------------------\n",
      "Iter 1\n",
      "------------------------------------\n"
     ]
    },
    {
     "name": "stderr",
     "output_type": "stream",
     "text": [
      "The attention mask and the pad token id were not set. As a consequence, you may observe unexpected behavior. Please pass your input's `attention_mask` to obtain reliable results.\n",
      "Setting `pad_token_id` to `eos_token_id`:128001 for open-end generation.\n"
     ]
    },
    {
     "name": "stdout",
     "output_type": "stream",
     "text": [
      "Predicted:  neutral\n",
      "Baseline:  neutral\n",
      "Correct\n",
      "------------------------------------\n",
      "Iter 2\n",
      "------------------------------------\n"
     ]
    },
    {
     "name": "stderr",
     "output_type": "stream",
     "text": [
      "The attention mask and the pad token id were not set. As a consequence, you may observe unexpected behavior. Please pass your input's `attention_mask` to obtain reliable results.\n",
      "Setting `pad_token_id` to `eos_token_id`:128001 for open-end generation.\n"
     ]
    },
    {
     "name": "stdout",
     "output_type": "stream",
     "text": [
      "Predicted:  joy\n",
      "Baseline:  joy\n",
      "Correct\n",
      "------------------------------------\n",
      "Iter 3\n",
      "------------------------------------\n"
     ]
    },
    {
     "name": "stderr",
     "output_type": "stream",
     "text": [
      "The attention mask and the pad token id were not set. As a consequence, you may observe unexpected behavior. Please pass your input's `attention_mask` to obtain reliable results.\n",
      "Setting `pad_token_id` to `eos_token_id`:128001 for open-end generation.\n"
     ]
    },
    {
     "name": "stdout",
     "output_type": "stream",
     "text": [
      "Predicted:  neutral\n",
      "Baseline:  neutral\n",
      "Correct\n",
      "------------------------------------\n",
      "Iter 4\n",
      "------------------------------------\n"
     ]
    },
    {
     "name": "stderr",
     "output_type": "stream",
     "text": [
      "The attention mask and the pad token id were not set. As a consequence, you may observe unexpected behavior. Please pass your input's `attention_mask` to obtain reliable results.\n",
      "Setting `pad_token_id` to `eos_token_id`:128001 for open-end generation.\n"
     ]
    },
    {
     "name": "stdout",
     "output_type": "stream",
     "text": [
      "Predicted:  neutral\n",
      "Baseline:  neutral\n",
      "Correct\n",
      "------------------------------------\n",
      "Iter 5\n",
      "------------------------------------\n"
     ]
    },
    {
     "name": "stderr",
     "output_type": "stream",
     "text": [
      "The attention mask and the pad token id were not set. As a consequence, you may observe unexpected behavior. Please pass your input's `attention_mask` to obtain reliable results.\n",
      "Setting `pad_token_id` to `eos_token_id`:128001 for open-end generation.\n"
     ]
    },
    {
     "name": "stdout",
     "output_type": "stream",
     "text": [
      "Predicted:  anger\n",
      "Baseline:  anger\n",
      "Correct\n",
      "------------------------------------\n",
      "Iter 6\n",
      "------------------------------------\n"
     ]
    },
    {
     "name": "stderr",
     "output_type": "stream",
     "text": [
      "The attention mask and the pad token id were not set. As a consequence, you may observe unexpected behavior. Please pass your input's `attention_mask` to obtain reliable results.\n",
      "Setting `pad_token_id` to `eos_token_id`:128001 for open-end generation.\n"
     ]
    },
    {
     "name": "stdout",
     "output_type": "stream",
     "text": [
      "Predicted:  anger\n",
      "Baseline:  surprise\n",
      "Incorrect\n",
      "------------------------------------\n",
      "Iter 7\n",
      "------------------------------------\n"
     ]
    },
    {
     "name": "stderr",
     "output_type": "stream",
     "text": [
      "The attention mask and the pad token id were not set. As a consequence, you may observe unexpected behavior. Please pass your input's `attention_mask` to obtain reliable results.\n",
      "Setting `pad_token_id` to `eos_token_id`:128001 for open-end generation.\n"
     ]
    },
    {
     "name": "stdout",
     "output_type": "stream",
     "text": [
      "Predicted:  neutral\n",
      "Baseline:  neutral\n",
      "Correct\n",
      "------------------------------------\n",
      "Iter 8\n",
      "------------------------------------\n"
     ]
    },
    {
     "name": "stderr",
     "output_type": "stream",
     "text": [
      "The attention mask and the pad token id were not set. As a consequence, you may observe unexpected behavior. Please pass your input's `attention_mask` to obtain reliable results.\n",
      "Setting `pad_token_id` to `eos_token_id`:128001 for open-end generation.\n"
     ]
    },
    {
     "name": "stdout",
     "output_type": "stream",
     "text": [
      "Predicted:  neutral\n",
      "Baseline:  surprise\n",
      "Incorrect\n",
      "------------------------------------\n",
      "Iter 9\n",
      "------------------------------------\n"
     ]
    },
    {
     "name": "stderr",
     "output_type": "stream",
     "text": [
      "The attention mask and the pad token id were not set. As a consequence, you may observe unexpected behavior. Please pass your input's `attention_mask` to obtain reliable results.\n",
      "Setting `pad_token_id` to `eos_token_id`:128001 for open-end generation.\n"
     ]
    },
    {
     "name": "stdout",
     "output_type": "stream",
     "text": [
      "Predicted:  neutral\n",
      "Baseline:  neutral\n",
      "Correct\n",
      "------------------------------------\n",
      "Iter 10\n",
      "------------------------------------\n"
     ]
    },
    {
     "name": "stderr",
     "output_type": "stream",
     "text": [
      "The attention mask and the pad token id were not set. As a consequence, you may observe unexpected behavior. Please pass your input's `attention_mask` to obtain reliable results.\n",
      "Setting `pad_token_id` to `eos_token_id`:128001 for open-end generation.\n"
     ]
    },
    {
     "name": "stdout",
     "output_type": "stream",
     "text": [
      "Predicted:  anger\n",
      "Baseline:  disgust\n",
      "Incorrect\n",
      "------------------------------------\n",
      "Iter 11\n",
      "------------------------------------\n"
     ]
    },
    {
     "name": "stderr",
     "output_type": "stream",
     "text": [
      "The attention mask and the pad token id were not set. As a consequence, you may observe unexpected behavior. Please pass your input's `attention_mask` to obtain reliable results.\n",
      "Setting `pad_token_id` to `eos_token_id`:128001 for open-end generation.\n"
     ]
    },
    {
     "name": "stdout",
     "output_type": "stream",
     "text": [
      "Predicted:  anger\n",
      "Baseline:  anger\n",
      "Correct\n",
      "------------------------------------\n",
      "Iter 12\n",
      "------------------------------------\n"
     ]
    },
    {
     "name": "stderr",
     "output_type": "stream",
     "text": [
      "The attention mask and the pad token id were not set. As a consequence, you may observe unexpected behavior. Please pass your input's `attention_mask` to obtain reliable results.\n",
      "Setting `pad_token_id` to `eos_token_id`:128001 for open-end generation.\n"
     ]
    },
    {
     "name": "stdout",
     "output_type": "stream",
     "text": [
      "Predicted:  joy\n",
      "Baseline:  neutral\n",
      "Incorrect\n",
      "------------------------------------\n",
      "Iter 13\n",
      "------------------------------------\n"
     ]
    },
    {
     "name": "stderr",
     "output_type": "stream",
     "text": [
      "The attention mask and the pad token id were not set. As a consequence, you may observe unexpected behavior. Please pass your input's `attention_mask` to obtain reliable results.\n",
      "Setting `pad_token_id` to `eos_token_id`:128001 for open-end generation.\n"
     ]
    },
    {
     "name": "stdout",
     "output_type": "stream",
     "text": [
      "Predicted:  joy\n",
      "Baseline:  neutral\n",
      "Incorrect\n",
      "------------------------------------\n",
      "Iter 14\n",
      "------------------------------------\n"
     ]
    },
    {
     "name": "stderr",
     "output_type": "stream",
     "text": [
      "The attention mask and the pad token id were not set. As a consequence, you may observe unexpected behavior. Please pass your input's `attention_mask` to obtain reliable results.\n",
      "Setting `pad_token_id` to `eos_token_id`:128001 for open-end generation.\n"
     ]
    },
    {
     "name": "stdout",
     "output_type": "stream",
     "text": [
      "Predicted:  anger\n",
      "Baseline:  anger\n",
      "Correct\n",
      "------------------------------------\n",
      "Iter 15\n",
      "------------------------------------\n"
     ]
    },
    {
     "name": "stderr",
     "output_type": "stream",
     "text": [
      "The attention mask and the pad token id were not set. As a consequence, you may observe unexpected behavior. Please pass your input's `attention_mask` to obtain reliable results.\n",
      "Setting `pad_token_id` to `eos_token_id`:128001 for open-end generation.\n"
     ]
    },
    {
     "name": "stdout",
     "output_type": "stream",
     "text": [
      "Predicted:  anger\n",
      "Baseline:  anger\n",
      "Correct\n",
      "------------------------------------\n",
      "Iter 16\n",
      "------------------------------------\n"
     ]
    },
    {
     "name": "stderr",
     "output_type": "stream",
     "text": [
      "The attention mask and the pad token id were not set. As a consequence, you may observe unexpected behavior. Please pass your input's `attention_mask` to obtain reliable results.\n",
      "Setting `pad_token_id` to `eos_token_id`:128001 for open-end generation.\n"
     ]
    },
    {
     "name": "stdout",
     "output_type": "stream",
     "text": [
      "Predicted:  anger\n",
      "Baseline:  anger\n",
      "Correct\n",
      "------------------------------------\n",
      "Iter 17\n",
      "------------------------------------\n"
     ]
    },
    {
     "name": "stderr",
     "output_type": "stream",
     "text": [
      "The attention mask and the pad token id were not set. As a consequence, you may observe unexpected behavior. Please pass your input's `attention_mask` to obtain reliable results.\n",
      "Setting `pad_token_id` to `eos_token_id`:128001 for open-end generation.\n"
     ]
    },
    {
     "name": "stdout",
     "output_type": "stream",
     "text": [
      "Predicted:  neutral\n",
      "Baseline:  neutral\n",
      "Correct\n",
      "------------------------------------\n",
      "Iter 18\n",
      "------------------------------------\n"
     ]
    },
    {
     "name": "stderr",
     "output_type": "stream",
     "text": [
      "The attention mask and the pad token id were not set. As a consequence, you may observe unexpected behavior. Please pass your input's `attention_mask` to obtain reliable results.\n",
      "Setting `pad_token_id` to `eos_token_id`:128001 for open-end generation.\n"
     ]
    },
    {
     "name": "stdout",
     "output_type": "stream",
     "text": [
      "Predicted:  joy\n",
      "Baseline:  joy\n",
      "Correct\n",
      "------------------------------------\n",
      "Iter 19\n",
      "------------------------------------\n"
     ]
    },
    {
     "name": "stderr",
     "output_type": "stream",
     "text": [
      "The attention mask and the pad token id were not set. As a consequence, you may observe unexpected behavior. Please pass your input's `attention_mask` to obtain reliable results.\n",
      "Setting `pad_token_id` to `eos_token_id`:128001 for open-end generation.\n"
     ]
    },
    {
     "name": "stdout",
     "output_type": "stream",
     "text": [
      "Predicted:  anger\n",
      "Baseline:  anger\n",
      "Correct\n",
      "------------------------------------\n",
      "Iter 20\n",
      "------------------------------------\n"
     ]
    },
    {
     "name": "stderr",
     "output_type": "stream",
     "text": [
      "The attention mask and the pad token id were not set. As a consequence, you may observe unexpected behavior. Please pass your input's `attention_mask` to obtain reliable results.\n",
      "Setting `pad_token_id` to `eos_token_id`:128001 for open-end generation.\n"
     ]
    },
    {
     "name": "stdout",
     "output_type": "stream",
     "text": [
      "Predicted:  surprise\n",
      "Baseline:  surprise\n",
      "Correct\n",
      "------------------------------------\n",
      "Iter 21\n",
      "------------------------------------\n"
     ]
    },
    {
     "name": "stderr",
     "output_type": "stream",
     "text": [
      "The attention mask and the pad token id were not set. As a consequence, you may observe unexpected behavior. Please pass your input's `attention_mask` to obtain reliable results.\n",
      "Setting `pad_token_id` to `eos_token_id`:128001 for open-end generation.\n"
     ]
    },
    {
     "name": "stdout",
     "output_type": "stream",
     "text": [
      "Predicted:  neutral\n",
      "Baseline:  neutral\n",
      "Correct\n",
      "------------------------------------\n",
      "Iter 22\n",
      "------------------------------------\n"
     ]
    },
    {
     "name": "stderr",
     "output_type": "stream",
     "text": [
      "The attention mask and the pad token id were not set. As a consequence, you may observe unexpected behavior. Please pass your input's `attention_mask` to obtain reliable results.\n",
      "Setting `pad_token_id` to `eos_token_id`:128001 for open-end generation.\n"
     ]
    },
    {
     "name": "stdout",
     "output_type": "stream",
     "text": [
      "Predicted:  anger\n",
      "Baseline:  anger\n",
      "Correct\n",
      "------------------------------------\n",
      "Iter 23\n",
      "------------------------------------\n"
     ]
    },
    {
     "name": "stderr",
     "output_type": "stream",
     "text": [
      "The attention mask and the pad token id were not set. As a consequence, you may observe unexpected behavior. Please pass your input's `attention_mask` to obtain reliable results.\n",
      "Setting `pad_token_id` to `eos_token_id`:128001 for open-end generation.\n"
     ]
    },
    {
     "name": "stdout",
     "output_type": "stream",
     "text": [
      "Predicted:  neutral\n",
      "Baseline:  neutral\n",
      "Correct\n",
      "------------------------------------\n",
      "Iter 24\n",
      "------------------------------------\n"
     ]
    },
    {
     "name": "stderr",
     "output_type": "stream",
     "text": [
      "The attention mask and the pad token id were not set. As a consequence, you may observe unexpected behavior. Please pass your input's `attention_mask` to obtain reliable results.\n",
      "Setting `pad_token_id` to `eos_token_id`:128001 for open-end generation.\n"
     ]
    },
    {
     "name": "stdout",
     "output_type": "stream",
     "text": [
      "Predicted:  anger\n",
      "Baseline:  anger\n",
      "Correct\n",
      "------------------------------------\n",
      "Iter 25\n",
      "------------------------------------\n"
     ]
    },
    {
     "name": "stderr",
     "output_type": "stream",
     "text": [
      "The attention mask and the pad token id were not set. As a consequence, you may observe unexpected behavior. Please pass your input's `attention_mask` to obtain reliable results.\n",
      "Setting `pad_token_id` to `eos_token_id`:128001 for open-end generation.\n"
     ]
    },
    {
     "name": "stdout",
     "output_type": "stream",
     "text": [
      "Predicted:  neutral\n",
      "Baseline:  neutral\n",
      "Correct\n",
      "------------------------------------\n",
      "Iter 26\n",
      "------------------------------------\n"
     ]
    },
    {
     "name": "stderr",
     "output_type": "stream",
     "text": [
      "The attention mask and the pad token id were not set. As a consequence, you may observe unexpected behavior. Please pass your input's `attention_mask` to obtain reliable results.\n",
      "Setting `pad_token_id` to `eos_token_id`:128001 for open-end generation.\n"
     ]
    },
    {
     "name": "stdout",
     "output_type": "stream",
     "text": [
      "Predicted:  joy\n",
      "Baseline:  joy\n",
      "Correct\n",
      "------------------------------------\n",
      "Iter 27\n",
      "------------------------------------\n"
     ]
    },
    {
     "name": "stderr",
     "output_type": "stream",
     "text": [
      "The attention mask and the pad token id were not set. As a consequence, you may observe unexpected behavior. Please pass your input's `attention_mask` to obtain reliable results.\n",
      "Setting `pad_token_id` to `eos_token_id`:128001 for open-end generation.\n"
     ]
    },
    {
     "name": "stdout",
     "output_type": "stream",
     "text": [
      "Predicted:  joy\n",
      "Baseline:  joy\n",
      "Correct\n",
      "------------------------------------\n",
      "Iter 28\n",
      "------------------------------------\n"
     ]
    },
    {
     "name": "stderr",
     "output_type": "stream",
     "text": [
      "The attention mask and the pad token id were not set. As a consequence, you may observe unexpected behavior. Please pass your input's `attention_mask` to obtain reliable results.\n",
      "Setting `pad_token_id` to `eos_token_id`:128001 for open-end generation.\n"
     ]
    },
    {
     "name": "stdout",
     "output_type": "stream",
     "text": [
      "Predicted:  neutral\n",
      "Baseline:  neutral\n",
      "Correct\n",
      "------------------------------------\n",
      "Iter 29\n",
      "------------------------------------\n"
     ]
    },
    {
     "name": "stderr",
     "output_type": "stream",
     "text": [
      "The attention mask and the pad token id were not set. As a consequence, you may observe unexpected behavior. Please pass your input's `attention_mask` to obtain reliable results.\n",
      "Setting `pad_token_id` to `eos_token_id`:128001 for open-end generation.\n"
     ]
    },
    {
     "name": "stdout",
     "output_type": "stream",
     "text": [
      "Predicted:  neutral\n",
      "Baseline:  neutral\n",
      "Correct\n",
      "------------------------------------\n",
      "Iter 30\n",
      "------------------------------------\n"
     ]
    },
    {
     "name": "stderr",
     "output_type": "stream",
     "text": [
      "The attention mask and the pad token id were not set. As a consequence, you may observe unexpected behavior. Please pass your input's `attention_mask` to obtain reliable results.\n",
      "Setting `pad_token_id` to `eos_token_id`:128001 for open-end generation.\n"
     ]
    },
    {
     "name": "stdout",
     "output_type": "stream",
     "text": [
      "Predicted:  neutral\n",
      "Baseline:  neutral\n",
      "Correct\n",
      "------------------------------------\n",
      "Iter 31\n",
      "------------------------------------\n"
     ]
    },
    {
     "name": "stderr",
     "output_type": "stream",
     "text": [
      "The attention mask and the pad token id were not set. As a consequence, you may observe unexpected behavior. Please pass your input's `attention_mask` to obtain reliable results.\n",
      "Setting `pad_token_id` to `eos_token_id`:128001 for open-end generation.\n"
     ]
    },
    {
     "name": "stdout",
     "output_type": "stream",
     "text": [
      "Predicted:  surprise\n",
      "Baseline:  surprise\n",
      "Correct\n",
      "------------------------------------\n",
      "Iter 32\n",
      "------------------------------------\n"
     ]
    },
    {
     "name": "stderr",
     "output_type": "stream",
     "text": [
      "The attention mask and the pad token id were not set. As a consequence, you may observe unexpected behavior. Please pass your input's `attention_mask` to obtain reliable results.\n",
      "Setting `pad_token_id` to `eos_token_id`:128001 for open-end generation.\n"
     ]
    },
    {
     "name": "stdout",
     "output_type": "stream",
     "text": [
      "Predicted:  neutral\n",
      "Baseline:  neutral\n",
      "Correct\n",
      "------------------------------------\n",
      "Iter 33\n",
      "------------------------------------\n"
     ]
    },
    {
     "name": "stderr",
     "output_type": "stream",
     "text": [
      "The attention mask and the pad token id were not set. As a consequence, you may observe unexpected behavior. Please pass your input's `attention_mask` to obtain reliable results.\n",
      "Setting `pad_token_id` to `eos_token_id`:128001 for open-end generation.\n"
     ]
    },
    {
     "name": "stdout",
     "output_type": "stream",
     "text": [
      "Predicted:  neutral\n",
      "Baseline:  neutral\n",
      "Correct\n",
      "------------------------------------\n",
      "Iter 34\n",
      "------------------------------------\n"
     ]
    },
    {
     "name": "stderr",
     "output_type": "stream",
     "text": [
      "The attention mask and the pad token id were not set. As a consequence, you may observe unexpected behavior. Please pass your input's `attention_mask` to obtain reliable results.\n",
      "Setting `pad_token_id` to `eos_token_id`:128001 for open-end generation.\n"
     ]
    },
    {
     "name": "stdout",
     "output_type": "stream",
     "text": [
      "Predicted:  anger\n",
      "Baseline:  fear\n",
      "Incorrect\n",
      "------------------------------------\n",
      "Iter 35\n",
      "------------------------------------\n"
     ]
    },
    {
     "name": "stderr",
     "output_type": "stream",
     "text": [
      "The attention mask and the pad token id were not set. As a consequence, you may observe unexpected behavior. Please pass your input's `attention_mask` to obtain reliable results.\n",
      "Setting `pad_token_id` to `eos_token_id`:128001 for open-end generation.\n"
     ]
    },
    {
     "name": "stdout",
     "output_type": "stream",
     "text": [
      "Predicted:  surprise\n",
      "Baseline:  surprise\n",
      "Correct\n",
      "------------------------------------\n",
      "Iter 36\n",
      "------------------------------------\n"
     ]
    },
    {
     "name": "stderr",
     "output_type": "stream",
     "text": [
      "The attention mask and the pad token id were not set. As a consequence, you may observe unexpected behavior. Please pass your input's `attention_mask` to obtain reliable results.\n",
      "Setting `pad_token_id` to `eos_token_id`:128001 for open-end generation.\n"
     ]
    },
    {
     "name": "stdout",
     "output_type": "stream",
     "text": [
      "Predicted:  anger\n",
      "Baseline:  anger\n",
      "Correct\n",
      "------------------------------------\n",
      "Iter 37\n",
      "------------------------------------\n"
     ]
    },
    {
     "name": "stderr",
     "output_type": "stream",
     "text": [
      "The attention mask and the pad token id were not set. As a consequence, you may observe unexpected behavior. Please pass your input's `attention_mask` to obtain reliable results.\n",
      "Setting `pad_token_id` to `eos_token_id`:128001 for open-end generation.\n"
     ]
    },
    {
     "name": "stdout",
     "output_type": "stream",
     "text": [
      "Predicted:  anger\n",
      "Baseline:  anger\n",
      "Correct\n",
      "------------------------------------\n",
      "Iter 38\n",
      "------------------------------------\n"
     ]
    },
    {
     "name": "stderr",
     "output_type": "stream",
     "text": [
      "The attention mask and the pad token id were not set. As a consequence, you may observe unexpected behavior. Please pass your input's `attention_mask` to obtain reliable results.\n",
      "Setting `pad_token_id` to `eos_token_id`:128001 for open-end generation.\n"
     ]
    },
    {
     "name": "stdout",
     "output_type": "stream",
     "text": [
      "Predicted:  anger\n",
      "Baseline:  anger\n",
      "Correct\n",
      "------------------------------------\n",
      "Iter 39\n",
      "------------------------------------\n"
     ]
    },
    {
     "name": "stderr",
     "output_type": "stream",
     "text": [
      "The attention mask and the pad token id were not set. As a consequence, you may observe unexpected behavior. Please pass your input's `attention_mask` to obtain reliable results.\n",
      "Setting `pad_token_id` to `eos_token_id`:128001 for open-end generation.\n"
     ]
    },
    {
     "name": "stdout",
     "output_type": "stream",
     "text": [
      "Predicted:  anger\n",
      "Baseline:  anger\n",
      "Correct\n",
      "------------------------------------\n",
      "Iter 40\n",
      "------------------------------------\n"
     ]
    },
    {
     "name": "stderr",
     "output_type": "stream",
     "text": [
      "The attention mask and the pad token id were not set. As a consequence, you may observe unexpected behavior. Please pass your input's `attention_mask` to obtain reliable results.\n",
      "Setting `pad_token_id` to `eos_token_id`:128001 for open-end generation.\n"
     ]
    },
    {
     "name": "stdout",
     "output_type": "stream",
     "text": [
      "Predicted:  neutral\n",
      "Baseline:  joy\n",
      "Incorrect\n",
      "------------------------------------\n",
      "Iter 41\n",
      "------------------------------------\n"
     ]
    },
    {
     "name": "stderr",
     "output_type": "stream",
     "text": [
      "The attention mask and the pad token id were not set. As a consequence, you may observe unexpected behavior. Please pass your input's `attention_mask` to obtain reliable results.\n",
      "Setting `pad_token_id` to `eos_token_id`:128001 for open-end generation.\n"
     ]
    },
    {
     "name": "stdout",
     "output_type": "stream",
     "text": [
      "Predicted:  joy\n",
      "Baseline:  surprise\n",
      "Incorrect\n",
      "------------------------------------\n",
      "Iter 42\n",
      "------------------------------------\n"
     ]
    },
    {
     "name": "stderr",
     "output_type": "stream",
     "text": [
      "The attention mask and the pad token id were not set. As a consequence, you may observe unexpected behavior. Please pass your input's `attention_mask` to obtain reliable results.\n",
      "Setting `pad_token_id` to `eos_token_id`:128001 for open-end generation.\n"
     ]
    },
    {
     "name": "stdout",
     "output_type": "stream",
     "text": [
      "Predicted:  joy\n",
      "Baseline:  anger\n",
      "Incorrect\n",
      "------------------------------------\n",
      "Iter 43\n",
      "------------------------------------\n"
     ]
    },
    {
     "name": "stderr",
     "output_type": "stream",
     "text": [
      "The attention mask and the pad token id were not set. As a consequence, you may observe unexpected behavior. Please pass your input's `attention_mask` to obtain reliable results.\n",
      "Setting `pad_token_id` to `eos_token_id`:128001 for open-end generation.\n"
     ]
    },
    {
     "name": "stdout",
     "output_type": "stream",
     "text": [
      "Predicted:  neutral\n",
      "Baseline:  neutral\n",
      "Correct\n",
      "------------------------------------\n",
      "Iter 44\n",
      "------------------------------------\n"
     ]
    },
    {
     "name": "stderr",
     "output_type": "stream",
     "text": [
      "The attention mask and the pad token id were not set. As a consequence, you may observe unexpected behavior. Please pass your input's `attention_mask` to obtain reliable results.\n",
      "Setting `pad_token_id` to `eos_token_id`:128001 for open-end generation.\n"
     ]
    },
    {
     "name": "stdout",
     "output_type": "stream",
     "text": [
      "Predicted:  neutral\n",
      "Baseline:  neutral\n",
      "Correct\n",
      "------------------------------------\n",
      "Iter 45\n",
      "------------------------------------\n"
     ]
    },
    {
     "name": "stderr",
     "output_type": "stream",
     "text": [
      "The attention mask and the pad token id were not set. As a consequence, you may observe unexpected behavior. Please pass your input's `attention_mask` to obtain reliable results.\n",
      "Setting `pad_token_id` to `eos_token_id`:128001 for open-end generation.\n"
     ]
    },
    {
     "name": "stdout",
     "output_type": "stream",
     "text": [
      "Predicted:  neutral\n",
      "Baseline:  neutral\n",
      "Correct\n",
      "------------------------------------\n",
      "Iter 46\n",
      "------------------------------------\n"
     ]
    },
    {
     "name": "stderr",
     "output_type": "stream",
     "text": [
      "The attention mask and the pad token id were not set. As a consequence, you may observe unexpected behavior. Please pass your input's `attention_mask` to obtain reliable results.\n",
      "Setting `pad_token_id` to `eos_token_id`:128001 for open-end generation.\n"
     ]
    },
    {
     "name": "stdout",
     "output_type": "stream",
     "text": [
      "Predicted:  anger\n",
      "Baseline:  joy\n",
      "Incorrect\n",
      "------------------------------------\n",
      "Iter 47\n",
      "------------------------------------\n"
     ]
    },
    {
     "name": "stderr",
     "output_type": "stream",
     "text": [
      "The attention mask and the pad token id were not set. As a consequence, you may observe unexpected behavior. Please pass your input's `attention_mask` to obtain reliable results.\n",
      "Setting `pad_token_id` to `eos_token_id`:128001 for open-end generation.\n"
     ]
    },
    {
     "name": "stdout",
     "output_type": "stream",
     "text": [
      "Predicted:  neutral\n",
      "Baseline:  neutral\n",
      "Correct\n",
      "------------------------------------\n",
      "Iter 48\n",
      "------------------------------------\n"
     ]
    },
    {
     "name": "stderr",
     "output_type": "stream",
     "text": [
      "The attention mask and the pad token id were not set. As a consequence, you may observe unexpected behavior. Please pass your input's `attention_mask` to obtain reliable results.\n",
      "Setting `pad_token_id` to `eos_token_id`:128001 for open-end generation.\n"
     ]
    },
    {
     "name": "stdout",
     "output_type": "stream",
     "text": [
      "Predicted:  neutral\n",
      "Baseline:  neutral\n",
      "Correct\n",
      "------------------------------------\n",
      "Iter 49\n",
      "------------------------------------\n"
     ]
    },
    {
     "name": "stderr",
     "output_type": "stream",
     "text": [
      "The attention mask and the pad token id were not set. As a consequence, you may observe unexpected behavior. Please pass your input's `attention_mask` to obtain reliable results.\n",
      "Setting `pad_token_id` to `eos_token_id`:128001 for open-end generation.\n"
     ]
    },
    {
     "name": "stdout",
     "output_type": "stream",
     "text": [
      "Predicted:  anger\n",
      "Baseline:  anger\n",
      "Correct\n",
      "------------------------------------\n",
      "Iter 50\n",
      "------------------------------------\n"
     ]
    },
    {
     "name": "stderr",
     "output_type": "stream",
     "text": [
      "The attention mask and the pad token id were not set. As a consequence, you may observe unexpected behavior. Please pass your input's `attention_mask` to obtain reliable results.\n",
      "Setting `pad_token_id` to `eos_token_id`:128001 for open-end generation.\n"
     ]
    },
    {
     "name": "stdout",
     "output_type": "stream",
     "text": [
      "Predicted:  neutral\n",
      "Baseline:  neutral\n",
      "Correct\n",
      "------------------------------------\n",
      "Iter 51\n",
      "------------------------------------\n"
     ]
    },
    {
     "name": "stderr",
     "output_type": "stream",
     "text": [
      "The attention mask and the pad token id were not set. As a consequence, you may observe unexpected behavior. Please pass your input's `attention_mask` to obtain reliable results.\n",
      "Setting `pad_token_id` to `eos_token_id`:128001 for open-end generation.\n"
     ]
    },
    {
     "name": "stdout",
     "output_type": "stream",
     "text": [
      "Predicted:  sadness\n",
      "Baseline:  neutral\n",
      "Incorrect\n",
      "------------------------------------\n",
      "Iter 52\n",
      "------------------------------------\n"
     ]
    },
    {
     "name": "stderr",
     "output_type": "stream",
     "text": [
      "The attention mask and the pad token id were not set. As a consequence, you may observe unexpected behavior. Please pass your input's `attention_mask` to obtain reliable results.\n",
      "Setting `pad_token_id` to `eos_token_id`:128001 for open-end generation.\n"
     ]
    },
    {
     "name": "stdout",
     "output_type": "stream",
     "text": [
      "Predicted:  neutral\n",
      "Baseline:  disgust\n",
      "Incorrect\n",
      "------------------------------------\n",
      "Iter 53\n",
      "------------------------------------\n"
     ]
    },
    {
     "name": "stderr",
     "output_type": "stream",
     "text": [
      "The attention mask and the pad token id were not set. As a consequence, you may observe unexpected behavior. Please pass your input's `attention_mask` to obtain reliable results.\n",
      "Setting `pad_token_id` to `eos_token_id`:128001 for open-end generation.\n"
     ]
    },
    {
     "name": "stdout",
     "output_type": "stream",
     "text": [
      "Predicted:  neutral\n",
      "Baseline:  neutral\n",
      "Correct\n",
      "------------------------------------\n",
      "Iter 54\n",
      "------------------------------------\n"
     ]
    },
    {
     "name": "stderr",
     "output_type": "stream",
     "text": [
      "The attention mask and the pad token id were not set. As a consequence, you may observe unexpected behavior. Please pass your input's `attention_mask` to obtain reliable results.\n",
      "Setting `pad_token_id` to `eos_token_id`:128001 for open-end generation.\n"
     ]
    },
    {
     "name": "stdout",
     "output_type": "stream",
     "text": [
      "Predicted:  surprise\n",
      "Baseline:  surprise\n",
      "Correct\n",
      "------------------------------------\n",
      "Iter 55\n",
      "------------------------------------\n"
     ]
    },
    {
     "name": "stderr",
     "output_type": "stream",
     "text": [
      "The attention mask and the pad token id were not set. As a consequence, you may observe unexpected behavior. Please pass your input's `attention_mask` to obtain reliable results.\n",
      "Setting `pad_token_id` to `eos_token_id`:128001 for open-end generation.\n"
     ]
    },
    {
     "name": "stdout",
     "output_type": "stream",
     "text": [
      "Predicted:  neutral\n",
      "Baseline:  neutral\n",
      "Correct\n",
      "------------------------------------\n",
      "Iter 56\n",
      "------------------------------------\n"
     ]
    },
    {
     "name": "stderr",
     "output_type": "stream",
     "text": [
      "The attention mask and the pad token id were not set. As a consequence, you may observe unexpected behavior. Please pass your input's `attention_mask` to obtain reliable results.\n",
      "Setting `pad_token_id` to `eos_token_id`:128001 for open-end generation.\n"
     ]
    },
    {
     "name": "stdout",
     "output_type": "stream",
     "text": [
      "Predicted:  anger\n",
      "Baseline:  disgust\n",
      "Incorrect\n",
      "------------------------------------\n",
      "Iter 57\n",
      "------------------------------------\n"
     ]
    },
    {
     "name": "stderr",
     "output_type": "stream",
     "text": [
      "The attention mask and the pad token id were not set. As a consequence, you may observe unexpected behavior. Please pass your input's `attention_mask` to obtain reliable results.\n",
      "Setting `pad_token_id` to `eos_token_id`:128001 for open-end generation.\n"
     ]
    },
    {
     "name": "stdout",
     "output_type": "stream",
     "text": [
      "Predicted:  anger\n",
      "Baseline:  anger\n",
      "Correct\n",
      "------------------------------------\n",
      "Iter 58\n",
      "------------------------------------\n"
     ]
    },
    {
     "name": "stderr",
     "output_type": "stream",
     "text": [
      "The attention mask and the pad token id were not set. As a consequence, you may observe unexpected behavior. Please pass your input's `attention_mask` to obtain reliable results.\n",
      "Setting `pad_token_id` to `eos_token_id`:128001 for open-end generation.\n"
     ]
    },
    {
     "name": "stdout",
     "output_type": "stream",
     "text": [
      "Predicted:  anger\n",
      "Baseline:  anger\n",
      "Correct\n",
      "------------------------------------\n",
      "Iter 59\n",
      "------------------------------------\n"
     ]
    },
    {
     "name": "stderr",
     "output_type": "stream",
     "text": [
      "The attention mask and the pad token id were not set. As a consequence, you may observe unexpected behavior. Please pass your input's `attention_mask` to obtain reliable results.\n",
      "Setting `pad_token_id` to `eos_token_id`:128001 for open-end generation.\n"
     ]
    },
    {
     "name": "stdout",
     "output_type": "stream",
     "text": [
      "Predicted:  neutral\n",
      "Baseline:  neutral\n",
      "Correct\n",
      "------------------------------------\n",
      "Iter 60\n",
      "------------------------------------\n"
     ]
    },
    {
     "name": "stderr",
     "output_type": "stream",
     "text": [
      "The attention mask and the pad token id were not set. As a consequence, you may observe unexpected behavior. Please pass your input's `attention_mask` to obtain reliable results.\n",
      "Setting `pad_token_id` to `eos_token_id`:128001 for open-end generation.\n"
     ]
    },
    {
     "name": "stdout",
     "output_type": "stream",
     "text": [
      "Predicted:  neutral\n",
      "Baseline:  neutral\n",
      "Correct\n",
      "------------------------------------\n",
      "Iter 61\n",
      "------------------------------------\n"
     ]
    },
    {
     "name": "stderr",
     "output_type": "stream",
     "text": [
      "The attention mask and the pad token id were not set. As a consequence, you may observe unexpected behavior. Please pass your input's `attention_mask` to obtain reliable results.\n",
      "Setting `pad_token_id` to `eos_token_id`:128001 for open-end generation.\n"
     ]
    },
    {
     "name": "stdout",
     "output_type": "stream",
     "text": [
      "Predicted:  neutral\n",
      "Baseline:  neutral\n",
      "Correct\n",
      "------------------------------------\n",
      "Iter 62\n",
      "------------------------------------\n"
     ]
    },
    {
     "name": "stderr",
     "output_type": "stream",
     "text": [
      "The attention mask and the pad token id were not set. As a consequence, you may observe unexpected behavior. Please pass your input's `attention_mask` to obtain reliable results.\n",
      "Setting `pad_token_id` to `eos_token_id`:128001 for open-end generation.\n"
     ]
    },
    {
     "name": "stdout",
     "output_type": "stream",
     "text": [
      "Predicted:  neutral\n",
      "Baseline:  neutral\n",
      "Correct\n",
      "------------------------------------\n",
      "Iter 63\n",
      "------------------------------------\n"
     ]
    },
    {
     "name": "stderr",
     "output_type": "stream",
     "text": [
      "The attention mask and the pad token id were not set. As a consequence, you may observe unexpected behavior. Please pass your input's `attention_mask` to obtain reliable results.\n",
      "Setting `pad_token_id` to `eos_token_id`:128001 for open-end generation.\n"
     ]
    },
    {
     "name": "stdout",
     "output_type": "stream",
     "text": [
      "Predicted:  neutral\n",
      "Baseline:  neutral\n",
      "Correct\n",
      "------------------------------------\n",
      "Iter 64\n",
      "------------------------------------\n"
     ]
    },
    {
     "name": "stderr",
     "output_type": "stream",
     "text": [
      "The attention mask and the pad token id were not set. As a consequence, you may observe unexpected behavior. Please pass your input's `attention_mask` to obtain reliable results.\n",
      "Setting `pad_token_id` to `eos_token_id`:128001 for open-end generation.\n"
     ]
    },
    {
     "name": "stdout",
     "output_type": "stream",
     "text": [
      "Predicted:  neutral\n",
      "Baseline:  neutral\n",
      "Correct\n",
      "------------------------------------\n",
      "Iter 65\n",
      "------------------------------------\n"
     ]
    },
    {
     "name": "stderr",
     "output_type": "stream",
     "text": [
      "The attention mask and the pad token id were not set. As a consequence, you may observe unexpected behavior. Please pass your input's `attention_mask` to obtain reliable results.\n",
      "Setting `pad_token_id` to `eos_token_id`:128001 for open-end generation.\n"
     ]
    },
    {
     "name": "stdout",
     "output_type": "stream",
     "text": [
      "Predicted:  neutral\n",
      "Baseline:  neutral\n",
      "Correct\n",
      "------------------------------------\n",
      "Iter 66\n",
      "------------------------------------\n"
     ]
    },
    {
     "name": "stderr",
     "output_type": "stream",
     "text": [
      "The attention mask and the pad token id were not set. As a consequence, you may observe unexpected behavior. Please pass your input's `attention_mask` to obtain reliable results.\n",
      "Setting `pad_token_id` to `eos_token_id`:128001 for open-end generation.\n"
     ]
    },
    {
     "name": "stdout",
     "output_type": "stream",
     "text": [
      "Predicted:  neutral\n",
      "Baseline:  neutral\n",
      "Correct\n",
      "------------------------------------\n",
      "Iter 67\n",
      "------------------------------------\n"
     ]
    },
    {
     "name": "stderr",
     "output_type": "stream",
     "text": [
      "The attention mask and the pad token id were not set. As a consequence, you may observe unexpected behavior. Please pass your input's `attention_mask` to obtain reliable results.\n",
      "Setting `pad_token_id` to `eos_token_id`:128001 for open-end generation.\n"
     ]
    },
    {
     "name": "stdout",
     "output_type": "stream",
     "text": [
      "Predicted:  neutral\n",
      "Baseline:  neutral\n",
      "Correct\n",
      "------------------------------------\n",
      "Iter 68\n",
      "------------------------------------\n"
     ]
    },
    {
     "name": "stderr",
     "output_type": "stream",
     "text": [
      "The attention mask and the pad token id were not set. As a consequence, you may observe unexpected behavior. Please pass your input's `attention_mask` to obtain reliable results.\n",
      "Setting `pad_token_id` to `eos_token_id`:128001 for open-end generation.\n"
     ]
    },
    {
     "name": "stdout",
     "output_type": "stream",
     "text": [
      "Predicted:  disgust\n",
      "Baseline:  surprise\n",
      "Incorrect\n",
      "------------------------------------\n",
      "Iter 69\n",
      "------------------------------------\n"
     ]
    },
    {
     "name": "stderr",
     "output_type": "stream",
     "text": [
      "The attention mask and the pad token id were not set. As a consequence, you may observe unexpected behavior. Please pass your input's `attention_mask` to obtain reliable results.\n",
      "Setting `pad_token_id` to `eos_token_id`:128001 for open-end generation.\n"
     ]
    },
    {
     "name": "stdout",
     "output_type": "stream",
     "text": [
      "Predicted:  surprise\n",
      "Baseline:  surprise\n",
      "Correct\n",
      "------------------------------------\n",
      "Iter 70\n",
      "------------------------------------\n"
     ]
    },
    {
     "name": "stderr",
     "output_type": "stream",
     "text": [
      "The attention mask and the pad token id were not set. As a consequence, you may observe unexpected behavior. Please pass your input's `attention_mask` to obtain reliable results.\n",
      "Setting `pad_token_id` to `eos_token_id`:128001 for open-end generation.\n"
     ]
    },
    {
     "name": "stdout",
     "output_type": "stream",
     "text": [
      "Predicted:  neutral\n",
      "Baseline:  neutral\n",
      "Correct\n",
      "------------------------------------\n",
      "Iter 71\n",
      "------------------------------------\n"
     ]
    },
    {
     "name": "stderr",
     "output_type": "stream",
     "text": [
      "The attention mask and the pad token id were not set. As a consequence, you may observe unexpected behavior. Please pass your input's `attention_mask` to obtain reliable results.\n",
      "Setting `pad_token_id` to `eos_token_id`:128001 for open-end generation.\n"
     ]
    },
    {
     "name": "stdout",
     "output_type": "stream",
     "text": [
      "Predicted:  disgust\n",
      "Baseline:  disgust\n",
      "Correct\n",
      "------------------------------------\n",
      "Iter 72\n",
      "------------------------------------\n"
     ]
    },
    {
     "name": "stderr",
     "output_type": "stream",
     "text": [
      "The attention mask and the pad token id were not set. As a consequence, you may observe unexpected behavior. Please pass your input's `attention_mask` to obtain reliable results.\n",
      "Setting `pad_token_id` to `eos_token_id`:128001 for open-end generation.\n"
     ]
    },
    {
     "name": "stdout",
     "output_type": "stream",
     "text": [
      "Predicted:  neutral\n",
      "Baseline:  neutral\n",
      "Correct\n",
      "------------------------------------\n",
      "Iter 73\n",
      "------------------------------------\n"
     ]
    },
    {
     "name": "stderr",
     "output_type": "stream",
     "text": [
      "The attention mask and the pad token id were not set. As a consequence, you may observe unexpected behavior. Please pass your input's `attention_mask` to obtain reliable results.\n",
      "Setting `pad_token_id` to `eos_token_id`:128001 for open-end generation.\n"
     ]
    },
    {
     "name": "stdout",
     "output_type": "stream",
     "text": [
      "Predicted:  neutral\n",
      "Baseline:  neutral\n",
      "Correct\n",
      "------------------------------------\n",
      "Iter 74\n",
      "------------------------------------\n"
     ]
    },
    {
     "name": "stderr",
     "output_type": "stream",
     "text": [
      "The attention mask and the pad token id were not set. As a consequence, you may observe unexpected behavior. Please pass your input's `attention_mask` to obtain reliable results.\n",
      "Setting `pad_token_id` to `eos_token_id`:128001 for open-end generation.\n"
     ]
    },
    {
     "name": "stdout",
     "output_type": "stream",
     "text": [
      "Predicted:  neutral\n",
      "Baseline:  neutral\n",
      "Correct\n",
      "------------------------------------\n",
      "Iter 75\n",
      "------------------------------------\n"
     ]
    },
    {
     "name": "stderr",
     "output_type": "stream",
     "text": [
      "The attention mask and the pad token id were not set. As a consequence, you may observe unexpected behavior. Please pass your input's `attention_mask` to obtain reliable results.\n",
      "Setting `pad_token_id` to `eos_token_id`:128001 for open-end generation.\n"
     ]
    },
    {
     "name": "stdout",
     "output_type": "stream",
     "text": [
      "Predicted:  neutral\n",
      "Baseline:  neutral\n",
      "Correct\n",
      "------------------------------------\n",
      "Iter 76\n",
      "------------------------------------\n"
     ]
    },
    {
     "name": "stderr",
     "output_type": "stream",
     "text": [
      "The attention mask and the pad token id were not set. As a consequence, you may observe unexpected behavior. Please pass your input's `attention_mask` to obtain reliable results.\n",
      "Setting `pad_token_id` to `eos_token_id`:128001 for open-end generation.\n"
     ]
    },
    {
     "name": "stdout",
     "output_type": "stream",
     "text": [
      "Predicted:  neutral\n",
      "Baseline:  neutral\n",
      "Correct\n",
      "------------------------------------\n",
      "Iter 77\n",
      "------------------------------------\n"
     ]
    },
    {
     "name": "stderr",
     "output_type": "stream",
     "text": [
      "The attention mask and the pad token id were not set. As a consequence, you may observe unexpected behavior. Please pass your input's `attention_mask` to obtain reliable results.\n",
      "Setting `pad_token_id` to `eos_token_id`:128001 for open-end generation.\n"
     ]
    },
    {
     "name": "stdout",
     "output_type": "stream",
     "text": [
      "Predicted:  neutral\n",
      "Baseline:  neutral\n",
      "Correct\n",
      "------------------------------------\n",
      "Iter 78\n",
      "------------------------------------\n"
     ]
    },
    {
     "name": "stderr",
     "output_type": "stream",
     "text": [
      "The attention mask and the pad token id were not set. As a consequence, you may observe unexpected behavior. Please pass your input's `attention_mask` to obtain reliable results.\n",
      "Setting `pad_token_id` to `eos_token_id`:128001 for open-end generation.\n"
     ]
    },
    {
     "name": "stdout",
     "output_type": "stream",
     "text": [
      "Predicted:  surprise\n",
      "Baseline:  surprise\n",
      "Correct\n",
      "------------------------------------\n",
      "Iter 79\n",
      "------------------------------------\n"
     ]
    },
    {
     "name": "stderr",
     "output_type": "stream",
     "text": [
      "The attention mask and the pad token id were not set. As a consequence, you may observe unexpected behavior. Please pass your input's `attention_mask` to obtain reliable results.\n",
      "Setting `pad_token_id` to `eos_token_id`:128001 for open-end generation.\n"
     ]
    },
    {
     "name": "stdout",
     "output_type": "stream",
     "text": [
      "Predicted:  anger\n",
      "Baseline:  neutral\n",
      "Incorrect\n",
      "------------------------------------\n",
      "Iter 80\n",
      "------------------------------------\n"
     ]
    },
    {
     "name": "stderr",
     "output_type": "stream",
     "text": [
      "The attention mask and the pad token id were not set. As a consequence, you may observe unexpected behavior. Please pass your input's `attention_mask` to obtain reliable results.\n",
      "Setting `pad_token_id` to `eos_token_id`:128001 for open-end generation.\n"
     ]
    },
    {
     "name": "stdout",
     "output_type": "stream",
     "text": [
      "Predicted:  anger\n",
      "Baseline:  anger\n",
      "Correct\n",
      "------------------------------------\n",
      "Iter 81\n",
      "------------------------------------\n"
     ]
    },
    {
     "name": "stderr",
     "output_type": "stream",
     "text": [
      "The attention mask and the pad token id were not set. As a consequence, you may observe unexpected behavior. Please pass your input's `attention_mask` to obtain reliable results.\n",
      "Setting `pad_token_id` to `eos_token_id`:128001 for open-end generation.\n"
     ]
    },
    {
     "name": "stdout",
     "output_type": "stream",
     "text": [
      "Predicted:  joy\n",
      "Baseline:  joy\n",
      "Correct\n",
      "------------------------------------\n",
      "Iter 82\n",
      "------------------------------------\n"
     ]
    },
    {
     "name": "stderr",
     "output_type": "stream",
     "text": [
      "The attention mask and the pad token id were not set. As a consequence, you may observe unexpected behavior. Please pass your input's `attention_mask` to obtain reliable results.\n",
      "Setting `pad_token_id` to `eos_token_id`:128001 for open-end generation.\n"
     ]
    },
    {
     "name": "stdout",
     "output_type": "stream",
     "text": [
      "Predicted:  surprise\n",
      "Baseline:  surprise\n",
      "Correct\n",
      "------------------------------------\n",
      "Iter 83\n",
      "------------------------------------\n"
     ]
    },
    {
     "name": "stderr",
     "output_type": "stream",
     "text": [
      "The attention mask and the pad token id were not set. As a consequence, you may observe unexpected behavior. Please pass your input's `attention_mask` to obtain reliable results.\n",
      "Setting `pad_token_id` to `eos_token_id`:128001 for open-end generation.\n"
     ]
    },
    {
     "name": "stdout",
     "output_type": "stream",
     "text": [
      "Predicted:  joy\n",
      "Baseline:  joy\n",
      "Correct\n",
      "------------------------------------\n",
      "Iter 84\n",
      "------------------------------------\n"
     ]
    },
    {
     "name": "stderr",
     "output_type": "stream",
     "text": [
      "The attention mask and the pad token id were not set. As a consequence, you may observe unexpected behavior. Please pass your input's `attention_mask` to obtain reliable results.\n",
      "Setting `pad_token_id` to `eos_token_id`:128001 for open-end generation.\n"
     ]
    },
    {
     "name": "stdout",
     "output_type": "stream",
     "text": [
      "Predicted:  neutral\n",
      "Baseline:  neutral\n",
      "Correct\n",
      "------------------------------------\n",
      "Iter 85\n",
      "------------------------------------\n"
     ]
    },
    {
     "name": "stderr",
     "output_type": "stream",
     "text": [
      "The attention mask and the pad token id were not set. As a consequence, you may observe unexpected behavior. Please pass your input's `attention_mask` to obtain reliable results.\n",
      "Setting `pad_token_id` to `eos_token_id`:128001 for open-end generation.\n"
     ]
    },
    {
     "name": "stdout",
     "output_type": "stream",
     "text": [
      "Predicted:  neutral\n",
      "Baseline:  neutral\n",
      "Correct\n",
      "------------------------------------\n",
      "Iter 86\n",
      "------------------------------------\n"
     ]
    },
    {
     "name": "stderr",
     "output_type": "stream",
     "text": [
      "The attention mask and the pad token id were not set. As a consequence, you may observe unexpected behavior. Please pass your input's `attention_mask` to obtain reliable results.\n",
      "Setting `pad_token_id` to `eos_token_id`:128001 for open-end generation.\n"
     ]
    },
    {
     "name": "stdout",
     "output_type": "stream",
     "text": [
      "Predicted:  neutral\n",
      "Baseline:  neutral\n",
      "Correct\n",
      "------------------------------------\n",
      "Iter 87\n",
      "------------------------------------\n"
     ]
    },
    {
     "name": "stderr",
     "output_type": "stream",
     "text": [
      "The attention mask and the pad token id were not set. As a consequence, you may observe unexpected behavior. Please pass your input's `attention_mask` to obtain reliable results.\n",
      "Setting `pad_token_id` to `eos_token_id`:128001 for open-end generation.\n"
     ]
    },
    {
     "name": "stdout",
     "output_type": "stream",
     "text": [
      "Predicted:  surprise\n",
      "Baseline:  surprise\n",
      "Correct\n",
      "------------------------------------\n",
      "Iter 88\n",
      "------------------------------------\n"
     ]
    },
    {
     "name": "stderr",
     "output_type": "stream",
     "text": [
      "The attention mask and the pad token id were not set. As a consequence, you may observe unexpected behavior. Please pass your input's `attention_mask` to obtain reliable results.\n",
      "Setting `pad_token_id` to `eos_token_id`:128001 for open-end generation.\n"
     ]
    },
    {
     "name": "stdout",
     "output_type": "stream",
     "text": [
      "Predicted:  neutral\n",
      "Baseline:  neutral\n",
      "Correct\n",
      "------------------------------------\n",
      "Iter 89\n",
      "------------------------------------\n"
     ]
    },
    {
     "name": "stderr",
     "output_type": "stream",
     "text": [
      "The attention mask and the pad token id were not set. As a consequence, you may observe unexpected behavior. Please pass your input's `attention_mask` to obtain reliable results.\n",
      "Setting `pad_token_id` to `eos_token_id`:128001 for open-end generation.\n"
     ]
    },
    {
     "name": "stdout",
     "output_type": "stream",
     "text": [
      "Predicted:  joy\n",
      "Baseline:  surprise\n",
      "Incorrect\n",
      "------------------------------------\n",
      "Iter 90\n",
      "------------------------------------\n"
     ]
    },
    {
     "name": "stderr",
     "output_type": "stream",
     "text": [
      "The attention mask and the pad token id were not set. As a consequence, you may observe unexpected behavior. Please pass your input's `attention_mask` to obtain reliable results.\n",
      "Setting `pad_token_id` to `eos_token_id`:128001 for open-end generation.\n"
     ]
    },
    {
     "name": "stdout",
     "output_type": "stream",
     "text": [
      "Predicted:  surprise\n",
      "Baseline:  surprise\n",
      "Correct\n",
      "------------------------------------\n",
      "Iter 91\n",
      "------------------------------------\n"
     ]
    },
    {
     "name": "stderr",
     "output_type": "stream",
     "text": [
      "The attention mask and the pad token id were not set. As a consequence, you may observe unexpected behavior. Please pass your input's `attention_mask` to obtain reliable results.\n",
      "Setting `pad_token_id` to `eos_token_id`:128001 for open-end generation.\n"
     ]
    },
    {
     "name": "stdout",
     "output_type": "stream",
     "text": [
      "Predicted:  surprise\n",
      "Baseline:  fear\n",
      "Incorrect\n",
      "------------------------------------\n",
      "Iter 92\n",
      "------------------------------------\n"
     ]
    },
    {
     "name": "stderr",
     "output_type": "stream",
     "text": [
      "The attention mask and the pad token id were not set. As a consequence, you may observe unexpected behavior. Please pass your input's `attention_mask` to obtain reliable results.\n",
      "Setting `pad_token_id` to `eos_token_id`:128001 for open-end generation.\n"
     ]
    },
    {
     "name": "stdout",
     "output_type": "stream",
     "text": [
      "Predicted:  joy\n",
      "Baseline:  joy\n",
      "Correct\n",
      "------------------------------------\n",
      "Iter 93\n",
      "------------------------------------\n"
     ]
    },
    {
     "name": "stderr",
     "output_type": "stream",
     "text": [
      "The attention mask and the pad token id were not set. As a consequence, you may observe unexpected behavior. Please pass your input's `attention_mask` to obtain reliable results.\n",
      "Setting `pad_token_id` to `eos_token_id`:128001 for open-end generation.\n"
     ]
    },
    {
     "name": "stdout",
     "output_type": "stream",
     "text": [
      "Predicted:  neutral\n",
      "Baseline:  neutral\n",
      "Correct\n",
      "------------------------------------\n",
      "Iter 94\n",
      "------------------------------------\n"
     ]
    },
    {
     "name": "stderr",
     "output_type": "stream",
     "text": [
      "The attention mask and the pad token id were not set. As a consequence, you may observe unexpected behavior. Please pass your input's `attention_mask` to obtain reliable results.\n",
      "Setting `pad_token_id` to `eos_token_id`:128001 for open-end generation.\n"
     ]
    },
    {
     "name": "stdout",
     "output_type": "stream",
     "text": [
      "Predicted:  neutral\n",
      "Baseline:  joy\n",
      "Incorrect\n",
      "------------------------------------\n",
      "Iter 95\n",
      "------------------------------------\n"
     ]
    },
    {
     "name": "stderr",
     "output_type": "stream",
     "text": [
      "The attention mask and the pad token id were not set. As a consequence, you may observe unexpected behavior. Please pass your input's `attention_mask` to obtain reliable results.\n",
      "Setting `pad_token_id` to `eos_token_id`:128001 for open-end generation.\n"
     ]
    },
    {
     "name": "stdout",
     "output_type": "stream",
     "text": [
      "Predicted:  surprise\n",
      "Baseline:  surprise\n",
      "Correct\n",
      "------------------------------------\n",
      "Iter 96\n",
      "------------------------------------\n"
     ]
    },
    {
     "name": "stderr",
     "output_type": "stream",
     "text": [
      "The attention mask and the pad token id were not set. As a consequence, you may observe unexpected behavior. Please pass your input's `attention_mask` to obtain reliable results.\n",
      "Setting `pad_token_id` to `eos_token_id`:128001 for open-end generation.\n"
     ]
    },
    {
     "name": "stdout",
     "output_type": "stream",
     "text": [
      "Predicted:  joy\n",
      "Baseline:  joy\n",
      "Correct\n",
      "------------------------------------\n",
      "Iter 97\n",
      "------------------------------------\n"
     ]
    },
    {
     "name": "stderr",
     "output_type": "stream",
     "text": [
      "The attention mask and the pad token id were not set. As a consequence, you may observe unexpected behavior. Please pass your input's `attention_mask` to obtain reliable results.\n",
      "Setting `pad_token_id` to `eos_token_id`:128001 for open-end generation.\n"
     ]
    },
    {
     "name": "stdout",
     "output_type": "stream",
     "text": [
      "Predicted:  surprise\n",
      "Baseline:  surprise\n",
      "Correct\n",
      "------------------------------------\n",
      "Iter 98\n",
      "------------------------------------\n"
     ]
    },
    {
     "name": "stderr",
     "output_type": "stream",
     "text": [
      "The attention mask and the pad token id were not set. As a consequence, you may observe unexpected behavior. Please pass your input's `attention_mask` to obtain reliable results.\n",
      "Setting `pad_token_id` to `eos_token_id`:128001 for open-end generation.\n"
     ]
    },
    {
     "name": "stdout",
     "output_type": "stream",
     "text": [
      "Predicted:  surprise\n",
      "Baseline:  surprise\n",
      "Correct\n",
      "------------------------------------\n",
      "Iter 99\n",
      "------------------------------------\n"
     ]
    },
    {
     "name": "stderr",
     "output_type": "stream",
     "text": [
      "The attention mask and the pad token id were not set. As a consequence, you may observe unexpected behavior. Please pass your input's `attention_mask` to obtain reliable results.\n",
      "Setting `pad_token_id` to `eos_token_id`:128001 for open-end generation.\n"
     ]
    },
    {
     "name": "stdout",
     "output_type": "stream",
     "text": [
      "Predicted:  joy\n",
      "Baseline:  joy\n",
      "Correct\n",
      "------------------------------------\n",
      "Iter 100\n",
      "------------------------------------\n"
     ]
    },
    {
     "name": "stderr",
     "output_type": "stream",
     "text": [
      "The attention mask and the pad token id were not set. As a consequence, you may observe unexpected behavior. Please pass your input's `attention_mask` to obtain reliable results.\n",
      "Setting `pad_token_id` to `eos_token_id`:128001 for open-end generation.\n"
     ]
    },
    {
     "name": "stdout",
     "output_type": "stream",
     "text": [
      "Predicted:  joy\n",
      "Baseline:  neutral\n",
      "Incorrect\n",
      "------------------------------------\n",
      "Iter 101\n",
      "------------------------------------\n"
     ]
    },
    {
     "name": "stderr",
     "output_type": "stream",
     "text": [
      "The attention mask and the pad token id were not set. As a consequence, you may observe unexpected behavior. Please pass your input's `attention_mask` to obtain reliable results.\n",
      "Setting `pad_token_id` to `eos_token_id`:128001 for open-end generation.\n"
     ]
    },
    {
     "name": "stdout",
     "output_type": "stream",
     "text": [
      "Predicted:  joy\n",
      "Baseline:  joy\n",
      "Correct\n",
      "------------------------------------\n",
      "Iter 102\n",
      "------------------------------------\n"
     ]
    },
    {
     "name": "stderr",
     "output_type": "stream",
     "text": [
      "The attention mask and the pad token id were not set. As a consequence, you may observe unexpected behavior. Please pass your input's `attention_mask` to obtain reliable results.\n",
      "Setting `pad_token_id` to `eos_token_id`:128001 for open-end generation.\n"
     ]
    },
    {
     "name": "stdout",
     "output_type": "stream",
     "text": [
      "Predicted:  surprise\n",
      "Baseline:  surprise\n",
      "Correct\n",
      "------------------------------------\n",
      "Iter 103\n",
      "------------------------------------\n"
     ]
    },
    {
     "name": "stderr",
     "output_type": "stream",
     "text": [
      "The attention mask and the pad token id were not set. As a consequence, you may observe unexpected behavior. Please pass your input's `attention_mask` to obtain reliable results.\n",
      "Setting `pad_token_id` to `eos_token_id`:128001 for open-end generation.\n"
     ]
    },
    {
     "name": "stdout",
     "output_type": "stream",
     "text": [
      "Predicted:  neutral\n",
      "Baseline:  neutral\n",
      "Correct\n",
      "------------------------------------\n",
      "Iter 104\n",
      "------------------------------------\n"
     ]
    },
    {
     "name": "stderr",
     "output_type": "stream",
     "text": [
      "The attention mask and the pad token id were not set. As a consequence, you may observe unexpected behavior. Please pass your input's `attention_mask` to obtain reliable results.\n",
      "Setting `pad_token_id` to `eos_token_id`:128001 for open-end generation.\n"
     ]
    },
    {
     "name": "stdout",
     "output_type": "stream",
     "text": [
      "Predicted:  neutral\n",
      "Baseline:  sadness\n",
      "Incorrect\n",
      "------------------------------------\n",
      "Iter 105\n",
      "------------------------------------\n"
     ]
    },
    {
     "name": "stderr",
     "output_type": "stream",
     "text": [
      "The attention mask and the pad token id were not set. As a consequence, you may observe unexpected behavior. Please pass your input's `attention_mask` to obtain reliable results.\n",
      "Setting `pad_token_id` to `eos_token_id`:128001 for open-end generation.\n"
     ]
    },
    {
     "name": "stdout",
     "output_type": "stream",
     "text": [
      "Predicted:  neutral\n",
      "Baseline:  neutral\n",
      "Correct\n",
      "------------------------------------\n",
      "Iter 106\n",
      "------------------------------------\n"
     ]
    },
    {
     "name": "stderr",
     "output_type": "stream",
     "text": [
      "The attention mask and the pad token id were not set. As a consequence, you may observe unexpected behavior. Please pass your input's `attention_mask` to obtain reliable results.\n",
      "Setting `pad_token_id` to `eos_token_id`:128001 for open-end generation.\n"
     ]
    },
    {
     "name": "stdout",
     "output_type": "stream",
     "text": [
      "Predicted:  neutral\n",
      "Baseline:  neutral\n",
      "Correct\n",
      "------------------------------------\n",
      "Iter 107\n",
      "------------------------------------\n"
     ]
    },
    {
     "name": "stderr",
     "output_type": "stream",
     "text": [
      "The attention mask and the pad token id were not set. As a consequence, you may observe unexpected behavior. Please pass your input's `attention_mask` to obtain reliable results.\n",
      "Setting `pad_token_id` to `eos_token_id`:128001 for open-end generation.\n"
     ]
    },
    {
     "name": "stdout",
     "output_type": "stream",
     "text": [
      "Predicted:  neutral\n",
      "Baseline:  neutral\n",
      "Correct\n",
      "------------------------------------\n",
      "Iter 108\n",
      "------------------------------------\n"
     ]
    },
    {
     "name": "stderr",
     "output_type": "stream",
     "text": [
      "The attention mask and the pad token id were not set. As a consequence, you may observe unexpected behavior. Please pass your input's `attention_mask` to obtain reliable results.\n",
      "Setting `pad_token_id` to `eos_token_id`:128001 for open-end generation.\n"
     ]
    },
    {
     "name": "stdout",
     "output_type": "stream",
     "text": [
      "Predicted:  neutral\n",
      "Baseline:  neutral\n",
      "Correct\n",
      "------------------------------------\n",
      "Iter 109\n",
      "------------------------------------\n"
     ]
    },
    {
     "name": "stderr",
     "output_type": "stream",
     "text": [
      "The attention mask and the pad token id were not set. As a consequence, you may observe unexpected behavior. Please pass your input's `attention_mask` to obtain reliable results.\n",
      "Setting `pad_token_id` to `eos_token_id`:128001 for open-end generation.\n"
     ]
    },
    {
     "name": "stdout",
     "output_type": "stream",
     "text": [
      "Predicted:  neutral\n",
      "Baseline:  neutral\n",
      "Correct\n",
      "------------------------------------\n",
      "Iter 110\n",
      "------------------------------------\n"
     ]
    },
    {
     "name": "stderr",
     "output_type": "stream",
     "text": [
      "The attention mask and the pad token id were not set. As a consequence, you may observe unexpected behavior. Please pass your input's `attention_mask` to obtain reliable results.\n",
      "Setting `pad_token_id` to `eos_token_id`:128001 for open-end generation.\n"
     ]
    },
    {
     "name": "stdout",
     "output_type": "stream",
     "text": [
      "Predicted:  neutral\n",
      "Baseline:  surprise\n",
      "Incorrect\n",
      "------------------------------------\n",
      "Iter 111\n",
      "------------------------------------\n"
     ]
    },
    {
     "name": "stderr",
     "output_type": "stream",
     "text": [
      "The attention mask and the pad token id were not set. As a consequence, you may observe unexpected behavior. Please pass your input's `attention_mask` to obtain reliable results.\n",
      "Setting `pad_token_id` to `eos_token_id`:128001 for open-end generation.\n"
     ]
    },
    {
     "name": "stdout",
     "output_type": "stream",
     "text": [
      "Predicted:  joy\n",
      "Baseline:  neutral\n",
      "Incorrect\n",
      "------------------------------------\n",
      "Iter 112\n",
      "------------------------------------\n"
     ]
    },
    {
     "name": "stderr",
     "output_type": "stream",
     "text": [
      "The attention mask and the pad token id were not set. As a consequence, you may observe unexpected behavior. Please pass your input's `attention_mask` to obtain reliable results.\n",
      "Setting `pad_token_id` to `eos_token_id`:128001 for open-end generation.\n"
     ]
    },
    {
     "name": "stdout",
     "output_type": "stream",
     "text": [
      "Predicted:  joy\n",
      "Baseline:  joy\n",
      "Correct\n",
      "------------------------------------\n",
      "Iter 113\n",
      "------------------------------------\n"
     ]
    },
    {
     "name": "stderr",
     "output_type": "stream",
     "text": [
      "The attention mask and the pad token id were not set. As a consequence, you may observe unexpected behavior. Please pass your input's `attention_mask` to obtain reliable results.\n",
      "Setting `pad_token_id` to `eos_token_id`:128001 for open-end generation.\n"
     ]
    },
    {
     "name": "stdout",
     "output_type": "stream",
     "text": [
      "Predicted:  joy\n",
      "Baseline:  neutral\n",
      "Incorrect\n",
      "------------------------------------\n",
      "Iter 114\n",
      "------------------------------------\n"
     ]
    },
    {
     "name": "stderr",
     "output_type": "stream",
     "text": [
      "The attention mask and the pad token id were not set. As a consequence, you may observe unexpected behavior. Please pass your input's `attention_mask` to obtain reliable results.\n",
      "Setting `pad_token_id` to `eos_token_id`:128001 for open-end generation.\n"
     ]
    },
    {
     "name": "stdout",
     "output_type": "stream",
     "text": [
      "Predicted:  neutral\n",
      "Baseline:  neutral\n",
      "Correct\n",
      "------------------------------------\n",
      "Iter 115\n",
      "------------------------------------\n"
     ]
    },
    {
     "name": "stderr",
     "output_type": "stream",
     "text": [
      "The attention mask and the pad token id were not set. As a consequence, you may observe unexpected behavior. Please pass your input's `attention_mask` to obtain reliable results.\n",
      "Setting `pad_token_id` to `eos_token_id`:128001 for open-end generation.\n"
     ]
    },
    {
     "name": "stdout",
     "output_type": "stream",
     "text": [
      "Predicted:  neutral\n",
      "Baseline:  neutral\n",
      "Correct\n",
      "------------------------------------\n",
      "Iter 116\n",
      "------------------------------------\n"
     ]
    },
    {
     "name": "stderr",
     "output_type": "stream",
     "text": [
      "The attention mask and the pad token id were not set. As a consequence, you may observe unexpected behavior. Please pass your input's `attention_mask` to obtain reliable results.\n",
      "Setting `pad_token_id` to `eos_token_id`:128001 for open-end generation.\n"
     ]
    },
    {
     "name": "stdout",
     "output_type": "stream",
     "text": [
      "Predicted:  neutral\n",
      "Baseline:  neutral\n",
      "Correct\n",
      "------------------------------------\n",
      "Iter 117\n",
      "------------------------------------\n"
     ]
    },
    {
     "name": "stderr",
     "output_type": "stream",
     "text": [
      "The attention mask and the pad token id were not set. As a consequence, you may observe unexpected behavior. Please pass your input's `attention_mask` to obtain reliable results.\n",
      "Setting `pad_token_id` to `eos_token_id`:128001 for open-end generation.\n"
     ]
    },
    {
     "name": "stdout",
     "output_type": "stream",
     "text": [
      "Predicted:  surprise\n",
      "Baseline:  joy\n",
      "Incorrect\n",
      "------------------------------------\n",
      "Iter 118\n",
      "------------------------------------\n"
     ]
    },
    {
     "name": "stderr",
     "output_type": "stream",
     "text": [
      "The attention mask and the pad token id were not set. As a consequence, you may observe unexpected behavior. Please pass your input's `attention_mask` to obtain reliable results.\n",
      "Setting `pad_token_id` to `eos_token_id`:128001 for open-end generation.\n"
     ]
    },
    {
     "name": "stdout",
     "output_type": "stream",
     "text": [
      "Predicted:  joy\n",
      "Baseline:  joy\n",
      "Correct\n",
      "------------------------------------\n",
      "Iter 119\n",
      "------------------------------------\n"
     ]
    },
    {
     "name": "stderr",
     "output_type": "stream",
     "text": [
      "The attention mask and the pad token id were not set. As a consequence, you may observe unexpected behavior. Please pass your input's `attention_mask` to obtain reliable results.\n",
      "Setting `pad_token_id` to `eos_token_id`:128001 for open-end generation.\n"
     ]
    },
    {
     "name": "stdout",
     "output_type": "stream",
     "text": [
      "Predicted:  joy\n",
      "Baseline:  joy\n",
      "Correct\n",
      "------------------------------------\n",
      "Iter 120\n",
      "------------------------------------\n"
     ]
    },
    {
     "name": "stderr",
     "output_type": "stream",
     "text": [
      "The attention mask and the pad token id were not set. As a consequence, you may observe unexpected behavior. Please pass your input's `attention_mask` to obtain reliable results.\n",
      "Setting `pad_token_id` to `eos_token_id`:128001 for open-end generation.\n"
     ]
    },
    {
     "name": "stdout",
     "output_type": "stream",
     "text": [
      "Predicted:  neutral\n",
      "Baseline:  neutral\n",
      "Correct\n",
      "------------------------------------\n",
      "Iter 121\n",
      "------------------------------------\n"
     ]
    },
    {
     "name": "stderr",
     "output_type": "stream",
     "text": [
      "The attention mask and the pad token id were not set. As a consequence, you may observe unexpected behavior. Please pass your input's `attention_mask` to obtain reliable results.\n",
      "Setting `pad_token_id` to `eos_token_id`:128001 for open-end generation.\n"
     ]
    },
    {
     "name": "stdout",
     "output_type": "stream",
     "text": [
      "Predicted:  neutral\n",
      "Baseline:  neutral\n",
      "Correct\n",
      "------------------------------------\n",
      "Iter 122\n",
      "------------------------------------\n"
     ]
    },
    {
     "name": "stderr",
     "output_type": "stream",
     "text": [
      "The attention mask and the pad token id were not set. As a consequence, you may observe unexpected behavior. Please pass your input's `attention_mask` to obtain reliable results.\n",
      "Setting `pad_token_id` to `eos_token_id`:128001 for open-end generation.\n"
     ]
    },
    {
     "name": "stdout",
     "output_type": "stream",
     "text": [
      "Predicted:  neutral\n",
      "Baseline:  neutral\n",
      "Correct\n",
      "------------------------------------\n",
      "Iter 123\n",
      "------------------------------------\n"
     ]
    },
    {
     "name": "stderr",
     "output_type": "stream",
     "text": [
      "The attention mask and the pad token id were not set. As a consequence, you may observe unexpected behavior. Please pass your input's `attention_mask` to obtain reliable results.\n",
      "Setting `pad_token_id` to `eos_token_id`:128001 for open-end generation.\n"
     ]
    },
    {
     "name": "stdout",
     "output_type": "stream",
     "text": [
      "Predicted:  neutral\n",
      "Baseline:  neutral\n",
      "Correct\n",
      "------------------------------------\n",
      "Iter 124\n",
      "------------------------------------\n"
     ]
    },
    {
     "name": "stderr",
     "output_type": "stream",
     "text": [
      "The attention mask and the pad token id were not set. As a consequence, you may observe unexpected behavior. Please pass your input's `attention_mask` to obtain reliable results.\n",
      "Setting `pad_token_id` to `eos_token_id`:128001 for open-end generation.\n"
     ]
    },
    {
     "name": "stdout",
     "output_type": "stream",
     "text": [
      "Predicted:  neutral\n",
      "Baseline:  neutral\n",
      "Correct\n",
      "------------------------------------\n",
      "Iter 125\n",
      "------------------------------------\n"
     ]
    },
    {
     "name": "stderr",
     "output_type": "stream",
     "text": [
      "The attention mask and the pad token id were not set. As a consequence, you may observe unexpected behavior. Please pass your input's `attention_mask` to obtain reliable results.\n",
      "Setting `pad_token_id` to `eos_token_id`:128001 for open-end generation.\n"
     ]
    },
    {
     "name": "stdout",
     "output_type": "stream",
     "text": [
      "Predicted:  joy\n",
      "Baseline:  surprise\n",
      "Incorrect\n",
      "------------------------------------\n",
      "Iter 126\n",
      "------------------------------------\n"
     ]
    },
    {
     "name": "stderr",
     "output_type": "stream",
     "text": [
      "The attention mask and the pad token id were not set. As a consequence, you may observe unexpected behavior. Please pass your input's `attention_mask` to obtain reliable results.\n",
      "Setting `pad_token_id` to `eos_token_id`:128001 for open-end generation.\n"
     ]
    },
    {
     "name": "stdout",
     "output_type": "stream",
     "text": [
      "Predicted:  neutral\n",
      "Baseline:  neutral\n",
      "Correct\n",
      "------------------------------------\n",
      "Iter 127\n",
      "------------------------------------\n"
     ]
    },
    {
     "name": "stderr",
     "output_type": "stream",
     "text": [
      "The attention mask and the pad token id were not set. As a consequence, you may observe unexpected behavior. Please pass your input's `attention_mask` to obtain reliable results.\n",
      "Setting `pad_token_id` to `eos_token_id`:128001 for open-end generation.\n"
     ]
    },
    {
     "name": "stdout",
     "output_type": "stream",
     "text": [
      "Predicted:  neutral\n",
      "Baseline:  neutral\n",
      "Correct\n",
      "------------------------------------\n",
      "Iter 128\n",
      "------------------------------------\n"
     ]
    },
    {
     "name": "stderr",
     "output_type": "stream",
     "text": [
      "The attention mask and the pad token id were not set. As a consequence, you may observe unexpected behavior. Please pass your input's `attention_mask` to obtain reliable results.\n",
      "Setting `pad_token_id` to `eos_token_id`:128001 for open-end generation.\n"
     ]
    },
    {
     "name": "stdout",
     "output_type": "stream",
     "text": [
      "Predicted:  neutral\n",
      "Baseline:  neutral\n",
      "Correct\n",
      "------------------------------------\n",
      "Iter 129\n",
      "------------------------------------\n"
     ]
    },
    {
     "name": "stderr",
     "output_type": "stream",
     "text": [
      "The attention mask and the pad token id were not set. As a consequence, you may observe unexpected behavior. Please pass your input's `attention_mask` to obtain reliable results.\n",
      "Setting `pad_token_id` to `eos_token_id`:128001 for open-end generation.\n"
     ]
    },
    {
     "name": "stdout",
     "output_type": "stream",
     "text": [
      "Predicted:  neutral\n",
      "Baseline:  neutral\n",
      "Correct\n",
      "------------------------------------\n",
      "Iter 130\n",
      "------------------------------------\n"
     ]
    },
    {
     "name": "stderr",
     "output_type": "stream",
     "text": [
      "The attention mask and the pad token id were not set. As a consequence, you may observe unexpected behavior. Please pass your input's `attention_mask` to obtain reliable results.\n",
      "Setting `pad_token_id` to `eos_token_id`:128001 for open-end generation.\n"
     ]
    },
    {
     "name": "stdout",
     "output_type": "stream",
     "text": [
      "Predicted:  neutral\n",
      "Baseline:  neutral\n",
      "Correct\n",
      "------------------------------------\n",
      "Iter 131\n",
      "------------------------------------\n"
     ]
    },
    {
     "name": "stderr",
     "output_type": "stream",
     "text": [
      "The attention mask and the pad token id were not set. As a consequence, you may observe unexpected behavior. Please pass your input's `attention_mask` to obtain reliable results.\n",
      "Setting `pad_token_id` to `eos_token_id`:128001 for open-end generation.\n"
     ]
    },
    {
     "name": "stdout",
     "output_type": "stream",
     "text": [
      "Predicted:  neutral\n",
      "Baseline:  joy\n",
      "Incorrect\n",
      "------------------------------------\n",
      "Iter 132\n",
      "------------------------------------\n"
     ]
    },
    {
     "name": "stderr",
     "output_type": "stream",
     "text": [
      "The attention mask and the pad token id were not set. As a consequence, you may observe unexpected behavior. Please pass your input's `attention_mask` to obtain reliable results.\n",
      "Setting `pad_token_id` to `eos_token_id`:128001 for open-end generation.\n"
     ]
    },
    {
     "name": "stdout",
     "output_type": "stream",
     "text": [
      "Predicted:  neutral\n",
      "Baseline:  neutral\n",
      "Correct\n",
      "------------------------------------\n",
      "Iter 133\n",
      "------------------------------------\n"
     ]
    },
    {
     "name": "stderr",
     "output_type": "stream",
     "text": [
      "The attention mask and the pad token id were not set. As a consequence, you may observe unexpected behavior. Please pass your input's `attention_mask` to obtain reliable results.\n",
      "Setting `pad_token_id` to `eos_token_id`:128001 for open-end generation.\n"
     ]
    },
    {
     "name": "stdout",
     "output_type": "stream",
     "text": [
      "Predicted:  anger\n",
      "Baseline:  anger\n",
      "Correct\n",
      "------------------------------------\n",
      "Iter 134\n",
      "------------------------------------\n"
     ]
    },
    {
     "name": "stderr",
     "output_type": "stream",
     "text": [
      "The attention mask and the pad token id were not set. As a consequence, you may observe unexpected behavior. Please pass your input's `attention_mask` to obtain reliable results.\n",
      "Setting `pad_token_id` to `eos_token_id`:128001 for open-end generation.\n"
     ]
    },
    {
     "name": "stdout",
     "output_type": "stream",
     "text": [
      "Predicted:  sadness\n",
      "Baseline:  sadness\n",
      "Correct\n",
      "------------------------------------\n",
      "Iter 135\n",
      "------------------------------------\n"
     ]
    },
    {
     "name": "stderr",
     "output_type": "stream",
     "text": [
      "The attention mask and the pad token id were not set. As a consequence, you may observe unexpected behavior. Please pass your input's `attention_mask` to obtain reliable results.\n",
      "Setting `pad_token_id` to `eos_token_id`:128001 for open-end generation.\n"
     ]
    },
    {
     "name": "stdout",
     "output_type": "stream",
     "text": [
      "Predicted:  surprise\n",
      "Baseline:  surprise\n",
      "Correct\n",
      "------------------------------------\n",
      "Iter 136\n",
      "------------------------------------\n"
     ]
    },
    {
     "name": "stderr",
     "output_type": "stream",
     "text": [
      "The attention mask and the pad token id were not set. As a consequence, you may observe unexpected behavior. Please pass your input's `attention_mask` to obtain reliable results.\n",
      "Setting `pad_token_id` to `eos_token_id`:128001 for open-end generation.\n"
     ]
    },
    {
     "name": "stdout",
     "output_type": "stream",
     "text": [
      "Predicted:  neutral\n",
      "Baseline:  neutral\n",
      "Correct\n",
      "------------------------------------\n",
      "Iter 137\n",
      "------------------------------------\n"
     ]
    },
    {
     "name": "stderr",
     "output_type": "stream",
     "text": [
      "The attention mask and the pad token id were not set. As a consequence, you may observe unexpected behavior. Please pass your input's `attention_mask` to obtain reliable results.\n",
      "Setting `pad_token_id` to `eos_token_id`:128001 for open-end generation.\n"
     ]
    },
    {
     "name": "stdout",
     "output_type": "stream",
     "text": [
      "Predicted:  surprise\n",
      "Baseline:  surprise\n",
      "Correct\n",
      "------------------------------------\n",
      "Iter 138\n",
      "------------------------------------\n"
     ]
    },
    {
     "name": "stderr",
     "output_type": "stream",
     "text": [
      "The attention mask and the pad token id were not set. As a consequence, you may observe unexpected behavior. Please pass your input's `attention_mask` to obtain reliable results.\n",
      "Setting `pad_token_id` to `eos_token_id`:128001 for open-end generation.\n"
     ]
    },
    {
     "name": "stdout",
     "output_type": "stream",
     "text": [
      "Predicted:  neutral\n",
      "Baseline:  neutral\n",
      "Correct\n",
      "------------------------------------\n",
      "Iter 139\n",
      "------------------------------------\n"
     ]
    },
    {
     "name": "stderr",
     "output_type": "stream",
     "text": [
      "The attention mask and the pad token id were not set. As a consequence, you may observe unexpected behavior. Please pass your input's `attention_mask` to obtain reliable results.\n",
      "Setting `pad_token_id` to `eos_token_id`:128001 for open-end generation.\n"
     ]
    },
    {
     "name": "stdout",
     "output_type": "stream",
     "text": [
      "Predicted:  neutral\n",
      "Baseline:  anger\n",
      "Incorrect\n",
      "------------------------------------\n",
      "Iter 140\n",
      "------------------------------------\n"
     ]
    },
    {
     "name": "stderr",
     "output_type": "stream",
     "text": [
      "The attention mask and the pad token id were not set. As a consequence, you may observe unexpected behavior. Please pass your input's `attention_mask` to obtain reliable results.\n",
      "Setting `pad_token_id` to `eos_token_id`:128001 for open-end generation.\n"
     ]
    },
    {
     "name": "stdout",
     "output_type": "stream",
     "text": [
      "Predicted:  neutral\n",
      "Baseline:  anger\n",
      "Incorrect\n",
      "------------------------------------\n",
      "Iter 141\n",
      "------------------------------------\n"
     ]
    },
    {
     "name": "stderr",
     "output_type": "stream",
     "text": [
      "The attention mask and the pad token id were not set. As a consequence, you may observe unexpected behavior. Please pass your input's `attention_mask` to obtain reliable results.\n",
      "Setting `pad_token_id` to `eos_token_id`:128001 for open-end generation.\n"
     ]
    },
    {
     "name": "stdout",
     "output_type": "stream",
     "text": [
      "Predicted:  neutral\n",
      "Baseline:  anger\n",
      "Incorrect\n",
      "------------------------------------\n",
      "Iter 142\n",
      "------------------------------------\n"
     ]
    },
    {
     "name": "stderr",
     "output_type": "stream",
     "text": [
      "The attention mask and the pad token id were not set. As a consequence, you may observe unexpected behavior. Please pass your input's `attention_mask` to obtain reliable results.\n",
      "Setting `pad_token_id` to `eos_token_id`:128001 for open-end generation.\n"
     ]
    },
    {
     "name": "stdout",
     "output_type": "stream",
     "text": [
      "Predicted:  anger\n",
      "Baseline:  anger\n",
      "Correct\n",
      "------------------------------------\n",
      "Iter 143\n",
      "------------------------------------\n"
     ]
    },
    {
     "name": "stderr",
     "output_type": "stream",
     "text": [
      "The attention mask and the pad token id were not set. As a consequence, you may observe unexpected behavior. Please pass your input's `attention_mask` to obtain reliable results.\n",
      "Setting `pad_token_id` to `eos_token_id`:128001 for open-end generation.\n"
     ]
    },
    {
     "name": "stdout",
     "output_type": "stream",
     "text": [
      "Predicted:  anger\n",
      "Baseline:  anger\n",
      "Correct\n",
      "------------------------------------\n",
      "Iter 144\n",
      "------------------------------------\n"
     ]
    },
    {
     "name": "stderr",
     "output_type": "stream",
     "text": [
      "The attention mask and the pad token id were not set. As a consequence, you may observe unexpected behavior. Please pass your input's `attention_mask` to obtain reliable results.\n",
      "Setting `pad_token_id` to `eos_token_id`:128001 for open-end generation.\n"
     ]
    },
    {
     "name": "stdout",
     "output_type": "stream",
     "text": [
      "Predicted:  anger\n",
      "Baseline:  anger\n",
      "Correct\n",
      "------------------------------------\n",
      "Iter 145\n",
      "------------------------------------\n"
     ]
    },
    {
     "name": "stderr",
     "output_type": "stream",
     "text": [
      "The attention mask and the pad token id were not set. As a consequence, you may observe unexpected behavior. Please pass your input's `attention_mask` to obtain reliable results.\n",
      "Setting `pad_token_id` to `eos_token_id`:128001 for open-end generation.\n"
     ]
    },
    {
     "name": "stdout",
     "output_type": "stream",
     "text": [
      "Predicted:  anger\n",
      "Baseline:  anger\n",
      "Correct\n",
      "------------------------------------\n",
      "Iter 146\n",
      "------------------------------------\n"
     ]
    },
    {
     "name": "stderr",
     "output_type": "stream",
     "text": [
      "The attention mask and the pad token id were not set. As a consequence, you may observe unexpected behavior. Please pass your input's `attention_mask` to obtain reliable results.\n",
      "Setting `pad_token_id` to `eos_token_id`:128001 for open-end generation.\n"
     ]
    },
    {
     "name": "stdout",
     "output_type": "stream",
     "text": [
      "Predicted:  anger\n",
      "Baseline:  anger\n",
      "Correct\n",
      "------------------------------------\n",
      "Iter 147\n",
      "------------------------------------\n"
     ]
    },
    {
     "name": "stderr",
     "output_type": "stream",
     "text": [
      "The attention mask and the pad token id were not set. As a consequence, you may observe unexpected behavior. Please pass your input's `attention_mask` to obtain reliable results.\n",
      "Setting `pad_token_id` to `eos_token_id`:128001 for open-end generation.\n"
     ]
    },
    {
     "name": "stdout",
     "output_type": "stream",
     "text": [
      "Predicted:  neutral\n",
      "Baseline:  neutral\n",
      "Correct\n",
      "------------------------------------\n",
      "Iter 148\n",
      "------------------------------------\n"
     ]
    },
    {
     "name": "stderr",
     "output_type": "stream",
     "text": [
      "The attention mask and the pad token id were not set. As a consequence, you may observe unexpected behavior. Please pass your input's `attention_mask` to obtain reliable results.\n",
      "Setting `pad_token_id` to `eos_token_id`:128001 for open-end generation.\n"
     ]
    },
    {
     "name": "stdout",
     "output_type": "stream",
     "text": [
      "Predicted:  surprise\n",
      "Baseline:  surprise\n",
      "Correct\n",
      "------------------------------------\n",
      "Iter 149\n",
      "------------------------------------\n"
     ]
    },
    {
     "name": "stderr",
     "output_type": "stream",
     "text": [
      "The attention mask and the pad token id were not set. As a consequence, you may observe unexpected behavior. Please pass your input's `attention_mask` to obtain reliable results.\n",
      "Setting `pad_token_id` to `eos_token_id`:128001 for open-end generation.\n"
     ]
    },
    {
     "name": "stdout",
     "output_type": "stream",
     "text": [
      "Predicted:  neutral\n",
      "Baseline:  surprise\n",
      "Incorrect\n",
      "------------------------------------\n",
      "Iter 150\n",
      "------------------------------------\n"
     ]
    },
    {
     "name": "stderr",
     "output_type": "stream",
     "text": [
      "The attention mask and the pad token id were not set. As a consequence, you may observe unexpected behavior. Please pass your input's `attention_mask` to obtain reliable results.\n",
      "Setting `pad_token_id` to `eos_token_id`:128001 for open-end generation.\n"
     ]
    },
    {
     "name": "stdout",
     "output_type": "stream",
     "text": [
      "Predicted:  sadness\n",
      "Baseline:  sadness\n",
      "Correct\n",
      "------------------------------------\n",
      "Iter 151\n",
      "------------------------------------\n"
     ]
    },
    {
     "name": "stderr",
     "output_type": "stream",
     "text": [
      "The attention mask and the pad token id were not set. As a consequence, you may observe unexpected behavior. Please pass your input's `attention_mask` to obtain reliable results.\n",
      "Setting `pad_token_id` to `eos_token_id`:128001 for open-end generation.\n"
     ]
    },
    {
     "name": "stdout",
     "output_type": "stream",
     "text": [
      "Predicted:  sadness\n",
      "Baseline:  sadness\n",
      "Correct\n",
      "------------------------------------\n",
      "Iter 152\n",
      "------------------------------------\n"
     ]
    },
    {
     "name": "stderr",
     "output_type": "stream",
     "text": [
      "The attention mask and the pad token id were not set. As a consequence, you may observe unexpected behavior. Please pass your input's `attention_mask` to obtain reliable results.\n",
      "Setting `pad_token_id` to `eos_token_id`:128001 for open-end generation.\n"
     ]
    },
    {
     "name": "stdout",
     "output_type": "stream",
     "text": [
      "Predicted:  sadness\n",
      "Baseline:  neutral\n",
      "Incorrect\n",
      "------------------------------------\n",
      "Iter 153\n",
      "------------------------------------\n"
     ]
    },
    {
     "name": "stderr",
     "output_type": "stream",
     "text": [
      "The attention mask and the pad token id were not set. As a consequence, you may observe unexpected behavior. Please pass your input's `attention_mask` to obtain reliable results.\n",
      "Setting `pad_token_id` to `eos_token_id`:128001 for open-end generation.\n"
     ]
    },
    {
     "name": "stdout",
     "output_type": "stream",
     "text": [
      "Predicted:  neutral\n",
      "Baseline:  neutral\n",
      "Correct\n",
      "------------------------------------\n",
      "Iter 154\n",
      "------------------------------------\n"
     ]
    },
    {
     "name": "stderr",
     "output_type": "stream",
     "text": [
      "The attention mask and the pad token id were not set. As a consequence, you may observe unexpected behavior. Please pass your input's `attention_mask` to obtain reliable results.\n",
      "Setting `pad_token_id` to `eos_token_id`:128001 for open-end generation.\n"
     ]
    },
    {
     "name": "stdout",
     "output_type": "stream",
     "text": [
      "Predicted:  neutral\n",
      "Baseline:  neutral\n",
      "Correct\n",
      "------------------------------------\n",
      "Iter 155\n",
      "------------------------------------\n"
     ]
    },
    {
     "name": "stderr",
     "output_type": "stream",
     "text": [
      "The attention mask and the pad token id were not set. As a consequence, you may observe unexpected behavior. Please pass your input's `attention_mask` to obtain reliable results.\n",
      "Setting `pad_token_id` to `eos_token_id`:128001 for open-end generation.\n"
     ]
    },
    {
     "name": "stdout",
     "output_type": "stream",
     "text": [
      "Predicted:  neutral\n",
      "Baseline:  neutral\n",
      "Correct\n",
      "------------------------------------\n",
      "Iter 156\n",
      "------------------------------------\n"
     ]
    },
    {
     "name": "stderr",
     "output_type": "stream",
     "text": [
      "The attention mask and the pad token id were not set. As a consequence, you may observe unexpected behavior. Please pass your input's `attention_mask` to obtain reliable results.\n",
      "Setting `pad_token_id` to `eos_token_id`:128001 for open-end generation.\n"
     ]
    },
    {
     "name": "stdout",
     "output_type": "stream",
     "text": [
      "Predicted:  surprise\n",
      "Baseline:  surprise\n",
      "Correct\n",
      "------------------------------------\n",
      "Iter 157\n",
      "------------------------------------\n"
     ]
    },
    {
     "name": "stderr",
     "output_type": "stream",
     "text": [
      "The attention mask and the pad token id were not set. As a consequence, you may observe unexpected behavior. Please pass your input's `attention_mask` to obtain reliable results.\n",
      "Setting `pad_token_id` to `eos_token_id`:128001 for open-end generation.\n"
     ]
    },
    {
     "name": "stdout",
     "output_type": "stream",
     "text": [
      "Predicted:  sadness\n",
      "Baseline:  sadness\n",
      "Correct\n",
      "------------------------------------\n",
      "Iter 158\n",
      "------------------------------------\n"
     ]
    },
    {
     "name": "stderr",
     "output_type": "stream",
     "text": [
      "The attention mask and the pad token id were not set. As a consequence, you may observe unexpected behavior. Please pass your input's `attention_mask` to obtain reliable results.\n",
      "Setting `pad_token_id` to `eos_token_id`:128001 for open-end generation.\n"
     ]
    },
    {
     "name": "stdout",
     "output_type": "stream",
     "text": [
      "Predicted:  neutral\n",
      "Baseline:  neutral\n",
      "Correct\n",
      "------------------------------------\n",
      "Iter 159\n",
      "------------------------------------\n"
     ]
    },
    {
     "name": "stderr",
     "output_type": "stream",
     "text": [
      "The attention mask and the pad token id were not set. As a consequence, you may observe unexpected behavior. Please pass your input's `attention_mask` to obtain reliable results.\n",
      "Setting `pad_token_id` to `eos_token_id`:128001 for open-end generation.\n"
     ]
    },
    {
     "name": "stdout",
     "output_type": "stream",
     "text": [
      "Predicted:  neutral\n",
      "Baseline:  neutral\n",
      "Correct\n",
      "------------------------------------\n",
      "Iter 160\n",
      "------------------------------------\n"
     ]
    },
    {
     "name": "stderr",
     "output_type": "stream",
     "text": [
      "The attention mask and the pad token id were not set. As a consequence, you may observe unexpected behavior. Please pass your input's `attention_mask` to obtain reliable results.\n",
      "Setting `pad_token_id` to `eos_token_id`:128001 for open-end generation.\n"
     ]
    },
    {
     "name": "stdout",
     "output_type": "stream",
     "text": [
      "Predicted:  neutral\n",
      "Baseline:  neutral\n",
      "Correct\n",
      "------------------------------------\n",
      "Iter 161\n",
      "------------------------------------\n"
     ]
    },
    {
     "name": "stderr",
     "output_type": "stream",
     "text": [
      "The attention mask and the pad token id were not set. As a consequence, you may observe unexpected behavior. Please pass your input's `attention_mask` to obtain reliable results.\n",
      "Setting `pad_token_id` to `eos_token_id`:128001 for open-end generation.\n"
     ]
    },
    {
     "name": "stdout",
     "output_type": "stream",
     "text": [
      "Predicted:  neutral\n",
      "Baseline:  disgust\n",
      "Incorrect\n",
      "------------------------------------\n",
      "Iter 162\n",
      "------------------------------------\n"
     ]
    },
    {
     "name": "stderr",
     "output_type": "stream",
     "text": [
      "The attention mask and the pad token id were not set. As a consequence, you may observe unexpected behavior. Please pass your input's `attention_mask` to obtain reliable results.\n",
      "Setting `pad_token_id` to `eos_token_id`:128001 for open-end generation.\n"
     ]
    },
    {
     "name": "stdout",
     "output_type": "stream",
     "text": [
      "Predicted:  neutral\n",
      "Baseline:  neutral\n",
      "Correct\n",
      "------------------------------------\n",
      "Iter 163\n",
      "------------------------------------\n"
     ]
    },
    {
     "name": "stderr",
     "output_type": "stream",
     "text": [
      "The attention mask and the pad token id were not set. As a consequence, you may observe unexpected behavior. Please pass your input's `attention_mask` to obtain reliable results.\n",
      "Setting `pad_token_id` to `eos_token_id`:128001 for open-end generation.\n"
     ]
    },
    {
     "name": "stdout",
     "output_type": "stream",
     "text": [
      "Predicted:  neutral\n",
      "Baseline:  neutral\n",
      "Correct\n",
      "------------------------------------\n",
      "Iter 164\n",
      "------------------------------------\n"
     ]
    },
    {
     "name": "stderr",
     "output_type": "stream",
     "text": [
      "The attention mask and the pad token id were not set. As a consequence, you may observe unexpected behavior. Please pass your input's `attention_mask` to obtain reliable results.\n",
      "Setting `pad_token_id` to `eos_token_id`:128001 for open-end generation.\n"
     ]
    },
    {
     "name": "stdout",
     "output_type": "stream",
     "text": [
      "Predicted:  neutral\n",
      "Baseline:  sadness\n",
      "Incorrect\n",
      "------------------------------------\n",
      "Iter 165\n",
      "------------------------------------\n"
     ]
    },
    {
     "name": "stderr",
     "output_type": "stream",
     "text": [
      "The attention mask and the pad token id were not set. As a consequence, you may observe unexpected behavior. Please pass your input's `attention_mask` to obtain reliable results.\n",
      "Setting `pad_token_id` to `eos_token_id`:128001 for open-end generation.\n"
     ]
    },
    {
     "name": "stdout",
     "output_type": "stream",
     "text": [
      "Predicted:  neutral\n",
      "Baseline:  neutral\n",
      "Correct\n",
      "------------------------------------\n",
      "Iter 166\n",
      "------------------------------------\n"
     ]
    },
    {
     "name": "stderr",
     "output_type": "stream",
     "text": [
      "The attention mask and the pad token id were not set. As a consequence, you may observe unexpected behavior. Please pass your input's `attention_mask` to obtain reliable results.\n",
      "Setting `pad_token_id` to `eos_token_id`:128001 for open-end generation.\n"
     ]
    },
    {
     "name": "stdout",
     "output_type": "stream",
     "text": [
      "Predicted:  neutral\n",
      "Baseline:  neutral\n",
      "Correct\n",
      "------------------------------------\n",
      "Iter 167\n",
      "------------------------------------\n"
     ]
    },
    {
     "name": "stderr",
     "output_type": "stream",
     "text": [
      "The attention mask and the pad token id were not set. As a consequence, you may observe unexpected behavior. Please pass your input's `attention_mask` to obtain reliable results.\n",
      "Setting `pad_token_id` to `eos_token_id`:128001 for open-end generation.\n"
     ]
    },
    {
     "name": "stdout",
     "output_type": "stream",
     "text": [
      "Predicted:  neutral\n",
      "Baseline:  joy\n",
      "Incorrect\n",
      "------------------------------------\n",
      "Iter 168\n",
      "------------------------------------\n"
     ]
    },
    {
     "name": "stderr",
     "output_type": "stream",
     "text": [
      "The attention mask and the pad token id were not set. As a consequence, you may observe unexpected behavior. Please pass your input's `attention_mask` to obtain reliable results.\n",
      "Setting `pad_token_id` to `eos_token_id`:128001 for open-end generation.\n"
     ]
    },
    {
     "name": "stdout",
     "output_type": "stream",
     "text": [
      "Predicted:  neutral\n",
      "Baseline:  joy\n",
      "Incorrect\n",
      "------------------------------------\n",
      "Iter 169\n",
      "------------------------------------\n"
     ]
    },
    {
     "name": "stderr",
     "output_type": "stream",
     "text": [
      "The attention mask and the pad token id were not set. As a consequence, you may observe unexpected behavior. Please pass your input's `attention_mask` to obtain reliable results.\n",
      "Setting `pad_token_id` to `eos_token_id`:128001 for open-end generation.\n"
     ]
    },
    {
     "name": "stdout",
     "output_type": "stream",
     "text": [
      "Predicted:  anger\n",
      "Baseline:  anger\n",
      "Correct\n",
      "------------------------------------\n",
      "Iter 170\n",
      "------------------------------------\n"
     ]
    },
    {
     "name": "stderr",
     "output_type": "stream",
     "text": [
      "The attention mask and the pad token id were not set. As a consequence, you may observe unexpected behavior. Please pass your input's `attention_mask` to obtain reliable results.\n",
      "Setting `pad_token_id` to `eos_token_id`:128001 for open-end generation.\n"
     ]
    },
    {
     "name": "stdout",
     "output_type": "stream",
     "text": [
      "Predicted:  neutral\n",
      "Baseline:  neutral\n",
      "Correct\n",
      "------------------------------------\n",
      "Iter 171\n",
      "------------------------------------\n"
     ]
    },
    {
     "name": "stderr",
     "output_type": "stream",
     "text": [
      "The attention mask and the pad token id were not set. As a consequence, you may observe unexpected behavior. Please pass your input's `attention_mask` to obtain reliable results.\n",
      "Setting `pad_token_id` to `eos_token_id`:128001 for open-end generation.\n"
     ]
    },
    {
     "name": "stdout",
     "output_type": "stream",
     "text": [
      "Predicted:  sadness\n",
      "Baseline:  anger\n",
      "Incorrect\n",
      "------------------------------------\n",
      "Iter 172\n",
      "------------------------------------\n"
     ]
    },
    {
     "name": "stderr",
     "output_type": "stream",
     "text": [
      "The attention mask and the pad token id were not set. As a consequence, you may observe unexpected behavior. Please pass your input's `attention_mask` to obtain reliable results.\n",
      "Setting `pad_token_id` to `eos_token_id`:128001 for open-end generation.\n"
     ]
    },
    {
     "name": "stdout",
     "output_type": "stream",
     "text": [
      "Predicted:  neutral\n",
      "Baseline:  neutral\n",
      "Correct\n",
      "------------------------------------\n",
      "Iter 173\n",
      "------------------------------------\n"
     ]
    },
    {
     "name": "stderr",
     "output_type": "stream",
     "text": [
      "The attention mask and the pad token id were not set. As a consequence, you may observe unexpected behavior. Please pass your input's `attention_mask` to obtain reliable results.\n",
      "Setting `pad_token_id` to `eos_token_id`:128001 for open-end generation.\n"
     ]
    },
    {
     "name": "stdout",
     "output_type": "stream",
     "text": [
      "Predicted:  neutral\n",
      "Baseline:  neutral\n",
      "Correct\n",
      "------------------------------------\n",
      "Iter 174\n",
      "------------------------------------\n"
     ]
    },
    {
     "name": "stderr",
     "output_type": "stream",
     "text": [
      "The attention mask and the pad token id were not set. As a consequence, you may observe unexpected behavior. Please pass your input's `attention_mask` to obtain reliable results.\n",
      "Setting `pad_token_id` to `eos_token_id`:128001 for open-end generation.\n"
     ]
    },
    {
     "name": "stdout",
     "output_type": "stream",
     "text": [
      "Predicted:  neutral\n",
      "Baseline:  neutral\n",
      "Correct\n",
      "------------------------------------\n",
      "Iter 175\n",
      "------------------------------------\n"
     ]
    },
    {
     "name": "stderr",
     "output_type": "stream",
     "text": [
      "The attention mask and the pad token id were not set. As a consequence, you may observe unexpected behavior. Please pass your input's `attention_mask` to obtain reliable results.\n",
      "Setting `pad_token_id` to `eos_token_id`:128001 for open-end generation.\n"
     ]
    },
    {
     "name": "stdout",
     "output_type": "stream",
     "text": [
      "Predicted:  neutral\n",
      "Baseline:  neutral\n",
      "Correct\n",
      "------------------------------------\n",
      "Iter 176\n",
      "------------------------------------\n"
     ]
    },
    {
     "name": "stderr",
     "output_type": "stream",
     "text": [
      "The attention mask and the pad token id were not set. As a consequence, you may observe unexpected behavior. Please pass your input's `attention_mask` to obtain reliable results.\n",
      "Setting `pad_token_id` to `eos_token_id`:128001 for open-end generation.\n"
     ]
    },
    {
     "name": "stdout",
     "output_type": "stream",
     "text": [
      "Predicted:  neutral\n",
      "Baseline:  neutral\n",
      "Correct\n",
      "------------------------------------\n",
      "Iter 177\n",
      "------------------------------------\n"
     ]
    },
    {
     "name": "stderr",
     "output_type": "stream",
     "text": [
      "The attention mask and the pad token id were not set. As a consequence, you may observe unexpected behavior. Please pass your input's `attention_mask` to obtain reliable results.\n",
      "Setting `pad_token_id` to `eos_token_id`:128001 for open-end generation.\n"
     ]
    },
    {
     "name": "stdout",
     "output_type": "stream",
     "text": [
      "Predicted:  neutral\n",
      "Baseline:  neutral\n",
      "Correct\n",
      "------------------------------------\n",
      "Iter 178\n",
      "------------------------------------\n"
     ]
    },
    {
     "name": "stderr",
     "output_type": "stream",
     "text": [
      "The attention mask and the pad token id were not set. As a consequence, you may observe unexpected behavior. Please pass your input's `attention_mask` to obtain reliable results.\n",
      "Setting `pad_token_id` to `eos_token_id`:128001 for open-end generation.\n"
     ]
    },
    {
     "name": "stdout",
     "output_type": "stream",
     "text": [
      "Predicted:  neutral\n",
      "Baseline:  joy\n",
      "Incorrect\n",
      "------------------------------------\n",
      "Iter 179\n",
      "------------------------------------\n"
     ]
    },
    {
     "name": "stderr",
     "output_type": "stream",
     "text": [
      "The attention mask and the pad token id were not set. As a consequence, you may observe unexpected behavior. Please pass your input's `attention_mask` to obtain reliable results.\n",
      "Setting `pad_token_id` to `eos_token_id`:128001 for open-end generation.\n"
     ]
    },
    {
     "name": "stdout",
     "output_type": "stream",
     "text": [
      "Predicted:  surprise\n",
      "Baseline:  surprise\n",
      "Correct\n",
      "------------------------------------\n",
      "Iter 180\n",
      "------------------------------------\n"
     ]
    },
    {
     "name": "stderr",
     "output_type": "stream",
     "text": [
      "The attention mask and the pad token id were not set. As a consequence, you may observe unexpected behavior. Please pass your input's `attention_mask` to obtain reliable results.\n",
      "Setting `pad_token_id` to `eos_token_id`:128001 for open-end generation.\n"
     ]
    },
    {
     "name": "stdout",
     "output_type": "stream",
     "text": [
      "Predicted:  surprise\n",
      "Baseline:  surprise\n",
      "Correct\n",
      "------------------------------------\n",
      "Iter 181\n",
      "------------------------------------\n"
     ]
    },
    {
     "name": "stderr",
     "output_type": "stream",
     "text": [
      "The attention mask and the pad token id were not set. As a consequence, you may observe unexpected behavior. Please pass your input's `attention_mask` to obtain reliable results.\n",
      "Setting `pad_token_id` to `eos_token_id`:128001 for open-end generation.\n"
     ]
    },
    {
     "name": "stdout",
     "output_type": "stream",
     "text": [
      "Predicted:  neutral\n",
      "Baseline:  joy\n",
      "Incorrect\n",
      "------------------------------------\n",
      "Iter 182\n",
      "------------------------------------\n"
     ]
    },
    {
     "name": "stderr",
     "output_type": "stream",
     "text": [
      "The attention mask and the pad token id were not set. As a consequence, you may observe unexpected behavior. Please pass your input's `attention_mask` to obtain reliable results.\n",
      "Setting `pad_token_id` to `eos_token_id`:128001 for open-end generation.\n"
     ]
    },
    {
     "name": "stdout",
     "output_type": "stream",
     "text": [
      "Predicted:  surprise\n",
      "Baseline:  surprise\n",
      "Correct\n",
      "------------------------------------\n",
      "Iter 183\n",
      "------------------------------------\n"
     ]
    },
    {
     "name": "stderr",
     "output_type": "stream",
     "text": [
      "The attention mask and the pad token id were not set. As a consequence, you may observe unexpected behavior. Please pass your input's `attention_mask` to obtain reliable results.\n",
      "Setting `pad_token_id` to `eos_token_id`:128001 for open-end generation.\n"
     ]
    },
    {
     "name": "stdout",
     "output_type": "stream",
     "text": [
      "Predicted:  surprise\n",
      "Baseline:  surprise\n",
      "Correct\n",
      "------------------------------------\n",
      "Iter 184\n",
      "------------------------------------\n"
     ]
    },
    {
     "name": "stderr",
     "output_type": "stream",
     "text": [
      "The attention mask and the pad token id were not set. As a consequence, you may observe unexpected behavior. Please pass your input's `attention_mask` to obtain reliable results.\n",
      "Setting `pad_token_id` to `eos_token_id`:128001 for open-end generation.\n"
     ]
    },
    {
     "name": "stdout",
     "output_type": "stream",
     "text": [
      "Predicted:  joy\n",
      "Baseline:  joy\n",
      "Correct\n",
      "------------------------------------\n",
      "Iter 185\n",
      "------------------------------------\n"
     ]
    },
    {
     "name": "stderr",
     "output_type": "stream",
     "text": [
      "The attention mask and the pad token id were not set. As a consequence, you may observe unexpected behavior. Please pass your input's `attention_mask` to obtain reliable results.\n",
      "Setting `pad_token_id` to `eos_token_id`:128001 for open-end generation.\n"
     ]
    },
    {
     "name": "stdout",
     "output_type": "stream",
     "text": [
      "Predicted:  neutral\n",
      "Baseline:  joy\n",
      "Incorrect\n",
      "------------------------------------\n",
      "Iter 186\n",
      "------------------------------------\n"
     ]
    },
    {
     "name": "stderr",
     "output_type": "stream",
     "text": [
      "The attention mask and the pad token id were not set. As a consequence, you may observe unexpected behavior. Please pass your input's `attention_mask` to obtain reliable results.\n",
      "Setting `pad_token_id` to `eos_token_id`:128001 for open-end generation.\n"
     ]
    },
    {
     "name": "stdout",
     "output_type": "stream",
     "text": [
      "Predicted:  neutral\n",
      "Baseline:  sadness\n",
      "Incorrect\n",
      "------------------------------------\n",
      "Iter 187\n",
      "------------------------------------\n"
     ]
    },
    {
     "name": "stderr",
     "output_type": "stream",
     "text": [
      "The attention mask and the pad token id were not set. As a consequence, you may observe unexpected behavior. Please pass your input's `attention_mask` to obtain reliable results.\n",
      "Setting `pad_token_id` to `eos_token_id`:128001 for open-end generation.\n"
     ]
    },
    {
     "name": "stdout",
     "output_type": "stream",
     "text": [
      "Predicted:  neutral\n",
      "Baseline:  neutral\n",
      "Correct\n",
      "------------------------------------\n",
      "Iter 188\n",
      "------------------------------------\n"
     ]
    },
    {
     "name": "stderr",
     "output_type": "stream",
     "text": [
      "The attention mask and the pad token id were not set. As a consequence, you may observe unexpected behavior. Please pass your input's `attention_mask` to obtain reliable results.\n",
      "Setting `pad_token_id` to `eos_token_id`:128001 for open-end generation.\n"
     ]
    },
    {
     "name": "stdout",
     "output_type": "stream",
     "text": [
      "Predicted:  neutral\n",
      "Baseline:  neutral\n",
      "Correct\n",
      "------------------------------------\n",
      "Iter 189\n",
      "------------------------------------\n"
     ]
    },
    {
     "name": "stderr",
     "output_type": "stream",
     "text": [
      "The attention mask and the pad token id were not set. As a consequence, you may observe unexpected behavior. Please pass your input's `attention_mask` to obtain reliable results.\n",
      "Setting `pad_token_id` to `eos_token_id`:128001 for open-end generation.\n"
     ]
    },
    {
     "name": "stdout",
     "output_type": "stream",
     "text": [
      "Predicted:  surprise\n",
      "Baseline:  neutral\n",
      "Incorrect\n",
      "------------------------------------\n",
      "Iter 190\n",
      "------------------------------------\n"
     ]
    },
    {
     "name": "stderr",
     "output_type": "stream",
     "text": [
      "The attention mask and the pad token id were not set. As a consequence, you may observe unexpected behavior. Please pass your input's `attention_mask` to obtain reliable results.\n",
      "Setting `pad_token_id` to `eos_token_id`:128001 for open-end generation.\n"
     ]
    },
    {
     "name": "stdout",
     "output_type": "stream",
     "text": [
      "Predicted:  sadness\n",
      "Baseline:  sadness\n",
      "Correct\n",
      "------------------------------------\n",
      "Iter 191\n",
      "------------------------------------\n"
     ]
    },
    {
     "name": "stderr",
     "output_type": "stream",
     "text": [
      "The attention mask and the pad token id were not set. As a consequence, you may observe unexpected behavior. Please pass your input's `attention_mask` to obtain reliable results.\n",
      "Setting `pad_token_id` to `eos_token_id`:128001 for open-end generation.\n"
     ]
    },
    {
     "name": "stdout",
     "output_type": "stream",
     "text": [
      "Predicted:  surprise\n",
      "Baseline:  surprise\n",
      "Correct\n",
      "------------------------------------\n",
      "Iter 192\n",
      "------------------------------------\n"
     ]
    },
    {
     "name": "stderr",
     "output_type": "stream",
     "text": [
      "The attention mask and the pad token id were not set. As a consequence, you may observe unexpected behavior. Please pass your input's `attention_mask` to obtain reliable results.\n",
      "Setting `pad_token_id` to `eos_token_id`:128001 for open-end generation.\n"
     ]
    },
    {
     "name": "stdout",
     "output_type": "stream",
     "text": [
      "Predicted:  neutral\n",
      "Baseline:  neutral\n",
      "Correct\n",
      "------------------------------------\n",
      "Iter 193\n",
      "------------------------------------\n"
     ]
    },
    {
     "name": "stderr",
     "output_type": "stream",
     "text": [
      "The attention mask and the pad token id were not set. As a consequence, you may observe unexpected behavior. Please pass your input's `attention_mask` to obtain reliable results.\n",
      "Setting `pad_token_id` to `eos_token_id`:128001 for open-end generation.\n"
     ]
    },
    {
     "name": "stdout",
     "output_type": "stream",
     "text": [
      "Predicted:  neutral\n",
      "Baseline:  neutral\n",
      "Correct\n",
      "------------------------------------\n",
      "Iter 194\n",
      "------------------------------------\n"
     ]
    },
    {
     "name": "stderr",
     "output_type": "stream",
     "text": [
      "The attention mask and the pad token id were not set. As a consequence, you may observe unexpected behavior. Please pass your input's `attention_mask` to obtain reliable results.\n",
      "Setting `pad_token_id` to `eos_token_id`:128001 for open-end generation.\n"
     ]
    },
    {
     "name": "stdout",
     "output_type": "stream",
     "text": [
      "Predicted:  neutral\n",
      "Baseline:  joy\n",
      "Incorrect\n",
      "------------------------------------\n",
      "Iter 195\n",
      "------------------------------------\n"
     ]
    },
    {
     "name": "stderr",
     "output_type": "stream",
     "text": [
      "The attention mask and the pad token id were not set. As a consequence, you may observe unexpected behavior. Please pass your input's `attention_mask` to obtain reliable results.\n",
      "Setting `pad_token_id` to `eos_token_id`:128001 for open-end generation.\n"
     ]
    },
    {
     "name": "stdout",
     "output_type": "stream",
     "text": [
      "Predicted:  joy\n",
      "Baseline:  joy\n",
      "Correct\n",
      "------------------------------------\n",
      "Iter 196\n",
      "------------------------------------\n"
     ]
    },
    {
     "name": "stderr",
     "output_type": "stream",
     "text": [
      "The attention mask and the pad token id were not set. As a consequence, you may observe unexpected behavior. Please pass your input's `attention_mask` to obtain reliable results.\n",
      "Setting `pad_token_id` to `eos_token_id`:128001 for open-end generation.\n"
     ]
    },
    {
     "name": "stdout",
     "output_type": "stream",
     "text": [
      "Predicted:  neutral\n",
      "Baseline:  neutral\n",
      "Correct\n",
      "------------------------------------\n",
      "Iter 197\n",
      "------------------------------------\n"
     ]
    },
    {
     "name": "stderr",
     "output_type": "stream",
     "text": [
      "The attention mask and the pad token id were not set. As a consequence, you may observe unexpected behavior. Please pass your input's `attention_mask` to obtain reliable results.\n",
      "Setting `pad_token_id` to `eos_token_id`:128001 for open-end generation.\n"
     ]
    },
    {
     "name": "stdout",
     "output_type": "stream",
     "text": [
      "Predicted:  neutral\n",
      "Baseline:  neutral\n",
      "Correct\n",
      "------------------------------------\n",
      "Iter 198\n",
      "------------------------------------\n"
     ]
    },
    {
     "name": "stderr",
     "output_type": "stream",
     "text": [
      "The attention mask and the pad token id were not set. As a consequence, you may observe unexpected behavior. Please pass your input's `attention_mask` to obtain reliable results.\n",
      "Setting `pad_token_id` to `eos_token_id`:128001 for open-end generation.\n"
     ]
    },
    {
     "name": "stdout",
     "output_type": "stream",
     "text": [
      "Predicted:  neutral\n",
      "Baseline:  neutral\n",
      "Correct\n",
      "------------------------------------\n",
      "Iter 199\n",
      "------------------------------------\n"
     ]
    },
    {
     "name": "stderr",
     "output_type": "stream",
     "text": [
      "The attention mask and the pad token id were not set. As a consequence, you may observe unexpected behavior. Please pass your input's `attention_mask` to obtain reliable results.\n",
      "Setting `pad_token_id` to `eos_token_id`:128001 for open-end generation.\n"
     ]
    },
    {
     "name": "stdout",
     "output_type": "stream",
     "text": [
      "Predicted:  neutral\n",
      "Baseline:  neutral\n",
      "Correct\n",
      "------------------------------------\n",
      "Iter 200\n",
      "------------------------------------\n"
     ]
    },
    {
     "name": "stderr",
     "output_type": "stream",
     "text": [
      "The attention mask and the pad token id were not set. As a consequence, you may observe unexpected behavior. Please pass your input's `attention_mask` to obtain reliable results.\n",
      "Setting `pad_token_id` to `eos_token_id`:128001 for open-end generation.\n"
     ]
    },
    {
     "name": "stdout",
     "output_type": "stream",
     "text": [
      "Predicted:  surprise\n",
      "Baseline:  surprise\n",
      "Correct\n",
      "------------------------------------\n",
      "Iter 201\n",
      "------------------------------------\n"
     ]
    },
    {
     "name": "stderr",
     "output_type": "stream",
     "text": [
      "The attention mask and the pad token id were not set. As a consequence, you may observe unexpected behavior. Please pass your input's `attention_mask` to obtain reliable results.\n",
      "Setting `pad_token_id` to `eos_token_id`:128001 for open-end generation.\n"
     ]
    },
    {
     "name": "stdout",
     "output_type": "stream",
     "text": [
      "Predicted:  neutral\n",
      "Baseline:  neutral\n",
      "Correct\n",
      "------------------------------------\n",
      "Iter 202\n",
      "------------------------------------\n"
     ]
    },
    {
     "name": "stderr",
     "output_type": "stream",
     "text": [
      "The attention mask and the pad token id were not set. As a consequence, you may observe unexpected behavior. Please pass your input's `attention_mask` to obtain reliable results.\n",
      "Setting `pad_token_id` to `eos_token_id`:128001 for open-end generation.\n"
     ]
    },
    {
     "name": "stdout",
     "output_type": "stream",
     "text": [
      "Predicted:  neutral\n",
      "Baseline:  joy\n",
      "Incorrect\n",
      "------------------------------------\n",
      "Iter 203\n",
      "------------------------------------\n"
     ]
    },
    {
     "name": "stderr",
     "output_type": "stream",
     "text": [
      "The attention mask and the pad token id were not set. As a consequence, you may observe unexpected behavior. Please pass your input's `attention_mask` to obtain reliable results.\n",
      "Setting `pad_token_id` to `eos_token_id`:128001 for open-end generation.\n"
     ]
    },
    {
     "name": "stdout",
     "output_type": "stream",
     "text": [
      "Predicted:  neutral\n",
      "Baseline:  neutral\n",
      "Correct\n",
      "------------------------------------\n",
      "Iter 204\n",
      "------------------------------------\n"
     ]
    },
    {
     "name": "stderr",
     "output_type": "stream",
     "text": [
      "The attention mask and the pad token id were not set. As a consequence, you may observe unexpected behavior. Please pass your input's `attention_mask` to obtain reliable results.\n",
      "Setting `pad_token_id` to `eos_token_id`:128001 for open-end generation.\n"
     ]
    },
    {
     "name": "stdout",
     "output_type": "stream",
     "text": [
      "Predicted:  neutral\n",
      "Baseline:  fear\n",
      "Incorrect\n",
      "------------------------------------\n",
      "Iter 205\n",
      "------------------------------------\n"
     ]
    },
    {
     "name": "stderr",
     "output_type": "stream",
     "text": [
      "The attention mask and the pad token id were not set. As a consequence, you may observe unexpected behavior. Please pass your input's `attention_mask` to obtain reliable results.\n",
      "Setting `pad_token_id` to `eos_token_id`:128001 for open-end generation.\n"
     ]
    },
    {
     "name": "stdout",
     "output_type": "stream",
     "text": [
      "Predicted:  neutral\n",
      "Baseline:  sadness\n",
      "Incorrect\n",
      "------------------------------------\n",
      "Iter 206\n",
      "------------------------------------\n"
     ]
    },
    {
     "name": "stderr",
     "output_type": "stream",
     "text": [
      "The attention mask and the pad token id were not set. As a consequence, you may observe unexpected behavior. Please pass your input's `attention_mask` to obtain reliable results.\n",
      "Setting `pad_token_id` to `eos_token_id`:128001 for open-end generation.\n"
     ]
    },
    {
     "name": "stdout",
     "output_type": "stream",
     "text": [
      "Predicted:  neutral\n",
      "Baseline:  neutral\n",
      "Correct\n",
      "------------------------------------\n",
      "Iter 207\n",
      "------------------------------------\n"
     ]
    },
    {
     "name": "stderr",
     "output_type": "stream",
     "text": [
      "The attention mask and the pad token id were not set. As a consequence, you may observe unexpected behavior. Please pass your input's `attention_mask` to obtain reliable results.\n",
      "Setting `pad_token_id` to `eos_token_id`:128001 for open-end generation.\n"
     ]
    },
    {
     "name": "stdout",
     "output_type": "stream",
     "text": [
      "Predicted:  neutral\n",
      "Baseline:  joy\n",
      "Incorrect\n",
      "------------------------------------\n",
      "Iter 208\n",
      "------------------------------------\n"
     ]
    },
    {
     "name": "stderr",
     "output_type": "stream",
     "text": [
      "The attention mask and the pad token id were not set. As a consequence, you may observe unexpected behavior. Please pass your input's `attention_mask` to obtain reliable results.\n",
      "Setting `pad_token_id` to `eos_token_id`:128001 for open-end generation.\n"
     ]
    },
    {
     "name": "stdout",
     "output_type": "stream",
     "text": [
      "Predicted:  sadness\n",
      "Baseline:  sadness\n",
      "Correct\n",
      "------------------------------------\n",
      "Iter 209\n",
      "------------------------------------\n"
     ]
    },
    {
     "name": "stderr",
     "output_type": "stream",
     "text": [
      "The attention mask and the pad token id were not set. As a consequence, you may observe unexpected behavior. Please pass your input's `attention_mask` to obtain reliable results.\n",
      "Setting `pad_token_id` to `eos_token_id`:128001 for open-end generation.\n"
     ]
    },
    {
     "name": "stdout",
     "output_type": "stream",
     "text": [
      "Predicted:  neutral\n",
      "Baseline:  neutral\n",
      "Correct\n",
      "------------------------------------\n",
      "Iter 210\n",
      "------------------------------------\n"
     ]
    },
    {
     "name": "stderr",
     "output_type": "stream",
     "text": [
      "The attention mask and the pad token id were not set. As a consequence, you may observe unexpected behavior. Please pass your input's `attention_mask` to obtain reliable results.\n",
      "Setting `pad_token_id` to `eos_token_id`:128001 for open-end generation.\n"
     ]
    },
    {
     "name": "stdout",
     "output_type": "stream",
     "text": [
      "Predicted:  surprise\n",
      "Baseline:  surprise\n",
      "Correct\n",
      "------------------------------------\n",
      "Iter 211\n",
      "------------------------------------\n"
     ]
    },
    {
     "name": "stderr",
     "output_type": "stream",
     "text": [
      "The attention mask and the pad token id were not set. As a consequence, you may observe unexpected behavior. Please pass your input's `attention_mask` to obtain reliable results.\n",
      "Setting `pad_token_id` to `eos_token_id`:128001 for open-end generation.\n"
     ]
    },
    {
     "name": "stdout",
     "output_type": "stream",
     "text": [
      "Predicted:  surprise\n",
      "Baseline:  surprise\n",
      "Correct\n",
      "------------------------------------\n",
      "Iter 212\n",
      "------------------------------------\n"
     ]
    },
    {
     "name": "stderr",
     "output_type": "stream",
     "text": [
      "The attention mask and the pad token id were not set. As a consequence, you may observe unexpected behavior. Please pass your input's `attention_mask` to obtain reliable results.\n",
      "Setting `pad_token_id` to `eos_token_id`:128001 for open-end generation.\n"
     ]
    },
    {
     "name": "stdout",
     "output_type": "stream",
     "text": [
      "Predicted:  neutral\n",
      "Baseline:  neutral\n",
      "Correct\n",
      "------------------------------------\n",
      "Iter 213\n",
      "------------------------------------\n"
     ]
    },
    {
     "name": "stderr",
     "output_type": "stream",
     "text": [
      "The attention mask and the pad token id were not set. As a consequence, you may observe unexpected behavior. Please pass your input's `attention_mask` to obtain reliable results.\n",
      "Setting `pad_token_id` to `eos_token_id`:128001 for open-end generation.\n"
     ]
    },
    {
     "name": "stdout",
     "output_type": "stream",
     "text": [
      "Predicted:  neutral\n",
      "Baseline:  neutral\n",
      "Correct\n",
      "------------------------------------\n",
      "Iter 214\n",
      "------------------------------------\n"
     ]
    },
    {
     "name": "stderr",
     "output_type": "stream",
     "text": [
      "The attention mask and the pad token id were not set. As a consequence, you may observe unexpected behavior. Please pass your input's `attention_mask` to obtain reliable results.\n",
      "Setting `pad_token_id` to `eos_token_id`:128001 for open-end generation.\n"
     ]
    },
    {
     "name": "stdout",
     "output_type": "stream",
     "text": [
      "Predicted:  neutral\n",
      "Baseline:  neutral\n",
      "Correct\n",
      "------------------------------------\n",
      "Iter 215\n",
      "------------------------------------\n"
     ]
    },
    {
     "name": "stderr",
     "output_type": "stream",
     "text": [
      "The attention mask and the pad token id were not set. As a consequence, you may observe unexpected behavior. Please pass your input's `attention_mask` to obtain reliable results.\n",
      "Setting `pad_token_id` to `eos_token_id`:128001 for open-end generation.\n"
     ]
    },
    {
     "name": "stdout",
     "output_type": "stream",
     "text": [
      "Predicted:  surprise\n",
      "Baseline:  surprise\n",
      "Correct\n",
      "------------------------------------\n",
      "Iter 216\n",
      "------------------------------------\n"
     ]
    },
    {
     "name": "stderr",
     "output_type": "stream",
     "text": [
      "The attention mask and the pad token id were not set. As a consequence, you may observe unexpected behavior. Please pass your input's `attention_mask` to obtain reliable results.\n",
      "Setting `pad_token_id` to `eos_token_id`:128001 for open-end generation.\n"
     ]
    },
    {
     "name": "stdout",
     "output_type": "stream",
     "text": [
      "Predicted:  neutral\n",
      "Baseline:  neutral\n",
      "Correct\n",
      "------------------------------------\n",
      "Iter 217\n",
      "------------------------------------\n"
     ]
    },
    {
     "name": "stderr",
     "output_type": "stream",
     "text": [
      "The attention mask and the pad token id were not set. As a consequence, you may observe unexpected behavior. Please pass your input's `attention_mask` to obtain reliable results.\n",
      "Setting `pad_token_id` to `eos_token_id`:128001 for open-end generation.\n"
     ]
    },
    {
     "name": "stdout",
     "output_type": "stream",
     "text": [
      "Predicted:  neutral\n",
      "Baseline:  neutral\n",
      "Correct\n",
      "------------------------------------\n",
      "Iter 218\n",
      "------------------------------------\n"
     ]
    },
    {
     "name": "stderr",
     "output_type": "stream",
     "text": [
      "The attention mask and the pad token id were not set. As a consequence, you may observe unexpected behavior. Please pass your input's `attention_mask` to obtain reliable results.\n",
      "Setting `pad_token_id` to `eos_token_id`:128001 for open-end generation.\n"
     ]
    },
    {
     "name": "stdout",
     "output_type": "stream",
     "text": [
      "Predicted:  neutral\n",
      "Baseline:  neutral\n",
      "Correct\n",
      "------------------------------------\n",
      "Iter 219\n",
      "------------------------------------\n"
     ]
    },
    {
     "name": "stderr",
     "output_type": "stream",
     "text": [
      "The attention mask and the pad token id were not set. As a consequence, you may observe unexpected behavior. Please pass your input's `attention_mask` to obtain reliable results.\n",
      "Setting `pad_token_id` to `eos_token_id`:128001 for open-end generation.\n"
     ]
    },
    {
     "name": "stdout",
     "output_type": "stream",
     "text": [
      "Predicted:  neutral\n",
      "Baseline:  neutral\n",
      "Correct\n",
      "------------------------------------\n",
      "Iter 220\n",
      "------------------------------------\n"
     ]
    },
    {
     "name": "stderr",
     "output_type": "stream",
     "text": [
      "The attention mask and the pad token id were not set. As a consequence, you may observe unexpected behavior. Please pass your input's `attention_mask` to obtain reliable results.\n",
      "Setting `pad_token_id` to `eos_token_id`:128001 for open-end generation.\n"
     ]
    },
    {
     "name": "stdout",
     "output_type": "stream",
     "text": [
      "Predicted:  neutral\n",
      "Baseline:  neutral\n",
      "Correct\n",
      "------------------------------------\n",
      "Iter 221\n",
      "------------------------------------\n"
     ]
    },
    {
     "name": "stderr",
     "output_type": "stream",
     "text": [
      "The attention mask and the pad token id were not set. As a consequence, you may observe unexpected behavior. Please pass your input's `attention_mask` to obtain reliable results.\n",
      "Setting `pad_token_id` to `eos_token_id`:128001 for open-end generation.\n"
     ]
    },
    {
     "name": "stdout",
     "output_type": "stream",
     "text": [
      "Predicted:  neutral\n",
      "Baseline:  neutral\n",
      "Correct\n",
      "------------------------------------\n",
      "Iter 222\n",
      "------------------------------------\n"
     ]
    },
    {
     "name": "stderr",
     "output_type": "stream",
     "text": [
      "The attention mask and the pad token id were not set. As a consequence, you may observe unexpected behavior. Please pass your input's `attention_mask` to obtain reliable results.\n",
      "Setting `pad_token_id` to `eos_token_id`:128001 for open-end generation.\n"
     ]
    },
    {
     "name": "stdout",
     "output_type": "stream",
     "text": [
      "Predicted:  anger\n",
      "Baseline:  disgust\n",
      "Incorrect\n",
      "------------------------------------\n",
      "Iter 223\n",
      "------------------------------------\n"
     ]
    },
    {
     "name": "stderr",
     "output_type": "stream",
     "text": [
      "The attention mask and the pad token id were not set. As a consequence, you may observe unexpected behavior. Please pass your input's `attention_mask` to obtain reliable results.\n",
      "Setting `pad_token_id` to `eos_token_id`:128001 for open-end generation.\n"
     ]
    },
    {
     "name": "stdout",
     "output_type": "stream",
     "text": [
      "Predicted:  sadness\n",
      "Baseline:  neutral\n",
      "Incorrect\n",
      "------------------------------------\n",
      "Iter 224\n",
      "------------------------------------\n"
     ]
    },
    {
     "name": "stderr",
     "output_type": "stream",
     "text": [
      "The attention mask and the pad token id were not set. As a consequence, you may observe unexpected behavior. Please pass your input's `attention_mask` to obtain reliable results.\n",
      "Setting `pad_token_id` to `eos_token_id`:128001 for open-end generation.\n"
     ]
    },
    {
     "name": "stdout",
     "output_type": "stream",
     "text": [
      "Predicted:  surprise\n",
      "Baseline:  disgust\n",
      "Incorrect\n",
      "------------------------------------\n",
      "Iter 225\n",
      "------------------------------------\n"
     ]
    },
    {
     "name": "stderr",
     "output_type": "stream",
     "text": [
      "The attention mask and the pad token id were not set. As a consequence, you may observe unexpected behavior. Please pass your input's `attention_mask` to obtain reliable results.\n",
      "Setting `pad_token_id` to `eos_token_id`:128001 for open-end generation.\n"
     ]
    },
    {
     "name": "stdout",
     "output_type": "stream",
     "text": [
      "Predicted:  surprise\n",
      "Baseline:  surprise\n",
      "Correct\n",
      "------------------------------------\n",
      "Iter 226\n",
      "------------------------------------\n"
     ]
    },
    {
     "name": "stderr",
     "output_type": "stream",
     "text": [
      "The attention mask and the pad token id were not set. As a consequence, you may observe unexpected behavior. Please pass your input's `attention_mask` to obtain reliable results.\n",
      "Setting `pad_token_id` to `eos_token_id`:128001 for open-end generation.\n"
     ]
    },
    {
     "name": "stdout",
     "output_type": "stream",
     "text": [
      "Predicted:  anger\n",
      "Baseline:  anger\n",
      "Correct\n",
      "------------------------------------\n",
      "Iter 227\n",
      "------------------------------------\n"
     ]
    },
    {
     "name": "stderr",
     "output_type": "stream",
     "text": [
      "The attention mask and the pad token id were not set. As a consequence, you may observe unexpected behavior. Please pass your input's `attention_mask` to obtain reliable results.\n",
      "Setting `pad_token_id` to `eos_token_id`:128001 for open-end generation.\n"
     ]
    },
    {
     "name": "stdout",
     "output_type": "stream",
     "text": [
      "Predicted:  neutral\n",
      "Baseline:  neutral\n",
      "Correct\n",
      "------------------------------------\n",
      "Iter 228\n",
      "------------------------------------\n"
     ]
    },
    {
     "name": "stderr",
     "output_type": "stream",
     "text": [
      "The attention mask and the pad token id were not set. As a consequence, you may observe unexpected behavior. Please pass your input's `attention_mask` to obtain reliable results.\n",
      "Setting `pad_token_id` to `eos_token_id`:128001 for open-end generation.\n"
     ]
    },
    {
     "name": "stdout",
     "output_type": "stream",
     "text": [
      "Predicted:  neutral\n",
      "Baseline:  neutral\n",
      "Correct\n",
      "------------------------------------\n",
      "Iter 229\n",
      "------------------------------------\n"
     ]
    },
    {
     "name": "stderr",
     "output_type": "stream",
     "text": [
      "The attention mask and the pad token id were not set. As a consequence, you may observe unexpected behavior. Please pass your input's `attention_mask` to obtain reliable results.\n",
      "Setting `pad_token_id` to `eos_token_id`:128001 for open-end generation.\n"
     ]
    },
    {
     "name": "stdout",
     "output_type": "stream",
     "text": [
      "Predicted:  neutral\n",
      "Baseline:  neutral\n",
      "Correct\n",
      "------------------------------------\n",
      "Iter 230\n",
      "------------------------------------\n"
     ]
    },
    {
     "name": "stderr",
     "output_type": "stream",
     "text": [
      "The attention mask and the pad token id were not set. As a consequence, you may observe unexpected behavior. Please pass your input's `attention_mask` to obtain reliable results.\n",
      "Setting `pad_token_id` to `eos_token_id`:128001 for open-end generation.\n"
     ]
    },
    {
     "name": "stdout",
     "output_type": "stream",
     "text": [
      "Predicted:  neutral\n",
      "Baseline:  joy\n",
      "Incorrect\n",
      "------------------------------------\n",
      "Iter 231\n",
      "------------------------------------\n"
     ]
    },
    {
     "name": "stderr",
     "output_type": "stream",
     "text": [
      "The attention mask and the pad token id were not set. As a consequence, you may observe unexpected behavior. Please pass your input's `attention_mask` to obtain reliable results.\n",
      "Setting `pad_token_id` to `eos_token_id`:128001 for open-end generation.\n"
     ]
    },
    {
     "name": "stdout",
     "output_type": "stream",
     "text": [
      "Predicted:  neutral\n",
      "Baseline:  neutral\n",
      "Correct\n",
      "------------------------------------\n",
      "Iter 232\n",
      "------------------------------------\n"
     ]
    },
    {
     "name": "stderr",
     "output_type": "stream",
     "text": [
      "The attention mask and the pad token id were not set. As a consequence, you may observe unexpected behavior. Please pass your input's `attention_mask` to obtain reliable results.\n",
      "Setting `pad_token_id` to `eos_token_id`:128001 for open-end generation.\n"
     ]
    },
    {
     "name": "stdout",
     "output_type": "stream",
     "text": [
      "Predicted:  joy\n",
      "Baseline:  neutral\n",
      "Incorrect\n",
      "------------------------------------\n",
      "Iter 233\n",
      "------------------------------------\n"
     ]
    },
    {
     "name": "stderr",
     "output_type": "stream",
     "text": [
      "The attention mask and the pad token id were not set. As a consequence, you may observe unexpected behavior. Please pass your input's `attention_mask` to obtain reliable results.\n",
      "Setting `pad_token_id` to `eos_token_id`:128001 for open-end generation.\n"
     ]
    },
    {
     "name": "stdout",
     "output_type": "stream",
     "text": [
      "Predicted:  surprise\n",
      "Baseline:  surprise\n",
      "Correct\n",
      "------------------------------------\n",
      "Iter 234\n",
      "------------------------------------\n"
     ]
    },
    {
     "name": "stderr",
     "output_type": "stream",
     "text": [
      "The attention mask and the pad token id were not set. As a consequence, you may observe unexpected behavior. Please pass your input's `attention_mask` to obtain reliable results.\n",
      "Setting `pad_token_id` to `eos_token_id`:128001 for open-end generation.\n"
     ]
    },
    {
     "name": "stdout",
     "output_type": "stream",
     "text": [
      "Predicted:  surprise\n",
      "Baseline:  surprise\n",
      "Correct\n",
      "------------------------------------\n",
      "Iter 235\n",
      "------------------------------------\n"
     ]
    },
    {
     "name": "stderr",
     "output_type": "stream",
     "text": [
      "The attention mask and the pad token id were not set. As a consequence, you may observe unexpected behavior. Please pass your input's `attention_mask` to obtain reliable results.\n",
      "Setting `pad_token_id` to `eos_token_id`:128001 for open-end generation.\n"
     ]
    },
    {
     "name": "stdout",
     "output_type": "stream",
     "text": [
      "Predicted:  neutral\n",
      "Baseline:  neutral\n",
      "Correct\n",
      "------------------------------------\n",
      "Iter 236\n",
      "------------------------------------\n"
     ]
    },
    {
     "name": "stderr",
     "output_type": "stream",
     "text": [
      "The attention mask and the pad token id were not set. As a consequence, you may observe unexpected behavior. Please pass your input's `attention_mask` to obtain reliable results.\n",
      "Setting `pad_token_id` to `eos_token_id`:128001 for open-end generation.\n"
     ]
    },
    {
     "name": "stdout",
     "output_type": "stream",
     "text": [
      "Predicted:  neutral\n",
      "Baseline:  disgust\n",
      "Incorrect\n",
      "------------------------------------\n",
      "Iter 237\n",
      "------------------------------------\n"
     ]
    },
    {
     "name": "stderr",
     "output_type": "stream",
     "text": [
      "The attention mask and the pad token id were not set. As a consequence, you may observe unexpected behavior. Please pass your input's `attention_mask` to obtain reliable results.\n",
      "Setting `pad_token_id` to `eos_token_id`:128001 for open-end generation.\n"
     ]
    },
    {
     "name": "stdout",
     "output_type": "stream",
     "text": [
      "Predicted:  anger\n",
      "Baseline:  surprise\n",
      "Incorrect\n",
      "------------------------------------\n",
      "Iter 238\n",
      "------------------------------------\n"
     ]
    },
    {
     "name": "stderr",
     "output_type": "stream",
     "text": [
      "The attention mask and the pad token id were not set. As a consequence, you may observe unexpected behavior. Please pass your input's `attention_mask` to obtain reliable results.\n",
      "Setting `pad_token_id` to `eos_token_id`:128001 for open-end generation.\n"
     ]
    },
    {
     "name": "stdout",
     "output_type": "stream",
     "text": [
      "Predicted:  anger\n",
      "Baseline:  neutral\n",
      "Incorrect\n",
      "------------------------------------\n",
      "Iter 239\n",
      "------------------------------------\n"
     ]
    },
    {
     "name": "stderr",
     "output_type": "stream",
     "text": [
      "The attention mask and the pad token id were not set. As a consequence, you may observe unexpected behavior. Please pass your input's `attention_mask` to obtain reliable results.\n",
      "Setting `pad_token_id` to `eos_token_id`:128001 for open-end generation.\n"
     ]
    },
    {
     "name": "stdout",
     "output_type": "stream",
     "text": [
      "Predicted:  anger\n",
      "Baseline:  neutral\n",
      "Incorrect\n",
      "------------------------------------\n",
      "Iter 240\n",
      "------------------------------------\n"
     ]
    },
    {
     "name": "stderr",
     "output_type": "stream",
     "text": [
      "The attention mask and the pad token id were not set. As a consequence, you may observe unexpected behavior. Please pass your input's `attention_mask` to obtain reliable results.\n",
      "Setting `pad_token_id` to `eos_token_id`:128001 for open-end generation.\n"
     ]
    },
    {
     "name": "stdout",
     "output_type": "stream",
     "text": [
      "Predicted:  anger\n",
      "Baseline:  anger\n",
      "Correct\n",
      "------------------------------------\n",
      "Iter 241\n",
      "------------------------------------\n"
     ]
    },
    {
     "name": "stderr",
     "output_type": "stream",
     "text": [
      "The attention mask and the pad token id were not set. As a consequence, you may observe unexpected behavior. Please pass your input's `attention_mask` to obtain reliable results.\n",
      "Setting `pad_token_id` to `eos_token_id`:128001 for open-end generation.\n"
     ]
    },
    {
     "name": "stdout",
     "output_type": "stream",
     "text": [
      "Predicted:  neutral\n",
      "Baseline:  surprise\n",
      "Incorrect\n",
      "------------------------------------\n",
      "Iter 242\n",
      "------------------------------------\n"
     ]
    },
    {
     "name": "stderr",
     "output_type": "stream",
     "text": [
      "The attention mask and the pad token id were not set. As a consequence, you may observe unexpected behavior. Please pass your input's `attention_mask` to obtain reliable results.\n",
      "Setting `pad_token_id` to `eos_token_id`:128001 for open-end generation.\n"
     ]
    },
    {
     "name": "stdout",
     "output_type": "stream",
     "text": [
      "Predicted:  surprise\n",
      "Baseline:  surprise\n",
      "Correct\n",
      "------------------------------------\n",
      "Iter 243\n",
      "------------------------------------\n"
     ]
    },
    {
     "name": "stderr",
     "output_type": "stream",
     "text": [
      "The attention mask and the pad token id were not set. As a consequence, you may observe unexpected behavior. Please pass your input's `attention_mask` to obtain reliable results.\n",
      "Setting `pad_token_id` to `eos_token_id`:128001 for open-end generation.\n"
     ]
    },
    {
     "name": "stdout",
     "output_type": "stream",
     "text": [
      "Predicted:  neutral\n",
      "Baseline:  neutral\n",
      "Correct\n",
      "------------------------------------\n",
      "Iter 244\n",
      "------------------------------------\n"
     ]
    },
    {
     "name": "stderr",
     "output_type": "stream",
     "text": [
      "The attention mask and the pad token id were not set. As a consequence, you may observe unexpected behavior. Please pass your input's `attention_mask` to obtain reliable results.\n",
      "Setting `pad_token_id` to `eos_token_id`:128001 for open-end generation.\n"
     ]
    },
    {
     "name": "stdout",
     "output_type": "stream",
     "text": [
      "Predicted:  neutral\n",
      "Baseline:  sadness\n",
      "Incorrect\n",
      "------------------------------------\n",
      "Iter 245\n",
      "------------------------------------\n"
     ]
    },
    {
     "name": "stderr",
     "output_type": "stream",
     "text": [
      "The attention mask and the pad token id were not set. As a consequence, you may observe unexpected behavior. Please pass your input's `attention_mask` to obtain reliable results.\n",
      "Setting `pad_token_id` to `eos_token_id`:128001 for open-end generation.\n"
     ]
    },
    {
     "name": "stdout",
     "output_type": "stream",
     "text": [
      "Predicted:  anger\n",
      "Baseline:  surprise\n",
      "Incorrect\n",
      "------------------------------------\n",
      "Iter 246\n",
      "------------------------------------\n"
     ]
    },
    {
     "name": "stderr",
     "output_type": "stream",
     "text": [
      "The attention mask and the pad token id were not set. As a consequence, you may observe unexpected behavior. Please pass your input's `attention_mask` to obtain reliable results.\n",
      "Setting `pad_token_id` to `eos_token_id`:128001 for open-end generation.\n"
     ]
    },
    {
     "name": "stdout",
     "output_type": "stream",
     "text": [
      "Predicted:  neutral\n",
      "Baseline:  neutral\n",
      "Correct\n",
      "------------------------------------\n",
      "Iter 247\n",
      "------------------------------------\n"
     ]
    },
    {
     "name": "stderr",
     "output_type": "stream",
     "text": [
      "The attention mask and the pad token id were not set. As a consequence, you may observe unexpected behavior. Please pass your input's `attention_mask` to obtain reliable results.\n",
      "Setting `pad_token_id` to `eos_token_id`:128001 for open-end generation.\n"
     ]
    },
    {
     "name": "stdout",
     "output_type": "stream",
     "text": [
      "Predicted:  disgust\n",
      "Baseline:  anger\n",
      "Incorrect\n",
      "------------------------------------\n",
      "Iter 248\n",
      "------------------------------------\n"
     ]
    },
    {
     "name": "stderr",
     "output_type": "stream",
     "text": [
      "The attention mask and the pad token id were not set. As a consequence, you may observe unexpected behavior. Please pass your input's `attention_mask` to obtain reliable results.\n",
      "Setting `pad_token_id` to `eos_token_id`:128001 for open-end generation.\n"
     ]
    },
    {
     "name": "stdout",
     "output_type": "stream",
     "text": [
      "Predicted:  neutral\n",
      "Baseline:  neutral\n",
      "Correct\n",
      "------------------------------------\n",
      "Iter 249\n",
      "------------------------------------\n"
     ]
    },
    {
     "name": "stderr",
     "output_type": "stream",
     "text": [
      "The attention mask and the pad token id were not set. As a consequence, you may observe unexpected behavior. Please pass your input's `attention_mask` to obtain reliable results.\n",
      "Setting `pad_token_id` to `eos_token_id`:128001 for open-end generation.\n"
     ]
    },
    {
     "name": "stdout",
     "output_type": "stream",
     "text": [
      "Predicted:  anger\n",
      "Baseline:  disgust\n",
      "Incorrect\n",
      "------------------------------------\n",
      "Iter 250\n",
      "------------------------------------\n"
     ]
    },
    {
     "name": "stderr",
     "output_type": "stream",
     "text": [
      "The attention mask and the pad token id were not set. As a consequence, you may observe unexpected behavior. Please pass your input's `attention_mask` to obtain reliable results.\n",
      "Setting `pad_token_id` to `eos_token_id`:128001 for open-end generation.\n"
     ]
    },
    {
     "name": "stdout",
     "output_type": "stream",
     "text": [
      "Predicted:  disgust\n",
      "Baseline:  anger\n",
      "Incorrect\n",
      "------------------------------------\n",
      "Iter 251\n",
      "------------------------------------\n"
     ]
    },
    {
     "name": "stderr",
     "output_type": "stream",
     "text": [
      "The attention mask and the pad token id were not set. As a consequence, you may observe unexpected behavior. Please pass your input's `attention_mask` to obtain reliable results.\n",
      "Setting `pad_token_id` to `eos_token_id`:128001 for open-end generation.\n"
     ]
    },
    {
     "name": "stdout",
     "output_type": "stream",
     "text": [
      "Predicted:  neutral\n",
      "Baseline:  neutral\n",
      "Correct\n",
      "------------------------------------\n",
      "Iter 252\n",
      "------------------------------------\n"
     ]
    },
    {
     "name": "stderr",
     "output_type": "stream",
     "text": [
      "The attention mask and the pad token id were not set. As a consequence, you may observe unexpected behavior. Please pass your input's `attention_mask` to obtain reliable results.\n",
      "Setting `pad_token_id` to `eos_token_id`:128001 for open-end generation.\n"
     ]
    },
    {
     "name": "stdout",
     "output_type": "stream",
     "text": [
      "Predicted:  neutral\n",
      "Baseline:  disgust\n",
      "Incorrect\n",
      "------------------------------------\n",
      "Iter 253\n",
      "------------------------------------\n"
     ]
    },
    {
     "name": "stderr",
     "output_type": "stream",
     "text": [
      "The attention mask and the pad token id were not set. As a consequence, you may observe unexpected behavior. Please pass your input's `attention_mask` to obtain reliable results.\n",
      "Setting `pad_token_id` to `eos_token_id`:128001 for open-end generation.\n"
     ]
    },
    {
     "name": "stdout",
     "output_type": "stream",
     "text": [
      "Predicted:  sadness\n",
      "Baseline:  sadness\n",
      "Correct\n",
      "------------------------------------\n",
      "Iter 254\n",
      "------------------------------------\n"
     ]
    },
    {
     "name": "stderr",
     "output_type": "stream",
     "text": [
      "The attention mask and the pad token id were not set. As a consequence, you may observe unexpected behavior. Please pass your input's `attention_mask` to obtain reliable results.\n",
      "Setting `pad_token_id` to `eos_token_id`:128001 for open-end generation.\n"
     ]
    },
    {
     "name": "stdout",
     "output_type": "stream",
     "text": [
      "Predicted:  neutral\n",
      "Baseline:  anger\n",
      "Incorrect\n",
      "------------------------------------\n",
      "Iter 255\n",
      "------------------------------------\n"
     ]
    },
    {
     "name": "stderr",
     "output_type": "stream",
     "text": [
      "The attention mask and the pad token id were not set. As a consequence, you may observe unexpected behavior. Please pass your input's `attention_mask` to obtain reliable results.\n",
      "Setting `pad_token_id` to `eos_token_id`:128001 for open-end generation.\n"
     ]
    },
    {
     "name": "stdout",
     "output_type": "stream",
     "text": [
      "Predicted:  joy\n",
      "Baseline:  anger\n",
      "Incorrect\n",
      "------------------------------------\n",
      "Iter 256\n",
      "------------------------------------\n"
     ]
    },
    {
     "name": "stderr",
     "output_type": "stream",
     "text": [
      "The attention mask and the pad token id were not set. As a consequence, you may observe unexpected behavior. Please pass your input's `attention_mask` to obtain reliable results.\n",
      "Setting `pad_token_id` to `eos_token_id`:128001 for open-end generation.\n"
     ]
    },
    {
     "name": "stdout",
     "output_type": "stream",
     "text": [
      "Predicted:  neutral\n",
      "Baseline:  neutral\n",
      "Correct\n",
      "------------------------------------\n",
      "Iter 257\n",
      "------------------------------------\n"
     ]
    },
    {
     "name": "stderr",
     "output_type": "stream",
     "text": [
      "The attention mask and the pad token id were not set. As a consequence, you may observe unexpected behavior. Please pass your input's `attention_mask` to obtain reliable results.\n",
      "Setting `pad_token_id` to `eos_token_id`:128001 for open-end generation.\n"
     ]
    },
    {
     "name": "stdout",
     "output_type": "stream",
     "text": [
      "Predicted:  sadness\n",
      "Baseline:  sadness\n",
      "Correct\n",
      "------------------------------------\n",
      "Iter 258\n",
      "------------------------------------\n"
     ]
    },
    {
     "name": "stderr",
     "output_type": "stream",
     "text": [
      "The attention mask and the pad token id were not set. As a consequence, you may observe unexpected behavior. Please pass your input's `attention_mask` to obtain reliable results.\n",
      "Setting `pad_token_id` to `eos_token_id`:128001 for open-end generation.\n"
     ]
    },
    {
     "name": "stdout",
     "output_type": "stream",
     "text": [
      "Predicted:  neutral\n",
      "Baseline:  neutral\n",
      "Correct\n",
      "------------------------------------\n",
      "Iter 259\n",
      "------------------------------------\n"
     ]
    },
    {
     "name": "stderr",
     "output_type": "stream",
     "text": [
      "The attention mask and the pad token id were not set. As a consequence, you may observe unexpected behavior. Please pass your input's `attention_mask` to obtain reliable results.\n",
      "Setting `pad_token_id` to `eos_token_id`:128001 for open-end generation.\n"
     ]
    },
    {
     "name": "stdout",
     "output_type": "stream",
     "text": [
      "Predicted:  neutral\n",
      "Baseline:  neutral\n",
      "Correct\n",
      "------------------------------------\n",
      "Iter 260\n",
      "------------------------------------\n"
     ]
    },
    {
     "name": "stderr",
     "output_type": "stream",
     "text": [
      "The attention mask and the pad token id were not set. As a consequence, you may observe unexpected behavior. Please pass your input's `attention_mask` to obtain reliable results.\n",
      "Setting `pad_token_id` to `eos_token_id`:128001 for open-end generation.\n"
     ]
    },
    {
     "name": "stdout",
     "output_type": "stream",
     "text": [
      "Predicted:  anger\n",
      "Baseline:  anger\n",
      "Correct\n",
      "------------------------------------\n",
      "Iter 261\n",
      "------------------------------------\n"
     ]
    },
    {
     "name": "stderr",
     "output_type": "stream",
     "text": [
      "The attention mask and the pad token id were not set. As a consequence, you may observe unexpected behavior. Please pass your input's `attention_mask` to obtain reliable results.\n",
      "Setting `pad_token_id` to `eos_token_id`:128001 for open-end generation.\n"
     ]
    },
    {
     "name": "stdout",
     "output_type": "stream",
     "text": [
      "Predicted:  neutral\n",
      "Baseline:  neutral\n",
      "Correct\n",
      "------------------------------------\n",
      "Iter 262\n",
      "------------------------------------\n"
     ]
    },
    {
     "name": "stderr",
     "output_type": "stream",
     "text": [
      "The attention mask and the pad token id were not set. As a consequence, you may observe unexpected behavior. Please pass your input's `attention_mask` to obtain reliable results.\n",
      "Setting `pad_token_id` to `eos_token_id`:128001 for open-end generation.\n"
     ]
    },
    {
     "name": "stdout",
     "output_type": "stream",
     "text": [
      "Predicted:  joy\n",
      "Baseline:  joy\n",
      "Correct\n",
      "------------------------------------\n",
      "Iter 263\n",
      "------------------------------------\n"
     ]
    },
    {
     "name": "stderr",
     "output_type": "stream",
     "text": [
      "The attention mask and the pad token id were not set. As a consequence, you may observe unexpected behavior. Please pass your input's `attention_mask` to obtain reliable results.\n",
      "Setting `pad_token_id` to `eos_token_id`:128001 for open-end generation.\n"
     ]
    },
    {
     "name": "stdout",
     "output_type": "stream",
     "text": [
      "Predicted:  anger\n",
      "Baseline:  joy\n",
      "Incorrect\n",
      "------------------------------------\n",
      "Iter 264\n",
      "------------------------------------\n"
     ]
    },
    {
     "name": "stderr",
     "output_type": "stream",
     "text": [
      "The attention mask and the pad token id were not set. As a consequence, you may observe unexpected behavior. Please pass your input's `attention_mask` to obtain reliable results.\n",
      "Setting `pad_token_id` to `eos_token_id`:128001 for open-end generation.\n"
     ]
    },
    {
     "name": "stdout",
     "output_type": "stream",
     "text": [
      "Predicted:  neutral\n",
      "Baseline:  sadness\n",
      "Incorrect\n",
      "------------------------------------\n",
      "Iter 265\n",
      "------------------------------------\n"
     ]
    },
    {
     "name": "stderr",
     "output_type": "stream",
     "text": [
      "The attention mask and the pad token id were not set. As a consequence, you may observe unexpected behavior. Please pass your input's `attention_mask` to obtain reliable results.\n",
      "Setting `pad_token_id` to `eos_token_id`:128001 for open-end generation.\n"
     ]
    },
    {
     "name": "stdout",
     "output_type": "stream",
     "text": [
      "Predicted:  neutral\n",
      "Baseline:  neutral\n",
      "Correct\n",
      "------------------------------------\n",
      "Iter 266\n",
      "------------------------------------\n"
     ]
    },
    {
     "name": "stderr",
     "output_type": "stream",
     "text": [
      "The attention mask and the pad token id were not set. As a consequence, you may observe unexpected behavior. Please pass your input's `attention_mask` to obtain reliable results.\n",
      "Setting `pad_token_id` to `eos_token_id`:128001 for open-end generation.\n"
     ]
    },
    {
     "name": "stdout",
     "output_type": "stream",
     "text": [
      "Predicted:  joy\n",
      "Baseline:  joy\n",
      "Correct\n",
      "------------------------------------\n",
      "Iter 267\n",
      "------------------------------------\n"
     ]
    },
    {
     "name": "stderr",
     "output_type": "stream",
     "text": [
      "The attention mask and the pad token id were not set. As a consequence, you may observe unexpected behavior. Please pass your input's `attention_mask` to obtain reliable results.\n",
      "Setting `pad_token_id` to `eos_token_id`:128001 for open-end generation.\n"
     ]
    },
    {
     "name": "stdout",
     "output_type": "stream",
     "text": [
      "Predicted:  neutral\n",
      "Baseline:  neutral\n",
      "Correct\n",
      "------------------------------------\n",
      "Iter 268\n",
      "------------------------------------\n"
     ]
    },
    {
     "name": "stderr",
     "output_type": "stream",
     "text": [
      "The attention mask and the pad token id were not set. As a consequence, you may observe unexpected behavior. Please pass your input's `attention_mask` to obtain reliable results.\n",
      "Setting `pad_token_id` to `eos_token_id`:128001 for open-end generation.\n"
     ]
    },
    {
     "name": "stdout",
     "output_type": "stream",
     "text": [
      "Predicted:  neutral\n",
      "Baseline:  joy\n",
      "Incorrect\n",
      "------------------------------------\n",
      "Iter 269\n",
      "------------------------------------\n"
     ]
    },
    {
     "name": "stderr",
     "output_type": "stream",
     "text": [
      "The attention mask and the pad token id were not set. As a consequence, you may observe unexpected behavior. Please pass your input's `attention_mask` to obtain reliable results.\n",
      "Setting `pad_token_id` to `eos_token_id`:128001 for open-end generation.\n"
     ]
    },
    {
     "name": "stdout",
     "output_type": "stream",
     "text": [
      "Predicted:  neutral\n",
      "Baseline:  neutral\n",
      "Correct\n",
      "------------------------------------\n",
      "Iter 270\n",
      "------------------------------------\n"
     ]
    },
    {
     "name": "stderr",
     "output_type": "stream",
     "text": [
      "The attention mask and the pad token id were not set. As a consequence, you may observe unexpected behavior. Please pass your input's `attention_mask` to obtain reliable results.\n",
      "Setting `pad_token_id` to `eos_token_id`:128001 for open-end generation.\n"
     ]
    },
    {
     "name": "stdout",
     "output_type": "stream",
     "text": [
      "Predicted:  anger\n",
      "Baseline:  sadness\n",
      "Incorrect\n",
      "------------------------------------\n",
      "Iter 271\n",
      "------------------------------------\n"
     ]
    },
    {
     "name": "stderr",
     "output_type": "stream",
     "text": [
      "The attention mask and the pad token id were not set. As a consequence, you may observe unexpected behavior. Please pass your input's `attention_mask` to obtain reliable results.\n",
      "Setting `pad_token_id` to `eos_token_id`:128001 for open-end generation.\n"
     ]
    },
    {
     "name": "stdout",
     "output_type": "stream",
     "text": [
      "Predicted:  neutral\n",
      "Baseline:  neutral\n",
      "Correct\n",
      "------------------------------------\n",
      "Iter 272\n",
      "------------------------------------\n"
     ]
    },
    {
     "name": "stderr",
     "output_type": "stream",
     "text": [
      "The attention mask and the pad token id were not set. As a consequence, you may observe unexpected behavior. Please pass your input's `attention_mask` to obtain reliable results.\n",
      "Setting `pad_token_id` to `eos_token_id`:128001 for open-end generation.\n"
     ]
    },
    {
     "name": "stdout",
     "output_type": "stream",
     "text": [
      "Predicted:  neutral\n",
      "Baseline:  neutral\n",
      "Correct\n",
      "------------------------------------\n",
      "Iter 273\n",
      "------------------------------------\n"
     ]
    },
    {
     "name": "stderr",
     "output_type": "stream",
     "text": [
      "The attention mask and the pad token id were not set. As a consequence, you may observe unexpected behavior. Please pass your input's `attention_mask` to obtain reliable results.\n",
      "Setting `pad_token_id` to `eos_token_id`:128001 for open-end generation.\n"
     ]
    },
    {
     "name": "stdout",
     "output_type": "stream",
     "text": [
      "Predicted:  neutral\n",
      "Baseline:  neutral\n",
      "Correct\n",
      "------------------------------------\n",
      "Iter 274\n",
      "------------------------------------\n"
     ]
    },
    {
     "name": "stderr",
     "output_type": "stream",
     "text": [
      "The attention mask and the pad token id were not set. As a consequence, you may observe unexpected behavior. Please pass your input's `attention_mask` to obtain reliable results.\n",
      "Setting `pad_token_id` to `eos_token_id`:128001 for open-end generation.\n"
     ]
    },
    {
     "name": "stdout",
     "output_type": "stream",
     "text": [
      "Predicted:  joy\n",
      "Baseline:  joy\n",
      "Correct\n",
      "------------------------------------\n",
      "Iter 275\n",
      "------------------------------------\n"
     ]
    },
    {
     "name": "stderr",
     "output_type": "stream",
     "text": [
      "The attention mask and the pad token id were not set. As a consequence, you may observe unexpected behavior. Please pass your input's `attention_mask` to obtain reliable results.\n",
      "Setting `pad_token_id` to `eos_token_id`:128001 for open-end generation.\n"
     ]
    },
    {
     "name": "stdout",
     "output_type": "stream",
     "text": [
      "Predicted:  joy\n",
      "Baseline:  joy\n",
      "Correct\n",
      "------------------------------------\n",
      "Iter 276\n",
      "------------------------------------\n"
     ]
    },
    {
     "name": "stderr",
     "output_type": "stream",
     "text": [
      "The attention mask and the pad token id were not set. As a consequence, you may observe unexpected behavior. Please pass your input's `attention_mask` to obtain reliable results.\n",
      "Setting `pad_token_id` to `eos_token_id`:128001 for open-end generation.\n"
     ]
    },
    {
     "name": "stdout",
     "output_type": "stream",
     "text": [
      "Predicted:  neutral\n",
      "Baseline:  neutral\n",
      "Correct\n",
      "------------------------------------\n",
      "Iter 277\n",
      "------------------------------------\n"
     ]
    },
    {
     "name": "stderr",
     "output_type": "stream",
     "text": [
      "The attention mask and the pad token id were not set. As a consequence, you may observe unexpected behavior. Please pass your input's `attention_mask` to obtain reliable results.\n",
      "Setting `pad_token_id` to `eos_token_id`:128001 for open-end generation.\n"
     ]
    },
    {
     "name": "stdout",
     "output_type": "stream",
     "text": [
      "Predicted:  joy\n",
      "Baseline:  neutral\n",
      "Incorrect\n",
      "------------------------------------\n",
      "Iter 278\n",
      "------------------------------------\n"
     ]
    },
    {
     "name": "stderr",
     "output_type": "stream",
     "text": [
      "The attention mask and the pad token id were not set. As a consequence, you may observe unexpected behavior. Please pass your input's `attention_mask` to obtain reliable results.\n",
      "Setting `pad_token_id` to `eos_token_id`:128001 for open-end generation.\n"
     ]
    },
    {
     "name": "stdout",
     "output_type": "stream",
     "text": [
      "Predicted:  neutral\n",
      "Baseline:  neutral\n",
      "Correct\n",
      "------------------------------------\n",
      "Iter 279\n",
      "------------------------------------\n"
     ]
    },
    {
     "name": "stderr",
     "output_type": "stream",
     "text": [
      "The attention mask and the pad token id were not set. As a consequence, you may observe unexpected behavior. Please pass your input's `attention_mask` to obtain reliable results.\n",
      "Setting `pad_token_id` to `eos_token_id`:128001 for open-end generation.\n"
     ]
    },
    {
     "name": "stdout",
     "output_type": "stream",
     "text": [
      "Predicted:  joy\n",
      "Baseline:  joy\n",
      "Correct\n",
      "------------------------------------\n",
      "Iter 280\n",
      "------------------------------------\n"
     ]
    },
    {
     "name": "stderr",
     "output_type": "stream",
     "text": [
      "The attention mask and the pad token id were not set. As a consequence, you may observe unexpected behavior. Please pass your input's `attention_mask` to obtain reliable results.\n",
      "Setting `pad_token_id` to `eos_token_id`:128001 for open-end generation.\n"
     ]
    },
    {
     "name": "stdout",
     "output_type": "stream",
     "text": [
      "Predicted:  anger\n",
      "Baseline:  neutral\n",
      "Incorrect\n",
      "------------------------------------\n",
      "Iter 281\n",
      "------------------------------------\n"
     ]
    },
    {
     "name": "stderr",
     "output_type": "stream",
     "text": [
      "The attention mask and the pad token id were not set. As a consequence, you may observe unexpected behavior. Please pass your input's `attention_mask` to obtain reliable results.\n",
      "Setting `pad_token_id` to `eos_token_id`:128001 for open-end generation.\n"
     ]
    },
    {
     "name": "stdout",
     "output_type": "stream",
     "text": [
      "Predicted:  sadness\n",
      "Baseline:  sadness\n",
      "Correct\n",
      "------------------------------------\n",
      "Iter 282\n",
      "------------------------------------\n"
     ]
    },
    {
     "name": "stderr",
     "output_type": "stream",
     "text": [
      "The attention mask and the pad token id were not set. As a consequence, you may observe unexpected behavior. Please pass your input's `attention_mask` to obtain reliable results.\n",
      "Setting `pad_token_id` to `eos_token_id`:128001 for open-end generation.\n"
     ]
    },
    {
     "name": "stdout",
     "output_type": "stream",
     "text": [
      "Predicted:  sadness\n",
      "Baseline:  sadness\n",
      "Correct\n",
      "------------------------------------\n",
      "Iter 283\n",
      "------------------------------------\n"
     ]
    },
    {
     "name": "stderr",
     "output_type": "stream",
     "text": [
      "The attention mask and the pad token id were not set. As a consequence, you may observe unexpected behavior. Please pass your input's `attention_mask` to obtain reliable results.\n",
      "Setting `pad_token_id` to `eos_token_id`:128001 for open-end generation.\n"
     ]
    },
    {
     "name": "stdout",
     "output_type": "stream",
     "text": [
      "Predicted:  sadness\n",
      "Baseline:  sadness\n",
      "Correct\n",
      "------------------------------------\n",
      "Iter 284\n",
      "------------------------------------\n"
     ]
    },
    {
     "name": "stderr",
     "output_type": "stream",
     "text": [
      "The attention mask and the pad token id were not set. As a consequence, you may observe unexpected behavior. Please pass your input's `attention_mask` to obtain reliable results.\n",
      "Setting `pad_token_id` to `eos_token_id`:128001 for open-end generation.\n"
     ]
    },
    {
     "name": "stdout",
     "output_type": "stream",
     "text": [
      "Predicted:  sadness\n",
      "Baseline:  sadness\n",
      "Correct\n",
      "------------------------------------\n",
      "Iter 285\n",
      "------------------------------------\n"
     ]
    },
    {
     "name": "stderr",
     "output_type": "stream",
     "text": [
      "The attention mask and the pad token id were not set. As a consequence, you may observe unexpected behavior. Please pass your input's `attention_mask` to obtain reliable results.\n",
      "Setting `pad_token_id` to `eos_token_id`:128001 for open-end generation.\n"
     ]
    },
    {
     "name": "stdout",
     "output_type": "stream",
     "text": [
      "Predicted:  joy\n",
      "Baseline:  joy\n",
      "Correct\n",
      "------------------------------------\n",
      "Iter 286\n",
      "------------------------------------\n"
     ]
    },
    {
     "name": "stderr",
     "output_type": "stream",
     "text": [
      "The attention mask and the pad token id were not set. As a consequence, you may observe unexpected behavior. Please pass your input's `attention_mask` to obtain reliable results.\n",
      "Setting `pad_token_id` to `eos_token_id`:128001 for open-end generation.\n"
     ]
    },
    {
     "name": "stdout",
     "output_type": "stream",
     "text": [
      "Predicted:  joy\n",
      "Baseline:  joy\n",
      "Correct\n",
      "------------------------------------\n",
      "Iter 287\n",
      "------------------------------------\n"
     ]
    },
    {
     "name": "stderr",
     "output_type": "stream",
     "text": [
      "The attention mask and the pad token id were not set. As a consequence, you may observe unexpected behavior. Please pass your input's `attention_mask` to obtain reliable results.\n",
      "Setting `pad_token_id` to `eos_token_id`:128001 for open-end generation.\n"
     ]
    },
    {
     "name": "stdout",
     "output_type": "stream",
     "text": [
      "Predicted:  joy\n",
      "Baseline:  neutral\n",
      "Incorrect\n",
      "------------------------------------\n",
      "Iter 288\n",
      "------------------------------------\n"
     ]
    },
    {
     "name": "stderr",
     "output_type": "stream",
     "text": [
      "The attention mask and the pad token id were not set. As a consequence, you may observe unexpected behavior. Please pass your input's `attention_mask` to obtain reliable results.\n",
      "Setting `pad_token_id` to `eos_token_id`:128001 for open-end generation.\n"
     ]
    },
    {
     "name": "stdout",
     "output_type": "stream",
     "text": [
      "Predicted:  neutral\n",
      "Baseline:  neutral\n",
      "Correct\n",
      "------------------------------------\n",
      "Iter 289\n",
      "------------------------------------\n"
     ]
    },
    {
     "name": "stderr",
     "output_type": "stream",
     "text": [
      "The attention mask and the pad token id were not set. As a consequence, you may observe unexpected behavior. Please pass your input's `attention_mask` to obtain reliable results.\n",
      "Setting `pad_token_id` to `eos_token_id`:128001 for open-end generation.\n"
     ]
    },
    {
     "name": "stdout",
     "output_type": "stream",
     "text": [
      "Predicted:  neutral\n",
      "Baseline:  surprise\n",
      "Incorrect\n",
      "------------------------------------\n",
      "Iter 290\n",
      "------------------------------------\n"
     ]
    },
    {
     "name": "stderr",
     "output_type": "stream",
     "text": [
      "The attention mask and the pad token id were not set. As a consequence, you may observe unexpected behavior. Please pass your input's `attention_mask` to obtain reliable results.\n",
      "Setting `pad_token_id` to `eos_token_id`:128001 for open-end generation.\n"
     ]
    },
    {
     "name": "stdout",
     "output_type": "stream",
     "text": [
      "Predicted:  neutral\n",
      "Baseline:  sadness\n",
      "Incorrect\n",
      "------------------------------------\n",
      "Iter 291\n",
      "------------------------------------\n"
     ]
    },
    {
     "name": "stderr",
     "output_type": "stream",
     "text": [
      "The attention mask and the pad token id were not set. As a consequence, you may observe unexpected behavior. Please pass your input's `attention_mask` to obtain reliable results.\n",
      "Setting `pad_token_id` to `eos_token_id`:128001 for open-end generation.\n"
     ]
    },
    {
     "name": "stdout",
     "output_type": "stream",
     "text": [
      "Predicted:  neutral\n",
      "Baseline:  neutral\n",
      "Correct\n",
      "------------------------------------\n",
      "Iter 292\n",
      "------------------------------------\n"
     ]
    },
    {
     "name": "stderr",
     "output_type": "stream",
     "text": [
      "The attention mask and the pad token id were not set. As a consequence, you may observe unexpected behavior. Please pass your input's `attention_mask` to obtain reliable results.\n",
      "Setting `pad_token_id` to `eos_token_id`:128001 for open-end generation.\n"
     ]
    },
    {
     "name": "stdout",
     "output_type": "stream",
     "text": [
      "Predicted:  neutral\n",
      "Baseline:  fear\n",
      "Incorrect\n",
      "------------------------------------\n",
      "Iter 293\n",
      "------------------------------------\n"
     ]
    },
    {
     "name": "stderr",
     "output_type": "stream",
     "text": [
      "The attention mask and the pad token id were not set. As a consequence, you may observe unexpected behavior. Please pass your input's `attention_mask` to obtain reliable results.\n",
      "Setting `pad_token_id` to `eos_token_id`:128001 for open-end generation.\n"
     ]
    },
    {
     "name": "stdout",
     "output_type": "stream",
     "text": [
      "Predicted:  neutral\n",
      "Baseline:  neutral\n",
      "Correct\n",
      "------------------------------------\n",
      "Iter 294\n",
      "------------------------------------\n"
     ]
    },
    {
     "name": "stderr",
     "output_type": "stream",
     "text": [
      "The attention mask and the pad token id were not set. As a consequence, you may observe unexpected behavior. Please pass your input's `attention_mask` to obtain reliable results.\n",
      "Setting `pad_token_id` to `eos_token_id`:128001 for open-end generation.\n"
     ]
    },
    {
     "name": "stdout",
     "output_type": "stream",
     "text": [
      "Predicted:  neutral\n",
      "Baseline:  anger\n",
      "Incorrect\n",
      "------------------------------------\n",
      "Iter 295\n",
      "------------------------------------\n"
     ]
    },
    {
     "name": "stderr",
     "output_type": "stream",
     "text": [
      "The attention mask and the pad token id were not set. As a consequence, you may observe unexpected behavior. Please pass your input's `attention_mask` to obtain reliable results.\n",
      "Setting `pad_token_id` to `eos_token_id`:128001 for open-end generation.\n"
     ]
    },
    {
     "name": "stdout",
     "output_type": "stream",
     "text": [
      "Predicted:  anger\n",
      "Baseline:  anger\n",
      "Correct\n",
      "------------------------------------\n",
      "Iter 296\n",
      "------------------------------------\n"
     ]
    },
    {
     "name": "stderr",
     "output_type": "stream",
     "text": [
      "The attention mask and the pad token id were not set. As a consequence, you may observe unexpected behavior. Please pass your input's `attention_mask` to obtain reliable results.\n",
      "Setting `pad_token_id` to `eos_token_id`:128001 for open-end generation.\n"
     ]
    },
    {
     "name": "stdout",
     "output_type": "stream",
     "text": [
      "Predicted:  surprise\n",
      "Baseline:  surprise\n",
      "Correct\n",
      "------------------------------------\n",
      "Iter 297\n",
      "------------------------------------\n"
     ]
    },
    {
     "name": "stderr",
     "output_type": "stream",
     "text": [
      "The attention mask and the pad token id were not set. As a consequence, you may observe unexpected behavior. Please pass your input's `attention_mask` to obtain reliable results.\n",
      "Setting `pad_token_id` to `eos_token_id`:128001 for open-end generation.\n"
     ]
    },
    {
     "name": "stdout",
     "output_type": "stream",
     "text": [
      "Predicted:  neutral\n",
      "Baseline:  anger\n",
      "Incorrect\n",
      "------------------------------------\n",
      "Iter 298\n",
      "------------------------------------\n"
     ]
    },
    {
     "name": "stderr",
     "output_type": "stream",
     "text": [
      "The attention mask and the pad token id were not set. As a consequence, you may observe unexpected behavior. Please pass your input's `attention_mask` to obtain reliable results.\n",
      "Setting `pad_token_id` to `eos_token_id`:128001 for open-end generation.\n"
     ]
    },
    {
     "name": "stdout",
     "output_type": "stream",
     "text": [
      "Predicted:  neutral\n",
      "Baseline:  joy\n",
      "Incorrect\n",
      "------------------------------------\n",
      "Iter 299\n",
      "------------------------------------\n"
     ]
    },
    {
     "name": "stderr",
     "output_type": "stream",
     "text": [
      "The attention mask and the pad token id were not set. As a consequence, you may observe unexpected behavior. Please pass your input's `attention_mask` to obtain reliable results.\n",
      "Setting `pad_token_id` to `eos_token_id`:128001 for open-end generation.\n"
     ]
    },
    {
     "name": "stdout",
     "output_type": "stream",
     "text": [
      "Predicted:  anger\n",
      "Baseline:  sadness\n",
      "Incorrect\n",
      "------------------------------------\n",
      "Iter 300\n",
      "------------------------------------\n"
     ]
    },
    {
     "name": "stderr",
     "output_type": "stream",
     "text": [
      "The attention mask and the pad token id were not set. As a consequence, you may observe unexpected behavior. Please pass your input's `attention_mask` to obtain reliable results.\n",
      "Setting `pad_token_id` to `eos_token_id`:128001 for open-end generation.\n"
     ]
    },
    {
     "name": "stdout",
     "output_type": "stream",
     "text": [
      "Predicted:  surprise\n",
      "Baseline:  surprise\n",
      "Correct\n",
      "------------------------------------\n",
      "Iter 301\n",
      "------------------------------------\n"
     ]
    },
    {
     "name": "stderr",
     "output_type": "stream",
     "text": [
      "The attention mask and the pad token id were not set. As a consequence, you may observe unexpected behavior. Please pass your input's `attention_mask` to obtain reliable results.\n",
      "Setting `pad_token_id` to `eos_token_id`:128001 for open-end generation.\n"
     ]
    },
    {
     "name": "stdout",
     "output_type": "stream",
     "text": [
      "Predicted:  neutral\n",
      "Baseline:  neutral\n",
      "Correct\n",
      "------------------------------------\n",
      "Iter 302\n",
      "------------------------------------\n"
     ]
    },
    {
     "name": "stderr",
     "output_type": "stream",
     "text": [
      "The attention mask and the pad token id were not set. As a consequence, you may observe unexpected behavior. Please pass your input's `attention_mask` to obtain reliable results.\n",
      "Setting `pad_token_id` to `eos_token_id`:128001 for open-end generation.\n"
     ]
    },
    {
     "name": "stdout",
     "output_type": "stream",
     "text": [
      "Predicted:  anger\n",
      "Baseline:  sadness\n",
      "Incorrect\n",
      "------------------------------------\n",
      "Iter 303\n",
      "------------------------------------\n"
     ]
    },
    {
     "name": "stderr",
     "output_type": "stream",
     "text": [
      "The attention mask and the pad token id were not set. As a consequence, you may observe unexpected behavior. Please pass your input's `attention_mask` to obtain reliable results.\n",
      "Setting `pad_token_id` to `eos_token_id`:128001 for open-end generation.\n"
     ]
    },
    {
     "name": "stdout",
     "output_type": "stream",
     "text": [
      "Predicted:  neutral\n",
      "Baseline:  neutral\n",
      "Correct\n",
      "------------------------------------\n",
      "Iter 304\n",
      "------------------------------------\n"
     ]
    },
    {
     "name": "stderr",
     "output_type": "stream",
     "text": [
      "The attention mask and the pad token id were not set. As a consequence, you may observe unexpected behavior. Please pass your input's `attention_mask` to obtain reliable results.\n",
      "Setting `pad_token_id` to `eos_token_id`:128001 for open-end generation.\n"
     ]
    },
    {
     "name": "stdout",
     "output_type": "stream",
     "text": [
      "Predicted:  neutral\n",
      "Baseline:  neutral\n",
      "Correct\n",
      "------------------------------------\n",
      "Iter 305\n",
      "------------------------------------\n"
     ]
    },
    {
     "name": "stderr",
     "output_type": "stream",
     "text": [
      "The attention mask and the pad token id were not set. As a consequence, you may observe unexpected behavior. Please pass your input's `attention_mask` to obtain reliable results.\n",
      "Setting `pad_token_id` to `eos_token_id`:128001 for open-end generation.\n"
     ]
    },
    {
     "name": "stdout",
     "output_type": "stream",
     "text": [
      "Predicted:  neutral\n",
      "Baseline:  neutral\n",
      "Correct\n",
      "------------------------------------\n",
      "Iter 306\n",
      "------------------------------------\n"
     ]
    },
    {
     "name": "stderr",
     "output_type": "stream",
     "text": [
      "The attention mask and the pad token id were not set. As a consequence, you may observe unexpected behavior. Please pass your input's `attention_mask` to obtain reliable results.\n",
      "Setting `pad_token_id` to `eos_token_id`:128001 for open-end generation.\n"
     ]
    },
    {
     "name": "stdout",
     "output_type": "stream",
     "text": [
      "Predicted:  neutral\n",
      "Baseline:  neutral\n",
      "Correct\n",
      "------------------------------------\n",
      "Iter 307\n",
      "------------------------------------\n"
     ]
    },
    {
     "name": "stderr",
     "output_type": "stream",
     "text": [
      "The attention mask and the pad token id were not set. As a consequence, you may observe unexpected behavior. Please pass your input's `attention_mask` to obtain reliable results.\n",
      "Setting `pad_token_id` to `eos_token_id`:128001 for open-end generation.\n"
     ]
    },
    {
     "name": "stdout",
     "output_type": "stream",
     "text": [
      "Predicted:  neutral\n",
      "Baseline:  neutral\n",
      "Correct\n",
      "------------------------------------\n",
      "Iter 308\n",
      "------------------------------------\n"
     ]
    },
    {
     "name": "stderr",
     "output_type": "stream",
     "text": [
      "The attention mask and the pad token id were not set. As a consequence, you may observe unexpected behavior. Please pass your input's `attention_mask` to obtain reliable results.\n",
      "Setting `pad_token_id` to `eos_token_id`:128001 for open-end generation.\n"
     ]
    },
    {
     "name": "stdout",
     "output_type": "stream",
     "text": [
      "Predicted:  neutral\n",
      "Baseline:  joy\n",
      "Incorrect\n",
      "------------------------------------\n",
      "Iter 309\n",
      "------------------------------------\n"
     ]
    },
    {
     "name": "stderr",
     "output_type": "stream",
     "text": [
      "The attention mask and the pad token id were not set. As a consequence, you may observe unexpected behavior. Please pass your input's `attention_mask` to obtain reliable results.\n",
      "Setting `pad_token_id` to `eos_token_id`:128001 for open-end generation.\n"
     ]
    },
    {
     "name": "stdout",
     "output_type": "stream",
     "text": [
      "Predicted:  neutral\n",
      "Baseline:  anger\n",
      "Incorrect\n",
      "------------------------------------\n",
      "Iter 310\n",
      "------------------------------------\n"
     ]
    },
    {
     "name": "stderr",
     "output_type": "stream",
     "text": [
      "The attention mask and the pad token id were not set. As a consequence, you may observe unexpected behavior. Please pass your input's `attention_mask` to obtain reliable results.\n",
      "Setting `pad_token_id` to `eos_token_id`:128001 for open-end generation.\n"
     ]
    },
    {
     "name": "stdout",
     "output_type": "stream",
     "text": [
      "Predicted:  neutral\n",
      "Baseline:  neutral\n",
      "Correct\n",
      "------------------------------------\n",
      "Iter 311\n",
      "------------------------------------\n"
     ]
    },
    {
     "name": "stderr",
     "output_type": "stream",
     "text": [
      "The attention mask and the pad token id were not set. As a consequence, you may observe unexpected behavior. Please pass your input's `attention_mask` to obtain reliable results.\n",
      "Setting `pad_token_id` to `eos_token_id`:128001 for open-end generation.\n"
     ]
    },
    {
     "name": "stdout",
     "output_type": "stream",
     "text": [
      "Predicted:  joy\n",
      "Baseline:  joy\n",
      "Correct\n",
      "------------------------------------\n",
      "Iter 312\n",
      "------------------------------------\n"
     ]
    },
    {
     "name": "stderr",
     "output_type": "stream",
     "text": [
      "The attention mask and the pad token id were not set. As a consequence, you may observe unexpected behavior. Please pass your input's `attention_mask` to obtain reliable results.\n",
      "Setting `pad_token_id` to `eos_token_id`:128001 for open-end generation.\n"
     ]
    },
    {
     "name": "stdout",
     "output_type": "stream",
     "text": [
      "Predicted:  neutral\n",
      "Baseline:  neutral\n",
      "Correct\n",
      "------------------------------------\n",
      "Iter 313\n",
      "------------------------------------\n"
     ]
    },
    {
     "name": "stderr",
     "output_type": "stream",
     "text": [
      "The attention mask and the pad token id were not set. As a consequence, you may observe unexpected behavior. Please pass your input's `attention_mask` to obtain reliable results.\n",
      "Setting `pad_token_id` to `eos_token_id`:128001 for open-end generation.\n"
     ]
    },
    {
     "name": "stdout",
     "output_type": "stream",
     "text": [
      "Predicted:  neutral\n",
      "Baseline:  neutral\n",
      "Correct\n",
      "------------------------------------\n",
      "Iter 314\n",
      "------------------------------------\n"
     ]
    },
    {
     "name": "stderr",
     "output_type": "stream",
     "text": [
      "The attention mask and the pad token id were not set. As a consequence, you may observe unexpected behavior. Please pass your input's `attention_mask` to obtain reliable results.\n",
      "Setting `pad_token_id` to `eos_token_id`:128001 for open-end generation.\n"
     ]
    },
    {
     "name": "stdout",
     "output_type": "stream",
     "text": [
      "Predicted:  neutral\n",
      "Baseline:  sadness\n",
      "Incorrect\n",
      "------------------------------------\n",
      "Iter 315\n",
      "------------------------------------\n"
     ]
    },
    {
     "name": "stderr",
     "output_type": "stream",
     "text": [
      "The attention mask and the pad token id were not set. As a consequence, you may observe unexpected behavior. Please pass your input's `attention_mask` to obtain reliable results.\n",
      "Setting `pad_token_id` to `eos_token_id`:128001 for open-end generation.\n"
     ]
    },
    {
     "name": "stdout",
     "output_type": "stream",
     "text": [
      "Predicted:  neutral\n",
      "Baseline:  neutral\n",
      "Correct\n",
      "------------------------------------\n",
      "Iter 316\n",
      "------------------------------------\n"
     ]
    },
    {
     "name": "stderr",
     "output_type": "stream",
     "text": [
      "The attention mask and the pad token id were not set. As a consequence, you may observe unexpected behavior. Please pass your input's `attention_mask` to obtain reliable results.\n",
      "Setting `pad_token_id` to `eos_token_id`:128001 for open-end generation.\n"
     ]
    },
    {
     "name": "stdout",
     "output_type": "stream",
     "text": [
      "Predicted:  surprise\n",
      "Baseline:  surprise\n",
      "Correct\n",
      "------------------------------------\n",
      "Iter 317\n",
      "------------------------------------\n"
     ]
    },
    {
     "name": "stderr",
     "output_type": "stream",
     "text": [
      "The attention mask and the pad token id were not set. As a consequence, you may observe unexpected behavior. Please pass your input's `attention_mask` to obtain reliable results.\n",
      "Setting `pad_token_id` to `eos_token_id`:128001 for open-end generation.\n"
     ]
    },
    {
     "name": "stdout",
     "output_type": "stream",
     "text": [
      "Predicted:  neutral\n",
      "Baseline:  neutral\n",
      "Correct\n",
      "------------------------------------\n",
      "Iter 318\n",
      "------------------------------------\n"
     ]
    },
    {
     "name": "stderr",
     "output_type": "stream",
     "text": [
      "The attention mask and the pad token id were not set. As a consequence, you may observe unexpected behavior. Please pass your input's `attention_mask` to obtain reliable results.\n",
      "Setting `pad_token_id` to `eos_token_id`:128001 for open-end generation.\n"
     ]
    },
    {
     "name": "stdout",
     "output_type": "stream",
     "text": [
      "Predicted:  neutral\n",
      "Baseline:  neutral\n",
      "Correct\n",
      "------------------------------------\n",
      "Iter 319\n",
      "------------------------------------\n"
     ]
    },
    {
     "name": "stderr",
     "output_type": "stream",
     "text": [
      "The attention mask and the pad token id were not set. As a consequence, you may observe unexpected behavior. Please pass your input's `attention_mask` to obtain reliable results.\n",
      "Setting `pad_token_id` to `eos_token_id`:128001 for open-end generation.\n"
     ]
    },
    {
     "name": "stdout",
     "output_type": "stream",
     "text": [
      "Predicted:  neutral\n",
      "Baseline:  neutral\n",
      "Correct\n",
      "------------------------------------\n",
      "Iter 320\n",
      "------------------------------------\n"
     ]
    },
    {
     "name": "stderr",
     "output_type": "stream",
     "text": [
      "The attention mask and the pad token id were not set. As a consequence, you may observe unexpected behavior. Please pass your input's `attention_mask` to obtain reliable results.\n",
      "Setting `pad_token_id` to `eos_token_id`:128001 for open-end generation.\n"
     ]
    },
    {
     "name": "stdout",
     "output_type": "stream",
     "text": [
      "Predicted:  neutral\n",
      "Baseline:  neutral\n",
      "Correct\n",
      "------------------------------------\n",
      "Iter 321\n",
      "------------------------------------\n"
     ]
    },
    {
     "name": "stderr",
     "output_type": "stream",
     "text": [
      "The attention mask and the pad token id were not set. As a consequence, you may observe unexpected behavior. Please pass your input's `attention_mask` to obtain reliable results.\n",
      "Setting `pad_token_id` to `eos_token_id`:128001 for open-end generation.\n"
     ]
    },
    {
     "name": "stdout",
     "output_type": "stream",
     "text": [
      "Predicted:  joy\n",
      "Baseline:  joy\n",
      "Correct\n",
      "------------------------------------\n",
      "Iter 322\n",
      "------------------------------------\n"
     ]
    },
    {
     "name": "stderr",
     "output_type": "stream",
     "text": [
      "The attention mask and the pad token id were not set. As a consequence, you may observe unexpected behavior. Please pass your input's `attention_mask` to obtain reliable results.\n",
      "Setting `pad_token_id` to `eos_token_id`:128001 for open-end generation.\n"
     ]
    },
    {
     "name": "stdout",
     "output_type": "stream",
     "text": [
      "Predicted:  surprise\n",
      "Baseline:  anger\n",
      "Incorrect\n",
      "------------------------------------\n",
      "Iter 323\n",
      "------------------------------------\n"
     ]
    },
    {
     "name": "stderr",
     "output_type": "stream",
     "text": [
      "The attention mask and the pad token id were not set. As a consequence, you may observe unexpected behavior. Please pass your input's `attention_mask` to obtain reliable results.\n",
      "Setting `pad_token_id` to `eos_token_id`:128001 for open-end generation.\n"
     ]
    },
    {
     "name": "stdout",
     "output_type": "stream",
     "text": [
      "Predicted:  neutral\n",
      "Baseline:  neutral\n",
      "Correct\n",
      "------------------------------------\n",
      "Iter 324\n",
      "------------------------------------\n"
     ]
    },
    {
     "name": "stderr",
     "output_type": "stream",
     "text": [
      "The attention mask and the pad token id were not set. As a consequence, you may observe unexpected behavior. Please pass your input's `attention_mask` to obtain reliable results.\n",
      "Setting `pad_token_id` to `eos_token_id`:128001 for open-end generation.\n"
     ]
    },
    {
     "name": "stdout",
     "output_type": "stream",
     "text": [
      "Predicted:  neutral\n",
      "Baseline:  neutral\n",
      "Correct\n",
      "------------------------------------\n",
      "Iter 325\n",
      "------------------------------------\n"
     ]
    },
    {
     "name": "stderr",
     "output_type": "stream",
     "text": [
      "The attention mask and the pad token id were not set. As a consequence, you may observe unexpected behavior. Please pass your input's `attention_mask` to obtain reliable results.\n",
      "Setting `pad_token_id` to `eos_token_id`:128001 for open-end generation.\n"
     ]
    },
    {
     "name": "stdout",
     "output_type": "stream",
     "text": [
      "Predicted:  neutral\n",
      "Baseline:  neutral\n",
      "Correct\n",
      "------------------------------------\n",
      "Iter 326\n",
      "------------------------------------\n"
     ]
    },
    {
     "name": "stderr",
     "output_type": "stream",
     "text": [
      "The attention mask and the pad token id were not set. As a consequence, you may observe unexpected behavior. Please pass your input's `attention_mask` to obtain reliable results.\n",
      "Setting `pad_token_id` to `eos_token_id`:128001 for open-end generation.\n"
     ]
    },
    {
     "name": "stdout",
     "output_type": "stream",
     "text": [
      "Predicted:  surprise\n",
      "Baseline:  surprise\n",
      "Correct\n",
      "------------------------------------\n",
      "Iter 327\n",
      "------------------------------------\n"
     ]
    },
    {
     "name": "stderr",
     "output_type": "stream",
     "text": [
      "The attention mask and the pad token id were not set. As a consequence, you may observe unexpected behavior. Please pass your input's `attention_mask` to obtain reliable results.\n",
      "Setting `pad_token_id` to `eos_token_id`:128001 for open-end generation.\n"
     ]
    },
    {
     "name": "stdout",
     "output_type": "stream",
     "text": [
      "Predicted:  surprise\n",
      "Baseline:  surprise\n",
      "Correct\n",
      "------------------------------------\n",
      "Iter 328\n",
      "------------------------------------\n"
     ]
    },
    {
     "name": "stderr",
     "output_type": "stream",
     "text": [
      "The attention mask and the pad token id were not set. As a consequence, you may observe unexpected behavior. Please pass your input's `attention_mask` to obtain reliable results.\n",
      "Setting `pad_token_id` to `eos_token_id`:128001 for open-end generation.\n"
     ]
    },
    {
     "name": "stdout",
     "output_type": "stream",
     "text": [
      "Predicted:  neutral\n",
      "Baseline:  neutral\n",
      "Correct\n",
      "------------------------------------\n",
      "Iter 329\n",
      "------------------------------------\n"
     ]
    },
    {
     "name": "stderr",
     "output_type": "stream",
     "text": [
      "The attention mask and the pad token id were not set. As a consequence, you may observe unexpected behavior. Please pass your input's `attention_mask` to obtain reliable results.\n",
      "Setting `pad_token_id` to `eos_token_id`:128001 for open-end generation.\n"
     ]
    },
    {
     "name": "stdout",
     "output_type": "stream",
     "text": [
      "Predicted:  surprise\n",
      "Baseline:  sadness\n",
      "Incorrect\n",
      "------------------------------------\n",
      "Iter 330\n",
      "------------------------------------\n"
     ]
    },
    {
     "name": "stderr",
     "output_type": "stream",
     "text": [
      "The attention mask and the pad token id were not set. As a consequence, you may observe unexpected behavior. Please pass your input's `attention_mask` to obtain reliable results.\n",
      "Setting `pad_token_id` to `eos_token_id`:128001 for open-end generation.\n"
     ]
    },
    {
     "name": "stdout",
     "output_type": "stream",
     "text": [
      "Predicted:  sadness\n",
      "Baseline:  sadness\n",
      "Correct\n",
      "------------------------------------\n",
      "Iter 331\n",
      "------------------------------------\n"
     ]
    },
    {
     "name": "stderr",
     "output_type": "stream",
     "text": [
      "The attention mask and the pad token id were not set. As a consequence, you may observe unexpected behavior. Please pass your input's `attention_mask` to obtain reliable results.\n",
      "Setting `pad_token_id` to `eos_token_id`:128001 for open-end generation.\n"
     ]
    },
    {
     "name": "stdout",
     "output_type": "stream",
     "text": [
      "Predicted:  surprise\n",
      "Baseline:  anger\n",
      "Incorrect\n",
      "------------------------------------\n",
      "Iter 332\n",
      "------------------------------------\n"
     ]
    },
    {
     "name": "stderr",
     "output_type": "stream",
     "text": [
      "The attention mask and the pad token id were not set. As a consequence, you may observe unexpected behavior. Please pass your input's `attention_mask` to obtain reliable results.\n",
      "Setting `pad_token_id` to `eos_token_id`:128001 for open-end generation.\n"
     ]
    },
    {
     "name": "stdout",
     "output_type": "stream",
     "text": [
      "Predicted:  neutral\n",
      "Baseline:  neutral\n",
      "Correct\n",
      "------------------------------------\n",
      "Iter 333\n",
      "------------------------------------\n"
     ]
    },
    {
     "name": "stderr",
     "output_type": "stream",
     "text": [
      "The attention mask and the pad token id were not set. As a consequence, you may observe unexpected behavior. Please pass your input's `attention_mask` to obtain reliable results.\n",
      "Setting `pad_token_id` to `eos_token_id`:128001 for open-end generation.\n"
     ]
    },
    {
     "name": "stdout",
     "output_type": "stream",
     "text": [
      "Predicted:  neutral\n",
      "Baseline:  neutral\n",
      "Correct\n",
      "------------------------------------\n",
      "Iter 334\n",
      "------------------------------------\n"
     ]
    },
    {
     "name": "stderr",
     "output_type": "stream",
     "text": [
      "The attention mask and the pad token id were not set. As a consequence, you may observe unexpected behavior. Please pass your input's `attention_mask` to obtain reliable results.\n",
      "Setting `pad_token_id` to `eos_token_id`:128001 for open-end generation.\n"
     ]
    },
    {
     "name": "stdout",
     "output_type": "stream",
     "text": [
      "Predicted:  joy\n",
      "Baseline:  anger\n",
      "Incorrect\n",
      "------------------------------------\n",
      "Iter 335\n",
      "------------------------------------\n"
     ]
    },
    {
     "name": "stderr",
     "output_type": "stream",
     "text": [
      "The attention mask and the pad token id were not set. As a consequence, you may observe unexpected behavior. Please pass your input's `attention_mask` to obtain reliable results.\n",
      "Setting `pad_token_id` to `eos_token_id`:128001 for open-end generation.\n"
     ]
    },
    {
     "name": "stdout",
     "output_type": "stream",
     "text": [
      "Predicted:  surprise\n",
      "Baseline:  sadness\n",
      "Incorrect\n",
      "------------------------------------\n",
      "Iter 336\n",
      "------------------------------------\n"
     ]
    },
    {
     "name": "stderr",
     "output_type": "stream",
     "text": [
      "The attention mask and the pad token id were not set. As a consequence, you may observe unexpected behavior. Please pass your input's `attention_mask` to obtain reliable results.\n",
      "Setting `pad_token_id` to `eos_token_id`:128001 for open-end generation.\n"
     ]
    },
    {
     "name": "stdout",
     "output_type": "stream",
     "text": [
      "Predicted:  neutral\n",
      "Baseline:  neutral\n",
      "Correct\n",
      "------------------------------------\n",
      "Iter 337\n",
      "------------------------------------\n"
     ]
    },
    {
     "name": "stderr",
     "output_type": "stream",
     "text": [
      "The attention mask and the pad token id were not set. As a consequence, you may observe unexpected behavior. Please pass your input's `attention_mask` to obtain reliable results.\n",
      "Setting `pad_token_id` to `eos_token_id`:128001 for open-end generation.\n"
     ]
    },
    {
     "name": "stdout",
     "output_type": "stream",
     "text": [
      "Predicted:  anger\n",
      "Baseline:  anger\n",
      "Correct\n",
      "------------------------------------\n",
      "Iter 338\n",
      "------------------------------------\n"
     ]
    },
    {
     "name": "stderr",
     "output_type": "stream",
     "text": [
      "The attention mask and the pad token id were not set. As a consequence, you may observe unexpected behavior. Please pass your input's `attention_mask` to obtain reliable results.\n",
      "Setting `pad_token_id` to `eos_token_id`:128001 for open-end generation.\n"
     ]
    },
    {
     "name": "stdout",
     "output_type": "stream",
     "text": [
      "Predicted:  neutral\n",
      "Baseline:  neutral\n",
      "Correct\n",
      "------------------------------------\n",
      "Iter 339\n",
      "------------------------------------\n"
     ]
    },
    {
     "name": "stderr",
     "output_type": "stream",
     "text": [
      "The attention mask and the pad token id were not set. As a consequence, you may observe unexpected behavior. Please pass your input's `attention_mask` to obtain reliable results.\n",
      "Setting `pad_token_id` to `eos_token_id`:128001 for open-end generation.\n"
     ]
    },
    {
     "name": "stdout",
     "output_type": "stream",
     "text": [
      "Predicted:  joy\n",
      "Baseline:  neutral\n",
      "Incorrect\n",
      "------------------------------------\n",
      "Iter 340\n",
      "------------------------------------\n"
     ]
    },
    {
     "name": "stderr",
     "output_type": "stream",
     "text": [
      "The attention mask and the pad token id were not set. As a consequence, you may observe unexpected behavior. Please pass your input's `attention_mask` to obtain reliable results.\n",
      "Setting `pad_token_id` to `eos_token_id`:128001 for open-end generation.\n"
     ]
    },
    {
     "name": "stdout",
     "output_type": "stream",
     "text": [
      "Predicted:  joy\n",
      "Baseline:  neutral\n",
      "Incorrect\n",
      "------------------------------------\n",
      "Iter 341\n",
      "------------------------------------\n"
     ]
    },
    {
     "name": "stderr",
     "output_type": "stream",
     "text": [
      "The attention mask and the pad token id were not set. As a consequence, you may observe unexpected behavior. Please pass your input's `attention_mask` to obtain reliable results.\n",
      "Setting `pad_token_id` to `eos_token_id`:128001 for open-end generation.\n"
     ]
    },
    {
     "name": "stdout",
     "output_type": "stream",
     "text": [
      "Predicted:  joy\n",
      "Baseline:  joy\n",
      "Correct\n",
      "------------------------------------\n",
      "Iter 342\n",
      "------------------------------------\n"
     ]
    },
    {
     "name": "stderr",
     "output_type": "stream",
     "text": [
      "The attention mask and the pad token id were not set. As a consequence, you may observe unexpected behavior. Please pass your input's `attention_mask` to obtain reliable results.\n",
      "Setting `pad_token_id` to `eos_token_id`:128001 for open-end generation.\n"
     ]
    },
    {
     "name": "stdout",
     "output_type": "stream",
     "text": [
      "Predicted:  anger\n",
      "Baseline:  anger\n",
      "Correct\n",
      "------------------------------------\n",
      "Iter 343\n",
      "------------------------------------\n"
     ]
    },
    {
     "name": "stderr",
     "output_type": "stream",
     "text": [
      "The attention mask and the pad token id were not set. As a consequence, you may observe unexpected behavior. Please pass your input's `attention_mask` to obtain reliable results.\n",
      "Setting `pad_token_id` to `eos_token_id`:128001 for open-end generation.\n"
     ]
    },
    {
     "name": "stdout",
     "output_type": "stream",
     "text": [
      "Predicted:  neutral\n",
      "Baseline:  neutral\n",
      "Correct\n",
      "------------------------------------\n",
      "Iter 344\n",
      "------------------------------------\n"
     ]
    },
    {
     "name": "stderr",
     "output_type": "stream",
     "text": [
      "The attention mask and the pad token id were not set. As a consequence, you may observe unexpected behavior. Please pass your input's `attention_mask` to obtain reliable results.\n",
      "Setting `pad_token_id` to `eos_token_id`:128001 for open-end generation.\n"
     ]
    },
    {
     "name": "stdout",
     "output_type": "stream",
     "text": [
      "Predicted:  neutral\n",
      "Baseline:  neutral\n",
      "Correct\n",
      "------------------------------------\n",
      "Iter 345\n",
      "------------------------------------\n"
     ]
    },
    {
     "name": "stderr",
     "output_type": "stream",
     "text": [
      "The attention mask and the pad token id were not set. As a consequence, you may observe unexpected behavior. Please pass your input's `attention_mask` to obtain reliable results.\n",
      "Setting `pad_token_id` to `eos_token_id`:128001 for open-end generation.\n"
     ]
    },
    {
     "name": "stdout",
     "output_type": "stream",
     "text": [
      "Predicted:  surprise\n",
      "Baseline:  surprise\n",
      "Correct\n",
      "------------------------------------\n",
      "Iter 346\n",
      "------------------------------------\n"
     ]
    },
    {
     "name": "stderr",
     "output_type": "stream",
     "text": [
      "The attention mask and the pad token id were not set. As a consequence, you may observe unexpected behavior. Please pass your input's `attention_mask` to obtain reliable results.\n",
      "Setting `pad_token_id` to `eos_token_id`:128001 for open-end generation.\n"
     ]
    },
    {
     "name": "stdout",
     "output_type": "stream",
     "text": [
      "Predicted:  neutral\n",
      "Baseline:  surprise\n",
      "Incorrect\n",
      "------------------------------------\n",
      "Iter 347\n",
      "------------------------------------\n"
     ]
    },
    {
     "name": "stderr",
     "output_type": "stream",
     "text": [
      "The attention mask and the pad token id were not set. As a consequence, you may observe unexpected behavior. Please pass your input's `attention_mask` to obtain reliable results.\n",
      "Setting `pad_token_id` to `eos_token_id`:128001 for open-end generation.\n"
     ]
    },
    {
     "name": "stdout",
     "output_type": "stream",
     "text": [
      "Predicted:  neutral\n",
      "Baseline:  neutral\n",
      "Correct\n",
      "------------------------------------\n",
      "Iter 348\n",
      "------------------------------------\n"
     ]
    },
    {
     "name": "stderr",
     "output_type": "stream",
     "text": [
      "The attention mask and the pad token id were not set. As a consequence, you may observe unexpected behavior. Please pass your input's `attention_mask` to obtain reliable results.\n",
      "Setting `pad_token_id` to `eos_token_id`:128001 for open-end generation.\n"
     ]
    },
    {
     "name": "stdout",
     "output_type": "stream",
     "text": [
      "Predicted:  neutral\n",
      "Baseline:  neutral\n",
      "Correct\n",
      "------------------------------------\n",
      "Iter 349\n",
      "------------------------------------\n"
     ]
    },
    {
     "name": "stderr",
     "output_type": "stream",
     "text": [
      "The attention mask and the pad token id were not set. As a consequence, you may observe unexpected behavior. Please pass your input's `attention_mask` to obtain reliable results.\n",
      "Setting `pad_token_id` to `eos_token_id`:128001 for open-end generation.\n"
     ]
    },
    {
     "name": "stdout",
     "output_type": "stream",
     "text": [
      "Predicted:  neutral\n",
      "Baseline:  neutral\n",
      "Correct\n",
      "------------------------------------\n",
      "Iter 350\n",
      "------------------------------------\n"
     ]
    },
    {
     "name": "stderr",
     "output_type": "stream",
     "text": [
      "The attention mask and the pad token id were not set. As a consequence, you may observe unexpected behavior. Please pass your input's `attention_mask` to obtain reliable results.\n",
      "Setting `pad_token_id` to `eos_token_id`:128001 for open-end generation.\n"
     ]
    },
    {
     "name": "stdout",
     "output_type": "stream",
     "text": [
      "Predicted:  joy\n",
      "Baseline:  surprise\n",
      "Incorrect\n",
      "------------------------------------\n",
      "Iter 351\n",
      "------------------------------------\n"
     ]
    },
    {
     "name": "stderr",
     "output_type": "stream",
     "text": [
      "The attention mask and the pad token id were not set. As a consequence, you may observe unexpected behavior. Please pass your input's `attention_mask` to obtain reliable results.\n",
      "Setting `pad_token_id` to `eos_token_id`:128001 for open-end generation.\n"
     ]
    },
    {
     "name": "stdout",
     "output_type": "stream",
     "text": [
      "Predicted:  neutral\n",
      "Baseline:  neutral\n",
      "Correct\n",
      "------------------------------------\n",
      "Iter 352\n",
      "------------------------------------\n"
     ]
    },
    {
     "name": "stderr",
     "output_type": "stream",
     "text": [
      "The attention mask and the pad token id were not set. As a consequence, you may observe unexpected behavior. Please pass your input's `attention_mask` to obtain reliable results.\n",
      "Setting `pad_token_id` to `eos_token_id`:128001 for open-end generation.\n"
     ]
    },
    {
     "name": "stdout",
     "output_type": "stream",
     "text": [
      "Predicted:  neutral\n",
      "Baseline:  neutral\n",
      "Correct\n",
      "------------------------------------\n",
      "Iter 353\n",
      "------------------------------------\n"
     ]
    },
    {
     "name": "stderr",
     "output_type": "stream",
     "text": [
      "The attention mask and the pad token id were not set. As a consequence, you may observe unexpected behavior. Please pass your input's `attention_mask` to obtain reliable results.\n",
      "Setting `pad_token_id` to `eos_token_id`:128001 for open-end generation.\n"
     ]
    },
    {
     "name": "stdout",
     "output_type": "stream",
     "text": [
      "Predicted:  neutral\n",
      "Baseline:  neutral\n",
      "Correct\n",
      "------------------------------------\n",
      "Iter 354\n",
      "------------------------------------\n"
     ]
    },
    {
     "name": "stderr",
     "output_type": "stream",
     "text": [
      "The attention mask and the pad token id were not set. As a consequence, you may observe unexpected behavior. Please pass your input's `attention_mask` to obtain reliable results.\n",
      "Setting `pad_token_id` to `eos_token_id`:128001 for open-end generation.\n"
     ]
    },
    {
     "name": "stdout",
     "output_type": "stream",
     "text": [
      "Predicted:  neutral\n",
      "Baseline:  neutral\n",
      "Correct\n",
      "------------------------------------\n",
      "Iter 355\n",
      "------------------------------------\n"
     ]
    },
    {
     "name": "stderr",
     "output_type": "stream",
     "text": [
      "The attention mask and the pad token id were not set. As a consequence, you may observe unexpected behavior. Please pass your input's `attention_mask` to obtain reliable results.\n",
      "Setting `pad_token_id` to `eos_token_id`:128001 for open-end generation.\n"
     ]
    },
    {
     "name": "stdout",
     "output_type": "stream",
     "text": [
      "Predicted:  anger\n",
      "Baseline:  joy\n",
      "Incorrect\n",
      "------------------------------------\n",
      "Iter 356\n",
      "------------------------------------\n"
     ]
    },
    {
     "name": "stderr",
     "output_type": "stream",
     "text": [
      "The attention mask and the pad token id were not set. As a consequence, you may observe unexpected behavior. Please pass your input's `attention_mask` to obtain reliable results.\n",
      "Setting `pad_token_id` to `eos_token_id`:128001 for open-end generation.\n"
     ]
    },
    {
     "name": "stdout",
     "output_type": "stream",
     "text": [
      "Predicted:  neutral\n",
      "Baseline:  surprise\n",
      "Incorrect\n",
      "------------------------------------\n",
      "Iter 357\n",
      "------------------------------------\n"
     ]
    },
    {
     "name": "stderr",
     "output_type": "stream",
     "text": [
      "The attention mask and the pad token id were not set. As a consequence, you may observe unexpected behavior. Please pass your input's `attention_mask` to obtain reliable results.\n",
      "Setting `pad_token_id` to `eos_token_id`:128001 for open-end generation.\n"
     ]
    },
    {
     "name": "stdout",
     "output_type": "stream",
     "text": [
      "Predicted:  neutral\n",
      "Baseline:  neutral\n",
      "Correct\n",
      "------------------------------------\n",
      "Iter 358\n",
      "------------------------------------\n"
     ]
    },
    {
     "name": "stderr",
     "output_type": "stream",
     "text": [
      "The attention mask and the pad token id were not set. As a consequence, you may observe unexpected behavior. Please pass your input's `attention_mask` to obtain reliable results.\n",
      "Setting `pad_token_id` to `eos_token_id`:128001 for open-end generation.\n"
     ]
    },
    {
     "name": "stdout",
     "output_type": "stream",
     "text": [
      "Predicted:  surprise\n",
      "Baseline:  neutral\n",
      "Incorrect\n",
      "------------------------------------\n",
      "Iter 359\n",
      "------------------------------------\n"
     ]
    },
    {
     "name": "stderr",
     "output_type": "stream",
     "text": [
      "The attention mask and the pad token id were not set. As a consequence, you may observe unexpected behavior. Please pass your input's `attention_mask` to obtain reliable results.\n",
      "Setting `pad_token_id` to `eos_token_id`:128001 for open-end generation.\n"
     ]
    },
    {
     "name": "stdout",
     "output_type": "stream",
     "text": [
      "Predicted:  neutral\n",
      "Baseline:  neutral\n",
      "Correct\n",
      "------------------------------------\n",
      "Iter 360\n",
      "------------------------------------\n"
     ]
    },
    {
     "name": "stderr",
     "output_type": "stream",
     "text": [
      "The attention mask and the pad token id were not set. As a consequence, you may observe unexpected behavior. Please pass your input's `attention_mask` to obtain reliable results.\n",
      "Setting `pad_token_id` to `eos_token_id`:128001 for open-end generation.\n"
     ]
    },
    {
     "name": "stdout",
     "output_type": "stream",
     "text": [
      "Predicted:  neutral\n",
      "Baseline:  neutral\n",
      "Correct\n",
      "------------------------------------\n",
      "Iter 361\n",
      "------------------------------------\n"
     ]
    },
    {
     "name": "stderr",
     "output_type": "stream",
     "text": [
      "The attention mask and the pad token id were not set. As a consequence, you may observe unexpected behavior. Please pass your input's `attention_mask` to obtain reliable results.\n",
      "Setting `pad_token_id` to `eos_token_id`:128001 for open-end generation.\n"
     ]
    },
    {
     "name": "stdout",
     "output_type": "stream",
     "text": [
      "Predicted:  sadness\n",
      "Baseline:  disgust\n",
      "Incorrect\n",
      "------------------------------------\n",
      "Iter 362\n",
      "------------------------------------\n"
     ]
    },
    {
     "name": "stderr",
     "output_type": "stream",
     "text": [
      "The attention mask and the pad token id were not set. As a consequence, you may observe unexpected behavior. Please pass your input's `attention_mask` to obtain reliable results.\n",
      "Setting `pad_token_id` to `eos_token_id`:128001 for open-end generation.\n"
     ]
    },
    {
     "name": "stdout",
     "output_type": "stream",
     "text": [
      "Predicted:  sadness\n",
      "Baseline:  neutral\n",
      "Incorrect\n",
      "------------------------------------\n",
      "Iter 363\n",
      "------------------------------------\n"
     ]
    },
    {
     "name": "stderr",
     "output_type": "stream",
     "text": [
      "The attention mask and the pad token id were not set. As a consequence, you may observe unexpected behavior. Please pass your input's `attention_mask` to obtain reliable results.\n",
      "Setting `pad_token_id` to `eos_token_id`:128001 for open-end generation.\n"
     ]
    },
    {
     "name": "stdout",
     "output_type": "stream",
     "text": [
      "Predicted:  neutral\n",
      "Baseline:  joy\n",
      "Incorrect\n",
      "------------------------------------\n",
      "Iter 364\n",
      "------------------------------------\n"
     ]
    },
    {
     "name": "stderr",
     "output_type": "stream",
     "text": [
      "The attention mask and the pad token id were not set. As a consequence, you may observe unexpected behavior. Please pass your input's `attention_mask` to obtain reliable results.\n",
      "Setting `pad_token_id` to `eos_token_id`:128001 for open-end generation.\n"
     ]
    },
    {
     "name": "stdout",
     "output_type": "stream",
     "text": [
      "Predicted:  neutral\n",
      "Baseline:  neutral\n",
      "Correct\n",
      "------------------------------------\n",
      "Iter 365\n",
      "------------------------------------\n"
     ]
    },
    {
     "name": "stderr",
     "output_type": "stream",
     "text": [
      "The attention mask and the pad token id were not set. As a consequence, you may observe unexpected behavior. Please pass your input's `attention_mask` to obtain reliable results.\n",
      "Setting `pad_token_id` to `eos_token_id`:128001 for open-end generation.\n"
     ]
    },
    {
     "name": "stdout",
     "output_type": "stream",
     "text": [
      "Predicted:  neutral\n",
      "Baseline:  joy\n",
      "Incorrect\n",
      "------------------------------------\n",
      "Iter 366\n",
      "------------------------------------\n"
     ]
    },
    {
     "name": "stderr",
     "output_type": "stream",
     "text": [
      "The attention mask and the pad token id were not set. As a consequence, you may observe unexpected behavior. Please pass your input's `attention_mask` to obtain reliable results.\n",
      "Setting `pad_token_id` to `eos_token_id`:128001 for open-end generation.\n"
     ]
    },
    {
     "name": "stdout",
     "output_type": "stream",
     "text": [
      "Predicted:  surprise\n",
      "Baseline:  joy\n",
      "Incorrect\n",
      "------------------------------------\n",
      "Iter 367\n",
      "------------------------------------\n"
     ]
    },
    {
     "name": "stderr",
     "output_type": "stream",
     "text": [
      "The attention mask and the pad token id were not set. As a consequence, you may observe unexpected behavior. Please pass your input's `attention_mask` to obtain reliable results.\n",
      "Setting `pad_token_id` to `eos_token_id`:128001 for open-end generation.\n"
     ]
    },
    {
     "name": "stdout",
     "output_type": "stream",
     "text": [
      "Predicted:  neutral\n",
      "Baseline:  neutral\n",
      "Correct\n",
      "------------------------------------\n",
      "Iter 368\n",
      "------------------------------------\n"
     ]
    },
    {
     "name": "stderr",
     "output_type": "stream",
     "text": [
      "The attention mask and the pad token id were not set. As a consequence, you may observe unexpected behavior. Please pass your input's `attention_mask` to obtain reliable results.\n",
      "Setting `pad_token_id` to `eos_token_id`:128001 for open-end generation.\n"
     ]
    },
    {
     "name": "stdout",
     "output_type": "stream",
     "text": [
      "Predicted:  joy\n",
      "Baseline:  joy\n",
      "Correct\n",
      "------------------------------------\n",
      "Iter 369\n",
      "------------------------------------\n"
     ]
    },
    {
     "name": "stderr",
     "output_type": "stream",
     "text": [
      "The attention mask and the pad token id were not set. As a consequence, you may observe unexpected behavior. Please pass your input's `attention_mask` to obtain reliable results.\n",
      "Setting `pad_token_id` to `eos_token_id`:128001 for open-end generation.\n"
     ]
    },
    {
     "name": "stdout",
     "output_type": "stream",
     "text": [
      "Predicted:  neutral\n",
      "Baseline:  neutral\n",
      "Correct\n",
      "------------------------------------\n",
      "Iter 370\n",
      "------------------------------------\n"
     ]
    },
    {
     "name": "stderr",
     "output_type": "stream",
     "text": [
      "The attention mask and the pad token id were not set. As a consequence, you may observe unexpected behavior. Please pass your input's `attention_mask` to obtain reliable results.\n",
      "Setting `pad_token_id` to `eos_token_id`:128001 for open-end generation.\n"
     ]
    },
    {
     "name": "stdout",
     "output_type": "stream",
     "text": [
      "Predicted:  sadness\n",
      "Baseline:  fear\n",
      "Incorrect\n",
      "------------------------------------\n",
      "Iter 371\n",
      "------------------------------------\n"
     ]
    },
    {
     "name": "stderr",
     "output_type": "stream",
     "text": [
      "The attention mask and the pad token id were not set. As a consequence, you may observe unexpected behavior. Please pass your input's `attention_mask` to obtain reliable results.\n",
      "Setting `pad_token_id` to `eos_token_id`:128001 for open-end generation.\n"
     ]
    },
    {
     "name": "stdout",
     "output_type": "stream",
     "text": [
      "Predicted:  neutral\n",
      "Baseline:  anger\n",
      "Incorrect\n",
      "------------------------------------\n",
      "Iter 372\n",
      "------------------------------------\n"
     ]
    },
    {
     "name": "stderr",
     "output_type": "stream",
     "text": [
      "The attention mask and the pad token id were not set. As a consequence, you may observe unexpected behavior. Please pass your input's `attention_mask` to obtain reliable results.\n",
      "Setting `pad_token_id` to `eos_token_id`:128001 for open-end generation.\n"
     ]
    },
    {
     "name": "stdout",
     "output_type": "stream",
     "text": [
      "Predicted:  fear\n",
      "Baseline:  anger\n",
      "Incorrect\n",
      "------------------------------------\n",
      "Iter 373\n",
      "------------------------------------\n"
     ]
    },
    {
     "name": "stderr",
     "output_type": "stream",
     "text": [
      "The attention mask and the pad token id were not set. As a consequence, you may observe unexpected behavior. Please pass your input's `attention_mask` to obtain reliable results.\n",
      "Setting `pad_token_id` to `eos_token_id`:128001 for open-end generation.\n"
     ]
    },
    {
     "name": "stdout",
     "output_type": "stream",
     "text": [
      "Predicted:  anger\n",
      "Baseline:  anger\n",
      "Correct\n",
      "------------------------------------\n",
      "Iter 374\n",
      "------------------------------------\n"
     ]
    },
    {
     "name": "stderr",
     "output_type": "stream",
     "text": [
      "The attention mask and the pad token id were not set. As a consequence, you may observe unexpected behavior. Please pass your input's `attention_mask` to obtain reliable results.\n",
      "Setting `pad_token_id` to `eos_token_id`:128001 for open-end generation.\n"
     ]
    },
    {
     "name": "stdout",
     "output_type": "stream",
     "text": [
      "Predicted:  fear\n",
      "Baseline:  anger\n",
      "Incorrect\n",
      "------------------------------------\n",
      "Iter 375\n",
      "------------------------------------\n"
     ]
    },
    {
     "name": "stderr",
     "output_type": "stream",
     "text": [
      "The attention mask and the pad token id were not set. As a consequence, you may observe unexpected behavior. Please pass your input's `attention_mask` to obtain reliable results.\n",
      "Setting `pad_token_id` to `eos_token_id`:128001 for open-end generation.\n"
     ]
    },
    {
     "name": "stdout",
     "output_type": "stream",
     "text": [
      "Predicted:  joy\n",
      "Baseline:  anger\n",
      "Incorrect\n",
      "------------------------------------\n",
      "Iter 376\n",
      "------------------------------------\n"
     ]
    },
    {
     "name": "stderr",
     "output_type": "stream",
     "text": [
      "The attention mask and the pad token id were not set. As a consequence, you may observe unexpected behavior. Please pass your input's `attention_mask` to obtain reliable results.\n",
      "Setting `pad_token_id` to `eos_token_id`:128001 for open-end generation.\n"
     ]
    },
    {
     "name": "stdout",
     "output_type": "stream",
     "text": [
      "Predicted:  neutral\n",
      "Baseline:  neutral\n",
      "Correct\n",
      "------------------------------------\n",
      "Iter 377\n",
      "------------------------------------\n"
     ]
    },
    {
     "name": "stderr",
     "output_type": "stream",
     "text": [
      "The attention mask and the pad token id were not set. As a consequence, you may observe unexpected behavior. Please pass your input's `attention_mask` to obtain reliable results.\n",
      "Setting `pad_token_id` to `eos_token_id`:128001 for open-end generation.\n"
     ]
    },
    {
     "name": "stdout",
     "output_type": "stream",
     "text": [
      "Predicted:  neutral\n",
      "Baseline:  neutral\n",
      "Correct\n",
      "------------------------------------\n",
      "Iter 378\n",
      "------------------------------------\n"
     ]
    },
    {
     "name": "stderr",
     "output_type": "stream",
     "text": [
      "The attention mask and the pad token id were not set. As a consequence, you may observe unexpected behavior. Please pass your input's `attention_mask` to obtain reliable results.\n",
      "Setting `pad_token_id` to `eos_token_id`:128001 for open-end generation.\n"
     ]
    },
    {
     "name": "stdout",
     "output_type": "stream",
     "text": [
      "Predicted:  surprise\n",
      "Baseline:  neutral\n",
      "Incorrect\n",
      "------------------------------------\n",
      "Iter 379\n",
      "------------------------------------\n"
     ]
    },
    {
     "name": "stderr",
     "output_type": "stream",
     "text": [
      "The attention mask and the pad token id were not set. As a consequence, you may observe unexpected behavior. Please pass your input's `attention_mask` to obtain reliable results.\n",
      "Setting `pad_token_id` to `eos_token_id`:128001 for open-end generation.\n"
     ]
    },
    {
     "name": "stdout",
     "output_type": "stream",
     "text": [
      "Predicted:  neutral\n",
      "Baseline:  neutral\n",
      "Correct\n",
      "------------------------------------\n",
      "Iter 380\n",
      "------------------------------------\n"
     ]
    },
    {
     "name": "stderr",
     "output_type": "stream",
     "text": [
      "The attention mask and the pad token id were not set. As a consequence, you may observe unexpected behavior. Please pass your input's `attention_mask` to obtain reliable results.\n",
      "Setting `pad_token_id` to `eos_token_id`:128001 for open-end generation.\n"
     ]
    },
    {
     "name": "stdout",
     "output_type": "stream",
     "text": [
      "Predicted:  joy\n",
      "Baseline:  neutral\n",
      "Incorrect\n",
      "------------------------------------\n",
      "Iter 381\n",
      "------------------------------------\n"
     ]
    },
    {
     "name": "stderr",
     "output_type": "stream",
     "text": [
      "The attention mask and the pad token id were not set. As a consequence, you may observe unexpected behavior. Please pass your input's `attention_mask` to obtain reliable results.\n",
      "Setting `pad_token_id` to `eos_token_id`:128001 for open-end generation.\n"
     ]
    },
    {
     "name": "stdout",
     "output_type": "stream",
     "text": [
      "Predicted:  neutral\n",
      "Baseline:  neutral\n",
      "Correct\n",
      "------------------------------------\n",
      "Iter 382\n",
      "------------------------------------\n"
     ]
    },
    {
     "name": "stderr",
     "output_type": "stream",
     "text": [
      "The attention mask and the pad token id were not set. As a consequence, you may observe unexpected behavior. Please pass your input's `attention_mask` to obtain reliable results.\n",
      "Setting `pad_token_id` to `eos_token_id`:128001 for open-end generation.\n"
     ]
    },
    {
     "name": "stdout",
     "output_type": "stream",
     "text": [
      "Predicted:  surprise\n",
      "Baseline:  surprise\n",
      "Correct\n",
      "------------------------------------\n",
      "Iter 383\n",
      "------------------------------------\n"
     ]
    },
    {
     "name": "stderr",
     "output_type": "stream",
     "text": [
      "The attention mask and the pad token id were not set. As a consequence, you may observe unexpected behavior. Please pass your input's `attention_mask` to obtain reliable results.\n",
      "Setting `pad_token_id` to `eos_token_id`:128001 for open-end generation.\n"
     ]
    },
    {
     "name": "stdout",
     "output_type": "stream",
     "text": [
      "Predicted:  neutral\n",
      "Baseline:  neutral\n",
      "Correct\n",
      "------------------------------------\n",
      "Iter 384\n",
      "------------------------------------\n"
     ]
    },
    {
     "name": "stderr",
     "output_type": "stream",
     "text": [
      "The attention mask and the pad token id were not set. As a consequence, you may observe unexpected behavior. Please pass your input's `attention_mask` to obtain reliable results.\n",
      "Setting `pad_token_id` to `eos_token_id`:128001 for open-end generation.\n"
     ]
    },
    {
     "name": "stdout",
     "output_type": "stream",
     "text": [
      "Predicted:  joy\n",
      "Baseline:  neutral\n",
      "Incorrect\n",
      "------------------------------------\n",
      "Iter 385\n",
      "------------------------------------\n"
     ]
    },
    {
     "name": "stderr",
     "output_type": "stream",
     "text": [
      "The attention mask and the pad token id were not set. As a consequence, you may observe unexpected behavior. Please pass your input's `attention_mask` to obtain reliable results.\n",
      "Setting `pad_token_id` to `eos_token_id`:128001 for open-end generation.\n"
     ]
    },
    {
     "name": "stdout",
     "output_type": "stream",
     "text": [
      "Predicted:  surprise\n",
      "Baseline:  neutral\n",
      "Incorrect\n",
      "------------------------------------\n",
      "Iter 386\n",
      "------------------------------------\n"
     ]
    },
    {
     "name": "stderr",
     "output_type": "stream",
     "text": [
      "The attention mask and the pad token id were not set. As a consequence, you may observe unexpected behavior. Please pass your input's `attention_mask` to obtain reliable results.\n",
      "Setting `pad_token_id` to `eos_token_id`:128001 for open-end generation.\n"
     ]
    },
    {
     "name": "stdout",
     "output_type": "stream",
     "text": [
      "Predicted:  anger\n",
      "Baseline:  joy\n",
      "Incorrect\n",
      "------------------------------------\n",
      "Iter 387\n",
      "------------------------------------\n"
     ]
    },
    {
     "name": "stderr",
     "output_type": "stream",
     "text": [
      "The attention mask and the pad token id were not set. As a consequence, you may observe unexpected behavior. Please pass your input's `attention_mask` to obtain reliable results.\n",
      "Setting `pad_token_id` to `eos_token_id`:128001 for open-end generation.\n"
     ]
    },
    {
     "name": "stdout",
     "output_type": "stream",
     "text": [
      "Predicted:  surprise\n",
      "Baseline:  surprise\n",
      "Correct\n",
      "------------------------------------\n",
      "Iter 388\n",
      "------------------------------------\n"
     ]
    },
    {
     "name": "stderr",
     "output_type": "stream",
     "text": [
      "The attention mask and the pad token id were not set. As a consequence, you may observe unexpected behavior. Please pass your input's `attention_mask` to obtain reliable results.\n",
      "Setting `pad_token_id` to `eos_token_id`:128001 for open-end generation.\n"
     ]
    },
    {
     "name": "stdout",
     "output_type": "stream",
     "text": [
      "Predicted:  neutral\n",
      "Baseline:  neutral\n",
      "Correct\n",
      "------------------------------------\n",
      "Iter 389\n",
      "------------------------------------\n"
     ]
    },
    {
     "name": "stderr",
     "output_type": "stream",
     "text": [
      "The attention mask and the pad token id were not set. As a consequence, you may observe unexpected behavior. Please pass your input's `attention_mask` to obtain reliable results.\n",
      "Setting `pad_token_id` to `eos_token_id`:128001 for open-end generation.\n"
     ]
    },
    {
     "name": "stdout",
     "output_type": "stream",
     "text": [
      "Predicted:  neutral\n",
      "Baseline:  neutral\n",
      "Correct\n",
      "------------------------------------\n",
      "Iter 390\n",
      "------------------------------------\n"
     ]
    },
    {
     "name": "stderr",
     "output_type": "stream",
     "text": [
      "The attention mask and the pad token id were not set. As a consequence, you may observe unexpected behavior. Please pass your input's `attention_mask` to obtain reliable results.\n",
      "Setting `pad_token_id` to `eos_token_id`:128001 for open-end generation.\n"
     ]
    },
    {
     "name": "stdout",
     "output_type": "stream",
     "text": [
      "Predicted:  joy\n",
      "Baseline:  joy\n",
      "Correct\n",
      "------------------------------------\n",
      "Iter 391\n",
      "------------------------------------\n"
     ]
    },
    {
     "name": "stderr",
     "output_type": "stream",
     "text": [
      "The attention mask and the pad token id were not set. As a consequence, you may observe unexpected behavior. Please pass your input's `attention_mask` to obtain reliable results.\n",
      "Setting `pad_token_id` to `eos_token_id`:128001 for open-end generation.\n"
     ]
    },
    {
     "name": "stdout",
     "output_type": "stream",
     "text": [
      "Predicted:  joy\n",
      "Baseline:  joy\n",
      "Correct\n",
      "------------------------------------\n",
      "Iter 392\n",
      "------------------------------------\n"
     ]
    },
    {
     "name": "stderr",
     "output_type": "stream",
     "text": [
      "The attention mask and the pad token id were not set. As a consequence, you may observe unexpected behavior. Please pass your input's `attention_mask` to obtain reliable results.\n",
      "Setting `pad_token_id` to `eos_token_id`:128001 for open-end generation.\n"
     ]
    },
    {
     "name": "stdout",
     "output_type": "stream",
     "text": [
      "Predicted:  neutral\n",
      "Baseline:  surprise\n",
      "Incorrect\n",
      "------------------------------------\n",
      "Iter 393\n",
      "------------------------------------\n"
     ]
    },
    {
     "name": "stderr",
     "output_type": "stream",
     "text": [
      "The attention mask and the pad token id were not set. As a consequence, you may observe unexpected behavior. Please pass your input's `attention_mask` to obtain reliable results.\n",
      "Setting `pad_token_id` to `eos_token_id`:128001 for open-end generation.\n"
     ]
    },
    {
     "name": "stdout",
     "output_type": "stream",
     "text": [
      "Predicted:  neutral\n",
      "Baseline:  neutral\n",
      "Correct\n",
      "------------------------------------\n",
      "Iter 394\n",
      "------------------------------------\n"
     ]
    },
    {
     "name": "stderr",
     "output_type": "stream",
     "text": [
      "The attention mask and the pad token id were not set. As a consequence, you may observe unexpected behavior. Please pass your input's `attention_mask` to obtain reliable results.\n",
      "Setting `pad_token_id` to `eos_token_id`:128001 for open-end generation.\n"
     ]
    },
    {
     "name": "stdout",
     "output_type": "stream",
     "text": [
      "Predicted:  joy\n",
      "Baseline:  joy\n",
      "Correct\n",
      "------------------------------------\n",
      "Iter 395\n",
      "------------------------------------\n"
     ]
    },
    {
     "name": "stderr",
     "output_type": "stream",
     "text": [
      "The attention mask and the pad token id were not set. As a consequence, you may observe unexpected behavior. Please pass your input's `attention_mask` to obtain reliable results.\n",
      "Setting `pad_token_id` to `eos_token_id`:128001 for open-end generation.\n"
     ]
    },
    {
     "name": "stdout",
     "output_type": "stream",
     "text": [
      "Predicted:  sadness\n",
      "Baseline:  neutral\n",
      "Incorrect\n",
      "------------------------------------\n",
      "Iter 396\n",
      "------------------------------------\n"
     ]
    },
    {
     "name": "stderr",
     "output_type": "stream",
     "text": [
      "The attention mask and the pad token id were not set. As a consequence, you may observe unexpected behavior. Please pass your input's `attention_mask` to obtain reliable results.\n",
      "Setting `pad_token_id` to `eos_token_id`:128001 for open-end generation.\n"
     ]
    },
    {
     "name": "stdout",
     "output_type": "stream",
     "text": [
      "Predicted:  sadness\n",
      "Baseline:  neutral\n",
      "Incorrect\n",
      "------------------------------------\n",
      "Iter 397\n",
      "------------------------------------\n"
     ]
    },
    {
     "name": "stderr",
     "output_type": "stream",
     "text": [
      "The attention mask and the pad token id were not set. As a consequence, you may observe unexpected behavior. Please pass your input's `attention_mask` to obtain reliable results.\n",
      "Setting `pad_token_id` to `eos_token_id`:128001 for open-end generation.\n"
     ]
    },
    {
     "name": "stdout",
     "output_type": "stream",
     "text": [
      "Predicted:  fear\n",
      "Baseline:  neutral\n",
      "Incorrect\n",
      "------------------------------------\n",
      "Iter 398\n",
      "------------------------------------\n"
     ]
    },
    {
     "name": "stderr",
     "output_type": "stream",
     "text": [
      "The attention mask and the pad token id were not set. As a consequence, you may observe unexpected behavior. Please pass your input's `attention_mask` to obtain reliable results.\n",
      "Setting `pad_token_id` to `eos_token_id`:128001 for open-end generation.\n"
     ]
    },
    {
     "name": "stdout",
     "output_type": "stream",
     "text": [
      "Predicted:  fear\n",
      "Baseline:  sadness\n",
      "Incorrect\n",
      "------------------------------------\n",
      "Iter 399\n",
      "------------------------------------\n"
     ]
    },
    {
     "name": "stderr",
     "output_type": "stream",
     "text": [
      "The attention mask and the pad token id were not set. As a consequence, you may observe unexpected behavior. Please pass your input's `attention_mask` to obtain reliable results.\n",
      "Setting `pad_token_id` to `eos_token_id`:128001 for open-end generation.\n"
     ]
    },
    {
     "name": "stdout",
     "output_type": "stream",
     "text": [
      "Predicted:  neutral\n",
      "Baseline:  sadness\n",
      "Incorrect\n",
      "------------------------------------\n",
      "Iter 400\n",
      "------------------------------------\n"
     ]
    },
    {
     "name": "stderr",
     "output_type": "stream",
     "text": [
      "The attention mask and the pad token id were not set. As a consequence, you may observe unexpected behavior. Please pass your input's `attention_mask` to obtain reliable results.\n",
      "Setting `pad_token_id` to `eos_token_id`:128001 for open-end generation.\n"
     ]
    },
    {
     "name": "stdout",
     "output_type": "stream",
     "text": [
      "Predicted:  neutral\n",
      "Baseline:  joy\n",
      "Incorrect\n",
      "------------------------------------\n",
      "Iter 401\n",
      "------------------------------------\n"
     ]
    },
    {
     "name": "stderr",
     "output_type": "stream",
     "text": [
      "The attention mask and the pad token id were not set. As a consequence, you may observe unexpected behavior. Please pass your input's `attention_mask` to obtain reliable results.\n",
      "Setting `pad_token_id` to `eos_token_id`:128001 for open-end generation.\n"
     ]
    },
    {
     "name": "stdout",
     "output_type": "stream",
     "text": [
      "Predicted:  surprise\n",
      "Baseline:  fear\n",
      "Incorrect\n",
      "------------------------------------\n",
      "Iter 402\n",
      "------------------------------------\n"
     ]
    },
    {
     "name": "stderr",
     "output_type": "stream",
     "text": [
      "The attention mask and the pad token id were not set. As a consequence, you may observe unexpected behavior. Please pass your input's `attention_mask` to obtain reliable results.\n",
      "Setting `pad_token_id` to `eos_token_id`:128001 for open-end generation.\n"
     ]
    },
    {
     "name": "stdout",
     "output_type": "stream",
     "text": [
      "Predicted:  neutral\n",
      "Baseline:  neutral\n",
      "Correct\n",
      "------------------------------------\n",
      "Iter 403\n",
      "------------------------------------\n"
     ]
    },
    {
     "name": "stderr",
     "output_type": "stream",
     "text": [
      "The attention mask and the pad token id were not set. As a consequence, you may observe unexpected behavior. Please pass your input's `attention_mask` to obtain reliable results.\n",
      "Setting `pad_token_id` to `eos_token_id`:128001 for open-end generation.\n"
     ]
    },
    {
     "name": "stdout",
     "output_type": "stream",
     "text": [
      "Predicted:  neutral\n",
      "Baseline:  neutral\n",
      "Correct\n",
      "------------------------------------\n",
      "Iter 404\n",
      "------------------------------------\n"
     ]
    },
    {
     "name": "stderr",
     "output_type": "stream",
     "text": [
      "The attention mask and the pad token id were not set. As a consequence, you may observe unexpected behavior. Please pass your input's `attention_mask` to obtain reliable results.\n",
      "Setting `pad_token_id` to `eos_token_id`:128001 for open-end generation.\n"
     ]
    },
    {
     "name": "stdout",
     "output_type": "stream",
     "text": [
      "Predicted:  neutral\n",
      "Baseline:  neutral\n",
      "Correct\n",
      "------------------------------------\n",
      "Iter 405\n",
      "------------------------------------\n"
     ]
    },
    {
     "name": "stderr",
     "output_type": "stream",
     "text": [
      "The attention mask and the pad token id were not set. As a consequence, you may observe unexpected behavior. Please pass your input's `attention_mask` to obtain reliable results.\n",
      "Setting `pad_token_id` to `eos_token_id`:128001 for open-end generation.\n"
     ]
    },
    {
     "name": "stdout",
     "output_type": "stream",
     "text": [
      "Predicted:  joy\n",
      "Baseline:  neutral\n",
      "Incorrect\n",
      "------------------------------------\n"
     ]
    }
   ],
   "source": [
    "pred_labels_list = []\n",
    "true_labels_list = []\n",
    "correct=0\n",
    "for i in range(len(test_dataset)-1000):\n",
    "    print(f\"Iter {i}\")\n",
    "    print(\"------------------------------------\")\n",
    "    # predict\n",
    "    prompt = test_dataset[\"instruction\"][i]\n",
    "    output = get_full_output(prompt)\n",
    "    pred_labels_list.append(output)\n",
    "    # extract\n",
    "    if len(output.split(\"utterance_id :: emotion_label\\n[/INST]\")) == 2:\n",
    "        output = extract_first_emotion(output.split(\"utterance_id :: emotion_label\\n[/INST]\")[1])\n",
    "        print(\"Predicted: \", output)\n",
    "    else:\n",
    "        output = output.split(\"utterance_id :: emotion_label\\n[/INST]\")[1]\n",
    "        output = extract_emotion_label(output.strip())\n",
    "        print(\"Predicted: \", output.strip().lower())\n",
    "    # baseline\n",
    "    baseline_output = test_dataset[\"out\"][i]\n",
    "    baseline_output = extract_emotion_label(baseline_output.strip())\n",
    "    baseline_output = baseline_output.strip().lower()\n",
    "    print(\"Baseline: \", baseline_output)\n",
    "    true_labels_list.append(baseline_output)\n",
    "    # Accuracy\n",
    "    if output == baseline_output:\n",
    "        print(\"Correct\")\n",
    "        correct += 1\n",
    "    else:\n",
    "        print(\"Incorrect\")\n",
    "    print(\"------------------------------------\")"
   ]
  },
  {
   "cell_type": "code",
   "execution_count": 57,
   "metadata": {
    "colab": {
     "base_uri": "https://localhost:8080/"
    },
    "id": "boR0ZdKf-WFs",
    "outputId": "37619689-658c-4bca-86e1-ae6cfe210cb9"
   },
   "outputs": [
    {
     "name": "stdout",
     "output_type": "stream",
     "text": [
      "288\n"
     ]
    }
   ],
   "source": [
    "print(correct)"
   ]
  },
  {
   "cell_type": "code",
   "execution_count": 58,
   "metadata": {
    "colab": {
     "base_uri": "https://localhost:8080/"
    },
    "id": "7s6-RhLhf2nq",
    "outputId": "603fc26e-34d7-4bb1-f0e9-09b6cd41be40"
   },
   "outputs": [
    {
     "name": "stdout",
     "output_type": "stream",
     "text": [
      "Accuracy: 0.7093596059113301\n"
     ]
    }
   ],
   "source": [
    "print(\"Accuracy: {}\".format(correct / 406))"
   ]
  },
  {
   "cell_type": "code",
   "execution_count": null,
   "metadata": {},
   "outputs": [],
   "source": []
  }
 ],
 "metadata": {
  "accelerator": "GPU",
  "colab": {
   "gpuType": "A100",
   "machine_shape": "hm",
   "provenance": []
  },
  "kernelspec": {
   "display_name": "Python 3 (ipykernel)",
   "language": "python",
   "name": "python3"
  },
  "language_info": {
   "codemirror_mode": {
    "name": "ipython",
    "version": 3
   },
   "file_extension": ".py",
   "mimetype": "text/x-python",
   "name": "python",
   "nbconvert_exporter": "python",
   "pygments_lexer": "ipython3",
   "version": "3.8.20"
  },
  "widgets": {
   "application/vnd.jupyter.widget-state+json": {
    "03de49956c814d56b37f565b3ec18591": {
     "model_module": "@jupyter-widgets/controls",
     "model_module_version": "1.5.0",
     "model_name": "FloatProgressModel",
     "state": {
      "_dom_classes": [],
      "_model_module": "@jupyter-widgets/controls",
      "_model_module_version": "1.5.0",
      "_model_name": "FloatProgressModel",
      "_view_count": null,
      "_view_module": "@jupyter-widgets/controls",
      "_view_module_version": "1.5.0",
      "_view_name": "ProgressView",
      "bar_style": "success",
      "description": "",
      "description_tooltip": null,
      "layout": "IPY_MODEL_e4d6367377fe43eb8c20cda9d0700683",
      "max": 3,
      "min": 0,
      "orientation": "horizontal",
      "style": "IPY_MODEL_4eaa374228f5402483c77baba89b5801",
      "value": 3
     }
    },
    "05c8a02335cd43e781762b1c75b87810": {
     "model_module": "@jupyter-widgets/controls",
     "model_module_version": "1.5.0",
     "model_name": "ProgressStyleModel",
     "state": {
      "_model_module": "@jupyter-widgets/controls",
      "_model_module_version": "1.5.0",
      "_model_name": "ProgressStyleModel",
      "_view_count": null,
      "_view_module": "@jupyter-widgets/base",
      "_view_module_version": "1.2.0",
      "_view_name": "StyleView",
      "bar_color": null,
      "description_width": ""
     }
    },
    "080e64bcd2dd46c58622dc7f9cb76e28": {
     "model_module": "@jupyter-widgets/controls",
     "model_module_version": "1.5.0",
     "model_name": "LabelModel",
     "state": {
      "_dom_classes": [],
      "_model_module": "@jupyter-widgets/controls",
      "_model_module_version": "1.5.0",
      "_model_name": "LabelModel",
      "_view_count": null,
      "_view_module": "@jupyter-widgets/controls",
      "_view_module_version": "1.5.0",
      "_view_name": "LabelView",
      "description": "",
      "description_tooltip": null,
      "layout": "IPY_MODEL_df625696fc0346029039805f5d1cad50",
      "placeholder": "​",
      "style": "IPY_MODEL_68a629bd1e954afc849a49fd21e9d5f6",
      "value": "Token is valid (permission: write)."
     }
    },
    "0871a884629040de8470341eae52700d": {
     "model_module": "@jupyter-widgets/controls",
     "model_module_version": "1.5.0",
     "model_name": "CheckboxModel",
     "state": {
      "_dom_classes": [],
      "_model_module": "@jupyter-widgets/controls",
      "_model_module_version": "1.5.0",
      "_model_name": "CheckboxModel",
      "_view_count": null,
      "_view_module": "@jupyter-widgets/controls",
      "_view_module_version": "1.5.0",
      "_view_name": "CheckboxView",
      "description": "Add token as git credential?",
      "description_tooltip": null,
      "disabled": false,
      "indent": true,
      "layout": "IPY_MODEL_b8c3585eedfc47a491d38db80104a916",
      "style": "IPY_MODEL_31e5885dd6284939900715db296abf24",
      "value": true
     }
    },
    "0d34559d99244e67b3887288d28fa28d": {
     "model_module": "@jupyter-widgets/controls",
     "model_module_version": "1.5.0",
     "model_name": "HTMLModel",
     "state": {
      "_dom_classes": [],
      "_model_module": "@jupyter-widgets/controls",
      "_model_module_version": "1.5.0",
      "_model_name": "HTMLModel",
      "_view_count": null,
      "_view_module": "@jupyter-widgets/controls",
      "_view_module_version": "1.5.0",
      "_view_name": "HTMLView",
      "description": "",
      "description_tooltip": null,
      "layout": "IPY_MODEL_2318f3eeadac4bff8bbe3e39d72d508d",
      "placeholder": "​",
      "style": "IPY_MODEL_e6e18e1346934977a0bf9af4313d35f4",
      "value": " 9841/9841 [00:03&lt;00:00, 3037.78 examples/s]"
     }
    },
    "0ed1844dc91d4ba8be40b8aa6c374840": {
     "model_module": "@jupyter-widgets/controls",
     "model_module_version": "1.5.0",
     "model_name": "HTMLModel",
     "state": {
      "_dom_classes": [],
      "_model_module": "@jupyter-widgets/controls",
      "_model_module_version": "1.5.0",
      "_model_name": "HTMLModel",
      "_view_count": null,
      "_view_module": "@jupyter-widgets/controls",
      "_view_module_version": "1.5.0",
      "_view_name": "HTMLView",
      "description": "",
      "description_tooltip": null,
      "layout": "IPY_MODEL_7764d9c0149e48c4b6273280fa4fade1",
      "placeholder": "​",
      "style": "IPY_MODEL_ec5a66778b564da389f2fdade6b4140e",
      "value": " 2/2 [00:03&lt;00:00,  3.38s/it]"
     }
    },
    "0ee83601ac13415b93d280956c255e1e": {
     "model_module": "@jupyter-widgets/controls",
     "model_module_version": "1.5.0",
     "model_name": "HBoxModel",
     "state": {
      "_dom_classes": [],
      "_model_module": "@jupyter-widgets/controls",
      "_model_module_version": "1.5.0",
      "_model_name": "HBoxModel",
      "_view_count": null,
      "_view_module": "@jupyter-widgets/controls",
      "_view_module_version": "1.5.0",
      "_view_name": "HBoxView",
      "box_style": "",
      "children": [
       "IPY_MODEL_ab57a8b9826540d7bcee71d3248a6023",
       "IPY_MODEL_607fa29e6d774d23adcc2c7bba1980e8",
       "IPY_MODEL_0ed1844dc91d4ba8be40b8aa6c374840"
      ],
      "layout": "IPY_MODEL_14906c7ebd074fd69a0fa31ce55af5ab"
     }
    },
    "132475974f3e46e9abf3e94a84b5f474": {
     "model_module": "@jupyter-widgets/controls",
     "model_module_version": "1.5.0",
     "model_name": "HTMLModel",
     "state": {
      "_dom_classes": [],
      "_model_module": "@jupyter-widgets/controls",
      "_model_module_version": "1.5.0",
      "_model_name": "HTMLModel",
      "_view_count": null,
      "_view_module": "@jupyter-widgets/controls",
      "_view_module_version": "1.5.0",
      "_view_name": "HTMLView",
      "description": "",
      "description_tooltip": null,
      "layout": "IPY_MODEL_bf788c132eec4d5eab743336162df2ec",
      "placeholder": "​",
      "style": "IPY_MODEL_cddec3ffcf3f4ae092b2ff4637577387",
      "value": "training_args.bin: 100%"
     }
    },
    "1422733948fc430e9776302cf09630f4": {
     "model_module": "@jupyter-widgets/controls",
     "model_module_version": "1.5.0",
     "model_name": "DescriptionStyleModel",
     "state": {
      "_model_module": "@jupyter-widgets/controls",
      "_model_module_version": "1.5.0",
      "_model_name": "DescriptionStyleModel",
      "_view_count": null,
      "_view_module": "@jupyter-widgets/base",
      "_view_module_version": "1.2.0",
      "_view_name": "StyleView",
      "description_width": ""
     }
    },
    "14906c7ebd074fd69a0fa31ce55af5ab": {
     "model_module": "@jupyter-widgets/base",
     "model_module_version": "1.2.0",
     "model_name": "LayoutModel",
     "state": {
      "_model_module": "@jupyter-widgets/base",
      "_model_module_version": "1.2.0",
      "_model_name": "LayoutModel",
      "_view_count": null,
      "_view_module": "@jupyter-widgets/base",
      "_view_module_version": "1.2.0",
      "_view_name": "LayoutView",
      "align_content": null,
      "align_items": null,
      "align_self": null,
      "border": null,
      "bottom": null,
      "display": null,
      "flex": null,
      "flex_flow": null,
      "grid_area": null,
      "grid_auto_columns": null,
      "grid_auto_flow": null,
      "grid_auto_rows": null,
      "grid_column": null,
      "grid_gap": null,
      "grid_row": null,
      "grid_template_areas": null,
      "grid_template_columns": null,
      "grid_template_rows": null,
      "height": null,
      "justify_content": null,
      "justify_items": null,
      "left": null,
      "margin": null,
      "max_height": null,
      "max_width": null,
      "min_height": null,
      "min_width": null,
      "object_fit": null,
      "object_position": null,
      "order": null,
      "overflow": null,
      "overflow_x": null,
      "overflow_y": null,
      "padding": null,
      "right": null,
      "top": null,
      "visibility": null,
      "width": null
     }
    },
    "162bb33fb5b24de9bf79c8e037b73af9": {
     "model_module": "@jupyter-widgets/controls",
     "model_module_version": "1.5.0",
     "model_name": "HTMLModel",
     "state": {
      "_dom_classes": [],
      "_model_module": "@jupyter-widgets/controls",
      "_model_module_version": "1.5.0",
      "_model_name": "HTMLModel",
      "_view_count": null,
      "_view_module": "@jupyter-widgets/controls",
      "_view_module_version": "1.5.0",
      "_view_name": "HTMLView",
      "description": "",
      "description_tooltip": null,
      "layout": "IPY_MODEL_71712fbbb09545598bc2484df86cd9d2",
      "placeholder": "​",
      "style": "IPY_MODEL_442544bfae7a4710b680a3266dd47c6a",
      "value": "adapter_model.safetensors: 100%"
     }
    },
    "17ac71641f5542d2ab1fec2ce9d0bb47": {
     "model_module": "@jupyter-widgets/base",
     "model_module_version": "1.2.0",
     "model_name": "LayoutModel",
     "state": {
      "_model_module": "@jupyter-widgets/base",
      "_model_module_version": "1.2.0",
      "_model_name": "LayoutModel",
      "_view_count": null,
      "_view_module": "@jupyter-widgets/base",
      "_view_module_version": "1.2.0",
      "_view_name": "LayoutView",
      "align_content": null,
      "align_items": null,
      "align_self": null,
      "border": null,
      "bottom": null,
      "display": null,
      "flex": null,
      "flex_flow": null,
      "grid_area": null,
      "grid_auto_columns": null,
      "grid_auto_flow": null,
      "grid_auto_rows": null,
      "grid_column": null,
      "grid_gap": null,
      "grid_row": null,
      "grid_template_areas": null,
      "grid_template_columns": null,
      "grid_template_rows": null,
      "height": null,
      "justify_content": null,
      "justify_items": null,
      "left": null,
      "margin": null,
      "max_height": null,
      "max_width": null,
      "min_height": null,
      "min_width": null,
      "object_fit": null,
      "object_position": null,
      "order": null,
      "overflow": null,
      "overflow_x": null,
      "overflow_y": null,
      "padding": null,
      "right": null,
      "top": null,
      "visibility": null,
      "width": null
     }
    },
    "1a007964be54437c93c69744ecdb6984": {
     "model_module": "@jupyter-widgets/controls",
     "model_module_version": "1.5.0",
     "model_name": "FloatProgressModel",
     "state": {
      "_dom_classes": [],
      "_model_module": "@jupyter-widgets/controls",
      "_model_module_version": "1.5.0",
      "_model_name": "FloatProgressModel",
      "_view_count": null,
      "_view_module": "@jupyter-widgets/controls",
      "_view_module_version": "1.5.0",
      "_view_name": "ProgressView",
      "bar_style": "success",
      "description": "",
      "description_tooltip": null,
      "layout": "IPY_MODEL_f3eb707e211c467dbfdf7d5ee1476f36",
      "max": 181,
      "min": 0,
      "orientation": "horizontal",
      "style": "IPY_MODEL_78e5f6df644148d9b4e868b834eb8026",
      "value": 181
     }
    },
    "1dbbf4ba41f142508e58471e55e798a1": {
     "model_module": "@jupyter-widgets/base",
     "model_module_version": "1.2.0",
     "model_name": "LayoutModel",
     "state": {
      "_model_module": "@jupyter-widgets/base",
      "_model_module_version": "1.2.0",
      "_model_name": "LayoutModel",
      "_view_count": null,
      "_view_module": "@jupyter-widgets/base",
      "_view_module_version": "1.2.0",
      "_view_name": "LayoutView",
      "align_content": null,
      "align_items": null,
      "align_self": null,
      "border": null,
      "bottom": null,
      "display": null,
      "flex": null,
      "flex_flow": null,
      "grid_area": null,
      "grid_auto_columns": null,
      "grid_auto_flow": null,
      "grid_auto_rows": null,
      "grid_column": null,
      "grid_gap": null,
      "grid_row": null,
      "grid_template_areas": null,
      "grid_template_columns": null,
      "grid_template_rows": null,
      "height": null,
      "justify_content": null,
      "justify_items": null,
      "left": null,
      "margin": null,
      "max_height": null,
      "max_width": null,
      "min_height": null,
      "min_width": null,
      "object_fit": null,
      "object_position": null,
      "order": null,
      "overflow": null,
      "overflow_x": null,
      "overflow_y": null,
      "padding": null,
      "right": null,
      "top": null,
      "visibility": null,
      "width": null
     }
    },
    "2318f3eeadac4bff8bbe3e39d72d508d": {
     "model_module": "@jupyter-widgets/base",
     "model_module_version": "1.2.0",
     "model_name": "LayoutModel",
     "state": {
      "_model_module": "@jupyter-widgets/base",
      "_model_module_version": "1.2.0",
      "_model_name": "LayoutModel",
      "_view_count": null,
      "_view_module": "@jupyter-widgets/base",
      "_view_module_version": "1.2.0",
      "_view_name": "LayoutView",
      "align_content": null,
      "align_items": null,
      "align_self": null,
      "border": null,
      "bottom": null,
      "display": null,
      "flex": null,
      "flex_flow": null,
      "grid_area": null,
      "grid_auto_columns": null,
      "grid_auto_flow": null,
      "grid_auto_rows": null,
      "grid_column": null,
      "grid_gap": null,
      "grid_row": null,
      "grid_template_areas": null,
      "grid_template_columns": null,
      "grid_template_rows": null,
      "height": null,
      "justify_content": null,
      "justify_items": null,
      "left": null,
      "margin": null,
      "max_height": null,
      "max_width": null,
      "min_height": null,
      "min_width": null,
      "object_fit": null,
      "object_position": null,
      "order": null,
      "overflow": null,
      "overflow_x": null,
      "overflow_y": null,
      "padding": null,
      "right": null,
      "top": null,
      "visibility": null,
      "width": null
     }
    },
    "28392618546046f5a536a6dd770558db": {
     "model_module": "@jupyter-widgets/controls",
     "model_module_version": "1.5.0",
     "model_name": "ProgressStyleModel",
     "state": {
      "_model_module": "@jupyter-widgets/controls",
      "_model_module_version": "1.5.0",
      "_model_name": "ProgressStyleModel",
      "_view_count": null,
      "_view_module": "@jupyter-widgets/base",
      "_view_module_version": "1.2.0",
      "_view_name": "StyleView",
      "bar_color": null,
      "description_width": ""
     }
    },
    "2b27acb8a0e24bb99fb4fa1b8391a057": {
     "model_module": "@jupyter-widgets/base",
     "model_module_version": "1.2.0",
     "model_name": "LayoutModel",
     "state": {
      "_model_module": "@jupyter-widgets/base",
      "_model_module_version": "1.2.0",
      "_model_name": "LayoutModel",
      "_view_count": null,
      "_view_module": "@jupyter-widgets/base",
      "_view_module_version": "1.2.0",
      "_view_name": "LayoutView",
      "align_content": null,
      "align_items": null,
      "align_self": null,
      "border": null,
      "bottom": null,
      "display": null,
      "flex": null,
      "flex_flow": null,
      "grid_area": null,
      "grid_auto_columns": null,
      "grid_auto_flow": null,
      "grid_auto_rows": null,
      "grid_column": null,
      "grid_gap": null,
      "grid_row": null,
      "grid_template_areas": null,
      "grid_template_columns": null,
      "grid_template_rows": null,
      "height": null,
      "justify_content": null,
      "justify_items": null,
      "left": null,
      "margin": null,
      "max_height": null,
      "max_width": null,
      "min_height": null,
      "min_width": null,
      "object_fit": null,
      "object_position": null,
      "order": null,
      "overflow": null,
      "overflow_x": null,
      "overflow_y": null,
      "padding": null,
      "right": null,
      "top": null,
      "visibility": null,
      "width": null
     }
    },
    "2bb77bf8636742a2982d12d233259c8f": {
     "model_module": "@jupyter-widgets/base",
     "model_module_version": "1.2.0",
     "model_name": "LayoutModel",
     "state": {
      "_model_module": "@jupyter-widgets/base",
      "_model_module_version": "1.2.0",
      "_model_name": "LayoutModel",
      "_view_count": null,
      "_view_module": "@jupyter-widgets/base",
      "_view_module_version": "1.2.0",
      "_view_name": "LayoutView",
      "align_content": null,
      "align_items": null,
      "align_self": null,
      "border": null,
      "bottom": null,
      "display": null,
      "flex": null,
      "flex_flow": null,
      "grid_area": null,
      "grid_auto_columns": null,
      "grid_auto_flow": null,
      "grid_auto_rows": null,
      "grid_column": null,
      "grid_gap": null,
      "grid_row": null,
      "grid_template_areas": null,
      "grid_template_columns": null,
      "grid_template_rows": null,
      "height": null,
      "justify_content": null,
      "justify_items": null,
      "left": null,
      "margin": null,
      "max_height": null,
      "max_width": null,
      "min_height": null,
      "min_width": null,
      "object_fit": null,
      "object_position": null,
      "order": null,
      "overflow": null,
      "overflow_x": null,
      "overflow_y": null,
      "padding": null,
      "right": null,
      "top": null,
      "visibility": null,
      "width": null
     }
    },
    "2d32ca97b71f4ee29bc2e14368784ebb": {
     "model_module": "@jupyter-widgets/controls",
     "model_module_version": "1.5.0",
     "model_name": "HBoxModel",
     "state": {
      "_dom_classes": [],
      "_model_module": "@jupyter-widgets/controls",
      "_model_module_version": "1.5.0",
      "_model_name": "HBoxModel",
      "_view_count": null,
      "_view_module": "@jupyter-widgets/controls",
      "_view_module_version": "1.5.0",
      "_view_name": "HBoxView",
      "box_style": "",
      "children": [
       "IPY_MODEL_132475974f3e46e9abf3e94a84b5f474",
       "IPY_MODEL_34d2962e614640ceb06c2a703897c051",
       "IPY_MODEL_c8f804d16a484234a02e0d6064cf7057"
      ],
      "layout": "IPY_MODEL_2bb77bf8636742a2982d12d233259c8f"
     }
    },
    "2d7c2539811e4e61a986222691c8c2c9": {
     "model_module": "@jupyter-widgets/controls",
     "model_module_version": "1.5.0",
     "model_name": "LabelModel",
     "state": {
      "_dom_classes": [],
      "_model_module": "@jupyter-widgets/controls",
      "_model_module_version": "1.5.0",
      "_model_name": "LabelModel",
      "_view_count": null,
      "_view_module": "@jupyter-widgets/controls",
      "_view_module_version": "1.5.0",
      "_view_name": "LabelView",
      "description": "",
      "description_tooltip": null,
      "layout": "IPY_MODEL_9584364970934e5794fc6c183f7e3fa0",
      "placeholder": "​",
      "style": "IPY_MODEL_7f8cbe3709bb491298d6be65cae51aea",
      "value": "Your token has been saved in your configured git credential helpers (store)."
     }
    },
    "315ac284e8b74f738c331b5404209a42": {
     "model_module": "@jupyter-widgets/controls",
     "model_module_version": "1.5.0",
     "model_name": "HBoxModel",
     "state": {
      "_dom_classes": [],
      "_model_module": "@jupyter-widgets/controls",
      "_model_module_version": "1.5.0",
      "_model_name": "HBoxModel",
      "_view_count": null,
      "_view_module": "@jupyter-widgets/controls",
      "_view_module_version": "1.5.0",
      "_view_name": "HBoxView",
      "box_style": "",
      "children": [
       "IPY_MODEL_162bb33fb5b24de9bf79c8e037b73af9",
       "IPY_MODEL_3605f537eba3483fa071c1205f045bbe",
       "IPY_MODEL_3757c2d5fe5b4f828a55cc35a7709e8b"
      ],
      "layout": "IPY_MODEL_576c39989bcb4379bc9f5625d110a8ea"
     }
    },
    "31e5885dd6284939900715db296abf24": {
     "model_module": "@jupyter-widgets/controls",
     "model_module_version": "1.5.0",
     "model_name": "DescriptionStyleModel",
     "state": {
      "_model_module": "@jupyter-widgets/controls",
      "_model_module_version": "1.5.0",
      "_model_name": "DescriptionStyleModel",
      "_view_count": null,
      "_view_module": "@jupyter-widgets/base",
      "_view_module_version": "1.2.0",
      "_view_name": "StyleView",
      "description_width": ""
     }
    },
    "34d2962e614640ceb06c2a703897c051": {
     "model_module": "@jupyter-widgets/controls",
     "model_module_version": "1.5.0",
     "model_name": "FloatProgressModel",
     "state": {
      "_dom_classes": [],
      "_model_module": "@jupyter-widgets/controls",
      "_model_module_version": "1.5.0",
      "_model_name": "FloatProgressModel",
      "_view_count": null,
      "_view_module": "@jupyter-widgets/controls",
      "_view_module_version": "1.5.0",
      "_view_name": "ProgressView",
      "bar_style": "success",
      "description": "",
      "description_tooltip": null,
      "layout": "IPY_MODEL_d3c5ad8ef51a46ca8770440a3cfcda4e",
      "max": 4536,
      "min": 0,
      "orientation": "horizontal",
      "style": "IPY_MODEL_4bffcd5eb6464c57b40ec36e8dfbe5a5",
      "value": 4536
     }
    },
    "358cdeb8460b4cd2803a7299a3397cfe": {
     "model_module": "@jupyter-widgets/controls",
     "model_module_version": "1.5.0",
     "model_name": "LabelModel",
     "state": {
      "_dom_classes": [],
      "_model_module": "@jupyter-widgets/controls",
      "_model_module_version": "1.5.0",
      "_model_name": "LabelModel",
      "_view_count": null,
      "_view_module": "@jupyter-widgets/controls",
      "_view_module_version": "1.5.0",
      "_view_name": "LabelView",
      "description": "",
      "description_tooltip": null,
      "layout": "IPY_MODEL_dc1d674243da4f50af78a03b7493f6f7",
      "placeholder": "​",
      "style": "IPY_MODEL_1422733948fc430e9776302cf09630f4",
      "value": "Login successful"
     }
    },
    "3605f537eba3483fa071c1205f045bbe": {
     "model_module": "@jupyter-widgets/controls",
     "model_module_version": "1.5.0",
     "model_name": "FloatProgressModel",
     "state": {
      "_dom_classes": [],
      "_model_module": "@jupyter-widgets/controls",
      "_model_module_version": "1.5.0",
      "_model_name": "FloatProgressModel",
      "_view_count": null,
      "_view_module": "@jupyter-widgets/controls",
      "_view_module_version": "1.5.0",
      "_view_name": "ProgressView",
      "bar_style": "success",
      "description": "",
      "description_tooltip": null,
      "layout": "IPY_MODEL_17ac71641f5542d2ab1fec2ce9d0bb47",
      "max": 104900720,
      "min": 0,
      "orientation": "horizontal",
      "style": "IPY_MODEL_05c8a02335cd43e781762b1c75b87810",
      "value": 104900720
     }
    },
    "3757c2d5fe5b4f828a55cc35a7709e8b": {
     "model_module": "@jupyter-widgets/controls",
     "model_module_version": "1.5.0",
     "model_name": "HTMLModel",
     "state": {
      "_dom_classes": [],
      "_model_module": "@jupyter-widgets/controls",
      "_model_module_version": "1.5.0",
      "_model_name": "HTMLModel",
      "_view_count": null,
      "_view_module": "@jupyter-widgets/controls",
      "_view_module_version": "1.5.0",
      "_view_name": "HTMLView",
      "description": "",
      "description_tooltip": null,
      "layout": "IPY_MODEL_2b27acb8a0e24bb99fb4fa1b8391a057",
      "placeholder": "​",
      "style": "IPY_MODEL_e3c98e06f3de49c5947dc5c6b4ebd4a7",
      "value": " 105M/105M [00:03&lt;00:00, 33.5MB/s]"
     }
    },
    "41b479d7d2594d6a8c42e225db4d10c2": {
     "model_module": "@jupyter-widgets/controls",
     "model_module_version": "1.5.0",
     "model_name": "PasswordModel",
     "state": {
      "_dom_classes": [],
      "_model_module": "@jupyter-widgets/controls",
      "_model_module_version": "1.5.0",
      "_model_name": "PasswordModel",
      "_view_count": null,
      "_view_module": "@jupyter-widgets/controls",
      "_view_module_version": "1.5.0",
      "_view_name": "PasswordView",
      "continuous_update": true,
      "description": "Token:",
      "description_tooltip": null,
      "disabled": false,
      "layout": "IPY_MODEL_55a3470696d24c6e835ea6263d817451",
      "placeholder": "​",
      "style": "IPY_MODEL_b4f05b7f27954a40ad424a2a3b9a05d9",
      "value": ""
     }
    },
    "442544bfae7a4710b680a3266dd47c6a": {
     "model_module": "@jupyter-widgets/controls",
     "model_module_version": "1.5.0",
     "model_name": "DescriptionStyleModel",
     "state": {
      "_model_module": "@jupyter-widgets/controls",
      "_model_module_version": "1.5.0",
      "_model_name": "DescriptionStyleModel",
      "_view_count": null,
      "_view_module": "@jupyter-widgets/base",
      "_view_module_version": "1.2.0",
      "_view_name": "StyleView",
      "description_width": ""
     }
    },
    "4bffcd5eb6464c57b40ec36e8dfbe5a5": {
     "model_module": "@jupyter-widgets/controls",
     "model_module_version": "1.5.0",
     "model_name": "ProgressStyleModel",
     "state": {
      "_model_module": "@jupyter-widgets/controls",
      "_model_module_version": "1.5.0",
      "_model_name": "ProgressStyleModel",
      "_view_count": null,
      "_view_module": "@jupyter-widgets/base",
      "_view_module_version": "1.2.0",
      "_view_name": "StyleView",
      "bar_color": null,
      "description_width": ""
     }
    },
    "4eaa374228f5402483c77baba89b5801": {
     "model_module": "@jupyter-widgets/controls",
     "model_module_version": "1.5.0",
     "model_name": "ProgressStyleModel",
     "state": {
      "_model_module": "@jupyter-widgets/controls",
      "_model_module_version": "1.5.0",
      "_model_name": "ProgressStyleModel",
      "_view_count": null,
      "_view_module": "@jupyter-widgets/base",
      "_view_module_version": "1.2.0",
      "_view_name": "StyleView",
      "bar_color": null,
      "description_width": ""
     }
    },
    "504581405d554f298beb539a223954c6": {
     "model_module": "@jupyter-widgets/controls",
     "model_module_version": "1.5.0",
     "model_name": "LabelModel",
     "state": {
      "_dom_classes": [],
      "_model_module": "@jupyter-widgets/controls",
      "_model_module_version": "1.5.0",
      "_model_name": "LabelModel",
      "_view_count": null,
      "_view_module": "@jupyter-widgets/controls",
      "_view_module_version": "1.5.0",
      "_view_name": "LabelView",
      "description": "",
      "description_tooltip": null,
      "layout": "IPY_MODEL_1dbbf4ba41f142508e58471e55e798a1",
      "placeholder": "​",
      "style": "IPY_MODEL_58a50aac8bf340b3b0fa36c7a40e80ec",
      "value": "Your token has been saved to /root/.cache/huggingface/token"
     }
    },
    "52f020e9bfe1470f8d25ee0a1ba1e924": {
     "model_module": "@jupyter-widgets/controls",
     "model_module_version": "1.5.0",
     "model_name": "DescriptionStyleModel",
     "state": {
      "_model_module": "@jupyter-widgets/controls",
      "_model_module_version": "1.5.0",
      "_model_name": "DescriptionStyleModel",
      "_view_count": null,
      "_view_module": "@jupyter-widgets/base",
      "_view_module_version": "1.2.0",
      "_view_name": "StyleView",
      "description_width": ""
     }
    },
    "5309e1d1d70a4dcca30d772ac30a571f": {
     "model_module": "@jupyter-widgets/controls",
     "model_module_version": "1.5.0",
     "model_name": "HTMLModel",
     "state": {
      "_dom_classes": [],
      "_model_module": "@jupyter-widgets/controls",
      "_model_module_version": "1.5.0",
      "_model_name": "HTMLModel",
      "_view_count": null,
      "_view_module": "@jupyter-widgets/controls",
      "_view_module_version": "1.5.0",
      "_view_name": "HTMLView",
      "description": "",
      "description_tooltip": null,
      "layout": "IPY_MODEL_5b864f4f8cf04d29a56bf8270110077f",
      "placeholder": "​",
      "style": "IPY_MODEL_58e6d326465343d6a391e83cf6560138",
      "value": "Loading checkpoint shards: 100%"
     }
    },
    "55a3470696d24c6e835ea6263d817451": {
     "model_module": "@jupyter-widgets/base",
     "model_module_version": "1.2.0",
     "model_name": "LayoutModel",
     "state": {
      "_model_module": "@jupyter-widgets/base",
      "_model_module_version": "1.2.0",
      "_model_name": "LayoutModel",
      "_view_count": null,
      "_view_module": "@jupyter-widgets/base",
      "_view_module_version": "1.2.0",
      "_view_name": "LayoutView",
      "align_content": null,
      "align_items": null,
      "align_self": null,
      "border": null,
      "bottom": null,
      "display": null,
      "flex": null,
      "flex_flow": null,
      "grid_area": null,
      "grid_auto_columns": null,
      "grid_auto_flow": null,
      "grid_auto_rows": null,
      "grid_column": null,
      "grid_gap": null,
      "grid_row": null,
      "grid_template_areas": null,
      "grid_template_columns": null,
      "grid_template_rows": null,
      "height": null,
      "justify_content": null,
      "justify_items": null,
      "left": null,
      "margin": null,
      "max_height": null,
      "max_width": null,
      "min_height": null,
      "min_width": null,
      "object_fit": null,
      "object_position": null,
      "order": null,
      "overflow": null,
      "overflow_x": null,
      "overflow_y": null,
      "padding": null,
      "right": null,
      "top": null,
      "visibility": null,
      "width": null
     }
    },
    "576c39989bcb4379bc9f5625d110a8ea": {
     "model_module": "@jupyter-widgets/base",
     "model_module_version": "1.2.0",
     "model_name": "LayoutModel",
     "state": {
      "_model_module": "@jupyter-widgets/base",
      "_model_module_version": "1.2.0",
      "_model_name": "LayoutModel",
      "_view_count": null,
      "_view_module": "@jupyter-widgets/base",
      "_view_module_version": "1.2.0",
      "_view_name": "LayoutView",
      "align_content": null,
      "align_items": null,
      "align_self": null,
      "border": null,
      "bottom": null,
      "display": null,
      "flex": null,
      "flex_flow": null,
      "grid_area": null,
      "grid_auto_columns": null,
      "grid_auto_flow": null,
      "grid_auto_rows": null,
      "grid_column": null,
      "grid_gap": null,
      "grid_row": null,
      "grid_template_areas": null,
      "grid_template_columns": null,
      "grid_template_rows": null,
      "height": null,
      "justify_content": null,
      "justify_items": null,
      "left": null,
      "margin": null,
      "max_height": null,
      "max_width": null,
      "min_height": null,
      "min_width": null,
      "object_fit": null,
      "object_position": null,
      "order": null,
      "overflow": null,
      "overflow_x": null,
      "overflow_y": null,
      "padding": null,
      "right": null,
      "top": null,
      "visibility": null,
      "width": null
     }
    },
    "58a50aac8bf340b3b0fa36c7a40e80ec": {
     "model_module": "@jupyter-widgets/controls",
     "model_module_version": "1.5.0",
     "model_name": "DescriptionStyleModel",
     "state": {
      "_model_module": "@jupyter-widgets/controls",
      "_model_module_version": "1.5.0",
      "_model_name": "DescriptionStyleModel",
      "_view_count": null,
      "_view_module": "@jupyter-widgets/base",
      "_view_module_version": "1.2.0",
      "_view_name": "StyleView",
      "description_width": ""
     }
    },
    "58e6d326465343d6a391e83cf6560138": {
     "model_module": "@jupyter-widgets/controls",
     "model_module_version": "1.5.0",
     "model_name": "DescriptionStyleModel",
     "state": {
      "_model_module": "@jupyter-widgets/controls",
      "_model_module_version": "1.5.0",
      "_model_name": "DescriptionStyleModel",
      "_view_count": null,
      "_view_module": "@jupyter-widgets/base",
      "_view_module_version": "1.2.0",
      "_view_name": "StyleView",
      "description_width": ""
     }
    },
    "5b864f4f8cf04d29a56bf8270110077f": {
     "model_module": "@jupyter-widgets/base",
     "model_module_version": "1.2.0",
     "model_name": "LayoutModel",
     "state": {
      "_model_module": "@jupyter-widgets/base",
      "_model_module_version": "1.2.0",
      "_model_name": "LayoutModel",
      "_view_count": null,
      "_view_module": "@jupyter-widgets/base",
      "_view_module_version": "1.2.0",
      "_view_name": "LayoutView",
      "align_content": null,
      "align_items": null,
      "align_self": null,
      "border": null,
      "bottom": null,
      "display": null,
      "flex": null,
      "flex_flow": null,
      "grid_area": null,
      "grid_auto_columns": null,
      "grid_auto_flow": null,
      "grid_auto_rows": null,
      "grid_column": null,
      "grid_gap": null,
      "grid_row": null,
      "grid_template_areas": null,
      "grid_template_columns": null,
      "grid_template_rows": null,
      "height": null,
      "justify_content": null,
      "justify_items": null,
      "left": null,
      "margin": null,
      "max_height": null,
      "max_width": null,
      "min_height": null,
      "min_width": null,
      "object_fit": null,
      "object_position": null,
      "order": null,
      "overflow": null,
      "overflow_x": null,
      "overflow_y": null,
      "padding": null,
      "right": null,
      "top": null,
      "visibility": null,
      "width": null
     }
    },
    "607fa29e6d774d23adcc2c7bba1980e8": {
     "model_module": "@jupyter-widgets/controls",
     "model_module_version": "1.5.0",
     "model_name": "FloatProgressModel",
     "state": {
      "_dom_classes": [],
      "_model_module": "@jupyter-widgets/controls",
      "_model_module_version": "1.5.0",
      "_model_name": "FloatProgressModel",
      "_view_count": null,
      "_view_module": "@jupyter-widgets/controls",
      "_view_module_version": "1.5.0",
      "_view_name": "ProgressView",
      "bar_style": "success",
      "description": "",
      "description_tooltip": null,
      "layout": "IPY_MODEL_c99ab3e0943b4b45a5f663f0bb45fabb",
      "max": 2,
      "min": 0,
      "orientation": "horizontal",
      "style": "IPY_MODEL_963ceb08e6594f9aa2539ac6efba2fe8",
      "value": 2
     }
    },
    "65b7ee2636bd4a6ea3580e5965130731": {
     "model_module": "@jupyter-widgets/controls",
     "model_module_version": "1.5.0",
     "model_name": "HTMLModel",
     "state": {
      "_dom_classes": [],
      "_model_module": "@jupyter-widgets/controls",
      "_model_module_version": "1.5.0",
      "_model_name": "HTMLModel",
      "_view_count": null,
      "_view_module": "@jupyter-widgets/controls",
      "_view_module_version": "1.5.0",
      "_view_name": "HTMLView",
      "description": "",
      "description_tooltip": null,
      "layout": "IPY_MODEL_d47d722c86b5463f9e40e3a51d120583",
      "placeholder": "​",
      "style": "IPY_MODEL_9b472ee1acf644e6badc27c4173ade32",
      "value": "Map: 100%"
     }
    },
    "672a497191884a5ca29d15ffd239bf15": {
     "model_module": "@jupyter-widgets/base",
     "model_module_version": "1.2.0",
     "model_name": "LayoutModel",
     "state": {
      "_model_module": "@jupyter-widgets/base",
      "_model_module_version": "1.2.0",
      "_model_name": "LayoutModel",
      "_view_count": null,
      "_view_module": "@jupyter-widgets/base",
      "_view_module_version": "1.2.0",
      "_view_name": "LayoutView",
      "align_content": null,
      "align_items": "center",
      "align_self": null,
      "border": null,
      "bottom": null,
      "display": "flex",
      "flex": null,
      "flex_flow": "column",
      "grid_area": null,
      "grid_auto_columns": null,
      "grid_auto_flow": null,
      "grid_auto_rows": null,
      "grid_column": null,
      "grid_gap": null,
      "grid_row": null,
      "grid_template_areas": null,
      "grid_template_columns": null,
      "grid_template_rows": null,
      "height": null,
      "justify_content": null,
      "justify_items": null,
      "left": null,
      "margin": null,
      "max_height": null,
      "max_width": null,
      "min_height": null,
      "min_width": null,
      "object_fit": null,
      "object_position": null,
      "order": null,
      "overflow": null,
      "overflow_x": null,
      "overflow_y": null,
      "padding": null,
      "right": null,
      "top": null,
      "visibility": null,
      "width": "50%"
     }
    },
    "68a629bd1e954afc849a49fd21e9d5f6": {
     "model_module": "@jupyter-widgets/controls",
     "model_module_version": "1.5.0",
     "model_name": "DescriptionStyleModel",
     "state": {
      "_model_module": "@jupyter-widgets/controls",
      "_model_module_version": "1.5.0",
      "_model_name": "DescriptionStyleModel",
      "_view_count": null,
      "_view_module": "@jupyter-widgets/base",
      "_view_module_version": "1.2.0",
      "_view_name": "StyleView",
      "description_width": ""
     }
    },
    "6fdbbdb6393843549a61cea6065ae3ce": {
     "model_module": "@jupyter-widgets/controls",
     "model_module_version": "1.5.0",
     "model_name": "HBoxModel",
     "state": {
      "_dom_classes": [],
      "_model_module": "@jupyter-widgets/controls",
      "_model_module_version": "1.5.0",
      "_model_name": "HBoxModel",
      "_view_count": null,
      "_view_module": "@jupyter-widgets/controls",
      "_view_module_version": "1.5.0",
      "_view_name": "HBoxView",
      "box_style": "",
      "children": [
       "IPY_MODEL_910ab1838f2941639c842d621d924511",
       "IPY_MODEL_9035fed6f2af449c8f1eded3b35d3705",
       "IPY_MODEL_0d34559d99244e67b3887288d28fa28d"
      ],
      "layout": "IPY_MODEL_94336ef08aa64675a871cf5886f74b79"
     }
    },
    "71712fbbb09545598bc2484df86cd9d2": {
     "model_module": "@jupyter-widgets/base",
     "model_module_version": "1.2.0",
     "model_name": "LayoutModel",
     "state": {
      "_model_module": "@jupyter-widgets/base",
      "_model_module_version": "1.2.0",
      "_model_name": "LayoutModel",
      "_view_count": null,
      "_view_module": "@jupyter-widgets/base",
      "_view_module_version": "1.2.0",
      "_view_name": "LayoutView",
      "align_content": null,
      "align_items": null,
      "align_self": null,
      "border": null,
      "bottom": null,
      "display": null,
      "flex": null,
      "flex_flow": null,
      "grid_area": null,
      "grid_auto_columns": null,
      "grid_auto_flow": null,
      "grid_auto_rows": null,
      "grid_column": null,
      "grid_gap": null,
      "grid_row": null,
      "grid_template_areas": null,
      "grid_template_columns": null,
      "grid_template_rows": null,
      "height": null,
      "justify_content": null,
      "justify_items": null,
      "left": null,
      "margin": null,
      "max_height": null,
      "max_width": null,
      "min_height": null,
      "min_width": null,
      "object_fit": null,
      "object_position": null,
      "order": null,
      "overflow": null,
      "overflow_x": null,
      "overflow_y": null,
      "padding": null,
      "right": null,
      "top": null,
      "visibility": null,
      "width": null
     }
    },
    "7764d9c0149e48c4b6273280fa4fade1": {
     "model_module": "@jupyter-widgets/base",
     "model_module_version": "1.2.0",
     "model_name": "LayoutModel",
     "state": {
      "_model_module": "@jupyter-widgets/base",
      "_model_module_version": "1.2.0",
      "_model_name": "LayoutModel",
      "_view_count": null,
      "_view_module": "@jupyter-widgets/base",
      "_view_module_version": "1.2.0",
      "_view_name": "LayoutView",
      "align_content": null,
      "align_items": null,
      "align_self": null,
      "border": null,
      "bottom": null,
      "display": null,
      "flex": null,
      "flex_flow": null,
      "grid_area": null,
      "grid_auto_columns": null,
      "grid_auto_flow": null,
      "grid_auto_rows": null,
      "grid_column": null,
      "grid_gap": null,
      "grid_row": null,
      "grid_template_areas": null,
      "grid_template_columns": null,
      "grid_template_rows": null,
      "height": null,
      "justify_content": null,
      "justify_items": null,
      "left": null,
      "margin": null,
      "max_height": null,
      "max_width": null,
      "min_height": null,
      "min_width": null,
      "object_fit": null,
      "object_position": null,
      "order": null,
      "overflow": null,
      "overflow_x": null,
      "overflow_y": null,
      "padding": null,
      "right": null,
      "top": null,
      "visibility": null,
      "width": null
     }
    },
    "78e5f6df644148d9b4e868b834eb8026": {
     "model_module": "@jupyter-widgets/controls",
     "model_module_version": "1.5.0",
     "model_name": "ProgressStyleModel",
     "state": {
      "_model_module": "@jupyter-widgets/controls",
      "_model_module_version": "1.5.0",
      "_model_name": "ProgressStyleModel",
      "_view_count": null,
      "_view_module": "@jupyter-widgets/base",
      "_view_module_version": "1.2.0",
      "_view_name": "StyleView",
      "bar_color": null,
      "description_width": ""
     }
    },
    "7f8cbe3709bb491298d6be65cae51aea": {
     "model_module": "@jupyter-widgets/controls",
     "model_module_version": "1.5.0",
     "model_name": "DescriptionStyleModel",
     "state": {
      "_model_module": "@jupyter-widgets/controls",
      "_model_module_version": "1.5.0",
      "_model_name": "DescriptionStyleModel",
      "_view_count": null,
      "_view_module": "@jupyter-widgets/base",
      "_view_module_version": "1.2.0",
      "_view_name": "StyleView",
      "description_width": ""
     }
    },
    "8756c06ece954da1ba69885319fd5aa6": {
     "model_module": "@jupyter-widgets/base",
     "model_module_version": "1.2.0",
     "model_name": "LayoutModel",
     "state": {
      "_model_module": "@jupyter-widgets/base",
      "_model_module_version": "1.2.0",
      "_model_name": "LayoutModel",
      "_view_count": null,
      "_view_module": "@jupyter-widgets/base",
      "_view_module_version": "1.2.0",
      "_view_name": "LayoutView",
      "align_content": null,
      "align_items": null,
      "align_self": null,
      "border": null,
      "bottom": null,
      "display": null,
      "flex": null,
      "flex_flow": null,
      "grid_area": null,
      "grid_auto_columns": null,
      "grid_auto_flow": null,
      "grid_auto_rows": null,
      "grid_column": null,
      "grid_gap": null,
      "grid_row": null,
      "grid_template_areas": null,
      "grid_template_columns": null,
      "grid_template_rows": null,
      "height": null,
      "justify_content": null,
      "justify_items": null,
      "left": null,
      "margin": null,
      "max_height": null,
      "max_width": null,
      "min_height": null,
      "min_width": null,
      "object_fit": null,
      "object_position": null,
      "order": null,
      "overflow": null,
      "overflow_x": null,
      "overflow_y": null,
      "padding": null,
      "right": null,
      "top": null,
      "visibility": null,
      "width": null
     }
    },
    "87f897563d684d39a6ae375a13adf217": {
     "model_module": "@jupyter-widgets/controls",
     "model_module_version": "1.5.0",
     "model_name": "HTMLModel",
     "state": {
      "_dom_classes": [],
      "_model_module": "@jupyter-widgets/controls",
      "_model_module_version": "1.5.0",
      "_model_name": "HTMLModel",
      "_view_count": null,
      "_view_module": "@jupyter-widgets/controls",
      "_view_module_version": "1.5.0",
      "_view_name": "HTMLView",
      "description": "",
      "description_tooltip": null,
      "layout": "IPY_MODEL_d0bc4bbbefac4b558f38f4e10ce37489",
      "placeholder": "​",
      "style": "IPY_MODEL_e8b80627ac1b49b5825b6c99c02a04a6",
      "value": "\n<b>Pro Tip:</b> If you don't already have one, you can create a dedicated\n'notebooks' token with 'write' access, that you can then easily reuse for all\nnotebooks. </center>"
     }
    },
    "882c6140e4b544668e2d07a464e447a3": {
     "model_module": "@jupyter-widgets/controls",
     "model_module_version": "1.5.0",
     "model_name": "DescriptionStyleModel",
     "state": {
      "_model_module": "@jupyter-widgets/controls",
      "_model_module_version": "1.5.0",
      "_model_name": "DescriptionStyleModel",
      "_view_count": null,
      "_view_module": "@jupyter-widgets/base",
      "_view_module_version": "1.2.0",
      "_view_name": "StyleView",
      "description_width": ""
     }
    },
    "8ad8114e38cf4cd38ce1b0e89a4b747f": {
     "model_module": "@jupyter-widgets/controls",
     "model_module_version": "1.5.0",
     "model_name": "DescriptionStyleModel",
     "state": {
      "_model_module": "@jupyter-widgets/controls",
      "_model_module_version": "1.5.0",
      "_model_name": "DescriptionStyleModel",
      "_view_count": null,
      "_view_module": "@jupyter-widgets/base",
      "_view_module_version": "1.2.0",
      "_view_name": "StyleView",
      "description_width": ""
     }
    },
    "9035fed6f2af449c8f1eded3b35d3705": {
     "model_module": "@jupyter-widgets/controls",
     "model_module_version": "1.5.0",
     "model_name": "FloatProgressModel",
     "state": {
      "_dom_classes": [],
      "_model_module": "@jupyter-widgets/controls",
      "_model_module_version": "1.5.0",
      "_model_name": "FloatProgressModel",
      "_view_count": null,
      "_view_module": "@jupyter-widgets/controls",
      "_view_module_version": "1.5.0",
      "_view_name": "ProgressView",
      "bar_style": "success",
      "description": "",
      "description_tooltip": null,
      "layout": "IPY_MODEL_994930d4284e4762bc46036840b656cb",
      "max": 9841,
      "min": 0,
      "orientation": "horizontal",
      "style": "IPY_MODEL_28392618546046f5a536a6dd770558db",
      "value": 9841
     }
    },
    "910ab1838f2941639c842d621d924511": {
     "model_module": "@jupyter-widgets/controls",
     "model_module_version": "1.5.0",
     "model_name": "HTMLModel",
     "state": {
      "_dom_classes": [],
      "_model_module": "@jupyter-widgets/controls",
      "_model_module_version": "1.5.0",
      "_model_name": "HTMLModel",
      "_view_count": null,
      "_view_module": "@jupyter-widgets/controls",
      "_view_module_version": "1.5.0",
      "_view_name": "HTMLView",
      "description": "",
      "description_tooltip": null,
      "layout": "IPY_MODEL_a94cc8e6b8d14644abcb4cf6e4b9e147",
      "placeholder": "​",
      "style": "IPY_MODEL_52f020e9bfe1470f8d25ee0a1ba1e924",
      "value": "Map: 100%"
     }
    },
    "9242cb1452704f4a81ae59f58e2d750c": {
     "model_module": "@jupyter-widgets/base",
     "model_module_version": "1.2.0",
     "model_name": "LayoutModel",
     "state": {
      "_model_module": "@jupyter-widgets/base",
      "_model_module_version": "1.2.0",
      "_model_name": "LayoutModel",
      "_view_count": null,
      "_view_module": "@jupyter-widgets/base",
      "_view_module_version": "1.2.0",
      "_view_name": "LayoutView",
      "align_content": null,
      "align_items": null,
      "align_self": null,
      "border": null,
      "bottom": null,
      "display": null,
      "flex": null,
      "flex_flow": null,
      "grid_area": null,
      "grid_auto_columns": null,
      "grid_auto_flow": null,
      "grid_auto_rows": null,
      "grid_column": null,
      "grid_gap": null,
      "grid_row": null,
      "grid_template_areas": null,
      "grid_template_columns": null,
      "grid_template_rows": null,
      "height": null,
      "justify_content": null,
      "justify_items": null,
      "left": null,
      "margin": null,
      "max_height": null,
      "max_width": null,
      "min_height": null,
      "min_width": null,
      "object_fit": null,
      "object_position": null,
      "order": null,
      "overflow": null,
      "overflow_x": null,
      "overflow_y": null,
      "padding": null,
      "right": null,
      "top": null,
      "visibility": null,
      "width": null
     }
    },
    "9418c88a8ebf46eb85dfbb5ab0894a39": {
     "model_module": "@jupyter-widgets/controls",
     "model_module_version": "1.5.0",
     "model_name": "HBoxModel",
     "state": {
      "_dom_classes": [],
      "_model_module": "@jupyter-widgets/controls",
      "_model_module_version": "1.5.0",
      "_model_name": "HBoxModel",
      "_view_count": null,
      "_view_module": "@jupyter-widgets/controls",
      "_view_module_version": "1.5.0",
      "_view_name": "HBoxView",
      "box_style": "",
      "children": [
       "IPY_MODEL_5309e1d1d70a4dcca30d772ac30a571f",
       "IPY_MODEL_03de49956c814d56b37f565b3ec18591",
       "IPY_MODEL_a708fe4c1c7240929f1d62417f4e5d0e"
      ],
      "layout": "IPY_MODEL_8756c06ece954da1ba69885319fd5aa6"
     }
    },
    "94336ef08aa64675a871cf5886f74b79": {
     "model_module": "@jupyter-widgets/base",
     "model_module_version": "1.2.0",
     "model_name": "LayoutModel",
     "state": {
      "_model_module": "@jupyter-widgets/base",
      "_model_module_version": "1.2.0",
      "_model_name": "LayoutModel",
      "_view_count": null,
      "_view_module": "@jupyter-widgets/base",
      "_view_module_version": "1.2.0",
      "_view_name": "LayoutView",
      "align_content": null,
      "align_items": null,
      "align_self": null,
      "border": null,
      "bottom": null,
      "display": null,
      "flex": null,
      "flex_flow": null,
      "grid_area": null,
      "grid_auto_columns": null,
      "grid_auto_flow": null,
      "grid_auto_rows": null,
      "grid_column": null,
      "grid_gap": null,
      "grid_row": null,
      "grid_template_areas": null,
      "grid_template_columns": null,
      "grid_template_rows": null,
      "height": null,
      "justify_content": null,
      "justify_items": null,
      "left": null,
      "margin": null,
      "max_height": null,
      "max_width": null,
      "min_height": null,
      "min_width": null,
      "object_fit": null,
      "object_position": null,
      "order": null,
      "overflow": null,
      "overflow_x": null,
      "overflow_y": null,
      "padding": null,
      "right": null,
      "top": null,
      "visibility": null,
      "width": null
     }
    },
    "9584364970934e5794fc6c183f7e3fa0": {
     "model_module": "@jupyter-widgets/base",
     "model_module_version": "1.2.0",
     "model_name": "LayoutModel",
     "state": {
      "_model_module": "@jupyter-widgets/base",
      "_model_module_version": "1.2.0",
      "_model_name": "LayoutModel",
      "_view_count": null,
      "_view_module": "@jupyter-widgets/base",
      "_view_module_version": "1.2.0",
      "_view_name": "LayoutView",
      "align_content": null,
      "align_items": null,
      "align_self": null,
      "border": null,
      "bottom": null,
      "display": null,
      "flex": null,
      "flex_flow": null,
      "grid_area": null,
      "grid_auto_columns": null,
      "grid_auto_flow": null,
      "grid_auto_rows": null,
      "grid_column": null,
      "grid_gap": null,
      "grid_row": null,
      "grid_template_areas": null,
      "grid_template_columns": null,
      "grid_template_rows": null,
      "height": null,
      "justify_content": null,
      "justify_items": null,
      "left": null,
      "margin": null,
      "max_height": null,
      "max_width": null,
      "min_height": null,
      "min_width": null,
      "object_fit": null,
      "object_position": null,
      "order": null,
      "overflow": null,
      "overflow_x": null,
      "overflow_y": null,
      "padding": null,
      "right": null,
      "top": null,
      "visibility": null,
      "width": null
     }
    },
    "95eb0c208b90490ab9eb1d16a9c8b37c": {
     "model_module": "@jupyter-widgets/controls",
     "model_module_version": "1.5.0",
     "model_name": "LabelModel",
     "state": {
      "_dom_classes": [],
      "_model_module": "@jupyter-widgets/controls",
      "_model_module_version": "1.5.0",
      "_model_name": "LabelModel",
      "_view_count": null,
      "_view_module": "@jupyter-widgets/controls",
      "_view_module_version": "1.5.0",
      "_view_name": "LabelView",
      "description": "",
      "description_tooltip": null,
      "layout": "IPY_MODEL_cdb7e7d86581416fa0ecb6097b5a3834",
      "placeholder": "​",
      "style": "IPY_MODEL_c004889bab7c4629bd68fb4b9c5e0f40",
      "value": "Connecting..."
     }
    },
    "963ceb08e6594f9aa2539ac6efba2fe8": {
     "model_module": "@jupyter-widgets/controls",
     "model_module_version": "1.5.0",
     "model_name": "ProgressStyleModel",
     "state": {
      "_model_module": "@jupyter-widgets/controls",
      "_model_module_version": "1.5.0",
      "_model_name": "ProgressStyleModel",
      "_view_count": null,
      "_view_module": "@jupyter-widgets/base",
      "_view_module_version": "1.2.0",
      "_view_name": "StyleView",
      "bar_color": null,
      "description_width": ""
     }
    },
    "98e5566f2e0a42af895f89dc07c860d9": {
     "model_module": "@jupyter-widgets/base",
     "model_module_version": "1.2.0",
     "model_name": "LayoutModel",
     "state": {
      "_model_module": "@jupyter-widgets/base",
      "_model_module_version": "1.2.0",
      "_model_name": "LayoutModel",
      "_view_count": null,
      "_view_module": "@jupyter-widgets/base",
      "_view_module_version": "1.2.0",
      "_view_name": "LayoutView",
      "align_content": null,
      "align_items": null,
      "align_self": null,
      "border": null,
      "bottom": null,
      "display": null,
      "flex": null,
      "flex_flow": null,
      "grid_area": null,
      "grid_auto_columns": null,
      "grid_auto_flow": null,
      "grid_auto_rows": null,
      "grid_column": null,
      "grid_gap": null,
      "grid_row": null,
      "grid_template_areas": null,
      "grid_template_columns": null,
      "grid_template_rows": null,
      "height": null,
      "justify_content": null,
      "justify_items": null,
      "left": null,
      "margin": null,
      "max_height": null,
      "max_width": null,
      "min_height": null,
      "min_width": null,
      "object_fit": null,
      "object_position": null,
      "order": null,
      "overflow": null,
      "overflow_x": null,
      "overflow_y": null,
      "padding": null,
      "right": null,
      "top": null,
      "visibility": null,
      "width": null
     }
    },
    "994930d4284e4762bc46036840b656cb": {
     "model_module": "@jupyter-widgets/base",
     "model_module_version": "1.2.0",
     "model_name": "LayoutModel",
     "state": {
      "_model_module": "@jupyter-widgets/base",
      "_model_module_version": "1.2.0",
      "_model_name": "LayoutModel",
      "_view_count": null,
      "_view_module": "@jupyter-widgets/base",
      "_view_module_version": "1.2.0",
      "_view_name": "LayoutView",
      "align_content": null,
      "align_items": null,
      "align_self": null,
      "border": null,
      "bottom": null,
      "display": null,
      "flex": null,
      "flex_flow": null,
      "grid_area": null,
      "grid_auto_columns": null,
      "grid_auto_flow": null,
      "grid_auto_rows": null,
      "grid_column": null,
      "grid_gap": null,
      "grid_row": null,
      "grid_template_areas": null,
      "grid_template_columns": null,
      "grid_template_rows": null,
      "height": null,
      "justify_content": null,
      "justify_items": null,
      "left": null,
      "margin": null,
      "max_height": null,
      "max_width": null,
      "min_height": null,
      "min_width": null,
      "object_fit": null,
      "object_position": null,
      "order": null,
      "overflow": null,
      "overflow_x": null,
      "overflow_y": null,
      "padding": null,
      "right": null,
      "top": null,
      "visibility": null,
      "width": null
     }
    },
    "9b472ee1acf644e6badc27c4173ade32": {
     "model_module": "@jupyter-widgets/controls",
     "model_module_version": "1.5.0",
     "model_name": "DescriptionStyleModel",
     "state": {
      "_model_module": "@jupyter-widgets/controls",
      "_model_module_version": "1.5.0",
      "_model_name": "DescriptionStyleModel",
      "_view_count": null,
      "_view_module": "@jupyter-widgets/base",
      "_view_module_version": "1.2.0",
      "_view_name": "StyleView",
      "description_width": ""
     }
    },
    "a4665822800844bbbba7e839c0fa98f9": {
     "model_module": "@jupyter-widgets/controls",
     "model_module_version": "1.5.0",
     "model_name": "VBoxModel",
     "state": {
      "_dom_classes": [],
      "_model_module": "@jupyter-widgets/controls",
      "_model_module_version": "1.5.0",
      "_model_name": "VBoxModel",
      "_view_count": null,
      "_view_module": "@jupyter-widgets/controls",
      "_view_module_version": "1.5.0",
      "_view_name": "VBoxView",
      "box_style": "",
      "children": [
       "IPY_MODEL_080e64bcd2dd46c58622dc7f9cb76e28",
       "IPY_MODEL_2d7c2539811e4e61a986222691c8c2c9",
       "IPY_MODEL_504581405d554f298beb539a223954c6",
       "IPY_MODEL_358cdeb8460b4cd2803a7299a3397cfe"
      ],
      "layout": "IPY_MODEL_672a497191884a5ca29d15ffd239bf15"
     }
    },
    "a5249045d17b42eca4912965f206d37d": {
     "model_module": "@jupyter-widgets/base",
     "model_module_version": "1.2.0",
     "model_name": "LayoutModel",
     "state": {
      "_model_module": "@jupyter-widgets/base",
      "_model_module_version": "1.2.0",
      "_model_name": "LayoutModel",
      "_view_count": null,
      "_view_module": "@jupyter-widgets/base",
      "_view_module_version": "1.2.0",
      "_view_name": "LayoutView",
      "align_content": null,
      "align_items": null,
      "align_self": null,
      "border": null,
      "bottom": null,
      "display": null,
      "flex": null,
      "flex_flow": null,
      "grid_area": null,
      "grid_auto_columns": null,
      "grid_auto_flow": null,
      "grid_auto_rows": null,
      "grid_column": null,
      "grid_gap": null,
      "grid_row": null,
      "grid_template_areas": null,
      "grid_template_columns": null,
      "grid_template_rows": null,
      "height": null,
      "justify_content": null,
      "justify_items": null,
      "left": null,
      "margin": null,
      "max_height": null,
      "max_width": null,
      "min_height": null,
      "min_width": null,
      "object_fit": null,
      "object_position": null,
      "order": null,
      "overflow": null,
      "overflow_x": null,
      "overflow_y": null,
      "padding": null,
      "right": null,
      "top": null,
      "visibility": null,
      "width": null
     }
    },
    "a708fe4c1c7240929f1d62417f4e5d0e": {
     "model_module": "@jupyter-widgets/controls",
     "model_module_version": "1.5.0",
     "model_name": "HTMLModel",
     "state": {
      "_dom_classes": [],
      "_model_module": "@jupyter-widgets/controls",
      "_model_module_version": "1.5.0",
      "_model_name": "HTMLModel",
      "_view_count": null,
      "_view_module": "@jupyter-widgets/controls",
      "_view_module_version": "1.5.0",
      "_view_name": "HTMLView",
      "description": "",
      "description_tooltip": null,
      "layout": "IPY_MODEL_a5249045d17b42eca4912965f206d37d",
      "placeholder": "​",
      "style": "IPY_MODEL_c84db6fca1754550bf05856386c1d56b",
      "value": " 3/3 [00:09&lt;00:00,  3.09s/it]"
     }
    },
    "a94cc8e6b8d14644abcb4cf6e4b9e147": {
     "model_module": "@jupyter-widgets/base",
     "model_module_version": "1.2.0",
     "model_name": "LayoutModel",
     "state": {
      "_model_module": "@jupyter-widgets/base",
      "_model_module_version": "1.2.0",
      "_model_name": "LayoutModel",
      "_view_count": null,
      "_view_module": "@jupyter-widgets/base",
      "_view_module_version": "1.2.0",
      "_view_name": "LayoutView",
      "align_content": null,
      "align_items": null,
      "align_self": null,
      "border": null,
      "bottom": null,
      "display": null,
      "flex": null,
      "flex_flow": null,
      "grid_area": null,
      "grid_auto_columns": null,
      "grid_auto_flow": null,
      "grid_auto_rows": null,
      "grid_column": null,
      "grid_gap": null,
      "grid_row": null,
      "grid_template_areas": null,
      "grid_template_columns": null,
      "grid_template_rows": null,
      "height": null,
      "justify_content": null,
      "justify_items": null,
      "left": null,
      "margin": null,
      "max_height": null,
      "max_width": null,
      "min_height": null,
      "min_width": null,
      "object_fit": null,
      "object_position": null,
      "order": null,
      "overflow": null,
      "overflow_x": null,
      "overflow_y": null,
      "padding": null,
      "right": null,
      "top": null,
      "visibility": null,
      "width": null
     }
    },
    "aaee3ab66d374ea0b1260e7e8e4b005b": {
     "model_module": "@jupyter-widgets/controls",
     "model_module_version": "1.5.0",
     "model_name": "DescriptionStyleModel",
     "state": {
      "_model_module": "@jupyter-widgets/controls",
      "_model_module_version": "1.5.0",
      "_model_name": "DescriptionStyleModel",
      "_view_count": null,
      "_view_module": "@jupyter-widgets/base",
      "_view_module_version": "1.2.0",
      "_view_name": "StyleView",
      "description_width": ""
     }
    },
    "ab28934efebb435e9c5fd8e3127036c3": {
     "model_module": "@jupyter-widgets/base",
     "model_module_version": "1.2.0",
     "model_name": "LayoutModel",
     "state": {
      "_model_module": "@jupyter-widgets/base",
      "_model_module_version": "1.2.0",
      "_model_name": "LayoutModel",
      "_view_count": null,
      "_view_module": "@jupyter-widgets/base",
      "_view_module_version": "1.2.0",
      "_view_name": "LayoutView",
      "align_content": null,
      "align_items": null,
      "align_self": null,
      "border": null,
      "bottom": null,
      "display": null,
      "flex": null,
      "flex_flow": null,
      "grid_area": null,
      "grid_auto_columns": null,
      "grid_auto_flow": null,
      "grid_auto_rows": null,
      "grid_column": null,
      "grid_gap": null,
      "grid_row": null,
      "grid_template_areas": null,
      "grid_template_columns": null,
      "grid_template_rows": null,
      "height": null,
      "justify_content": null,
      "justify_items": null,
      "left": null,
      "margin": null,
      "max_height": null,
      "max_width": null,
      "min_height": null,
      "min_width": null,
      "object_fit": null,
      "object_position": null,
      "order": null,
      "overflow": null,
      "overflow_x": null,
      "overflow_y": null,
      "padding": null,
      "right": null,
      "top": null,
      "visibility": null,
      "width": null
     }
    },
    "ab57a8b9826540d7bcee71d3248a6023": {
     "model_module": "@jupyter-widgets/controls",
     "model_module_version": "1.5.0",
     "model_name": "HTMLModel",
     "state": {
      "_dom_classes": [],
      "_model_module": "@jupyter-widgets/controls",
      "_model_module_version": "1.5.0",
      "_model_name": "HTMLModel",
      "_view_count": null,
      "_view_module": "@jupyter-widgets/controls",
      "_view_module_version": "1.5.0",
      "_view_name": "HTMLView",
      "description": "",
      "description_tooltip": null,
      "layout": "IPY_MODEL_9242cb1452704f4a81ae59f58e2d750c",
      "placeholder": "​",
      "style": "IPY_MODEL_882c6140e4b544668e2d07a464e447a3",
      "value": "Upload 2 LFS files: 100%"
     }
    },
    "af3d0c59f30345508f7c4148238a7100": {
     "model_module": "@jupyter-widgets/controls",
     "model_module_version": "1.5.0",
     "model_name": "HTMLModel",
     "state": {
      "_dom_classes": [],
      "_model_module": "@jupyter-widgets/controls",
      "_model_module_version": "1.5.0",
      "_model_name": "HTMLModel",
      "_view_count": null,
      "_view_module": "@jupyter-widgets/controls",
      "_view_module_version": "1.5.0",
      "_view_name": "HTMLView",
      "description": "",
      "description_tooltip": null,
      "layout": "IPY_MODEL_98e5566f2e0a42af895f89dc07c860d9",
      "placeholder": "​",
      "style": "IPY_MODEL_8ad8114e38cf4cd38ce1b0e89a4b747f",
      "value": " 181/181 [00:00&lt;00:00, 2279.90 examples/s]"
     }
    },
    "b358f45ed56d4c2b852b8b5b2df1fd26": {
     "model_module": "@jupyter-widgets/controls",
     "model_module_version": "1.5.0",
     "model_name": "DescriptionStyleModel",
     "state": {
      "_model_module": "@jupyter-widgets/controls",
      "_model_module_version": "1.5.0",
      "_model_name": "DescriptionStyleModel",
      "_view_count": null,
      "_view_module": "@jupyter-widgets/base",
      "_view_module_version": "1.2.0",
      "_view_name": "StyleView",
      "description_width": ""
     }
    },
    "b4288d92cc264d1c85d00fe274db2c9c": {
     "model_module": "@jupyter-widgets/controls",
     "model_module_version": "1.5.0",
     "model_name": "ButtonStyleModel",
     "state": {
      "_model_module": "@jupyter-widgets/controls",
      "_model_module_version": "1.5.0",
      "_model_name": "ButtonStyleModel",
      "_view_count": null,
      "_view_module": "@jupyter-widgets/base",
      "_view_module_version": "1.2.0",
      "_view_name": "StyleView",
      "button_color": null,
      "font_weight": ""
     }
    },
    "b4f05b7f27954a40ad424a2a3b9a05d9": {
     "model_module": "@jupyter-widgets/controls",
     "model_module_version": "1.5.0",
     "model_name": "DescriptionStyleModel",
     "state": {
      "_model_module": "@jupyter-widgets/controls",
      "_model_module_version": "1.5.0",
      "_model_name": "DescriptionStyleModel",
      "_view_count": null,
      "_view_module": "@jupyter-widgets/base",
      "_view_module_version": "1.2.0",
      "_view_name": "StyleView",
      "description_width": ""
     }
    },
    "b8c3585eedfc47a491d38db80104a916": {
     "model_module": "@jupyter-widgets/base",
     "model_module_version": "1.2.0",
     "model_name": "LayoutModel",
     "state": {
      "_model_module": "@jupyter-widgets/base",
      "_model_module_version": "1.2.0",
      "_model_name": "LayoutModel",
      "_view_count": null,
      "_view_module": "@jupyter-widgets/base",
      "_view_module_version": "1.2.0",
      "_view_name": "LayoutView",
      "align_content": null,
      "align_items": null,
      "align_self": null,
      "border": null,
      "bottom": null,
      "display": null,
      "flex": null,
      "flex_flow": null,
      "grid_area": null,
      "grid_auto_columns": null,
      "grid_auto_flow": null,
      "grid_auto_rows": null,
      "grid_column": null,
      "grid_gap": null,
      "grid_row": null,
      "grid_template_areas": null,
      "grid_template_columns": null,
      "grid_template_rows": null,
      "height": null,
      "justify_content": null,
      "justify_items": null,
      "left": null,
      "margin": null,
      "max_height": null,
      "max_width": null,
      "min_height": null,
      "min_width": null,
      "object_fit": null,
      "object_position": null,
      "order": null,
      "overflow": null,
      "overflow_x": null,
      "overflow_y": null,
      "padding": null,
      "right": null,
      "top": null,
      "visibility": null,
      "width": null
     }
    },
    "bf788c132eec4d5eab743336162df2ec": {
     "model_module": "@jupyter-widgets/base",
     "model_module_version": "1.2.0",
     "model_name": "LayoutModel",
     "state": {
      "_model_module": "@jupyter-widgets/base",
      "_model_module_version": "1.2.0",
      "_model_name": "LayoutModel",
      "_view_count": null,
      "_view_module": "@jupyter-widgets/base",
      "_view_module_version": "1.2.0",
      "_view_name": "LayoutView",
      "align_content": null,
      "align_items": null,
      "align_self": null,
      "border": null,
      "bottom": null,
      "display": null,
      "flex": null,
      "flex_flow": null,
      "grid_area": null,
      "grid_auto_columns": null,
      "grid_auto_flow": null,
      "grid_auto_rows": null,
      "grid_column": null,
      "grid_gap": null,
      "grid_row": null,
      "grid_template_areas": null,
      "grid_template_columns": null,
      "grid_template_rows": null,
      "height": null,
      "justify_content": null,
      "justify_items": null,
      "left": null,
      "margin": null,
      "max_height": null,
      "max_width": null,
      "min_height": null,
      "min_width": null,
      "object_fit": null,
      "object_position": null,
      "order": null,
      "overflow": null,
      "overflow_x": null,
      "overflow_y": null,
      "padding": null,
      "right": null,
      "top": null,
      "visibility": null,
      "width": null
     }
    },
    "c004889bab7c4629bd68fb4b9c5e0f40": {
     "model_module": "@jupyter-widgets/controls",
     "model_module_version": "1.5.0",
     "model_name": "DescriptionStyleModel",
     "state": {
      "_model_module": "@jupyter-widgets/controls",
      "_model_module_version": "1.5.0",
      "_model_name": "DescriptionStyleModel",
      "_view_count": null,
      "_view_module": "@jupyter-widgets/base",
      "_view_module_version": "1.2.0",
      "_view_name": "StyleView",
      "description_width": ""
     }
    },
    "c84db6fca1754550bf05856386c1d56b": {
     "model_module": "@jupyter-widgets/controls",
     "model_module_version": "1.5.0",
     "model_name": "DescriptionStyleModel",
     "state": {
      "_model_module": "@jupyter-widgets/controls",
      "_model_module_version": "1.5.0",
      "_model_name": "DescriptionStyleModel",
      "_view_count": null,
      "_view_module": "@jupyter-widgets/base",
      "_view_module_version": "1.2.0",
      "_view_name": "StyleView",
      "description_width": ""
     }
    },
    "c8f804d16a484234a02e0d6064cf7057": {
     "model_module": "@jupyter-widgets/controls",
     "model_module_version": "1.5.0",
     "model_name": "HTMLModel",
     "state": {
      "_dom_classes": [],
      "_model_module": "@jupyter-widgets/controls",
      "_model_module_version": "1.5.0",
      "_model_name": "HTMLModel",
      "_view_count": null,
      "_view_module": "@jupyter-widgets/controls",
      "_view_module_version": "1.5.0",
      "_view_name": "HTMLView",
      "description": "",
      "description_tooltip": null,
      "layout": "IPY_MODEL_f8e08bd2051a4f209320fc71327c89d5",
      "placeholder": "​",
      "style": "IPY_MODEL_b358f45ed56d4c2b852b8b5b2df1fd26",
      "value": " 4.54k/4.54k [00:00&lt;00:00, 18.5kB/s]"
     }
    },
    "c99ab3e0943b4b45a5f663f0bb45fabb": {
     "model_module": "@jupyter-widgets/base",
     "model_module_version": "1.2.0",
     "model_name": "LayoutModel",
     "state": {
      "_model_module": "@jupyter-widgets/base",
      "_model_module_version": "1.2.0",
      "_model_name": "LayoutModel",
      "_view_count": null,
      "_view_module": "@jupyter-widgets/base",
      "_view_module_version": "1.2.0",
      "_view_name": "LayoutView",
      "align_content": null,
      "align_items": null,
      "align_self": null,
      "border": null,
      "bottom": null,
      "display": null,
      "flex": null,
      "flex_flow": null,
      "grid_area": null,
      "grid_auto_columns": null,
      "grid_auto_flow": null,
      "grid_auto_rows": null,
      "grid_column": null,
      "grid_gap": null,
      "grid_row": null,
      "grid_template_areas": null,
      "grid_template_columns": null,
      "grid_template_rows": null,
      "height": null,
      "justify_content": null,
      "justify_items": null,
      "left": null,
      "margin": null,
      "max_height": null,
      "max_width": null,
      "min_height": null,
      "min_width": null,
      "object_fit": null,
      "object_position": null,
      "order": null,
      "overflow": null,
      "overflow_x": null,
      "overflow_y": null,
      "padding": null,
      "right": null,
      "top": null,
      "visibility": null,
      "width": null
     }
    },
    "cdb7e7d86581416fa0ecb6097b5a3834": {
     "model_module": "@jupyter-widgets/base",
     "model_module_version": "1.2.0",
     "model_name": "LayoutModel",
     "state": {
      "_model_module": "@jupyter-widgets/base",
      "_model_module_version": "1.2.0",
      "_model_name": "LayoutModel",
      "_view_count": null,
      "_view_module": "@jupyter-widgets/base",
      "_view_module_version": "1.2.0",
      "_view_name": "LayoutView",
      "align_content": null,
      "align_items": null,
      "align_self": null,
      "border": null,
      "bottom": null,
      "display": null,
      "flex": null,
      "flex_flow": null,
      "grid_area": null,
      "grid_auto_columns": null,
      "grid_auto_flow": null,
      "grid_auto_rows": null,
      "grid_column": null,
      "grid_gap": null,
      "grid_row": null,
      "grid_template_areas": null,
      "grid_template_columns": null,
      "grid_template_rows": null,
      "height": null,
      "justify_content": null,
      "justify_items": null,
      "left": null,
      "margin": null,
      "max_height": null,
      "max_width": null,
      "min_height": null,
      "min_width": null,
      "object_fit": null,
      "object_position": null,
      "order": null,
      "overflow": null,
      "overflow_x": null,
      "overflow_y": null,
      "padding": null,
      "right": null,
      "top": null,
      "visibility": null,
      "width": null
     }
    },
    "cddec3ffcf3f4ae092b2ff4637577387": {
     "model_module": "@jupyter-widgets/controls",
     "model_module_version": "1.5.0",
     "model_name": "DescriptionStyleModel",
     "state": {
      "_model_module": "@jupyter-widgets/controls",
      "_model_module_version": "1.5.0",
      "_model_name": "DescriptionStyleModel",
      "_view_count": null,
      "_view_module": "@jupyter-widgets/base",
      "_view_module_version": "1.2.0",
      "_view_name": "StyleView",
      "description_width": ""
     }
    },
    "d0bc4bbbefac4b558f38f4e10ce37489": {
     "model_module": "@jupyter-widgets/base",
     "model_module_version": "1.2.0",
     "model_name": "LayoutModel",
     "state": {
      "_model_module": "@jupyter-widgets/base",
      "_model_module_version": "1.2.0",
      "_model_name": "LayoutModel",
      "_view_count": null,
      "_view_module": "@jupyter-widgets/base",
      "_view_module_version": "1.2.0",
      "_view_name": "LayoutView",
      "align_content": null,
      "align_items": null,
      "align_self": null,
      "border": null,
      "bottom": null,
      "display": null,
      "flex": null,
      "flex_flow": null,
      "grid_area": null,
      "grid_auto_columns": null,
      "grid_auto_flow": null,
      "grid_auto_rows": null,
      "grid_column": null,
      "grid_gap": null,
      "grid_row": null,
      "grid_template_areas": null,
      "grid_template_columns": null,
      "grid_template_rows": null,
      "height": null,
      "justify_content": null,
      "justify_items": null,
      "left": null,
      "margin": null,
      "max_height": null,
      "max_width": null,
      "min_height": null,
      "min_width": null,
      "object_fit": null,
      "object_position": null,
      "order": null,
      "overflow": null,
      "overflow_x": null,
      "overflow_y": null,
      "padding": null,
      "right": null,
      "top": null,
      "visibility": null,
      "width": null
     }
    },
    "d3c5ad8ef51a46ca8770440a3cfcda4e": {
     "model_module": "@jupyter-widgets/base",
     "model_module_version": "1.2.0",
     "model_name": "LayoutModel",
     "state": {
      "_model_module": "@jupyter-widgets/base",
      "_model_module_version": "1.2.0",
      "_model_name": "LayoutModel",
      "_view_count": null,
      "_view_module": "@jupyter-widgets/base",
      "_view_module_version": "1.2.0",
      "_view_name": "LayoutView",
      "align_content": null,
      "align_items": null,
      "align_self": null,
      "border": null,
      "bottom": null,
      "display": null,
      "flex": null,
      "flex_flow": null,
      "grid_area": null,
      "grid_auto_columns": null,
      "grid_auto_flow": null,
      "grid_auto_rows": null,
      "grid_column": null,
      "grid_gap": null,
      "grid_row": null,
      "grid_template_areas": null,
      "grid_template_columns": null,
      "grid_template_rows": null,
      "height": null,
      "justify_content": null,
      "justify_items": null,
      "left": null,
      "margin": null,
      "max_height": null,
      "max_width": null,
      "min_height": null,
      "min_width": null,
      "object_fit": null,
      "object_position": null,
      "order": null,
      "overflow": null,
      "overflow_x": null,
      "overflow_y": null,
      "padding": null,
      "right": null,
      "top": null,
      "visibility": null,
      "width": null
     }
    },
    "d47d722c86b5463f9e40e3a51d120583": {
     "model_module": "@jupyter-widgets/base",
     "model_module_version": "1.2.0",
     "model_name": "LayoutModel",
     "state": {
      "_model_module": "@jupyter-widgets/base",
      "_model_module_version": "1.2.0",
      "_model_name": "LayoutModel",
      "_view_count": null,
      "_view_module": "@jupyter-widgets/base",
      "_view_module_version": "1.2.0",
      "_view_name": "LayoutView",
      "align_content": null,
      "align_items": null,
      "align_self": null,
      "border": null,
      "bottom": null,
      "display": null,
      "flex": null,
      "flex_flow": null,
      "grid_area": null,
      "grid_auto_columns": null,
      "grid_auto_flow": null,
      "grid_auto_rows": null,
      "grid_column": null,
      "grid_gap": null,
      "grid_row": null,
      "grid_template_areas": null,
      "grid_template_columns": null,
      "grid_template_rows": null,
      "height": null,
      "justify_content": null,
      "justify_items": null,
      "left": null,
      "margin": null,
      "max_height": null,
      "max_width": null,
      "min_height": null,
      "min_width": null,
      "object_fit": null,
      "object_position": null,
      "order": null,
      "overflow": null,
      "overflow_x": null,
      "overflow_y": null,
      "padding": null,
      "right": null,
      "top": null,
      "visibility": null,
      "width": null
     }
    },
    "db06f279cf2a49e6a7f9bcd42a6d79e4": {
     "model_module": "@jupyter-widgets/base",
     "model_module_version": "1.2.0",
     "model_name": "LayoutModel",
     "state": {
      "_model_module": "@jupyter-widgets/base",
      "_model_module_version": "1.2.0",
      "_model_name": "LayoutModel",
      "_view_count": null,
      "_view_module": "@jupyter-widgets/base",
      "_view_module_version": "1.2.0",
      "_view_name": "LayoutView",
      "align_content": null,
      "align_items": null,
      "align_self": null,
      "border": null,
      "bottom": null,
      "display": null,
      "flex": null,
      "flex_flow": null,
      "grid_area": null,
      "grid_auto_columns": null,
      "grid_auto_flow": null,
      "grid_auto_rows": null,
      "grid_column": null,
      "grid_gap": null,
      "grid_row": null,
      "grid_template_areas": null,
      "grid_template_columns": null,
      "grid_template_rows": null,
      "height": null,
      "justify_content": null,
      "justify_items": null,
      "left": null,
      "margin": null,
      "max_height": null,
      "max_width": null,
      "min_height": null,
      "min_width": null,
      "object_fit": null,
      "object_position": null,
      "order": null,
      "overflow": null,
      "overflow_x": null,
      "overflow_y": null,
      "padding": null,
      "right": null,
      "top": null,
      "visibility": null,
      "width": null
     }
    },
    "dc1d674243da4f50af78a03b7493f6f7": {
     "model_module": "@jupyter-widgets/base",
     "model_module_version": "1.2.0",
     "model_name": "LayoutModel",
     "state": {
      "_model_module": "@jupyter-widgets/base",
      "_model_module_version": "1.2.0",
      "_model_name": "LayoutModel",
      "_view_count": null,
      "_view_module": "@jupyter-widgets/base",
      "_view_module_version": "1.2.0",
      "_view_name": "LayoutView",
      "align_content": null,
      "align_items": null,
      "align_self": null,
      "border": null,
      "bottom": null,
      "display": null,
      "flex": null,
      "flex_flow": null,
      "grid_area": null,
      "grid_auto_columns": null,
      "grid_auto_flow": null,
      "grid_auto_rows": null,
      "grid_column": null,
      "grid_gap": null,
      "grid_row": null,
      "grid_template_areas": null,
      "grid_template_columns": null,
      "grid_template_rows": null,
      "height": null,
      "justify_content": null,
      "justify_items": null,
      "left": null,
      "margin": null,
      "max_height": null,
      "max_width": null,
      "min_height": null,
      "min_width": null,
      "object_fit": null,
      "object_position": null,
      "order": null,
      "overflow": null,
      "overflow_x": null,
      "overflow_y": null,
      "padding": null,
      "right": null,
      "top": null,
      "visibility": null,
      "width": null
     }
    },
    "df625696fc0346029039805f5d1cad50": {
     "model_module": "@jupyter-widgets/base",
     "model_module_version": "1.2.0",
     "model_name": "LayoutModel",
     "state": {
      "_model_module": "@jupyter-widgets/base",
      "_model_module_version": "1.2.0",
      "_model_name": "LayoutModel",
      "_view_count": null,
      "_view_module": "@jupyter-widgets/base",
      "_view_module_version": "1.2.0",
      "_view_name": "LayoutView",
      "align_content": null,
      "align_items": null,
      "align_self": null,
      "border": null,
      "bottom": null,
      "display": null,
      "flex": null,
      "flex_flow": null,
      "grid_area": null,
      "grid_auto_columns": null,
      "grid_auto_flow": null,
      "grid_auto_rows": null,
      "grid_column": null,
      "grid_gap": null,
      "grid_row": null,
      "grid_template_areas": null,
      "grid_template_columns": null,
      "grid_template_rows": null,
      "height": null,
      "justify_content": null,
      "justify_items": null,
      "left": null,
      "margin": null,
      "max_height": null,
      "max_width": null,
      "min_height": null,
      "min_width": null,
      "object_fit": null,
      "object_position": null,
      "order": null,
      "overflow": null,
      "overflow_x": null,
      "overflow_y": null,
      "padding": null,
      "right": null,
      "top": null,
      "visibility": null,
      "width": null
     }
    },
    "dfc598bf84ee46ee95debd995293511e": {
     "model_module": "@jupyter-widgets/base",
     "model_module_version": "1.2.0",
     "model_name": "LayoutModel",
     "state": {
      "_model_module": "@jupyter-widgets/base",
      "_model_module_version": "1.2.0",
      "_model_name": "LayoutModel",
      "_view_count": null,
      "_view_module": "@jupyter-widgets/base",
      "_view_module_version": "1.2.0",
      "_view_name": "LayoutView",
      "align_content": null,
      "align_items": null,
      "align_self": null,
      "border": null,
      "bottom": null,
      "display": null,
      "flex": null,
      "flex_flow": null,
      "grid_area": null,
      "grid_auto_columns": null,
      "grid_auto_flow": null,
      "grid_auto_rows": null,
      "grid_column": null,
      "grid_gap": null,
      "grid_row": null,
      "grid_template_areas": null,
      "grid_template_columns": null,
      "grid_template_rows": null,
      "height": null,
      "justify_content": null,
      "justify_items": null,
      "left": null,
      "margin": null,
      "max_height": null,
      "max_width": null,
      "min_height": null,
      "min_width": null,
      "object_fit": null,
      "object_position": null,
      "order": null,
      "overflow": null,
      "overflow_x": null,
      "overflow_y": null,
      "padding": null,
      "right": null,
      "top": null,
      "visibility": null,
      "width": null
     }
    },
    "e3c98e06f3de49c5947dc5c6b4ebd4a7": {
     "model_module": "@jupyter-widgets/controls",
     "model_module_version": "1.5.0",
     "model_name": "DescriptionStyleModel",
     "state": {
      "_model_module": "@jupyter-widgets/controls",
      "_model_module_version": "1.5.0",
      "_model_name": "DescriptionStyleModel",
      "_view_count": null,
      "_view_module": "@jupyter-widgets/base",
      "_view_module_version": "1.2.0",
      "_view_name": "StyleView",
      "description_width": ""
     }
    },
    "e4d6367377fe43eb8c20cda9d0700683": {
     "model_module": "@jupyter-widgets/base",
     "model_module_version": "1.2.0",
     "model_name": "LayoutModel",
     "state": {
      "_model_module": "@jupyter-widgets/base",
      "_model_module_version": "1.2.0",
      "_model_name": "LayoutModel",
      "_view_count": null,
      "_view_module": "@jupyter-widgets/base",
      "_view_module_version": "1.2.0",
      "_view_name": "LayoutView",
      "align_content": null,
      "align_items": null,
      "align_self": null,
      "border": null,
      "bottom": null,
      "display": null,
      "flex": null,
      "flex_flow": null,
      "grid_area": null,
      "grid_auto_columns": null,
      "grid_auto_flow": null,
      "grid_auto_rows": null,
      "grid_column": null,
      "grid_gap": null,
      "grid_row": null,
      "grid_template_areas": null,
      "grid_template_columns": null,
      "grid_template_rows": null,
      "height": null,
      "justify_content": null,
      "justify_items": null,
      "left": null,
      "margin": null,
      "max_height": null,
      "max_width": null,
      "min_height": null,
      "min_width": null,
      "object_fit": null,
      "object_position": null,
      "order": null,
      "overflow": null,
      "overflow_x": null,
      "overflow_y": null,
      "padding": null,
      "right": null,
      "top": null,
      "visibility": null,
      "width": null
     }
    },
    "e6e18e1346934977a0bf9af4313d35f4": {
     "model_module": "@jupyter-widgets/controls",
     "model_module_version": "1.5.0",
     "model_name": "DescriptionStyleModel",
     "state": {
      "_model_module": "@jupyter-widgets/controls",
      "_model_module_version": "1.5.0",
      "_model_name": "DescriptionStyleModel",
      "_view_count": null,
      "_view_module": "@jupyter-widgets/base",
      "_view_module_version": "1.2.0",
      "_view_name": "StyleView",
      "description_width": ""
     }
    },
    "e8b80627ac1b49b5825b6c99c02a04a6": {
     "model_module": "@jupyter-widgets/controls",
     "model_module_version": "1.5.0",
     "model_name": "DescriptionStyleModel",
     "state": {
      "_model_module": "@jupyter-widgets/controls",
      "_model_module_version": "1.5.0",
      "_model_name": "DescriptionStyleModel",
      "_view_count": null,
      "_view_module": "@jupyter-widgets/base",
      "_view_module_version": "1.2.0",
      "_view_name": "StyleView",
      "description_width": ""
     }
    },
    "ea0d9c55b4854275b987b6c5df64415a": {
     "model_module": "@jupyter-widgets/controls",
     "model_module_version": "1.5.0",
     "model_name": "ButtonModel",
     "state": {
      "_dom_classes": [],
      "_model_module": "@jupyter-widgets/controls",
      "_model_module_version": "1.5.0",
      "_model_name": "ButtonModel",
      "_view_count": null,
      "_view_module": "@jupyter-widgets/controls",
      "_view_module_version": "1.5.0",
      "_view_name": "ButtonView",
      "button_style": "",
      "description": "Login",
      "disabled": false,
      "icon": "",
      "layout": "IPY_MODEL_db06f279cf2a49e6a7f9bcd42a6d79e4",
      "style": "IPY_MODEL_b4288d92cc264d1c85d00fe274db2c9c",
      "tooltip": ""
     }
    },
    "ebd43e77480d4e0ca8c32871e19578d6": {
     "model_module": "@jupyter-widgets/controls",
     "model_module_version": "1.5.0",
     "model_name": "HBoxModel",
     "state": {
      "_dom_classes": [],
      "_model_module": "@jupyter-widgets/controls",
      "_model_module_version": "1.5.0",
      "_model_name": "HBoxModel",
      "_view_count": null,
      "_view_module": "@jupyter-widgets/controls",
      "_view_module_version": "1.5.0",
      "_view_name": "HBoxView",
      "box_style": "",
      "children": [
       "IPY_MODEL_65b7ee2636bd4a6ea3580e5965130731",
       "IPY_MODEL_1a007964be54437c93c69744ecdb6984",
       "IPY_MODEL_af3d0c59f30345508f7c4148238a7100"
      ],
      "layout": "IPY_MODEL_dfc598bf84ee46ee95debd995293511e"
     }
    },
    "ec5a66778b564da389f2fdade6b4140e": {
     "model_module": "@jupyter-widgets/controls",
     "model_module_version": "1.5.0",
     "model_name": "DescriptionStyleModel",
     "state": {
      "_model_module": "@jupyter-widgets/controls",
      "_model_module_version": "1.5.0",
      "_model_name": "DescriptionStyleModel",
      "_view_count": null,
      "_view_module": "@jupyter-widgets/base",
      "_view_module_version": "1.2.0",
      "_view_name": "StyleView",
      "description_width": ""
     }
    },
    "f143cd2a049e4036a755359dcad9a32b": {
     "model_module": "@jupyter-widgets/controls",
     "model_module_version": "1.5.0",
     "model_name": "HTMLModel",
     "state": {
      "_dom_classes": [],
      "_model_module": "@jupyter-widgets/controls",
      "_model_module_version": "1.5.0",
      "_model_name": "HTMLModel",
      "_view_count": null,
      "_view_module": "@jupyter-widgets/controls",
      "_view_module_version": "1.5.0",
      "_view_name": "HTMLView",
      "description": "",
      "description_tooltip": null,
      "layout": "IPY_MODEL_ab28934efebb435e9c5fd8e3127036c3",
      "placeholder": "​",
      "style": "IPY_MODEL_aaee3ab66d374ea0b1260e7e8e4b005b",
      "value": "<center> <img\nsrc=https://huggingface.co/front/assets/huggingface_logo-noborder.svg\nalt='Hugging Face'> <br> Copy a token from <a\nhref=\"https://huggingface.co/settings/tokens\" target=\"_blank\">your Hugging Face\ntokens page</a> and paste it below. <br> Immediately click login after copying\nyour token or it might be stored in plain text in this notebook file. </center>"
     }
    },
    "f3eb707e211c467dbfdf7d5ee1476f36": {
     "model_module": "@jupyter-widgets/base",
     "model_module_version": "1.2.0",
     "model_name": "LayoutModel",
     "state": {
      "_model_module": "@jupyter-widgets/base",
      "_model_module_version": "1.2.0",
      "_model_name": "LayoutModel",
      "_view_count": null,
      "_view_module": "@jupyter-widgets/base",
      "_view_module_version": "1.2.0",
      "_view_name": "LayoutView",
      "align_content": null,
      "align_items": null,
      "align_self": null,
      "border": null,
      "bottom": null,
      "display": null,
      "flex": null,
      "flex_flow": null,
      "grid_area": null,
      "grid_auto_columns": null,
      "grid_auto_flow": null,
      "grid_auto_rows": null,
      "grid_column": null,
      "grid_gap": null,
      "grid_row": null,
      "grid_template_areas": null,
      "grid_template_columns": null,
      "grid_template_rows": null,
      "height": null,
      "justify_content": null,
      "justify_items": null,
      "left": null,
      "margin": null,
      "max_height": null,
      "max_width": null,
      "min_height": null,
      "min_width": null,
      "object_fit": null,
      "object_position": null,
      "order": null,
      "overflow": null,
      "overflow_x": null,
      "overflow_y": null,
      "padding": null,
      "right": null,
      "top": null,
      "visibility": null,
      "width": null
     }
    },
    "f8e08bd2051a4f209320fc71327c89d5": {
     "model_module": "@jupyter-widgets/base",
     "model_module_version": "1.2.0",
     "model_name": "LayoutModel",
     "state": {
      "_model_module": "@jupyter-widgets/base",
      "_model_module_version": "1.2.0",
      "_model_name": "LayoutModel",
      "_view_count": null,
      "_view_module": "@jupyter-widgets/base",
      "_view_module_version": "1.2.0",
      "_view_name": "LayoutView",
      "align_content": null,
      "align_items": null,
      "align_self": null,
      "border": null,
      "bottom": null,
      "display": null,
      "flex": null,
      "flex_flow": null,
      "grid_area": null,
      "grid_auto_columns": null,
      "grid_auto_flow": null,
      "grid_auto_rows": null,
      "grid_column": null,
      "grid_gap": null,
      "grid_row": null,
      "grid_template_areas": null,
      "grid_template_columns": null,
      "grid_template_rows": null,
      "height": null,
      "justify_content": null,
      "justify_items": null,
      "left": null,
      "margin": null,
      "max_height": null,
      "max_width": null,
      "min_height": null,
      "min_width": null,
      "object_fit": null,
      "object_position": null,
      "order": null,
      "overflow": null,
      "overflow_x": null,
      "overflow_y": null,
      "padding": null,
      "right": null,
      "top": null,
      "visibility": null,
      "width": null
     }
    }
   }
  }
 },
 "nbformat": 4,
 "nbformat_minor": 4
}
