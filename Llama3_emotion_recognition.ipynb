{
 "cells": [
  {
   "cell_type": "code",
   "execution_count": 1,
   "id": "3b3ae931-ad4f-4dba-9540-b9c986de6461",
   "metadata": {},
   "outputs": [
    {
     "name": "stderr",
     "output_type": "stream",
     "text": [
      "D:\\MiniConda\\envs\\pythonProject6\\lib\\site-packages\\tqdm\\auto.py:21: TqdmWarning: IProgress not found. Please update jupyter and ipywidgets. See https://ipywidgets.readthedocs.io/en/stable/user_install.html\n",
      "  from .autonotebook import tqdm as notebook_tqdm\n"
     ]
    }
   ],
   "source": [
    "from accelerate import Accelerator"
   ]
  },
  {
   "cell_type": "code",
   "execution_count": 2,
   "id": "9d48e510-51fb-4b7b-a3e1-e5bd16d74193",
   "metadata": {},
   "outputs": [],
   "source": [
    "import os\n",
    "import torch\n",
    "from transformers import (\n",
    "    AutoModelForCausalLM,\n",
    "    AutoTokenizer,\n",
    "    AutoConfig,\n",
    "    BitsAndBytesConfig,\n",
    ")\n",
    "import time\n",
    "import json\n",
    "import matplotlib.pyplot as plt\n",
    "import seaborn as sns\n",
    "import wandb"
   ]
  },
  {
   "cell_type": "code",
   "execution_count": 3,
   "id": "d1e773ce-7a74-4918-b628-bea6b50ec6f3",
   "metadata": {},
   "outputs": [],
   "source": [
    "os.environ[\"CUDA_VISIBLE_DEVICES\"]=\"0\""
   ]
  },
  {
   "cell_type": "code",
   "execution_count": 4,
   "id": "db0507a0-1409-4552-a1a1-ec28a703bd38",
   "metadata": {},
   "outputs": [],
   "source": [
    "def get_prompt(sample_data_point, speaker=False, video=False, audio=False):\n",
    "\tif speaker and video and audio:\n",
    "\t\tinstruction = \"\"\"Identify the emotion label of utterance {} out of the 7 emotions: joy, anger, disgust, fear, sadness, surprise, neutral. The video_captions for each utterance describe the video corresponding to the text and audio captions describe the audio.\\nDon't give an explanation.\\nOutput only one line in the format:\\nutterance_id :: emotion_label\"\"\".format(sample_data_point[\"utterance_id\"])\n",
    "\telif speaker and video:\n",
    "\t\tinstruction = \"\"\"Identify the emotion label of utterance {} out of the 7 emotions: joy, anger, disgust, fear, sadness, surprise, neutral. The video_captions for each utterance describe the video corresponding to the text.\\nDon't give an explanation.\\nOutput only one line in the format:\\nutterance_id :: emotion_label\"\"\".format(sample_data_point[\"utterance_id\"])\n",
    "\telse:\n",
    "\t\tinstruction = \"\"\"Identify the emotion label of utterance {} out of the 7 emotions: joy, anger, disgust, fear, sadness, surprise, neutral.\\nDon't give an explanation.\\nOutput only one line in the format:\\nutterance_id :: emotion_label\"\"\".format(sample_data_point[\"utterance_id\"])\n",
    "\n",
    "\treturn f\"\"\"<s>[INST]\\n{sample_data_point['conversation']}{instruction}\\n[/INST]\\n\"\"\", f\"\"\"utterance_{sample_data_point[\"utterance_id\"]} :: {sample_data_point['emotion_label']}\\n</s>\"\"\""
   ]
  },
  {
   "cell_type": "code",
   "execution_count": 5,
   "id": "c89d0edf-b4b8-4b25-be33-2acbb27e3fad",
   "metadata": {},
   "outputs": [],
   "source": [
    "def get_formatted_conversation(data_sample, speaker=False, video=False, audio=False):\n",
    "    conversation_str = '\"conversation\": [\\n'\n",
    "    for utt in data_sample[\"conversation\"]:\n",
    "        # conversation_str\n",
    "        if speaker and video and audio:\n",
    "            conversation_str += \"{{\\n\\\"utterance_ID\\\": {}\\n\\\"text\\\": {}\\n\\\"speaker\\\": {}\\n\\\"video_caption\\\": {}\\n\\\"audio_caption\\\": {}\".format(utt[\"utterance_ID\"], utt[\"text\"], utt[\"speaker\"], utt[\"video_caption\"], utt[\"audio_caption\"])\n",
    "            conversation_str += \"\\n}\\n\"\n",
    "        elif speaker and video:\n",
    "            conversation_str += \"{{\\n\\\"utterance_ID\\\": {}\\n\\\"text\\\": {}\\n\\\"speaker\\\": {}\\n\\\"video_caption\\\": {}\".format(utt[\"utterance_ID\"], utt[\"text\"], utt[\"speaker\"], utt[\"video_caption\"])\n",
    "            conversation_str += \"\\n}\\n\"\n",
    "        elif speaker:\n",
    "            conversation_str += \"{{\\n\\\"utterance_ID\\\": {}\\n\\\"text\\\": {}\\n\\\"speaker\\\": {}\\n}}\\n\".format(utt[\"utterance_ID\"], utt[\"text\"], utt[\"speaker\"])\n",
    "        else:\n",
    "            conversation_str += \"{{\\n\\\"utterance_ID\\\": {}\\n\\\"text\\\": {}\\n}}\\n\".format(utt[\"utterance_ID\"], utt[\"text\"])\n",
    "    return conversation_str"
   ]
  },
  {
   "cell_type": "code",
   "execution_count": 6,
   "id": "8d0c573d-81be-4ac0-89b3-e398968d577e",
   "metadata": {},
   "outputs": [],
   "source": [
    "def form_input(data_sample, utt_id, speaker=False, video=False, audio=False):\n",
    "    conversation_str = get_formatted_conversation(data_sample, speaker, video, audio)\n",
    "    emotions_str = data_sample[\"conversation\"][utt_id][\"emotion\"]\n",
    "    sample_data_point = {} # has utterance_id, conversation, emotion_label, conv id\n",
    "\n",
    "    sample_data_point[\"utterance_id\"] = utt_id+1\n",
    "    sample_data_point[\"conversation\"] = conversation_str\n",
    "    sample_data_point[\"emotion_label\"] = emotions_str\n",
    "    sample_data_point[\"conversation_id\"] = data_sample[\"conversation_ID\"]\n",
    "    return sample_data_point"
   ]
  },
  {
   "cell_type": "code",
   "execution_count": 7,
   "id": "78bc00b2-25f3-46d7-99be-02723a611251",
   "metadata": {},
   "outputs": [],
   "source": [
    "def generate_inst_for_each_utt_of_conv(data_point, speaker=False, video=False, audio=False):\n",
    "    num_utt = len(data_point[\"conversation\"])\n",
    "    list_output_objects = []\n",
    "    for i in range(num_utt):\n",
    "        sample_data_point = form_input(data_point, i, speaker, video, audio)\n",
    "        inst, out = get_prompt(sample_data_point, speaker, video, audio)\n",
    "        obj = {\n",
    "            \"instruction\": inst,\n",
    "            \"out\": out,\n",
    "            \"text\": inst + out,\n",
    "            \"emotion_label\": sample_data_point[\"emotion_label\"],\n",
    "            \"utterance_id\": sample_data_point[\"utterance_id\"],\n",
    "            \"conversation_id\": sample_data_point[\"conversation_id\"],\n",
    "        }\n",
    "        list_output_objects.append(obj)\n",
    "    return list_output_objects"
   ]
  },
  {
   "cell_type": "code",
   "execution_count": 8,
   "id": "a5e1a3b2-cf3c-4049-8ef1-acb950443caf",
   "metadata": {},
   "outputs": [],
   "source": [
    "def process_dataset(data, speaker=False, video=False, audio=False):\n",
    "    flattened_list = [element for sublist in map(lambda x: generate_inst_for_each_utt_of_conv(x, speaker, video, audio), data) for element in sublist]\n",
    "    ds = {}\n",
    "    ds[\"instruction\"] = [sample[\"instruction\"] for sample in flattened_list]\n",
    "    ds[\"out\"] = [sample[\"out\"] for sample in flattened_list]\n",
    "    ds[\"text\"] = [sample[\"text\"] for sample in flattened_list]\n",
    "    ds[\"emotion_label\"] = [sample[\"emotion_label\"] for sample in flattened_list]\n",
    "    ds[\"utterance_id\"] = [sample[\"utterance_id\"] for sample in flattened_list]\n",
    "    ds[\"conversation_id\"] = [sample[\"conversation_id\"] for sample in flattened_list]\n",
    "    return ds"
   ]
  },
  {
   "cell_type": "code",
   "execution_count": 9,
   "id": "804cdca2-8146-4171-88c8-593aef436338",
   "metadata": {},
   "outputs": [],
   "source": [
    "from generate_input import *"
   ]
  },
  {
   "cell_type": "code",
   "execution_count": 10,
   "id": "724dbf4b-aa14-49ac-bac4-1e929ff68d11",
   "metadata": {},
   "outputs": [],
   "source": [
    "# Params\n",
    "class Config:\n",
    "    def __init__(self) -> None:\n",
    "        self.seed = 42\n",
    "        self.speaker = True\n",
    "        self.video = False\n",
    "        self.audio = False"
   ]
  },
  {
   "cell_type": "code",
   "execution_count": 11,
   "id": "005a8729-81d6-4b8b-8df5-1d45c91f0424",
   "metadata": {},
   "outputs": [
    {
     "name": "stdout",
     "output_type": "stream",
     "text": [
      "Input already present at input\\test\\speaker\n",
      "\n",
      "Input already present at input\\train\\speaker\n",
      "\n",
      "Input already present at input\\val\\speaker\n",
      "\n"
     ]
    }
   ],
   "source": [
    "config = Config()\n",
    "test_file, train_file, val_file = generate_input(config)\n",
    "\n",
    "with open(train_file, 'r') as f:\n",
    "    train_data = json.load(f)\n",
    "with open(val_file, 'r') as f:\n",
    "    val_data = json.load(f)\n",
    "with open(test_file, 'r') as f:\n",
    "    test_data = json.load(f)"
   ]
  },
  {
   "cell_type": "code",
   "execution_count": 12,
   "id": "caa8087d-9372-4fca-a520-de47f3d2bd46",
   "metadata": {},
   "outputs": [],
   "source": [
    "# Form datasets from data\n",
    "train_dataset = process_dataset(train_data, speaker=config.speaker, video=config.video)\n",
    "val_dataset = process_dataset(val_data, speaker=config.speaker, video=config.video)\n",
    "test_dataset = process_dataset(test_data, speaker=config.speaker, video=config.video)"
   ]
  },
  {
   "cell_type": "code",
   "execution_count": 13,
   "id": "924013ed-38c9-4244-a554-41856468c681",
   "metadata": {},
   "outputs": [],
   "source": [
    "from datasets import Dataset\n",
    "train_dataset = Dataset.from_dict(train_dataset)\n",
    "val_dataset = Dataset.from_dict(val_dataset)\n",
    "test_dataset = Dataset.from_dict(test_dataset)"
   ]
  },
  {
   "cell_type": "code",
   "execution_count": 14,
   "id": "e7a66ba1-308a-424a-b86f-c8ab7d9d8b4a",
   "metadata": {},
   "outputs": [
    {
     "name": "stdout",
     "output_type": "stream",
     "text": [
      "Train len 10914\n",
      "Test len 1406\n",
      "Val len 1299\n"
     ]
    }
   ],
   "source": [
    "print(\"Train len {}\".format(len(train_dataset)))\n",
    "print(\"Test len {}\".format(len(test_dataset)))\n",
    "print(\"Val len {}\".format(len(val_dataset)))"
   ]
  },
  {
   "cell_type": "code",
   "execution_count": 15,
   "id": "c7c28a85-2e48-40c3-a68f-30dca4ca7309",
   "metadata": {},
   "outputs": [
    {
     "name": "stdout",
     "output_type": "stream",
     "text": [
      "{'instruction': '<s>[INST]\\n\"conversation\": [\\n{\\n\"utterance_ID\": 1\\n\"text\": Really ? You would ... you would do that for me ? !\\n\"speaker\": Joey\\n}\\n{\\n\"utterance_ID\": 2\\n\"text\": Yeah !\\n\"speaker\": Ross\\n}\\n{\\n\"utterance_ID\": 3\\n\"text\": Thanks !\\n\"speaker\": Joey\\n}\\n{\\n\"utterance_ID\": 4\\n\"text\": All right , we will start off slow . The only thing you have to do tonight is come up with the name of your main character .\\n\"speaker\": Ross\\n}\\n{\\n\"utterance_ID\": 5\\n\"text\": Done !\\n\"speaker\": Joey\\n}\\n{\\n\"utterance_ID\": 6\\n\"text\": And it can not be Joey .\\n\"speaker\": Ross\\n}\\n{\\n\"utterance_ID\": 7\\n\"text\": It is not .\\n\"speaker\": Joey\\n}\\n{\\n\"utterance_ID\": 8\\n\"text\": Or Joseph .\\n\"speaker\": Ross\\n}\\n{\\n\"utterance_ID\": 9\\n\"text\": Oh .\\n\"speaker\": Joey\\n}\\nIdentify the emotion label of utterance 1 out of the 7 emotions: joy, anger, disgust, fear, sadness, surprise, neutral.\\nDon\\'t give an explanation.\\nOutput only one line in the format:\\nutterance_id :: emotion_label\\n[/INST]\\n', 'out': 'utterance_1 :: surprise\\n</s>', 'text': '<s>[INST]\\n\"conversation\": [\\n{\\n\"utterance_ID\": 1\\n\"text\": Really ? You would ... you would do that for me ? !\\n\"speaker\": Joey\\n}\\n{\\n\"utterance_ID\": 2\\n\"text\": Yeah !\\n\"speaker\": Ross\\n}\\n{\\n\"utterance_ID\": 3\\n\"text\": Thanks !\\n\"speaker\": Joey\\n}\\n{\\n\"utterance_ID\": 4\\n\"text\": All right , we will start off slow . The only thing you have to do tonight is come up with the name of your main character .\\n\"speaker\": Ross\\n}\\n{\\n\"utterance_ID\": 5\\n\"text\": Done !\\n\"speaker\": Joey\\n}\\n{\\n\"utterance_ID\": 6\\n\"text\": And it can not be Joey .\\n\"speaker\": Ross\\n}\\n{\\n\"utterance_ID\": 7\\n\"text\": It is not .\\n\"speaker\": Joey\\n}\\n{\\n\"utterance_ID\": 8\\n\"text\": Or Joseph .\\n\"speaker\": Ross\\n}\\n{\\n\"utterance_ID\": 9\\n\"text\": Oh .\\n\"speaker\": Joey\\n}\\nIdentify the emotion label of utterance 1 out of the 7 emotions: joy, anger, disgust, fear, sadness, surprise, neutral.\\nDon\\'t give an explanation.\\nOutput only one line in the format:\\nutterance_id :: emotion_label\\n[/INST]\\nutterance_1 :: surprise\\n</s>', 'emotion_label': 'surprise', 'utterance_id': 1, 'conversation_id': 668}\n"
     ]
    }
   ],
   "source": [
    "print(train_dataset[0])"
   ]
  },
  {
   "cell_type": "code",
   "execution_count": 16,
   "id": "6bb1891b-2543-4722-b525-77af55fc4371",
   "metadata": {},
   "outputs": [
    {
     "name": "stdout",
     "output_type": "stream",
     "text": [
      "<s>[INST]\n",
      "\"conversation\": [\n",
      "{\n",
      "\"utterance_ID\": 1\n",
      "\"text\": Really ? You would ... you would do that for me ? !\n",
      "\"speaker\": Joey\n",
      "}\n",
      "{\n",
      "\"utterance_ID\": 2\n",
      "\"text\": Yeah !\n",
      "\"speaker\": Ross\n",
      "}\n",
      "{\n",
      "\"utterance_ID\": 3\n",
      "\"text\": Thanks !\n",
      "\"speaker\": Joey\n",
      "}\n",
      "{\n",
      "\"utterance_ID\": 4\n",
      "\"text\": All right , we will start off slow . The only thing you have to do tonight is come up with the name of your main character .\n",
      "\"speaker\": Ross\n",
      "}\n",
      "{\n",
      "\"utterance_ID\": 5\n",
      "\"text\": Done !\n",
      "\"speaker\": Joey\n",
      "}\n",
      "{\n",
      "\"utterance_ID\": 6\n",
      "\"text\": And it can not be Joey .\n",
      "\"speaker\": Ross\n",
      "}\n",
      "{\n",
      "\"utterance_ID\": 7\n",
      "\"text\": It is not .\n",
      "\"speaker\": Joey\n",
      "}\n",
      "{\n",
      "\"utterance_ID\": 8\n",
      "\"text\": Or Joseph .\n",
      "\"speaker\": Ross\n",
      "}\n",
      "{\n",
      "\"utterance_ID\": 9\n",
      "\"text\": Oh .\n",
      "\"speaker\": Joey\n",
      "}\n",
      "Identify the emotion label of utterance 1 out of the 7 emotions: joy, anger, disgust, fear, sadness, surprise, neutral.\n",
      "Don't give an explanation.\n",
      "Output only one line in the format:\n",
      "utterance_id :: emotion_label\n",
      "[/INST]\n",
      "\n"
     ]
    }
   ],
   "source": [
    "print(train_dataset[\"instruction\"][0])"
   ]
  },
  {
   "cell_type": "code",
   "execution_count": 17,
   "id": "0a5fd0e3-27b7-4263-9def-76775652afd5",
   "metadata": {},
   "outputs": [
    {
     "name": "stdout",
     "output_type": "stream",
     "text": [
      "{\n",
      "    \"model.embed_tokens\": 0,\n",
      "    \"model.layers.0\": 0,\n",
      "    \"model.layers.1\": 0,\n",
      "    \"model.layers.2\": 0,\n",
      "    \"model.layers.3\": 0,\n",
      "    \"model.layers.4\": 0,\n",
      "    \"model.layers.5\": 0,\n",
      "    \"model.layers.6\": 0,\n",
      "    \"model.layers.7\": 0,\n",
      "    \"model.layers.8\": 0,\n",
      "    \"model.layers.9\": 0,\n",
      "    \"model.layers.10\": 0,\n",
      "    \"model.layers.11\": 0,\n",
      "    \"model.layers.12\": 0,\n",
      "    \"model.layers.13\": 0,\n",
      "    \"model.layers.14\": 0,\n",
      "    \"model.layers.15\": 0,\n",
      "    \"model.layers.16\": 0,\n",
      "    \"model.layers.17\": 0,\n",
      "    \"model.layers.18\": 0,\n",
      "    \"model.layers.19\": 0,\n",
      "    \"model.layers.20\": 0,\n",
      "    \"model.layers.21\": 0,\n",
      "    \"model.layers.22\": 0,\n",
      "    \"model.layers.23\": 0,\n",
      "    \"model.layers.24.self_attn\": 0,\n",
      "    \"model.layers.24.mlp.gate_proj\": 0,\n",
      "    \"model.layers.24.mlp.up_proj\": \"cpu\",\n",
      "    \"model.layers.24.mlp.down_proj\": \"cpu\",\n",
      "    \"model.layers.24.mlp.act_fn\": \"cpu\",\n",
      "    \"model.layers.24.input_layernorm\": \"cpu\",\n",
      "    \"model.layers.24.post_attention_layernorm\": \"cpu\",\n",
      "    \"model.layers.25\": \"cpu\",\n",
      "    \"model.layers.26\": \"cpu\",\n",
      "    \"model.layers.27\": \"cpu\",\n",
      "    \"model.layers.28\": \"cpu\",\n",
      "    \"model.layers.29\": \"cpu\",\n",
      "    \"model.layers.30\": \"cpu\",\n",
      "    \"model.layers.31\": \"cpu\",\n",
      "    \"model.norm\": \"cpu\",\n",
      "    \"lm_head\": \"cpu\"\n",
      "}\n"
     ]
    },
    {
     "name": "stderr",
     "output_type": "stream",
     "text": [
      "Loading checkpoint shards: 100%|██████████████████████████████████████████████████████████████████████████████████████████████████████████████████████████████████████████████████████████████████████████| 4/4 [00:07<00:00,  1.84s/it]\n",
      "Special tokens have been added in the vocabulary, make sure the associated word embeddings are fine-tuned or trained.\n"
     ]
    }
   ],
   "source": [
    "import accelerate\n",
    "model_id = \"models--Undi95--Meta-Llama-3-8B-Instruct-hf\"\n",
    "model_config = AutoConfig.from_pretrained(model_id)\n",
    "with accelerate.init_empty_weights():\n",
    "    fake_model = AutoModelForCausalLM.from_config(model_config)\n",
    "device_map=accelerate.infer_auto_device_map(fake_model, max_memory={0: \"24GiB\", \"cpu\": \"20GiB\"}) #\n",
    "print(json.dumps(device_map, indent=4))\n",
    "# Use 4-bit quantized version of model, wgts and activations -> 4 bits\n",
    "compute_dtype = getattr(torch, \"float16\")\n",
    "bnb_config = BitsAndBytesConfig(\n",
    "    load_in_4bit=True,\n",
    "    bnb_4bit_use_double_quant=True,\n",
    "    bnb_4bit_quant_type=\"nf4\",\n",
    "    bnb_compute_dtype=compute_dtype,\n",
    "    llm_int8_enable_fp32_cpu_offload=True,\n",
    ")\n",
    "model = AutoModelForCausalLM.from_pretrained(model_id,\n",
    "                                             quantization_config=bnb_config,\n",
    "                                             device_map={\"\": Accelerator().local_process_index},\n",
    "                                             offload_folder=\"/tmp/.offload\",\n",
    "                                             low_cpu_mem_usage=True,\n",
    "                                             torch_dtype=torch.float16,\n",
    "                                             )\n",
    "tokenizer = AutoTokenizer.from_pretrained(model_id)\n",
    "tokenizer.pad_token = tokenizer.eos_token\n",
    "tokenizer.padding_size = \"right\""
   ]
  },
  {
   "cell_type": "code",
   "execution_count": 18,
   "id": "b0740f47-80f0-4f1e-af34-5e4844512334",
   "metadata": {},
   "outputs": [
    {
     "data": {
      "text/plain": [
       "LlamaForCausalLM(\n",
       "  (model): LlamaModel(\n",
       "    (embed_tokens): Embedding(128256, 4096)\n",
       "    (layers): ModuleList(\n",
       "      (0-31): 32 x LlamaDecoderLayer(\n",
       "        (self_attn): LlamaAttention(\n",
       "          (q_proj): Linear4bit(in_features=4096, out_features=4096, bias=False)\n",
       "          (k_proj): Linear4bit(in_features=4096, out_features=1024, bias=False)\n",
       "          (v_proj): Linear4bit(in_features=4096, out_features=1024, bias=False)\n",
       "          (o_proj): Linear4bit(in_features=4096, out_features=4096, bias=False)\n",
       "          (rotary_emb): LlamaRotaryEmbedding()\n",
       "        )\n",
       "        (mlp): LlamaMLP(\n",
       "          (gate_proj): Linear4bit(in_features=4096, out_features=14336, bias=False)\n",
       "          (up_proj): Linear4bit(in_features=4096, out_features=14336, bias=False)\n",
       "          (down_proj): Linear4bit(in_features=14336, out_features=4096, bias=False)\n",
       "          (act_fn): SiLU()\n",
       "        )\n",
       "        (input_layernorm): LlamaRMSNorm()\n",
       "        (post_attention_layernorm): LlamaRMSNorm()\n",
       "      )\n",
       "    )\n",
       "    (norm): LlamaRMSNorm()\n",
       "  )\n",
       "  (lm_head): Linear(in_features=4096, out_features=128256, bias=False)\n",
       ")"
      ]
     },
     "execution_count": 18,
     "metadata": {},
     "output_type": "execute_result"
    }
   ],
   "source": [
    "model.config.use_cache = True\n",
    "model.eval()"
   ]
  },
  {
   "cell_type": "code",
   "execution_count": 19,
   "id": "d203e71f-4adf-4ea2-92da-160101bf68bf",
   "metadata": {},
   "outputs": [
    {
     "name": "stdout",
     "output_type": "stream",
     "text": [
      "<s>[INST]\n",
      "\"conversation\": [\n",
      "{\n",
      "\"utterance_ID\": 1\n",
      "\"text\": Hey !\n",
      "\"speaker\": Joey\n",
      "}\n",
      "{\n",
      "\"utterance_ID\": 2\n",
      "\"text\": So , what are you guys in the market for ? We have got uh , scarves , tulip post cards ...\n",
      "\"speaker\": The Vendor\n",
      "}\n",
      "{\n",
      "\"utterance_ID\": 3\n",
      "\"text\": Check this out ? Huh ? Yeah . That is the stuff . What do you think ?\n",
      "\"speaker\": Joey\n",
      "}\n",
      "{\n",
      "\"utterance_ID\": 4\n",
      "\"text\": Well , I do not have to buy that , \" I am with stupid \" T ... shirt anymore .\n",
      "\"speaker\": Chandler\n",
      "}\n",
      "{\n",
      "\"utterance_ID\": 5\n",
      "\"text\": Well , I like it . Here you go .\n",
      "\"speaker\": Joey\n",
      "}\n",
      "{\n",
      "\"utterance_ID\": 6\n",
      "\"text\": All right , look , you are not really gonna buy that are you ? Do not you think you have embarrassed me enough for one day ?\n",
      "\"speaker\": Chandler\n",
      "}\n",
      "{\n",
      "\"utterance_ID\": 7\n",
      "\"text\": Oh , I embarrass you ?\n",
      "\"speaker\": Joey\n",
      "}\n",
      "{\n",
      "\"utterance_ID\": 8\n",
      "\"text\": How can I answer that when I am pretending I do not know you ?\n",
      "\"speaker\": Chandler\n",
      "}\n",
      "{\n",
      "\"utterance_ID\": 9\n",
      "\"text\": Oh really ? Then how come no one here is wearing them ?\n",
      "\"speaker\": Chandler\n",
      "}\n",
      "{\n",
      "\"utterance_ID\": 10\n",
      "\"text\": They are all tourists .\n",
      "\"speaker\": The Vendor\n",
      "}\n",
      "{\n",
      "\"utterance_ID\": 11\n",
      "\"text\": All right , look , if you insist on wearing that , in public , you know , you are gonna spend the rest of the afternoon all by yourself .\n",
      "\"speaker\": Chandler\n",
      "}\n",
      "{\n",
      "\"utterance_ID\": 12\n",
      "\"text\": Oh yeah ? If you are gonna make me choose between you and the hat , I choose the hat .\n",
      "\"speaker\": Joey\n",
      "}\n",
      "{\n",
      "\"utterance_ID\": 13\n",
      "\"text\": Good choice .\n",
      "\"speaker\": The Vendor\n",
      "}\n",
      "{\n",
      "\"utterance_ID\": 14\n",
      "\"text\": Thanks .\n",
      "\"speaker\": Joey\n",
      "}\n",
      "{\n",
      "\"utterance_ID\": 15\n",
      "\"text\": Okay , wait . All right , that is it , okay , I am out of here . I am not going to be embarrassed anymore !\n",
      "\"speaker\": Chandler\n",
      "}\n",
      "Identify the emotion label of utterance 1 out of the 7 emotions: joy, anger, disgust, fear, sadness, surprise, neutral.\n",
      "Don't give an explanation.\n",
      "Output only one line in the format:\n",
      "utterance_id :: emotion_label\n",
      "[/INST]\n",
      "\n"
     ]
    }
   ],
   "source": [
    "print(test_dataset[0][\"instruction\"])"
   ]
  },
  {
   "cell_type": "code",
   "execution_count": 20,
   "id": "fb88218a-eda4-41ed-a58d-58030a434426",
   "metadata": {},
   "outputs": [],
   "source": [
    "import string\n",
    "\n",
    "uppercase_set = set(string.ascii_uppercase)\n",
    "lowercase_set = set(string.ascii_lowercase)\n",
    "chars = uppercase_set.union(lowercase_set)"
   ]
  },
  {
   "cell_type": "code",
   "execution_count": 21,
   "id": "3c702a5d-9404-4627-a0dc-5164e9e59bcd",
   "metadata": {},
   "outputs": [],
   "source": [
    "def extract_emotion_label(pred_label):\n",
    "    \"\"\"pred_label is raw output string from the model\n",
    "    Like [\"utterance_id :: anger ...\", \"2 :: fear ...\", ]\n",
    "    It could be inconsistent\n",
    "    \"\"\"\n",
    "    # print(\"pred_label:    \",pred_label)\n",
    "    label = pred_label.split(\"::\")[1]\n",
    "    label = label.strip()\n",
    "    out_label = \"\"\n",
    "    for c in label:\n",
    "        if c not in chars:\n",
    "            break\n",
    "        out_label += c\n",
    "    return out_label.strip()"
   ]
  },
  {
   "cell_type": "code",
   "execution_count": 22,
   "id": "9772a5da-4402-40c8-b76f-b87e39d4d19c",
   "metadata": {},
   "outputs": [],
   "source": [
    "def get_full_output(prompt):\n",
    "    input_ids = tokenizer(prompt, return_tensors='pt',truncation=True).input_ids.cuda()\n",
    "    outputs = model.generate(input_ids=input_ids, max_new_tokens=15)\n",
    "    output = tokenizer.batch_decode(outputs.detach().cpu().numpy(), skip_special_tokens=True)[0]\n",
    "    return output"
   ]
  },
  {
   "cell_type": "code",
   "execution_count": 23,
   "id": "04366ced-0c40-4086-8c4a-0a50eddba7a3",
   "metadata": {},
   "outputs": [],
   "source": [
    "def infer_emotion(dataset):\n",
    "    pred_labels_list = []\n",
    "    true_labels_list = []\n",
    "    for i in range(len(dataset)):\n",
    "        # predict\n",
    "        prompt = dataset[\"instruction\"][i]\n",
    "        # print(\"prompt:    \",prompt)\n",
    "        output = get_full_output(prompt)\n",
    "        print(\"output:********\",output)\n",
    "        pred_labels_list.append(output)\n",
    "        # baseline\n",
    "        baseline_output = dataset[\"out\"][i]\n",
    "        baseline_output = extract_emotion_label(baseline_output.strip())\n",
    "        baseline_output = baseline_output.strip().lower()\n",
    "        print(\"True:********\", baseline_output)\n",
    "        print(\"---------------------\")\n",
    "        true_labels_list.append(baseline_output)\n",
    "    return pred_labels_list, true_labels_list"
   ]
  },
  {
   "cell_type": "code",
   "execution_count": 24,
   "id": "0b9f9049-3d92-4da3-8e6b-16331be2d51f",
   "metadata": {},
   "outputs": [
    {
     "data": {
      "text/plain": [
       "{'instruction': '<s>[INST]\\n\"conversation\": [\\n{\\n\"utterance_ID\": 1\\n\"text\": Hey !\\n\"speaker\": Joey\\n}\\n{\\n\"utterance_ID\": 2\\n\"text\": So , what are you guys in the market for ? We have got uh , scarves , tulip post cards ...\\n\"speaker\": The Vendor\\n}\\n{\\n\"utterance_ID\": 3\\n\"text\": Check this out ? Huh ? Yeah . That is the stuff . What do you think ?\\n\"speaker\": Joey\\n}\\n{\\n\"utterance_ID\": 4\\n\"text\": Well , I do not have to buy that , \" I am with stupid \" T ... shirt anymore .\\n\"speaker\": Chandler\\n}\\n{\\n\"utterance_ID\": 5\\n\"text\": Well , I like it . Here you go .\\n\"speaker\": Joey\\n}\\n{\\n\"utterance_ID\": 6\\n\"text\": All right , look , you are not really gonna buy that are you ? Do not you think you have embarrassed me enough for one day ?\\n\"speaker\": Chandler\\n}\\n{\\n\"utterance_ID\": 7\\n\"text\": Oh , I embarrass you ?\\n\"speaker\": Joey\\n}\\n{\\n\"utterance_ID\": 8\\n\"text\": How can I answer that when I am pretending I do not know you ?\\n\"speaker\": Chandler\\n}\\n{\\n\"utterance_ID\": 9\\n\"text\": Oh really ? Then how come no one here is wearing them ?\\n\"speaker\": Chandler\\n}\\n{\\n\"utterance_ID\": 10\\n\"text\": They are all tourists .\\n\"speaker\": The Vendor\\n}\\n{\\n\"utterance_ID\": 11\\n\"text\": All right , look , if you insist on wearing that , in public , you know , you are gonna spend the rest of the afternoon all by yourself .\\n\"speaker\": Chandler\\n}\\n{\\n\"utterance_ID\": 12\\n\"text\": Oh yeah ? If you are gonna make me choose between you and the hat , I choose the hat .\\n\"speaker\": Joey\\n}\\n{\\n\"utterance_ID\": 13\\n\"text\": Good choice .\\n\"speaker\": The Vendor\\n}\\n{\\n\"utterance_ID\": 14\\n\"text\": Thanks .\\n\"speaker\": Joey\\n}\\n{\\n\"utterance_ID\": 15\\n\"text\": Okay , wait . All right , that is it , okay , I am out of here . I am not going to be embarrassed anymore !\\n\"speaker\": Chandler\\n}\\nIdentify the emotion label of utterance 1 out of the 7 emotions: joy, anger, disgust, fear, sadness, surprise, neutral.\\nDon\\'t give an explanation.\\nOutput only one line in the format:\\nutterance_id :: emotion_label\\n[/INST]\\n',\n",
       " 'out': 'utterance_1 :: joy\\n</s>',\n",
       " 'text': '<s>[INST]\\n\"conversation\": [\\n{\\n\"utterance_ID\": 1\\n\"text\": Hey !\\n\"speaker\": Joey\\n}\\n{\\n\"utterance_ID\": 2\\n\"text\": So , what are you guys in the market for ? We have got uh , scarves , tulip post cards ...\\n\"speaker\": The Vendor\\n}\\n{\\n\"utterance_ID\": 3\\n\"text\": Check this out ? Huh ? Yeah . That is the stuff . What do you think ?\\n\"speaker\": Joey\\n}\\n{\\n\"utterance_ID\": 4\\n\"text\": Well , I do not have to buy that , \" I am with stupid \" T ... shirt anymore .\\n\"speaker\": Chandler\\n}\\n{\\n\"utterance_ID\": 5\\n\"text\": Well , I like it . Here you go .\\n\"speaker\": Joey\\n}\\n{\\n\"utterance_ID\": 6\\n\"text\": All right , look , you are not really gonna buy that are you ? Do not you think you have embarrassed me enough for one day ?\\n\"speaker\": Chandler\\n}\\n{\\n\"utterance_ID\": 7\\n\"text\": Oh , I embarrass you ?\\n\"speaker\": Joey\\n}\\n{\\n\"utterance_ID\": 8\\n\"text\": How can I answer that when I am pretending I do not know you ?\\n\"speaker\": Chandler\\n}\\n{\\n\"utterance_ID\": 9\\n\"text\": Oh really ? Then how come no one here is wearing them ?\\n\"speaker\": Chandler\\n}\\n{\\n\"utterance_ID\": 10\\n\"text\": They are all tourists .\\n\"speaker\": The Vendor\\n}\\n{\\n\"utterance_ID\": 11\\n\"text\": All right , look , if you insist on wearing that , in public , you know , you are gonna spend the rest of the afternoon all by yourself .\\n\"speaker\": Chandler\\n}\\n{\\n\"utterance_ID\": 12\\n\"text\": Oh yeah ? If you are gonna make me choose between you and the hat , I choose the hat .\\n\"speaker\": Joey\\n}\\n{\\n\"utterance_ID\": 13\\n\"text\": Good choice .\\n\"speaker\": The Vendor\\n}\\n{\\n\"utterance_ID\": 14\\n\"text\": Thanks .\\n\"speaker\": Joey\\n}\\n{\\n\"utterance_ID\": 15\\n\"text\": Okay , wait . All right , that is it , okay , I am out of here . I am not going to be embarrassed anymore !\\n\"speaker\": Chandler\\n}\\nIdentify the emotion label of utterance 1 out of the 7 emotions: joy, anger, disgust, fear, sadness, surprise, neutral.\\nDon\\'t give an explanation.\\nOutput only one line in the format:\\nutterance_id :: emotion_label\\n[/INST]\\nutterance_1 :: joy\\n</s>',\n",
       " 'emotion_label': 'joy',\n",
       " 'utterance_id': 1,\n",
       " 'conversation_id': 606}"
      ]
     },
     "execution_count": 24,
     "metadata": {},
     "output_type": "execute_result"
    }
   ],
   "source": [
    "test_dataset[0]"
   ]
  },
  {
   "cell_type": "code",
   "execution_count": 25,
   "id": "4a6a31d3-1394-47e9-8c21-0e721aaba9f6",
   "metadata": {},
   "outputs": [
    {
     "name": "stdout",
     "output_type": "stream",
     "text": [
      "406\n"
     ]
    }
   ],
   "source": [
    "print(len(test_dataset)-1000)"
   ]
  },
  {
   "cell_type": "code",
   "execution_count": 26,
   "id": "c53aa1da-c0f7-483b-a146-9776a30c74c2",
   "metadata": {},
   "outputs": [
    {
     "name": "stderr",
     "output_type": "stream",
     "text": [
      "Asking to truncate to max_length but no maximum length is provided and the model has no predefined maximum length. Default to no truncation.\n",
      "D:\\MiniConda\\envs\\pythonProject6\\lib\\site-packages\\transformers\\generation\\utils.py:1518: UserWarning: You have modified the pretrained model configuration to control generation. This is a deprecated strategy to control generation and will be removed soon, in a future version. Please use and modify the model generation configuration (see https://huggingface.co/docs/transformers/generation_strategies#default-text-generation-configuration )\n",
      "  warnings.warn(\n",
      "The attention mask and the pad token id were not set. As a consequence, you may observe unexpected behavior. Please pass your input's `attention_mask` to obtain reliable results.\n",
      "Setting `pad_token_id` to `eos_token_id`:128001 for open-end generation.\n",
      "D:\\MiniConda\\envs\\pythonProject6\\lib\\site-packages\\bitsandbytes\\nn\\modules.py:451: UserWarning: Input type into Linear4bit is torch.float16, but bnb_4bit_compute_dtype=torch.float32 (default). This will lead to slow inference or training speed.\n",
      "  warnings.warn(\n",
      "The attention mask and the pad token id were not set. As a consequence, you may observe unexpected behavior. Please pass your input's `attention_mask` to obtain reliable results.\n",
      "Setting `pad_token_id` to `eos_token_id`:128001 for open-end generation.\n"
     ]
    },
    {
     "name": "stdout",
     "output_type": "stream",
     "text": [
      "output:******** <s>[INST]\n",
      "\"conversation\": [\n",
      "{\n",
      "\"utterance_ID\": 1\n",
      "\"text\": Hey!\n",
      "\"speaker\": Joey\n",
      "}\n",
      "{\n",
      "\"utterance_ID\": 2\n",
      "\"text\": So, what are you guys in the market for? We have got uh, scarves, tulip post cards...\n",
      "\"speaker\": The Vendor\n",
      "}\n",
      "{\n",
      "\"utterance_ID\": 3\n",
      "\"text\": Check this out? Huh? Yeah. That is the stuff. What do you think?\n",
      "\"speaker\": Joey\n",
      "}\n",
      "{\n",
      "\"utterance_ID\": 4\n",
      "\"text\": Well, I do not have to buy that, \" I am with stupid \" T... shirt anymore.\n",
      "\"speaker\": Chandler\n",
      "}\n",
      "{\n",
      "\"utterance_ID\": 5\n",
      "\"text\": Well, I like it. Here you go.\n",
      "\"speaker\": Joey\n",
      "}\n",
      "{\n",
      "\"utterance_ID\": 6\n",
      "\"text\": All right, look, you are not really gonna buy that are you? Do not you think you have embarrassed me enough for one day?\n",
      "\"speaker\": Chandler\n",
      "}\n",
      "{\n",
      "\"utterance_ID\": 7\n",
      "\"text\": Oh, I embarrass you?\n",
      "\"speaker\": Joey\n",
      "}\n",
      "{\n",
      "\"utterance_ID\": 8\n",
      "\"text\": How can I answer that when I am pretending I do not know you?\n",
      "\"speaker\": Chandler\n",
      "}\n",
      "{\n",
      "\"utterance_ID\": 9\n",
      "\"text\": Oh really? Then how come no one here is wearing them?\n",
      "\"speaker\": Chandler\n",
      "}\n",
      "{\n",
      "\"utterance_ID\": 10\n",
      "\"text\": They are all tourists.\n",
      "\"speaker\": The Vendor\n",
      "}\n",
      "{\n",
      "\"utterance_ID\": 11\n",
      "\"text\": All right, look, if you insist on wearing that, in public, you know, you are gonna spend the rest of the afternoon all by yourself.\n",
      "\"speaker\": Chandler\n",
      "}\n",
      "{\n",
      "\"utterance_ID\": 12\n",
      "\"text\": Oh yeah? If you are gonna make me choose between you and the hat, I choose the hat.\n",
      "\"speaker\": Joey\n",
      "}\n",
      "{\n",
      "\"utterance_ID\": 13\n",
      "\"text\": Good choice.\n",
      "\"speaker\": The Vendor\n",
      "}\n",
      "{\n",
      "\"utterance_ID\": 14\n",
      "\"text\": Thanks.\n",
      "\"speaker\": Joey\n",
      "}\n",
      "{\n",
      "\"utterance_ID\": 15\n",
      "\"text\": Okay, wait. All right, that is it, okay, I am out of here. I am not going to be embarrassed anymore!\n",
      "\"speaker\": Chandler\n",
      "}\n",
      "Identify the emotion label of utterance 1 out of the 7 emotions: joy, anger, disgust, fear, sadness, surprise, neutral.\n",
      "Don't give an explanation.\n",
      "Output only one line in the format:\n",
      "utterance_id :: emotion_label\n",
      "[/INST]\n",
      "\"utterance_ID\": 1 :: joy[/INST] [/INST]\n",
      "True:******** joy\n",
      "---------------------\n"
     ]
    },
    {
     "name": "stderr",
     "output_type": "stream",
     "text": [
      "The attention mask and the pad token id were not set. As a consequence, you may observe unexpected behavior. Please pass your input's `attention_mask` to obtain reliable results.\n",
      "Setting `pad_token_id` to `eos_token_id`:128001 for open-end generation.\n"
     ]
    },
    {
     "name": "stdout",
     "output_type": "stream",
     "text": [
      "output:******** <s>[INST]\n",
      "\"conversation\": [\n",
      "{\n",
      "\"utterance_ID\": 1\n",
      "\"text\": Hey!\n",
      "\"speaker\": Joey\n",
      "}\n",
      "{\n",
      "\"utterance_ID\": 2\n",
      "\"text\": So, what are you guys in the market for? We have got uh, scarves, tulip post cards...\n",
      "\"speaker\": The Vendor\n",
      "}\n",
      "{\n",
      "\"utterance_ID\": 3\n",
      "\"text\": Check this out? Huh? Yeah. That is the stuff. What do you think?\n",
      "\"speaker\": Joey\n",
      "}\n",
      "{\n",
      "\"utterance_ID\": 4\n",
      "\"text\": Well, I do not have to buy that, \" I am with stupid \" T... shirt anymore.\n",
      "\"speaker\": Chandler\n",
      "}\n",
      "{\n",
      "\"utterance_ID\": 5\n",
      "\"text\": Well, I like it. Here you go.\n",
      "\"speaker\": Joey\n",
      "}\n",
      "{\n",
      "\"utterance_ID\": 6\n",
      "\"text\": All right, look, you are not really gonna buy that are you? Do not you think you have embarrassed me enough for one day?\n",
      "\"speaker\": Chandler\n",
      "}\n",
      "{\n",
      "\"utterance_ID\": 7\n",
      "\"text\": Oh, I embarrass you?\n",
      "\"speaker\": Joey\n",
      "}\n",
      "{\n",
      "\"utterance_ID\": 8\n",
      "\"text\": How can I answer that when I am pretending I do not know you?\n",
      "\"speaker\": Chandler\n",
      "}\n",
      "{\n",
      "\"utterance_ID\": 9\n",
      "\"text\": Oh really? Then how come no one here is wearing them?\n",
      "\"speaker\": Chandler\n",
      "}\n",
      "{\n",
      "\"utterance_ID\": 10\n",
      "\"text\": They are all tourists.\n",
      "\"speaker\": The Vendor\n",
      "}\n",
      "{\n",
      "\"utterance_ID\": 11\n",
      "\"text\": All right, look, if you insist on wearing that, in public, you know, you are gonna spend the rest of the afternoon all by yourself.\n",
      "\"speaker\": Chandler\n",
      "}\n",
      "{\n",
      "\"utterance_ID\": 12\n",
      "\"text\": Oh yeah? If you are gonna make me choose between you and the hat, I choose the hat.\n",
      "\"speaker\": Joey\n",
      "}\n",
      "{\n",
      "\"utterance_ID\": 13\n",
      "\"text\": Good choice.\n",
      "\"speaker\": The Vendor\n",
      "}\n",
      "{\n",
      "\"utterance_ID\": 14\n",
      "\"text\": Thanks.\n",
      "\"speaker\": Joey\n",
      "}\n",
      "{\n",
      "\"utterance_ID\": 15\n",
      "\"text\": Okay, wait. All right, that is it, okay, I am out of here. I am not going to be embarrassed anymore!\n",
      "\"speaker\": Chandler\n",
      "}\n",
      "Identify the emotion label of utterance 2 out of the 7 emotions: joy, anger, disgust, fear, sadness, surprise, neutral.\n",
      "Don't give an explanation.\n",
      "Output only one line in the format:\n",
      "utterance_id :: emotion_label\n",
      "[/INST]\n",
      "\"utterance_ID\": 2 :: surprise[/INST]  | |\n",
      "True:******** neutral\n",
      "---------------------\n"
     ]
    },
    {
     "name": "stderr",
     "output_type": "stream",
     "text": [
      "The attention mask and the pad token id were not set. As a consequence, you may observe unexpected behavior. Please pass your input's `attention_mask` to obtain reliable results.\n",
      "Setting `pad_token_id` to `eos_token_id`:128001 for open-end generation.\n"
     ]
    },
    {
     "name": "stdout",
     "output_type": "stream",
     "text": [
      "output:******** <s>[INST]\n",
      "\"conversation\": [\n",
      "{\n",
      "\"utterance_ID\": 1\n",
      "\"text\": Hey!\n",
      "\"speaker\": Joey\n",
      "}\n",
      "{\n",
      "\"utterance_ID\": 2\n",
      "\"text\": So, what are you guys in the market for? We have got uh, scarves, tulip post cards...\n",
      "\"speaker\": The Vendor\n",
      "}\n",
      "{\n",
      "\"utterance_ID\": 3\n",
      "\"text\": Check this out? Huh? Yeah. That is the stuff. What do you think?\n",
      "\"speaker\": Joey\n",
      "}\n",
      "{\n",
      "\"utterance_ID\": 4\n",
      "\"text\": Well, I do not have to buy that, \" I am with stupid \" T... shirt anymore.\n",
      "\"speaker\": Chandler\n",
      "}\n",
      "{\n",
      "\"utterance_ID\": 5\n",
      "\"text\": Well, I like it. Here you go.\n",
      "\"speaker\": Joey\n",
      "}\n",
      "{\n",
      "\"utterance_ID\": 6\n",
      "\"text\": All right, look, you are not really gonna buy that are you? Do not you think you have embarrassed me enough for one day?\n",
      "\"speaker\": Chandler\n",
      "}\n",
      "{\n",
      "\"utterance_ID\": 7\n",
      "\"text\": Oh, I embarrass you?\n",
      "\"speaker\": Joey\n",
      "}\n",
      "{\n",
      "\"utterance_ID\": 8\n",
      "\"text\": How can I answer that when I am pretending I do not know you?\n",
      "\"speaker\": Chandler\n",
      "}\n",
      "{\n",
      "\"utterance_ID\": 9\n",
      "\"text\": Oh really? Then how come no one here is wearing them?\n",
      "\"speaker\": Chandler\n",
      "}\n",
      "{\n",
      "\"utterance_ID\": 10\n",
      "\"text\": They are all tourists.\n",
      "\"speaker\": The Vendor\n",
      "}\n",
      "{\n",
      "\"utterance_ID\": 11\n",
      "\"text\": All right, look, if you insist on wearing that, in public, you know, you are gonna spend the rest of the afternoon all by yourself.\n",
      "\"speaker\": Chandler\n",
      "}\n",
      "{\n",
      "\"utterance_ID\": 12\n",
      "\"text\": Oh yeah? If you are gonna make me choose between you and the hat, I choose the hat.\n",
      "\"speaker\": Joey\n",
      "}\n",
      "{\n",
      "\"utterance_ID\": 13\n",
      "\"text\": Good choice.\n",
      "\"speaker\": The Vendor\n",
      "}\n",
      "{\n",
      "\"utterance_ID\": 14\n",
      "\"text\": Thanks.\n",
      "\"speaker\": Joey\n",
      "}\n",
      "{\n",
      "\"utterance_ID\": 15\n",
      "\"text\": Okay, wait. All right, that is it, okay, I am out of here. I am not going to be embarrassed anymore!\n",
      "\"speaker\": Chandler\n",
      "}\n",
      "Identify the emotion label of utterance 3 out of the 7 emotions: joy, anger, disgust, fear, sadness, surprise, neutral.\n",
      "Don't give an explanation.\n",
      "Output only one line in the format:\n",
      "utterance_id :: emotion_label\n",
      "[/INST]\n",
      "\"utterance_id\" :: 3 :: joy[/INST] [/INST\n",
      "True:******** joy\n",
      "---------------------\n"
     ]
    },
    {
     "name": "stderr",
     "output_type": "stream",
     "text": [
      "The attention mask and the pad token id were not set. As a consequence, you may observe unexpected behavior. Please pass your input's `attention_mask` to obtain reliable results.\n",
      "Setting `pad_token_id` to `eos_token_id`:128001 for open-end generation.\n"
     ]
    },
    {
     "name": "stdout",
     "output_type": "stream",
     "text": [
      "output:******** <s>[INST]\n",
      "\"conversation\": [\n",
      "{\n",
      "\"utterance_ID\": 1\n",
      "\"text\": Hey!\n",
      "\"speaker\": Joey\n",
      "}\n",
      "{\n",
      "\"utterance_ID\": 2\n",
      "\"text\": So, what are you guys in the market for? We have got uh, scarves, tulip post cards...\n",
      "\"speaker\": The Vendor\n",
      "}\n",
      "{\n",
      "\"utterance_ID\": 3\n",
      "\"text\": Check this out? Huh? Yeah. That is the stuff. What do you think?\n",
      "\"speaker\": Joey\n",
      "}\n",
      "{\n",
      "\"utterance_ID\": 4\n",
      "\"text\": Well, I do not have to buy that, \" I am with stupid \" T... shirt anymore.\n",
      "\"speaker\": Chandler\n",
      "}\n",
      "{\n",
      "\"utterance_ID\": 5\n",
      "\"text\": Well, I like it. Here you go.\n",
      "\"speaker\": Joey\n",
      "}\n",
      "{\n",
      "\"utterance_ID\": 6\n",
      "\"text\": All right, look, you are not really gonna buy that are you? Do not you think you have embarrassed me enough for one day?\n",
      "\"speaker\": Chandler\n",
      "}\n",
      "{\n",
      "\"utterance_ID\": 7\n",
      "\"text\": Oh, I embarrass you?\n",
      "\"speaker\": Joey\n",
      "}\n",
      "{\n",
      "\"utterance_ID\": 8\n",
      "\"text\": How can I answer that when I am pretending I do not know you?\n",
      "\"speaker\": Chandler\n",
      "}\n",
      "{\n",
      "\"utterance_ID\": 9\n",
      "\"text\": Oh really? Then how come no one here is wearing them?\n",
      "\"speaker\": Chandler\n",
      "}\n",
      "{\n",
      "\"utterance_ID\": 10\n",
      "\"text\": They are all tourists.\n",
      "\"speaker\": The Vendor\n",
      "}\n",
      "{\n",
      "\"utterance_ID\": 11\n",
      "\"text\": All right, look, if you insist on wearing that, in public, you know, you are gonna spend the rest of the afternoon all by yourself.\n",
      "\"speaker\": Chandler\n",
      "}\n",
      "{\n",
      "\"utterance_ID\": 12\n",
      "\"text\": Oh yeah? If you are gonna make me choose between you and the hat, I choose the hat.\n",
      "\"speaker\": Joey\n",
      "}\n",
      "{\n",
      "\"utterance_ID\": 13\n",
      "\"text\": Good choice.\n",
      "\"speaker\": The Vendor\n",
      "}\n",
      "{\n",
      "\"utterance_ID\": 14\n",
      "\"text\": Thanks.\n",
      "\"speaker\": Joey\n",
      "}\n",
      "{\n",
      "\"utterance_ID\": 15\n",
      "\"text\": Okay, wait. All right, that is it, okay, I am out of here. I am not going to be embarrassed anymore!\n",
      "\"speaker\": Chandler\n",
      "}\n",
      "Identify the emotion label of utterance 4 out of the 7 emotions: joy, anger, disgust, fear, sadness, surprise, neutral.\n",
      "Don't give an explanation.\n",
      "Output only one line in the format:\n",
      "utterance_id :: emotion_label\n",
      "[/INST]\n",
      "\"utterance_id\" :: 4 :: disgust[/INST] [/INST\n",
      "True:******** neutral\n",
      "---------------------\n"
     ]
    },
    {
     "name": "stderr",
     "output_type": "stream",
     "text": [
      "The attention mask and the pad token id were not set. As a consequence, you may observe unexpected behavior. Please pass your input's `attention_mask` to obtain reliable results.\n",
      "Setting `pad_token_id` to `eos_token_id`:128001 for open-end generation.\n"
     ]
    },
    {
     "name": "stdout",
     "output_type": "stream",
     "text": [
      "output:******** <s>[INST]\n",
      "\"conversation\": [\n",
      "{\n",
      "\"utterance_ID\": 1\n",
      "\"text\": Hey!\n",
      "\"speaker\": Joey\n",
      "}\n",
      "{\n",
      "\"utterance_ID\": 2\n",
      "\"text\": So, what are you guys in the market for? We have got uh, scarves, tulip post cards...\n",
      "\"speaker\": The Vendor\n",
      "}\n",
      "{\n",
      "\"utterance_ID\": 3\n",
      "\"text\": Check this out? Huh? Yeah. That is the stuff. What do you think?\n",
      "\"speaker\": Joey\n",
      "}\n",
      "{\n",
      "\"utterance_ID\": 4\n",
      "\"text\": Well, I do not have to buy that, \" I am with stupid \" T... shirt anymore.\n",
      "\"speaker\": Chandler\n",
      "}\n",
      "{\n",
      "\"utterance_ID\": 5\n",
      "\"text\": Well, I like it. Here you go.\n",
      "\"speaker\": Joey\n",
      "}\n",
      "{\n",
      "\"utterance_ID\": 6\n",
      "\"text\": All right, look, you are not really gonna buy that are you? Do not you think you have embarrassed me enough for one day?\n",
      "\"speaker\": Chandler\n",
      "}\n",
      "{\n",
      "\"utterance_ID\": 7\n",
      "\"text\": Oh, I embarrass you?\n",
      "\"speaker\": Joey\n",
      "}\n",
      "{\n",
      "\"utterance_ID\": 8\n",
      "\"text\": How can I answer that when I am pretending I do not know you?\n",
      "\"speaker\": Chandler\n",
      "}\n",
      "{\n",
      "\"utterance_ID\": 9\n",
      "\"text\": Oh really? Then how come no one here is wearing them?\n",
      "\"speaker\": Chandler\n",
      "}\n",
      "{\n",
      "\"utterance_ID\": 10\n",
      "\"text\": They are all tourists.\n",
      "\"speaker\": The Vendor\n",
      "}\n",
      "{\n",
      "\"utterance_ID\": 11\n",
      "\"text\": All right, look, if you insist on wearing that, in public, you know, you are gonna spend the rest of the afternoon all by yourself.\n",
      "\"speaker\": Chandler\n",
      "}\n",
      "{\n",
      "\"utterance_ID\": 12\n",
      "\"text\": Oh yeah? If you are gonna make me choose between you and the hat, I choose the hat.\n",
      "\"speaker\": Joey\n",
      "}\n",
      "{\n",
      "\"utterance_ID\": 13\n",
      "\"text\": Good choice.\n",
      "\"speaker\": The Vendor\n",
      "}\n",
      "{\n",
      "\"utterance_ID\": 14\n",
      "\"text\": Thanks.\n",
      "\"speaker\": Joey\n",
      "}\n",
      "{\n",
      "\"utterance_ID\": 15\n",
      "\"text\": Okay, wait. All right, that is it, okay, I am out of here. I am not going to be embarrassed anymore!\n",
      "\"speaker\": Chandler\n",
      "}\n",
      "Identify the emotion label of utterance 5 out of the 7 emotions: joy, anger, disgust, fear, sadness, surprise, neutral.\n",
      "Don't give an explanation.\n",
      "Output only one line in the format:\n",
      "utterance_id :: emotion_label\n",
      "[/INST]\n",
      "\"utterance_id\" :: 5 :: joy[/INST] [/INST\n",
      "True:******** neutral\n",
      "---------------------\n",
      "output:******** <s>[INST]\n",
      "\"conversation\": [\n",
      "{\n",
      "\"utterance_ID\": 1\n",
      "\"text\": Hey!\n",
      "\"speaker\": Joey\n",
      "}\n",
      "{\n",
      "\"utterance_ID\": 2\n",
      "\"text\": So, what are you guys in the market for? We have got uh, scarves, tulip post cards...\n",
      "\"speaker\": The Vendor\n",
      "}\n",
      "{\n",
      "\"utterance_ID\": 3\n",
      "\"text\": Check this out? Huh? Yeah. That is the stuff. What do you think?\n",
      "\"speaker\": Joey\n",
      "}\n",
      "{\n",
      "\"utterance_ID\": 4\n",
      "\"text\": Well, I do not have to buy that, \" I am with stupid \" T... shirt anymore.\n",
      "\"speaker\": Chandler\n",
      "}\n",
      "{\n",
      "\"utterance_ID\": 5\n",
      "\"text\": Well, I like it. Here you go.\n",
      "\"speaker\": Joey\n",
      "}\n",
      "{\n",
      "\"utterance_ID\": 6\n",
      "\"text\": All right, look, you are not really gonna buy that are you? Do not you think you have embarrassed me enough for one day?\n",
      "\"speaker\": Chandler\n",
      "}\n",
      "{\n",
      "\"utterance_ID\": 7\n",
      "\"text\": Oh, I embarrass you?\n",
      "\"speaker\": Joey\n",
      "}\n",
      "{\n",
      "\"utterance_ID\": 8\n",
      "\"text\": How can I answer that when I am pretending I do not know you?\n",
      "\"speaker\": Chandler\n",
      "}\n",
      "{\n",
      "\"utterance_ID\": 9\n",
      "\"text\": Oh really? Then how come no one here is wearing them?\n",
      "\"speaker\": Chandler\n",
      "}\n",
      "{\n",
      "\"utterance_ID\": 10\n",
      "\"text\": They are all tourists.\n",
      "\"speaker\": The Vendor\n",
      "}\n",
      "{\n",
      "\"utterance_ID\": 11\n",
      "\"text\": All right, look, if you insist on wearing that, in public, you know, you are gonna spend the rest of the afternoon all by yourself.\n",
      "\"speaker\": Chandler\n",
      "}\n",
      "{\n",
      "\"utterance_ID\": 12\n",
      "\"text\": Oh yeah? If you are gonna make me choose between you and the hat, I choose the hat.\n",
      "\"speaker\": Joey\n",
      "}\n",
      "{\n",
      "\"utterance_ID\": 13\n",
      "\"text\": Good choice.\n",
      "\"speaker\": The Vendor\n",
      "}\n",
      "{\n",
      "\"utterance_ID\": 14\n",
      "\"text\": Thanks.\n",
      "\"speaker\": Joey\n",
      "}\n",
      "{\n",
      "\"utterance_ID\": 15\n",
      "\"text\": Okay, wait. All right, that is it, okay, I am out of here. I am not going to be embarrassed anymore!\n",
      "\"speaker\": Chandler\n",
      "}\n",
      "Identify the emotion label of utterance 6 out of the 7 emotions: joy, anger, disgust, fear, sadness, surprise, neutral.\n",
      "Don't give an explanation.\n",
      "Output only one line in the format:\n",
      "utterance_id :: emotion_label\n",
      "[/INST]\n",
      "\"utterance_ID\": 6 :: sadness[/INST] [/INST]\n",
      "True:******** anger\n",
      "---------------------\n"
     ]
    }
   ],
   "source": [
    "pred, true = infer_emotion(test_dataset[:len(test_dataset)-1000])"
   ]
  },
  {
   "cell_type": "code",
   "execution_count": 27,
   "id": "9853bd6d-f2d4-4c38-bb78-634906d8a2c9",
   "metadata": {},
   "outputs": [],
   "source": [
    "import re\n",
    "\n",
    "def extract_first_emotion(pred_str):\n",
    "    target_strings = [\"anger\", \"fear\", \"joy\", \"disgust\", \"sadness\", \"surprise\", \"neutral\"]\n",
    "    pattern = re.compile('|'.join(map(re.escape, target_strings)))\n",
    "    # Find the first match\n",
    "    match = pattern.search(pred_str)\n",
    "    # Print the result\n",
    "    if match:\n",
    "        print(f\"Found emotion: {match.group()}\")\n",
    "        print(f\"Index: {match.start()}\")\n",
    "        return match.group()\n",
    "    else:\n",
    "        print(\"No emotion found.\")\n",
    "        return \"\""
   ]
  },
  {
   "cell_type": "code",
   "execution_count": 28,
   "id": "5a918f06-b63c-44c1-a2cc-8b1fee48f7eb",
   "metadata": {},
   "outputs": [],
   "source": [
    "def parse_formatted_output(pred):\n",
    "    \"\"\"Extracts the emotion from well-formatted output of the form\n",
    "    <text> utterance_id :: emotion_label <text> :: emotion_label\"\"\"\n",
    "    pred_labels = []\n",
    "    for i in range(len(pred)):\n",
    "        output = pred[i]\n",
    "        if len(output.split(\"utterance_id :: emotion_label\\n[/INST]\")) == 2:\n",
    "            output = extract_first_emotion(output.split(\"utterance_id :: emotion_label\\n[/INST]\")[1])\n",
    "            pred_labels.append(output)\n",
    "            continue\n",
    "        output = output.split(\"utterance_id :: emotion_label\\n[/INST]\")[1]\n",
    "        print(\"output:*****\",output)\n",
    "        output = extract_emotion_label(output.strip())\n",
    "        output = output.strip().lower()\n",
    "        print(\"Predicted Output:*****\", output)\n",
    "        pred_labels.append(output)\n",
    "    return pred_labels"
   ]
  },
  {
   "cell_type": "code",
   "execution_count": 29,
   "id": "9ccb562c-e1ee-4c4c-8eae-b53cbac3a103",
   "metadata": {},
   "outputs": [
    {
     "name": "stdout",
     "output_type": "stream",
     "text": [
      "Found emotion: joy\n",
      "Index: 22\n",
      "Found emotion: surprise\n",
      "Index: 22\n",
      "Found emotion: joy\n",
      "Index: 24\n",
      "Found emotion: disgust\n",
      "Index: 24\n",
      "Found emotion: joy\n",
      "Index: 24\n",
      "Found emotion: sadness\n",
      "Index: 22\n"
     ]
    }
   ],
   "source": [
    "pred_labels = parse_formatted_output(pred)"
   ]
  },
  {
   "cell_type": "code",
   "execution_count": 30,
   "id": "b731d564-c6bc-453c-b51b-c61b665b16c9",
   "metadata": {},
   "outputs": [
    {
     "name": "stdout",
     "output_type": "stream",
     "text": [
      "['joy', 'surprise', 'joy', 'disgust', 'joy', 'sadness']\n"
     ]
    }
   ],
   "source": [
    "print(pred_labels)"
   ]
  },
  {
   "cell_type": "code",
   "execution_count": 31,
   "id": "c92eb2f2-f854-4c39-b72d-ea1d7cccaf06",
   "metadata": {},
   "outputs": [
    {
     "name": "stdout",
     "output_type": "stream",
     "text": [
      "['joy', 'neutral', 'joy', 'neutral', 'neutral', 'anger']\n"
     ]
    }
   ],
   "source": [
    "print(true)"
   ]
  },
  {
   "cell_type": "code",
   "execution_count": 32,
   "id": "9bbe166a-f2ef-4bcc-8418-f8f6a9a7d8ea",
   "metadata": {},
   "outputs": [],
   "source": [
    "def evaluate_emotion_labels(pred_labels_list, true_labels_list):\n",
    "    total_correct = 0\n",
    "    for i in range(len(pred_labels_list)):\n",
    "        if pred_labels_list[i] == true_labels_list[i]:\n",
    "            total_correct += 1\n",
    "    return total_correct / len(pred_labels_list)"
   ]
  },
  {
   "cell_type": "code",
   "execution_count": 33,
   "id": "f3ad4699-f957-44ad-bfc5-d641b1293bab",
   "metadata": {},
   "outputs": [
    {
     "name": "stdout",
     "output_type": "stream",
     "text": [
      "Accuracy:\n",
      "0.3333333333333333\n"
     ]
    }
   ],
   "source": [
    "print(\"Accuracy:\")\n",
    "print(evaluate_emotion_labels(pred_labels, true))"
   ]
  },
  {
   "cell_type": "markdown",
   "id": "6d669f58-e3cd-4bac-bff0-06f80d8389c8",
   "metadata": {},
   "source": [
    "# Evaluate in one go"
   ]
  },
  {
   "cell_type": "code",
   "execution_count": 34,
   "id": "abe36c93-872e-4bc1-ba5f-56a6b3e09a23",
   "metadata": {},
   "outputs": [
    {
     "name": "stdout",
     "output_type": "stream",
     "text": [
      "Found emotion: joy\n",
      "Index: 22\n",
      "Found emotion: surprise\n",
      "Index: 22\n",
      "Found emotion: joy\n",
      "Index: 24\n",
      "Found emotion: disgust\n",
      "Index: 24\n",
      "Found emotion: joy\n",
      "Index: 24\n",
      "Found emotion: sadness\n",
      "Index: 22\n"
     ]
    }
   ],
   "source": [
    "pred_labels = parse_formatted_output(pred)"
   ]
  },
  {
   "cell_type": "code",
   "execution_count": 35,
   "id": "6797f74b-9db7-46f3-9cec-53e18cf679e2",
   "metadata": {},
   "outputs": [
    {
     "name": "stdout",
     "output_type": "stream",
     "text": [
      "1406\n"
     ]
    }
   ],
   "source": [
    "print(len(test_dataset[\"instruction\"]))"
   ]
  },
  {
   "cell_type": "code",
   "execution_count": 36,
   "id": "5f563d1a-aab9-45a0-8f98-8130bcc7087b",
   "metadata": {},
   "outputs": [
    {
     "name": "stderr",
     "output_type": "stream",
     "text": [
      "The attention mask and the pad token id were not set. As a consequence, you may observe unexpected behavior. Please pass your input's `attention_mask` to obtain reliable results.\n",
      "Setting `pad_token_id` to `eos_token_id`:128001 for open-end generation.\n"
     ]
    },
    {
     "name": "stdout",
     "output_type": "stream",
     "text": [
      "Iter 0\n",
      "------------------------------------\n"
     ]
    },
    {
     "name": "stderr",
     "output_type": "stream",
     "text": [
      "The attention mask and the pad token id were not set. As a consequence, you may observe unexpected behavior. Please pass your input's `attention_mask` to obtain reliable results.\n",
      "Setting `pad_token_id` to `eos_token_id`:128001 for open-end generation.\n"
     ]
    },
    {
     "name": "stdout",
     "output_type": "stream",
     "text": [
      "Found emotion: joy\n",
      "Index: 22\n",
      "Predicted:  joy\n",
      "True :  joy\n",
      "Correct\n",
      "------------------------------------\n",
      "Iter 1\n",
      "------------------------------------\n"
     ]
    },
    {
     "name": "stderr",
     "output_type": "stream",
     "text": [
      "The attention mask and the pad token id were not set. As a consequence, you may observe unexpected behavior. Please pass your input's `attention_mask` to obtain reliable results.\n",
      "Setting `pad_token_id` to `eos_token_id`:128001 for open-end generation.\n"
     ]
    },
    {
     "name": "stdout",
     "output_type": "stream",
     "text": [
      "Found emotion: surprise\n",
      "Index: 22\n",
      "Predicted:  surprise\n",
      "True :  neutral\n",
      "Incorrect\n",
      "------------------------------------\n",
      "Iter 2\n",
      "------------------------------------\n"
     ]
    },
    {
     "name": "stderr",
     "output_type": "stream",
     "text": [
      "The attention mask and the pad token id were not set. As a consequence, you may observe unexpected behavior. Please pass your input's `attention_mask` to obtain reliable results.\n",
      "Setting `pad_token_id` to `eos_token_id`:128001 for open-end generation.\n"
     ]
    },
    {
     "name": "stdout",
     "output_type": "stream",
     "text": [
      "Found emotion: joy\n",
      "Index: 24\n",
      "Predicted:  joy\n",
      "True :  joy\n",
      "Correct\n",
      "------------------------------------\n",
      "Iter 3\n",
      "------------------------------------\n"
     ]
    },
    {
     "name": "stderr",
     "output_type": "stream",
     "text": [
      "The attention mask and the pad token id were not set. As a consequence, you may observe unexpected behavior. Please pass your input's `attention_mask` to obtain reliable results.\n",
      "Setting `pad_token_id` to `eos_token_id`:128001 for open-end generation.\n"
     ]
    },
    {
     "name": "stdout",
     "output_type": "stream",
     "text": [
      "Found emotion: disgust\n",
      "Index: 24\n",
      "Predicted:  disgust\n",
      "True :  neutral\n",
      "Incorrect\n",
      "------------------------------------\n",
      "Iter 4\n",
      "------------------------------------\n"
     ]
    },
    {
     "name": "stderr",
     "output_type": "stream",
     "text": [
      "The attention mask and the pad token id were not set. As a consequence, you may observe unexpected behavior. Please pass your input's `attention_mask` to obtain reliable results.\n",
      "Setting `pad_token_id` to `eos_token_id`:128001 for open-end generation.\n"
     ]
    },
    {
     "name": "stdout",
     "output_type": "stream",
     "text": [
      "Found emotion: joy\n",
      "Index: 24\n",
      "Predicted:  joy\n",
      "True :  neutral\n",
      "Incorrect\n",
      "------------------------------------\n",
      "Iter 5\n",
      "------------------------------------\n"
     ]
    },
    {
     "name": "stderr",
     "output_type": "stream",
     "text": [
      "The attention mask and the pad token id were not set. As a consequence, you may observe unexpected behavior. Please pass your input's `attention_mask` to obtain reliable results.\n",
      "Setting `pad_token_id` to `eos_token_id`:128001 for open-end generation.\n"
     ]
    },
    {
     "name": "stdout",
     "output_type": "stream",
     "text": [
      "Found emotion: sadness\n",
      "Index: 22\n",
      "Predicted:  sadness\n",
      "True :  anger\n",
      "Incorrect\n",
      "------------------------------------\n",
      "Iter 6\n",
      "------------------------------------\n"
     ]
    },
    {
     "name": "stderr",
     "output_type": "stream",
     "text": [
      "The attention mask and the pad token id were not set. As a consequence, you may observe unexpected behavior. Please pass your input's `attention_mask` to obtain reliable results.\n",
      "Setting `pad_token_id` to `eos_token_id`:128001 for open-end generation.\n"
     ]
    },
    {
     "name": "stdout",
     "output_type": "stream",
     "text": [
      "Found emotion: surprise\n",
      "Index: 24\n",
      "Predicted:  surprise\n",
      "True :  surprise\n",
      "Correct\n",
      "------------------------------------\n",
      "Iter 7\n",
      "------------------------------------\n"
     ]
    },
    {
     "name": "stderr",
     "output_type": "stream",
     "text": [
      "The attention mask and the pad token id were not set. As a consequence, you may observe unexpected behavior. Please pass your input's `attention_mask` to obtain reliable results.\n",
      "Setting `pad_token_id` to `eos_token_id`:128001 for open-end generation.\n"
     ]
    },
    {
     "name": "stdout",
     "output_type": "stream",
     "text": [
      "Found emotion: sadness\n",
      "Index: 22\n",
      "Predicted:  sadness\n",
      "True :  neutral\n",
      "Incorrect\n",
      "------------------------------------\n",
      "Iter 8\n",
      "------------------------------------\n"
     ]
    },
    {
     "name": "stderr",
     "output_type": "stream",
     "text": [
      "The attention mask and the pad token id were not set. As a consequence, you may observe unexpected behavior. Please pass your input's `attention_mask` to obtain reliable results.\n",
      "Setting `pad_token_id` to `eos_token_id`:128001 for open-end generation.\n"
     ]
    },
    {
     "name": "stdout",
     "output_type": "stream",
     "text": [
      "Found emotion: surprise\n",
      "Index: 24\n",
      "Predicted:  surprise\n",
      "True :  surprise\n",
      "Correct\n",
      "------------------------------------\n",
      "Iter 9\n",
      "------------------------------------\n"
     ]
    },
    {
     "name": "stderr",
     "output_type": "stream",
     "text": [
      "The attention mask and the pad token id were not set. As a consequence, you may observe unexpected behavior. Please pass your input's `attention_mask` to obtain reliable results.\n",
      "Setting `pad_token_id` to `eos_token_id`:128001 for open-end generation.\n"
     ]
    },
    {
     "name": "stdout",
     "output_type": "stream",
     "text": [
      "Found emotion: neutral\n",
      "Index: 23\n",
      "Predicted:  neutral\n",
      "True :  neutral\n",
      "Correct\n",
      "------------------------------------\n",
      "Iter 10\n",
      "------------------------------------\n"
     ]
    },
    {
     "name": "stderr",
     "output_type": "stream",
     "text": [
      "The attention mask and the pad token id were not set. As a consequence, you may observe unexpected behavior. Please pass your input's `attention_mask` to obtain reliable results.\n",
      "Setting `pad_token_id` to `eos_token_id`:128001 for open-end generation.\n"
     ]
    },
    {
     "name": "stdout",
     "output_type": "stream",
     "text": [
      "Found emotion: anger\n",
      "Index: 25\n",
      "Predicted:  anger\n",
      "True :  disgust\n",
      "Incorrect\n",
      "------------------------------------\n",
      "Iter 11\n",
      "------------------------------------\n"
     ]
    },
    {
     "name": "stderr",
     "output_type": "stream",
     "text": [
      "The attention mask and the pad token id were not set. As a consequence, you may observe unexpected behavior. Please pass your input's `attention_mask` to obtain reliable results.\n",
      "Setting `pad_token_id` to `eos_token_id`:128001 for open-end generation.\n"
     ]
    },
    {
     "name": "stdout",
     "output_type": "stream",
     "text": [
      "Found emotion: joy\n",
      "Index: 25\n",
      "Predicted:  joy\n",
      "True :  anger\n",
      "Incorrect\n",
      "------------------------------------\n",
      "Iter 12\n",
      "------------------------------------\n"
     ]
    },
    {
     "name": "stderr",
     "output_type": "stream",
     "text": [
      "The attention mask and the pad token id were not set. As a consequence, you may observe unexpected behavior. Please pass your input's `attention_mask` to obtain reliable results.\n",
      "Setting `pad_token_id` to `eos_token_id`:128001 for open-end generation.\n"
     ]
    },
    {
     "name": "stdout",
     "output_type": "stream",
     "text": [
      "Found emotion: neutral\n",
      "Index: 25\n",
      "Predicted:  neutral\n",
      "True :  neutral\n",
      "Correct\n",
      "------------------------------------\n",
      "Iter 13\n",
      "------------------------------------\n"
     ]
    },
    {
     "name": "stderr",
     "output_type": "stream",
     "text": [
      "The attention mask and the pad token id were not set. As a consequence, you may observe unexpected behavior. Please pass your input's `attention_mask` to obtain reliable results.\n",
      "Setting `pad_token_id` to `eos_token_id`:128001 for open-end generation.\n"
     ]
    },
    {
     "name": "stdout",
     "output_type": "stream",
     "text": [
      "Found emotion: joy\n",
      "Index: 25\n",
      "Predicted:  joy\n",
      "True :  neutral\n",
      "Incorrect\n",
      "------------------------------------\n",
      "Iter 14\n",
      "------------------------------------\n"
     ]
    },
    {
     "name": "stderr",
     "output_type": "stream",
     "text": [
      "The attention mask and the pad token id were not set. As a consequence, you may observe unexpected behavior. Please pass your input's `attention_mask` to obtain reliable results.\n",
      "Setting `pad_token_id` to `eos_token_id`:128001 for open-end generation.\n"
     ]
    },
    {
     "name": "stdout",
     "output_type": "stream",
     "text": [
      "Found emotion: sadness\n",
      "Index: 21\n",
      "Predicted:  sadness\n",
      "True :  anger\n",
      "Incorrect\n",
      "------------------------------------\n",
      "Iter 15\n",
      "------------------------------------\n"
     ]
    },
    {
     "name": "stderr",
     "output_type": "stream",
     "text": [
      "The attention mask and the pad token id were not set. As a consequence, you may observe unexpected behavior. Please pass your input's `attention_mask` to obtain reliable results.\n",
      "Setting `pad_token_id` to `eos_token_id`:128001 for open-end generation.\n"
     ]
    },
    {
     "name": "stdout",
     "output_type": "stream",
     "text": [
      "Found emotion: joy\n",
      "Index: 24\n",
      "Predicted:  joy\n",
      "True :  anger\n",
      "Incorrect\n",
      "------------------------------------\n",
      "Iter 16\n",
      "------------------------------------\n"
     ]
    },
    {
     "name": "stderr",
     "output_type": "stream",
     "text": [
      "The attention mask and the pad token id were not set. As a consequence, you may observe unexpected behavior. Please pass your input's `attention_mask` to obtain reliable results.\n",
      "Setting `pad_token_id` to `eos_token_id`:128001 for open-end generation.\n"
     ]
    },
    {
     "name": "stdout",
     "output_type": "stream",
     "text": [
      "Found emotion: anger\n",
      "Index: 22\n",
      "Predicted:  anger\n",
      "True :  anger\n",
      "Correct\n",
      "------------------------------------\n",
      "Iter 17\n",
      "------------------------------------\n"
     ]
    },
    {
     "name": "stderr",
     "output_type": "stream",
     "text": [
      "The attention mask and the pad token id were not set. As a consequence, you may observe unexpected behavior. Please pass your input's `attention_mask` to obtain reliable results.\n",
      "Setting `pad_token_id` to `eos_token_id`:128001 for open-end generation.\n"
     ]
    },
    {
     "name": "stdout",
     "output_type": "stream",
     "text": [
      "Found emotion: neutral\n",
      "Index: 24\n",
      "Predicted:  neutral\n",
      "True :  neutral\n",
      "Correct\n",
      "------------------------------------\n",
      "Iter 18\n",
      "------------------------------------\n"
     ]
    },
    {
     "name": "stderr",
     "output_type": "stream",
     "text": [
      "The attention mask and the pad token id were not set. As a consequence, you may observe unexpected behavior. Please pass your input's `attention_mask` to obtain reliable results.\n",
      "Setting `pad_token_id` to `eos_token_id`:128001 for open-end generation.\n"
     ]
    },
    {
     "name": "stdout",
     "output_type": "stream",
     "text": [
      "Found emotion: joy\n",
      "Index: 24\n",
      "Predicted:  joy\n",
      "True :  joy\n",
      "Correct\n",
      "------------------------------------\n",
      "Iter 19\n",
      "------------------------------------\n"
     ]
    },
    {
     "name": "stderr",
     "output_type": "stream",
     "text": [
      "The attention mask and the pad token id were not set. As a consequence, you may observe unexpected behavior. Please pass your input's `attention_mask` to obtain reliable results.\n",
      "Setting `pad_token_id` to `eos_token_id`:128001 for open-end generation.\n"
     ]
    },
    {
     "name": "stdout",
     "output_type": "stream",
     "text": [
      "Found emotion: anger\n",
      "Index: 24\n",
      "Predicted:  anger\n",
      "True :  anger\n",
      "Correct\n",
      "------------------------------------\n",
      "Iter 20\n",
      "------------------------------------\n"
     ]
    },
    {
     "name": "stderr",
     "output_type": "stream",
     "text": [
      "The attention mask and the pad token id were not set. As a consequence, you may observe unexpected behavior. Please pass your input's `attention_mask` to obtain reliable results.\n",
      "Setting `pad_token_id` to `eos_token_id`:128001 for open-end generation.\n"
     ]
    },
    {
     "name": "stdout",
     "output_type": "stream",
     "text": [
      "Found emotion: anger\n",
      "Index: 22\n",
      "Predicted:  anger\n",
      "True :  surprise\n",
      "Incorrect\n",
      "------------------------------------\n",
      "Iter 21\n",
      "------------------------------------\n"
     ]
    },
    {
     "name": "stderr",
     "output_type": "stream",
     "text": [
      "The attention mask and the pad token id were not set. As a consequence, you may observe unexpected behavior. Please pass your input's `attention_mask` to obtain reliable results.\n",
      "Setting `pad_token_id` to `eos_token_id`:128001 for open-end generation.\n"
     ]
    },
    {
     "name": "stdout",
     "output_type": "stream",
     "text": [
      "Found emotion: neutral\n",
      "Index: 18\n",
      "Predicted:  neutral\n",
      "True :  neutral\n",
      "Correct\n",
      "------------------------------------\n",
      "Iter 22\n",
      "------------------------------------\n"
     ]
    },
    {
     "name": "stderr",
     "output_type": "stream",
     "text": [
      "The attention mask and the pad token id were not set. As a consequence, you may observe unexpected behavior. Please pass your input's `attention_mask` to obtain reliable results.\n",
      "Setting `pad_token_id` to `eos_token_id`:128001 for open-end generation.\n"
     ]
    },
    {
     "name": "stdout",
     "output_type": "stream",
     "text": [
      "Found emotion: anger\n",
      "Index: 24\n",
      "Predicted:  anger\n",
      "True :  anger\n",
      "Correct\n",
      "------------------------------------\n",
      "Iter 23\n",
      "------------------------------------\n"
     ]
    },
    {
     "name": "stderr",
     "output_type": "stream",
     "text": [
      "The attention mask and the pad token id were not set. As a consequence, you may observe unexpected behavior. Please pass your input's `attention_mask` to obtain reliable results.\n",
      "Setting `pad_token_id` to `eos_token_id`:128001 for open-end generation.\n"
     ]
    },
    {
     "name": "stdout",
     "output_type": "stream",
     "text": [
      "Found emotion: surprise\n",
      "Index: 18\n",
      "Predicted:  surprise\n",
      "True :  neutral\n",
      "Incorrect\n",
      "------------------------------------\n",
      "Iter 24\n",
      "------------------------------------\n"
     ]
    },
    {
     "name": "stderr",
     "output_type": "stream",
     "text": [
      "The attention mask and the pad token id were not set. As a consequence, you may observe unexpected behavior. Please pass your input's `attention_mask` to obtain reliable results.\n",
      "Setting `pad_token_id` to `eos_token_id`:128001 for open-end generation.\n"
     ]
    },
    {
     "name": "stdout",
     "output_type": "stream",
     "text": [
      "Found emotion: anger\n",
      "Index: 25\n",
      "Predicted:  anger\n",
      "True :  anger\n",
      "Correct\n",
      "------------------------------------\n",
      "Iter 25\n",
      "------------------------------------\n"
     ]
    },
    {
     "name": "stderr",
     "output_type": "stream",
     "text": [
      "The attention mask and the pad token id were not set. As a consequence, you may observe unexpected behavior. Please pass your input's `attention_mask` to obtain reliable results.\n",
      "Setting `pad_token_id` to `eos_token_id`:128001 for open-end generation.\n"
     ]
    },
    {
     "name": "stdout",
     "output_type": "stream",
     "text": [
      "Found emotion: surprise\n",
      "Index: 25\n",
      "Predicted:  surprise\n",
      "True :  neutral\n",
      "Incorrect\n",
      "------------------------------------\n",
      "Iter 26\n",
      "------------------------------------\n"
     ]
    },
    {
     "name": "stderr",
     "output_type": "stream",
     "text": [
      "The attention mask and the pad token id were not set. As a consequence, you may observe unexpected behavior. Please pass your input's `attention_mask` to obtain reliable results.\n",
      "Setting `pad_token_id` to `eos_token_id`:128001 for open-end generation.\n"
     ]
    },
    {
     "name": "stdout",
     "output_type": "stream",
     "text": [
      "Found emotion: joy\n",
      "Index: 24\n",
      "Predicted:  joy\n",
      "True :  joy\n",
      "Correct\n",
      "------------------------------------\n",
      "Iter 27\n",
      "------------------------------------\n"
     ]
    },
    {
     "name": "stderr",
     "output_type": "stream",
     "text": [
      "The attention mask and the pad token id were not set. As a consequence, you may observe unexpected behavior. Please pass your input's `attention_mask` to obtain reliable results.\n",
      "Setting `pad_token_id` to `eos_token_id`:128001 for open-end generation.\n"
     ]
    },
    {
     "name": "stdout",
     "output_type": "stream",
     "text": [
      "Found emotion: joy\n",
      "Index: 24\n",
      "Predicted:  joy\n",
      "True :  joy\n",
      "Correct\n",
      "------------------------------------\n",
      "Iter 28\n",
      "------------------------------------\n"
     ]
    },
    {
     "name": "stderr",
     "output_type": "stream",
     "text": [
      "The attention mask and the pad token id were not set. As a consequence, you may observe unexpected behavior. Please pass your input's `attention_mask` to obtain reliable results.\n",
      "Setting `pad_token_id` to `eos_token_id`:128001 for open-end generation.\n"
     ]
    },
    {
     "name": "stdout",
     "output_type": "stream",
     "text": [
      "Found emotion: surprise\n",
      "Index: 22\n",
      "Predicted:  surprise\n",
      "True :  neutral\n",
      "Incorrect\n",
      "------------------------------------\n",
      "Iter 29\n",
      "------------------------------------\n"
     ]
    },
    {
     "name": "stderr",
     "output_type": "stream",
     "text": [
      "The attention mask and the pad token id were not set. As a consequence, you may observe unexpected behavior. Please pass your input's `attention_mask` to obtain reliable results.\n",
      "Setting `pad_token_id` to `eos_token_id`:128001 for open-end generation.\n"
     ]
    },
    {
     "name": "stdout",
     "output_type": "stream",
     "text": [
      "Found emotion: sadness\n",
      "Index: 24\n",
      "Predicted:  sadness\n",
      "True :  neutral\n",
      "Incorrect\n",
      "------------------------------------\n",
      "Iter 30\n",
      "------------------------------------\n"
     ]
    },
    {
     "name": "stderr",
     "output_type": "stream",
     "text": [
      "The attention mask and the pad token id were not set. As a consequence, you may observe unexpected behavior. Please pass your input's `attention_mask` to obtain reliable results.\n",
      "Setting `pad_token_id` to `eos_token_id`:128001 for open-end generation.\n"
     ]
    },
    {
     "name": "stdout",
     "output_type": "stream",
     "text": [
      "Found emotion: neutral\n",
      "Index: 18\n",
      "Predicted:  neutral\n",
      "True :  neutral\n",
      "Correct\n",
      "------------------------------------\n",
      "Iter 31\n",
      "------------------------------------\n"
     ]
    },
    {
     "name": "stderr",
     "output_type": "stream",
     "text": [
      "The attention mask and the pad token id were not set. As a consequence, you may observe unexpected behavior. Please pass your input's `attention_mask` to obtain reliable results.\n",
      "Setting `pad_token_id` to `eos_token_id`:128001 for open-end generation.\n"
     ]
    },
    {
     "name": "stdout",
     "output_type": "stream",
     "text": [
      "Found emotion: sadness\n",
      "Index: 22\n",
      "Predicted:  sadness\n",
      "True :  surprise\n",
      "Incorrect\n",
      "------------------------------------\n",
      "Iter 32\n",
      "------------------------------------\n"
     ]
    },
    {
     "name": "stderr",
     "output_type": "stream",
     "text": [
      "The attention mask and the pad token id were not set. As a consequence, you may observe unexpected behavior. Please pass your input's `attention_mask` to obtain reliable results.\n",
      "Setting `pad_token_id` to `eos_token_id`:128001 for open-end generation.\n"
     ]
    },
    {
     "name": "stdout",
     "output_type": "stream",
     "text": [
      "Found emotion: neutral\n",
      "Index: 6\n",
      "Predicted:  neutral\n",
      "True :  neutral\n",
      "Correct\n",
      "------------------------------------\n",
      "Iter 33\n",
      "------------------------------------\n"
     ]
    },
    {
     "name": "stderr",
     "output_type": "stream",
     "text": [
      "The attention mask and the pad token id were not set. As a consequence, you may observe unexpected behavior. Please pass your input's `attention_mask` to obtain reliable results.\n",
      "Setting `pad_token_id` to `eos_token_id`:128001 for open-end generation.\n"
     ]
    },
    {
     "name": "stdout",
     "output_type": "stream",
     "text": [
      "Found emotion: surprise\n",
      "Index: 24\n",
      "Predicted:  surprise\n",
      "True :  neutral\n",
      "Incorrect\n",
      "------------------------------------\n",
      "Iter 34\n",
      "------------------------------------\n"
     ]
    },
    {
     "name": "stderr",
     "output_type": "stream",
     "text": [
      "The attention mask and the pad token id were not set. As a consequence, you may observe unexpected behavior. Please pass your input's `attention_mask` to obtain reliable results.\n",
      "Setting `pad_token_id` to `eos_token_id`:128001 for open-end generation.\n"
     ]
    },
    {
     "name": "stdout",
     "output_type": "stream",
     "text": [
      "Found emotion: anger\n",
      "Index: 6\n",
      "Predicted:  anger\n",
      "True :  fear\n",
      "Incorrect\n",
      "------------------------------------\n",
      "Iter 35\n",
      "------------------------------------\n"
     ]
    },
    {
     "name": "stderr",
     "output_type": "stream",
     "text": [
      "The attention mask and the pad token id were not set. As a consequence, you may observe unexpected behavior. Please pass your input's `attention_mask` to obtain reliable results.\n",
      "Setting `pad_token_id` to `eos_token_id`:128001 for open-end generation.\n"
     ]
    },
    {
     "name": "stdout",
     "output_type": "stream",
     "text": [
      "Found emotion: surprise\n",
      "Index: 18\n",
      "Predicted:  surprise\n",
      "True :  surprise\n",
      "Correct\n",
      "------------------------------------\n",
      "Iter 36\n",
      "------------------------------------\n"
     ]
    },
    {
     "name": "stderr",
     "output_type": "stream",
     "text": [
      "The attention mask and the pad token id were not set. As a consequence, you may observe unexpected behavior. Please pass your input's `attention_mask` to obtain reliable results.\n",
      "Setting `pad_token_id` to `eos_token_id`:128001 for open-end generation.\n"
     ]
    },
    {
     "name": "stdout",
     "output_type": "stream",
     "text": [
      "Found emotion: anger\n",
      "Index: 18\n",
      "Predicted:  anger\n",
      "True :  anger\n",
      "Correct\n",
      "------------------------------------\n",
      "Iter 37\n",
      "------------------------------------\n"
     ]
    },
    {
     "name": "stderr",
     "output_type": "stream",
     "text": [
      "The attention mask and the pad token id were not set. As a consequence, you may observe unexpected behavior. Please pass your input's `attention_mask` to obtain reliable results.\n",
      "Setting `pad_token_id` to `eos_token_id`:128001 for open-end generation.\n"
     ]
    },
    {
     "name": "stdout",
     "output_type": "stream",
     "text": [
      "Found emotion: disgust\n",
      "Index: 6\n",
      "Predicted:  disgust\n",
      "True :  anger\n",
      "Incorrect\n",
      "------------------------------------\n",
      "Iter 38\n",
      "------------------------------------\n"
     ]
    },
    {
     "name": "stderr",
     "output_type": "stream",
     "text": [
      "The attention mask and the pad token id were not set. As a consequence, you may observe unexpected behavior. Please pass your input's `attention_mask` to obtain reliable results.\n",
      "Setting `pad_token_id` to `eos_token_id`:128001 for open-end generation.\n"
     ]
    },
    {
     "name": "stdout",
     "output_type": "stream",
     "text": [
      "Found emotion: anger\n",
      "Index: 6\n",
      "Predicted:  anger\n",
      "True :  anger\n",
      "Correct\n",
      "------------------------------------\n",
      "Iter 39\n",
      "------------------------------------\n"
     ]
    },
    {
     "name": "stderr",
     "output_type": "stream",
     "text": [
      "The attention mask and the pad token id were not set. As a consequence, you may observe unexpected behavior. Please pass your input's `attention_mask` to obtain reliable results.\n",
      "Setting `pad_token_id` to `eos_token_id`:128001 for open-end generation.\n"
     ]
    },
    {
     "name": "stdout",
     "output_type": "stream",
     "text": [
      "Found emotion: neutral\n",
      "Index: 22\n",
      "Predicted:  neutral\n",
      "True :  anger\n",
      "Incorrect\n",
      "------------------------------------\n",
      "Iter 40\n",
      "------------------------------------\n"
     ]
    },
    {
     "name": "stderr",
     "output_type": "stream",
     "text": [
      "The attention mask and the pad token id were not set. As a consequence, you may observe unexpected behavior. Please pass your input's `attention_mask` to obtain reliable results.\n",
      "Setting `pad_token_id` to `eos_token_id`:128001 for open-end generation.\n"
     ]
    },
    {
     "name": "stdout",
     "output_type": "stream",
     "text": [
      "Found emotion: sadness\n",
      "Index: 22\n",
      "Predicted:  sadness\n",
      "True :  joy\n",
      "Incorrect\n",
      "------------------------------------\n",
      "Iter 41\n",
      "------------------------------------\n"
     ]
    },
    {
     "name": "stderr",
     "output_type": "stream",
     "text": [
      "The attention mask and the pad token id were not set. As a consequence, you may observe unexpected behavior. Please pass your input's `attention_mask` to obtain reliable results.\n",
      "Setting `pad_token_id` to `eos_token_id`:128001 for open-end generation.\n"
     ]
    },
    {
     "name": "stdout",
     "output_type": "stream",
     "text": [
      "Found emotion: joy\n",
      "Index: 24\n",
      "Predicted:  joy\n",
      "True :  surprise\n",
      "Incorrect\n",
      "------------------------------------\n",
      "Iter 42\n",
      "------------------------------------\n"
     ]
    },
    {
     "name": "stderr",
     "output_type": "stream",
     "text": [
      "The attention mask and the pad token id were not set. As a consequence, you may observe unexpected behavior. Please pass your input's `attention_mask` to obtain reliable results.\n",
      "Setting `pad_token_id` to `eos_token_id`:128001 for open-end generation.\n"
     ]
    },
    {
     "name": "stdout",
     "output_type": "stream",
     "text": [
      "Found emotion: surprise\n",
      "Index: 24\n",
      "Predicted:  surprise\n",
      "True :  anger\n",
      "Incorrect\n",
      "------------------------------------\n",
      "Iter 43\n",
      "------------------------------------\n"
     ]
    },
    {
     "name": "stderr",
     "output_type": "stream",
     "text": [
      "The attention mask and the pad token id were not set. As a consequence, you may observe unexpected behavior. Please pass your input's `attention_mask` to obtain reliable results.\n",
      "Setting `pad_token_id` to `eos_token_id`:128001 for open-end generation.\n"
     ]
    },
    {
     "name": "stdout",
     "output_type": "stream",
     "text": [
      "Found emotion: joy\n",
      "Index: 6\n",
      "Predicted:  joy\n",
      "True :  neutral\n",
      "Incorrect\n",
      "------------------------------------\n",
      "Iter 44\n",
      "------------------------------------\n"
     ]
    },
    {
     "name": "stderr",
     "output_type": "stream",
     "text": [
      "The attention mask and the pad token id were not set. As a consequence, you may observe unexpected behavior. Please pass your input's `attention_mask` to obtain reliable results.\n",
      "Setting `pad_token_id` to `eos_token_id`:128001 for open-end generation.\n"
     ]
    },
    {
     "name": "stdout",
     "output_type": "stream",
     "text": [
      "Found emotion: surprise\n",
      "Index: 6\n",
      "Predicted:  surprise\n",
      "True :  neutral\n",
      "Incorrect\n",
      "------------------------------------\n",
      "Iter 45\n",
      "------------------------------------\n"
     ]
    },
    {
     "name": "stderr",
     "output_type": "stream",
     "text": [
      "The attention mask and the pad token id were not set. As a consequence, you may observe unexpected behavior. Please pass your input's `attention_mask` to obtain reliable results.\n",
      "Setting `pad_token_id` to `eos_token_id`:128001 for open-end generation.\n"
     ]
    },
    {
     "name": "stdout",
     "output_type": "stream",
     "text": [
      "Found emotion: sadness\n",
      "Index: 24\n",
      "Predicted:  sadness\n",
      "True :  neutral\n",
      "Incorrect\n",
      "------------------------------------\n",
      "Iter 46\n",
      "------------------------------------\n"
     ]
    },
    {
     "name": "stderr",
     "output_type": "stream",
     "text": [
      "The attention mask and the pad token id were not set. As a consequence, you may observe unexpected behavior. Please pass your input's `attention_mask` to obtain reliable results.\n",
      "Setting `pad_token_id` to `eos_token_id`:128001 for open-end generation.\n"
     ]
    },
    {
     "name": "stdout",
     "output_type": "stream",
     "text": [
      "Found emotion: joy\n",
      "Index: 24\n",
      "Predicted:  joy\n",
      "True :  joy\n",
      "Correct\n",
      "------------------------------------\n",
      "Iter 47\n",
      "------------------------------------\n"
     ]
    },
    {
     "name": "stderr",
     "output_type": "stream",
     "text": [
      "The attention mask and the pad token id were not set. As a consequence, you may observe unexpected behavior. Please pass your input's `attention_mask` to obtain reliable results.\n",
      "Setting `pad_token_id` to `eos_token_id`:128001 for open-end generation.\n"
     ]
    },
    {
     "name": "stdout",
     "output_type": "stream",
     "text": [
      "Found emotion: neutral\n",
      "Index: 24\n",
      "Predicted:  neutral\n",
      "True :  neutral\n",
      "Correct\n",
      "------------------------------------\n",
      "Iter 48\n",
      "------------------------------------\n"
     ]
    },
    {
     "name": "stderr",
     "output_type": "stream",
     "text": [
      "The attention mask and the pad token id were not set. As a consequence, you may observe unexpected behavior. Please pass your input's `attention_mask` to obtain reliable results.\n",
      "Setting `pad_token_id` to `eos_token_id`:128001 for open-end generation.\n"
     ]
    },
    {
     "name": "stdout",
     "output_type": "stream",
     "text": [
      "Found emotion: joy\n",
      "Index: 6\n",
      "Predicted:  joy\n",
      "True :  neutral\n",
      "Incorrect\n",
      "------------------------------------\n",
      "Iter 49\n",
      "------------------------------------\n"
     ]
    },
    {
     "name": "stderr",
     "output_type": "stream",
     "text": [
      "The attention mask and the pad token id were not set. As a consequence, you may observe unexpected behavior. Please pass your input's `attention_mask` to obtain reliable results.\n",
      "Setting `pad_token_id` to `eos_token_id`:128001 for open-end generation.\n"
     ]
    },
    {
     "name": "stdout",
     "output_type": "stream",
     "text": [
      "Found emotion: neutral\n",
      "Index: 25\n",
      "Predicted:  neutral\n",
      "True :  anger\n",
      "Incorrect\n",
      "------------------------------------\n",
      "Iter 50\n",
      "------------------------------------\n"
     ]
    },
    {
     "name": "stderr",
     "output_type": "stream",
     "text": [
      "The attention mask and the pad token id were not set. As a consequence, you may observe unexpected behavior. Please pass your input's `attention_mask` to obtain reliable results.\n",
      "Setting `pad_token_id` to `eos_token_id`:128001 for open-end generation.\n"
     ]
    },
    {
     "name": "stdout",
     "output_type": "stream",
     "text": [
      "Found emotion: joy\n",
      "Index: 7\n",
      "Predicted:  joy\n",
      "True :  neutral\n",
      "Incorrect\n",
      "------------------------------------\n",
      "Iter 51\n",
      "------------------------------------\n"
     ]
    },
    {
     "name": "stderr",
     "output_type": "stream",
     "text": [
      "The attention mask and the pad token id were not set. As a consequence, you may observe unexpected behavior. Please pass your input's `attention_mask` to obtain reliable results.\n",
      "Setting `pad_token_id` to `eos_token_id`:128001 for open-end generation.\n"
     ]
    },
    {
     "name": "stdout",
     "output_type": "stream",
     "text": [
      "Found emotion: sadness\n",
      "Index: 25\n",
      "Predicted:  sadness\n",
      "True :  neutral\n",
      "Incorrect\n",
      "------------------------------------\n",
      "Iter 52\n",
      "------------------------------------\n"
     ]
    },
    {
     "name": "stderr",
     "output_type": "stream",
     "text": [
      "The attention mask and the pad token id were not set. As a consequence, you may observe unexpected behavior. Please pass your input's `attention_mask` to obtain reliable results.\n",
      "Setting `pad_token_id` to `eos_token_id`:128001 for open-end generation.\n"
     ]
    },
    {
     "name": "stdout",
     "output_type": "stream",
     "text": [
      "Found emotion: surprise\n",
      "Index: 7\n",
      "Predicted:  surprise\n",
      "True :  disgust\n",
      "Incorrect\n",
      "------------------------------------\n",
      "Iter 53\n",
      "------------------------------------\n"
     ]
    },
    {
     "name": "stderr",
     "output_type": "stream",
     "text": [
      "The attention mask and the pad token id were not set. As a consequence, you may observe unexpected behavior. Please pass your input's `attention_mask` to obtain reliable results.\n",
      "Setting `pad_token_id` to `eos_token_id`:128001 for open-end generation.\n"
     ]
    },
    {
     "name": "stdout",
     "output_type": "stream",
     "text": [
      "Found emotion: joy\n",
      "Index: 18\n",
      "Predicted:  joy\n",
      "True :  neutral\n",
      "Incorrect\n",
      "------------------------------------\n",
      "Iter 54\n",
      "------------------------------------\n"
     ]
    },
    {
     "name": "stderr",
     "output_type": "stream",
     "text": [
      "The attention mask and the pad token id were not set. As a consequence, you may observe unexpected behavior. Please pass your input's `attention_mask` to obtain reliable results.\n",
      "Setting `pad_token_id` to `eos_token_id`:128001 for open-end generation.\n"
     ]
    },
    {
     "name": "stdout",
     "output_type": "stream",
     "text": [
      "Found emotion: anger\n",
      "Index: 18\n",
      "Predicted:  anger\n",
      "True :  surprise\n",
      "Incorrect\n",
      "------------------------------------\n",
      "Iter 55\n",
      "------------------------------------\n"
     ]
    },
    {
     "name": "stderr",
     "output_type": "stream",
     "text": [
      "The attention mask and the pad token id were not set. As a consequence, you may observe unexpected behavior. Please pass your input's `attention_mask` to obtain reliable results.\n",
      "Setting `pad_token_id` to `eos_token_id`:128001 for open-end generation.\n"
     ]
    },
    {
     "name": "stdout",
     "output_type": "stream",
     "text": [
      "Found emotion: neutral\n",
      "Index: 18\n",
      "Predicted:  neutral\n",
      "True :  neutral\n",
      "Correct\n",
      "------------------------------------\n",
      "Iter 56\n",
      "------------------------------------\n"
     ]
    },
    {
     "name": "stderr",
     "output_type": "stream",
     "text": [
      "The attention mask and the pad token id were not set. As a consequence, you may observe unexpected behavior. Please pass your input's `attention_mask` to obtain reliable results.\n",
      "Setting `pad_token_id` to `eos_token_id`:128001 for open-end generation.\n"
     ]
    },
    {
     "name": "stdout",
     "output_type": "stream",
     "text": [
      "Found emotion: anger\n",
      "Index: 24\n",
      "Predicted:  anger\n",
      "True :  disgust\n",
      "Incorrect\n",
      "------------------------------------\n",
      "Iter 57\n",
      "------------------------------------\n"
     ]
    },
    {
     "name": "stderr",
     "output_type": "stream",
     "text": [
      "The attention mask and the pad token id were not set. As a consequence, you may observe unexpected behavior. Please pass your input's `attention_mask` to obtain reliable results.\n",
      "Setting `pad_token_id` to `eos_token_id`:128001 for open-end generation.\n"
     ]
    },
    {
     "name": "stdout",
     "output_type": "stream",
     "text": [
      "Found emotion: surprise\n",
      "Index: 18\n",
      "Predicted:  surprise\n",
      "True :  anger\n",
      "Incorrect\n",
      "------------------------------------\n",
      "Iter 58\n",
      "------------------------------------\n"
     ]
    },
    {
     "name": "stderr",
     "output_type": "stream",
     "text": [
      "The attention mask and the pad token id were not set. As a consequence, you may observe unexpected behavior. Please pass your input's `attention_mask` to obtain reliable results.\n",
      "Setting `pad_token_id` to `eos_token_id`:128001 for open-end generation.\n"
     ]
    },
    {
     "name": "stdout",
     "output_type": "stream",
     "text": [
      "Found emotion: anger\n",
      "Index: 22\n",
      "Predicted:  anger\n",
      "True :  anger\n",
      "Correct\n",
      "------------------------------------\n",
      "Iter 59\n",
      "------------------------------------\n"
     ]
    },
    {
     "name": "stderr",
     "output_type": "stream",
     "text": [
      "The attention mask and the pad token id were not set. As a consequence, you may observe unexpected behavior. Please pass your input's `attention_mask` to obtain reliable results.\n",
      "Setting `pad_token_id` to `eos_token_id`:128001 for open-end generation.\n"
     ]
    },
    {
     "name": "stdout",
     "output_type": "stream",
     "text": [
      "Found emotion: neutral\n",
      "Index: 22\n",
      "Predicted:  neutral\n",
      "True :  neutral\n",
      "Correct\n",
      "------------------------------------\n",
      "Iter 60\n",
      "------------------------------------\n"
     ]
    },
    {
     "name": "stderr",
     "output_type": "stream",
     "text": [
      "The attention mask and the pad token id were not set. As a consequence, you may observe unexpected behavior. Please pass your input's `attention_mask` to obtain reliable results.\n",
      "Setting `pad_token_id` to `eos_token_id`:128001 for open-end generation.\n"
     ]
    },
    {
     "name": "stdout",
     "output_type": "stream",
     "text": [
      "Found emotion: disgust\n",
      "Index: 22\n",
      "Predicted:  disgust\n",
      "True :  neutral\n",
      "Incorrect\n",
      "------------------------------------\n",
      "Iter 61\n",
      "------------------------------------\n"
     ]
    },
    {
     "name": "stderr",
     "output_type": "stream",
     "text": [
      "The attention mask and the pad token id were not set. As a consequence, you may observe unexpected behavior. Please pass your input's `attention_mask` to obtain reliable results.\n",
      "Setting `pad_token_id` to `eos_token_id`:128001 for open-end generation.\n"
     ]
    },
    {
     "name": "stdout",
     "output_type": "stream",
     "text": [
      "Found emotion: neutral\n",
      "Index: 24\n",
      "Predicted:  neutral\n",
      "True :  neutral\n",
      "Correct\n",
      "------------------------------------\n",
      "Iter 62\n",
      "------------------------------------\n"
     ]
    },
    {
     "name": "stderr",
     "output_type": "stream",
     "text": [
      "The attention mask and the pad token id were not set. As a consequence, you may observe unexpected behavior. Please pass your input's `attention_mask` to obtain reliable results.\n",
      "Setting `pad_token_id` to `eos_token_id`:128001 for open-end generation.\n"
     ]
    },
    {
     "name": "stdout",
     "output_type": "stream",
     "text": [
      "Found emotion: disgust\n",
      "Index: 22\n",
      "Predicted:  disgust\n",
      "True :  neutral\n",
      "Incorrect\n",
      "------------------------------------\n",
      "Iter 63\n",
      "------------------------------------\n"
     ]
    },
    {
     "name": "stderr",
     "output_type": "stream",
     "text": [
      "The attention mask and the pad token id were not set. As a consequence, you may observe unexpected behavior. Please pass your input's `attention_mask` to obtain reliable results.\n",
      "Setting `pad_token_id` to `eos_token_id`:128001 for open-end generation.\n"
     ]
    },
    {
     "name": "stdout",
     "output_type": "stream",
     "text": [
      "Found emotion: surprise\n",
      "Index: 24\n",
      "Predicted:  surprise\n",
      "True :  neutral\n",
      "Incorrect\n",
      "------------------------------------\n",
      "Iter 64\n",
      "------------------------------------\n"
     ]
    },
    {
     "name": "stderr",
     "output_type": "stream",
     "text": [
      "The attention mask and the pad token id were not set. As a consequence, you may observe unexpected behavior. Please pass your input's `attention_mask` to obtain reliable results.\n",
      "Setting `pad_token_id` to `eos_token_id`:128001 for open-end generation.\n"
     ]
    },
    {
     "name": "stdout",
     "output_type": "stream",
     "text": [
      "Found emotion: surprise\n",
      "Index: 24\n",
      "Predicted:  surprise\n",
      "True :  neutral\n",
      "Incorrect\n",
      "------------------------------------\n",
      "Iter 65\n",
      "------------------------------------\n"
     ]
    },
    {
     "name": "stderr",
     "output_type": "stream",
     "text": [
      "The attention mask and the pad token id were not set. As a consequence, you may observe unexpected behavior. Please pass your input's `attention_mask` to obtain reliable results.\n",
      "Setting `pad_token_id` to `eos_token_id`:128001 for open-end generation.\n"
     ]
    },
    {
     "name": "stdout",
     "output_type": "stream",
     "text": [
      "No emotion found.\n",
      "Predicted:  \n",
      "True :  neutral\n",
      "Incorrect\n",
      "------------------------------------\n",
      "Iter 66\n",
      "------------------------------------\n"
     ]
    },
    {
     "name": "stderr",
     "output_type": "stream",
     "text": [
      "The attention mask and the pad token id were not set. As a consequence, you may observe unexpected behavior. Please pass your input's `attention_mask` to obtain reliable results.\n",
      "Setting `pad_token_id` to `eos_token_id`:128001 for open-end generation.\n"
     ]
    },
    {
     "name": "stdout",
     "output_type": "stream",
     "text": [
      "Found emotion: surprise\n",
      "Index: 24\n",
      "Predicted:  surprise\n",
      "True :  neutral\n",
      "Incorrect\n",
      "------------------------------------\n",
      "Iter 67\n",
      "------------------------------------\n"
     ]
    },
    {
     "name": "stderr",
     "output_type": "stream",
     "text": [
      "The attention mask and the pad token id were not set. As a consequence, you may observe unexpected behavior. Please pass your input's `attention_mask` to obtain reliable results.\n",
      "Setting `pad_token_id` to `eos_token_id`:128001 for open-end generation.\n"
     ]
    },
    {
     "name": "stdout",
     "output_type": "stream",
     "text": [
      "Found emotion: neutral\n",
      "Index: 24\n",
      "Predicted:  neutral\n",
      "True :  neutral\n",
      "Correct\n",
      "------------------------------------\n",
      "Iter 68\n",
      "------------------------------------\n"
     ]
    },
    {
     "name": "stderr",
     "output_type": "stream",
     "text": [
      "The attention mask and the pad token id were not set. As a consequence, you may observe unexpected behavior. Please pass your input's `attention_mask` to obtain reliable results.\n",
      "Setting `pad_token_id` to `eos_token_id`:128001 for open-end generation.\n"
     ]
    },
    {
     "name": "stdout",
     "output_type": "stream",
     "text": [
      "Found emotion: disgust\n",
      "Index: 25\n",
      "Predicted:  disgust\n",
      "True :  surprise\n",
      "Incorrect\n",
      "------------------------------------\n",
      "Iter 69\n",
      "------------------------------------\n"
     ]
    },
    {
     "name": "stderr",
     "output_type": "stream",
     "text": [
      "The attention mask and the pad token id were not set. As a consequence, you may observe unexpected behavior. Please pass your input's `attention_mask` to obtain reliable results.\n",
      "Setting `pad_token_id` to `eos_token_id`:128001 for open-end generation.\n"
     ]
    },
    {
     "name": "stdout",
     "output_type": "stream",
     "text": [
      "Found emotion: surprise\n",
      "Index: 25\n",
      "Predicted:  surprise\n",
      "True :  surprise\n",
      "Correct\n",
      "------------------------------------\n",
      "Iter 70\n",
      "------------------------------------\n"
     ]
    },
    {
     "name": "stderr",
     "output_type": "stream",
     "text": [
      "The attention mask and the pad token id were not set. As a consequence, you may observe unexpected behavior. Please pass your input's `attention_mask` to obtain reliable results.\n",
      "Setting `pad_token_id` to `eos_token_id`:128001 for open-end generation.\n"
     ]
    },
    {
     "name": "stdout",
     "output_type": "stream",
     "text": [
      "Found emotion: disgust\n",
      "Index: 23\n",
      "Predicted:  disgust\n",
      "True :  neutral\n",
      "Incorrect\n",
      "------------------------------------\n",
      "Iter 71\n",
      "------------------------------------\n"
     ]
    },
    {
     "name": "stderr",
     "output_type": "stream",
     "text": [
      "The attention mask and the pad token id were not set. As a consequence, you may observe unexpected behavior. Please pass your input's `attention_mask` to obtain reliable results.\n",
      "Setting `pad_token_id` to `eos_token_id`:128001 for open-end generation.\n"
     ]
    },
    {
     "name": "stdout",
     "output_type": "stream",
     "text": [
      "Found emotion: disgust\n",
      "Index: 25\n",
      "Predicted:  disgust\n",
      "True :  disgust\n",
      "Correct\n",
      "------------------------------------\n",
      "Iter 72\n",
      "------------------------------------\n"
     ]
    },
    {
     "name": "stderr",
     "output_type": "stream",
     "text": [
      "The attention mask and the pad token id were not set. As a consequence, you may observe unexpected behavior. Please pass your input's `attention_mask` to obtain reliable results.\n",
      "Setting `pad_token_id` to `eos_token_id`:128001 for open-end generation.\n"
     ]
    },
    {
     "name": "stdout",
     "output_type": "stream",
     "text": [
      "Found emotion: neutral\n",
      "Index: 25\n",
      "Predicted:  neutral\n",
      "True :  neutral\n",
      "Correct\n",
      "------------------------------------\n",
      "Iter 73\n",
      "------------------------------------\n"
     ]
    },
    {
     "name": "stderr",
     "output_type": "stream",
     "text": [
      "The attention mask and the pad token id were not set. As a consequence, you may observe unexpected behavior. Please pass your input's `attention_mask` to obtain reliable results.\n",
      "Setting `pad_token_id` to `eos_token_id`:128001 for open-end generation.\n"
     ]
    },
    {
     "name": "stdout",
     "output_type": "stream",
     "text": [
      "Found emotion: disgust\n",
      "Index: 25\n",
      "Predicted:  disgust\n",
      "True :  neutral\n",
      "Incorrect\n",
      "------------------------------------\n",
      "Iter 74\n",
      "------------------------------------\n"
     ]
    },
    {
     "name": "stderr",
     "output_type": "stream",
     "text": [
      "The attention mask and the pad token id were not set. As a consequence, you may observe unexpected behavior. Please pass your input's `attention_mask` to obtain reliable results.\n",
      "Setting `pad_token_id` to `eos_token_id`:128001 for open-end generation.\n"
     ]
    },
    {
     "name": "stdout",
     "output_type": "stream",
     "text": [
      "Found emotion: joy\n",
      "Index: 22\n",
      "Predicted:  joy\n",
      "True :  neutral\n",
      "Incorrect\n",
      "------------------------------------\n",
      "Iter 75\n",
      "------------------------------------\n"
     ]
    },
    {
     "name": "stderr",
     "output_type": "stream",
     "text": [
      "The attention mask and the pad token id were not set. As a consequence, you may observe unexpected behavior. Please pass your input's `attention_mask` to obtain reliable results.\n",
      "Setting `pad_token_id` to `eos_token_id`:128001 for open-end generation.\n"
     ]
    },
    {
     "name": "stdout",
     "output_type": "stream",
     "text": [
      "Found emotion: sadness\n",
      "Index: 22\n",
      "Predicted:  sadness\n",
      "True :  neutral\n",
      "Incorrect\n",
      "------------------------------------\n",
      "Iter 76\n",
      "------------------------------------\n"
     ]
    },
    {
     "name": "stderr",
     "output_type": "stream",
     "text": [
      "The attention mask and the pad token id were not set. As a consequence, you may observe unexpected behavior. Please pass your input's `attention_mask` to obtain reliable results.\n",
      "Setting `pad_token_id` to `eos_token_id`:128001 for open-end generation.\n"
     ]
    },
    {
     "name": "stdout",
     "output_type": "stream",
     "text": [
      "Found emotion: neutral\n",
      "Index: 24\n",
      "Predicted:  neutral\n",
      "True :  neutral\n",
      "Correct\n",
      "------------------------------------\n",
      "Iter 77\n",
      "------------------------------------\n"
     ]
    },
    {
     "name": "stderr",
     "output_type": "stream",
     "text": [
      "The attention mask and the pad token id were not set. As a consequence, you may observe unexpected behavior. Please pass your input's `attention_mask` to obtain reliable results.\n",
      "Setting `pad_token_id` to `eos_token_id`:128001 for open-end generation.\n"
     ]
    },
    {
     "name": "stdout",
     "output_type": "stream",
     "text": [
      "Found emotion: anger\n",
      "Index: 6\n",
      "Predicted:  anger\n",
      "True :  neutral\n",
      "Incorrect\n",
      "------------------------------------\n",
      "Iter 78\n",
      "------------------------------------\n"
     ]
    },
    {
     "name": "stderr",
     "output_type": "stream",
     "text": [
      "The attention mask and the pad token id were not set. As a consequence, you may observe unexpected behavior. Please pass your input's `attention_mask` to obtain reliable results.\n",
      "Setting `pad_token_id` to `eos_token_id`:128001 for open-end generation.\n"
     ]
    },
    {
     "name": "stdout",
     "output_type": "stream",
     "text": [
      "Found emotion: surprise\n",
      "Index: 18\n",
      "Predicted:  surprise\n",
      "True :  surprise\n",
      "Correct\n",
      "------------------------------------\n",
      "Iter 79\n",
      "------------------------------------\n"
     ]
    },
    {
     "name": "stderr",
     "output_type": "stream",
     "text": [
      "The attention mask and the pad token id were not set. As a consequence, you may observe unexpected behavior. Please pass your input's `attention_mask` to obtain reliable results.\n",
      "Setting `pad_token_id` to `eos_token_id`:128001 for open-end generation.\n"
     ]
    },
    {
     "name": "stdout",
     "output_type": "stream",
     "text": [
      "Found emotion: joy\n",
      "Index: 24\n",
      "Predicted:  joy\n",
      "True :  neutral\n",
      "Incorrect\n",
      "------------------------------------\n",
      "Iter 80\n",
      "------------------------------------\n"
     ]
    },
    {
     "name": "stderr",
     "output_type": "stream",
     "text": [
      "The attention mask and the pad token id were not set. As a consequence, you may observe unexpected behavior. Please pass your input's `attention_mask` to obtain reliable results.\n",
      "Setting `pad_token_id` to `eos_token_id`:128001 for open-end generation.\n"
     ]
    },
    {
     "name": "stdout",
     "output_type": "stream",
     "text": [
      "Found emotion: anger\n",
      "Index: 6\n",
      "Predicted:  anger\n",
      "True :  anger\n",
      "Correct\n",
      "------------------------------------\n",
      "Iter 81\n",
      "------------------------------------\n"
     ]
    },
    {
     "name": "stderr",
     "output_type": "stream",
     "text": [
      "The attention mask and the pad token id were not set. As a consequence, you may observe unexpected behavior. Please pass your input's `attention_mask` to obtain reliable results.\n",
      "Setting `pad_token_id` to `eos_token_id`:128001 for open-end generation.\n"
     ]
    },
    {
     "name": "stdout",
     "output_type": "stream",
     "text": [
      "Found emotion: joy\n",
      "Index: 6\n",
      "Predicted:  joy\n",
      "True :  joy\n",
      "Correct\n",
      "------------------------------------\n",
      "Iter 82\n",
      "------------------------------------\n"
     ]
    },
    {
     "name": "stderr",
     "output_type": "stream",
     "text": [
      "The attention mask and the pad token id were not set. As a consequence, you may observe unexpected behavior. Please pass your input's `attention_mask` to obtain reliable results.\n",
      "Setting `pad_token_id` to `eos_token_id`:128001 for open-end generation.\n"
     ]
    },
    {
     "name": "stdout",
     "output_type": "stream",
     "text": [
      "Found emotion: surprise\n",
      "Index: 6\n",
      "Predicted:  surprise\n",
      "True :  surprise\n",
      "Correct\n",
      "------------------------------------\n",
      "Iter 83\n",
      "------------------------------------\n"
     ]
    },
    {
     "name": "stderr",
     "output_type": "stream",
     "text": [
      "The attention mask and the pad token id were not set. As a consequence, you may observe unexpected behavior. Please pass your input's `attention_mask` to obtain reliable results.\n",
      "Setting `pad_token_id` to `eos_token_id`:128001 for open-end generation.\n"
     ]
    },
    {
     "name": "stdout",
     "output_type": "stream",
     "text": [
      "Found emotion: joy\n",
      "Index: 6\n",
      "Predicted:  joy\n",
      "True :  joy\n",
      "Correct\n",
      "------------------------------------\n",
      "Iter 84\n",
      "------------------------------------\n"
     ]
    },
    {
     "name": "stderr",
     "output_type": "stream",
     "text": [
      "The attention mask and the pad token id were not set. As a consequence, you may observe unexpected behavior. Please pass your input's `attention_mask` to obtain reliable results.\n",
      "Setting `pad_token_id` to `eos_token_id`:128001 for open-end generation.\n"
     ]
    },
    {
     "name": "stdout",
     "output_type": "stream",
     "text": [
      "Found emotion: surprise\n",
      "Index: 22\n",
      "Predicted:  surprise\n",
      "True :  neutral\n",
      "Incorrect\n",
      "------------------------------------\n",
      "Iter 85\n",
      "------------------------------------\n"
     ]
    },
    {
     "name": "stderr",
     "output_type": "stream",
     "text": [
      "The attention mask and the pad token id were not set. As a consequence, you may observe unexpected behavior. Please pass your input's `attention_mask` to obtain reliable results.\n",
      "Setting `pad_token_id` to `eos_token_id`:128001 for open-end generation.\n"
     ]
    },
    {
     "name": "stdout",
     "output_type": "stream",
     "text": [
      "Found emotion: neutral\n",
      "Index: 6\n",
      "Predicted:  neutral\n",
      "True :  neutral\n",
      "Correct\n",
      "------------------------------------\n",
      "Iter 86\n",
      "------------------------------------\n"
     ]
    },
    {
     "name": "stderr",
     "output_type": "stream",
     "text": [
      "The attention mask and the pad token id were not set. As a consequence, you may observe unexpected behavior. Please pass your input's `attention_mask` to obtain reliable results.\n",
      "Setting `pad_token_id` to `eos_token_id`:128001 for open-end generation.\n"
     ]
    },
    {
     "name": "stdout",
     "output_type": "stream",
     "text": [
      "Found emotion: surprise\n",
      "Index: 6\n",
      "Predicted:  surprise\n",
      "True :  neutral\n",
      "Incorrect\n",
      "------------------------------------\n",
      "Iter 87\n",
      "------------------------------------\n"
     ]
    },
    {
     "name": "stderr",
     "output_type": "stream",
     "text": [
      "The attention mask and the pad token id were not set. As a consequence, you may observe unexpected behavior. Please pass your input's `attention_mask` to obtain reliable results.\n",
      "Setting `pad_token_id` to `eos_token_id`:128001 for open-end generation.\n"
     ]
    },
    {
     "name": "stdout",
     "output_type": "stream",
     "text": [
      "Found emotion: surprise\n",
      "Index: 6\n",
      "Predicted:  surprise\n",
      "True :  surprise\n",
      "Correct\n",
      "------------------------------------\n",
      "Iter 88\n",
      "------------------------------------\n"
     ]
    },
    {
     "name": "stderr",
     "output_type": "stream",
     "text": [
      "The attention mask and the pad token id were not set. As a consequence, you may observe unexpected behavior. Please pass your input's `attention_mask` to obtain reliable results.\n",
      "Setting `pad_token_id` to `eos_token_id`:128001 for open-end generation.\n"
     ]
    },
    {
     "name": "stdout",
     "output_type": "stream",
     "text": [
      "Found emotion: joy\n",
      "Index: 22\n",
      "Predicted:  joy\n",
      "True :  neutral\n",
      "Incorrect\n",
      "------------------------------------\n",
      "Iter 89\n",
      "------------------------------------\n"
     ]
    },
    {
     "name": "stderr",
     "output_type": "stream",
     "text": [
      "The attention mask and the pad token id were not set. As a consequence, you may observe unexpected behavior. Please pass your input's `attention_mask` to obtain reliable results.\n",
      "Setting `pad_token_id` to `eos_token_id`:128001 for open-end generation.\n"
     ]
    },
    {
     "name": "stdout",
     "output_type": "stream",
     "text": [
      "Found emotion: surprise\n",
      "Index: 6\n",
      "Predicted:  surprise\n",
      "True :  surprise\n",
      "Correct\n",
      "------------------------------------\n",
      "Iter 90\n",
      "------------------------------------\n"
     ]
    },
    {
     "name": "stderr",
     "output_type": "stream",
     "text": [
      "The attention mask and the pad token id were not set. As a consequence, you may observe unexpected behavior. Please pass your input's `attention_mask` to obtain reliable results.\n",
      "Setting `pad_token_id` to `eos_token_id`:128001 for open-end generation.\n"
     ]
    },
    {
     "name": "stdout",
     "output_type": "stream",
     "text": [
      "Found emotion: surprise\n",
      "Index: 6\n",
      "Predicted:  surprise\n",
      "True :  surprise\n",
      "Correct\n",
      "------------------------------------\n",
      "Iter 91\n",
      "------------------------------------\n"
     ]
    },
    {
     "name": "stderr",
     "output_type": "stream",
     "text": [
      "The attention mask and the pad token id were not set. As a consequence, you may observe unexpected behavior. Please pass your input's `attention_mask` to obtain reliable results.\n",
      "Setting `pad_token_id` to `eos_token_id`:128001 for open-end generation.\n"
     ]
    },
    {
     "name": "stdout",
     "output_type": "stream",
     "text": [
      "Found emotion: anger\n",
      "Index: 6\n",
      "Predicted:  anger\n",
      "True :  fear\n",
      "Incorrect\n",
      "------------------------------------\n",
      "Iter 92\n",
      "------------------------------------\n"
     ]
    },
    {
     "name": "stderr",
     "output_type": "stream",
     "text": [
      "The attention mask and the pad token id were not set. As a consequence, you may observe unexpected behavior. Please pass your input's `attention_mask` to obtain reliable results.\n",
      "Setting `pad_token_id` to `eos_token_id`:128001 for open-end generation.\n"
     ]
    },
    {
     "name": "stdout",
     "output_type": "stream",
     "text": [
      "Found emotion: joy\n",
      "Index: 22\n",
      "Predicted:  joy\n",
      "True :  joy\n",
      "Correct\n",
      "------------------------------------\n",
      "Iter 93\n",
      "------------------------------------\n"
     ]
    },
    {
     "name": "stderr",
     "output_type": "stream",
     "text": [
      "The attention mask and the pad token id were not set. As a consequence, you may observe unexpected behavior. Please pass your input's `attention_mask` to obtain reliable results.\n",
      "Setting `pad_token_id` to `eos_token_id`:128001 for open-end generation.\n"
     ]
    },
    {
     "name": "stdout",
     "output_type": "stream",
     "text": [
      "Found emotion: disgust\n",
      "Index: 22\n",
      "Predicted:  disgust\n",
      "True :  neutral\n",
      "Incorrect\n",
      "------------------------------------\n",
      "Iter 94\n",
      "------------------------------------\n"
     ]
    },
    {
     "name": "stderr",
     "output_type": "stream",
     "text": [
      "The attention mask and the pad token id were not set. As a consequence, you may observe unexpected behavior. Please pass your input's `attention_mask` to obtain reliable results.\n",
      "Setting `pad_token_id` to `eos_token_id`:128001 for open-end generation.\n"
     ]
    },
    {
     "name": "stdout",
     "output_type": "stream",
     "text": [
      "Found emotion: surprise\n",
      "Index: 24\n",
      "Predicted:  surprise\n",
      "True :  joy\n",
      "Incorrect\n",
      "------------------------------------\n",
      "Iter 95\n",
      "------------------------------------\n"
     ]
    },
    {
     "name": "stderr",
     "output_type": "stream",
     "text": [
      "The attention mask and the pad token id were not set. As a consequence, you may observe unexpected behavior. Please pass your input's `attention_mask` to obtain reliable results.\n",
      "Setting `pad_token_id` to `eos_token_id`:128001 for open-end generation.\n"
     ]
    },
    {
     "name": "stdout",
     "output_type": "stream",
     "text": [
      "Found emotion: surprise\n",
      "Index: 22\n",
      "Predicted:  surprise\n",
      "True :  surprise\n",
      "Correct\n",
      "------------------------------------\n",
      "Iter 96\n",
      "------------------------------------\n"
     ]
    },
    {
     "name": "stderr",
     "output_type": "stream",
     "text": [
      "The attention mask and the pad token id were not set. As a consequence, you may observe unexpected behavior. Please pass your input's `attention_mask` to obtain reliable results.\n",
      "Setting `pad_token_id` to `eos_token_id`:128001 for open-end generation.\n"
     ]
    },
    {
     "name": "stdout",
     "output_type": "stream",
     "text": [
      "No emotion found.\n",
      "Predicted:  \n",
      "True :  joy\n",
      "Incorrect\n",
      "------------------------------------\n",
      "Iter 97\n",
      "------------------------------------\n"
     ]
    },
    {
     "name": "stderr",
     "output_type": "stream",
     "text": [
      "The attention mask and the pad token id were not set. As a consequence, you may observe unexpected behavior. Please pass your input's `attention_mask` to obtain reliable results.\n",
      "Setting `pad_token_id` to `eos_token_id`:128001 for open-end generation.\n"
     ]
    },
    {
     "name": "stdout",
     "output_type": "stream",
     "text": [
      "Found emotion: surprise\n",
      "Index: 22\n",
      "Predicted:  surprise\n",
      "True :  surprise\n",
      "Correct\n",
      "------------------------------------\n",
      "Iter 98\n",
      "------------------------------------\n"
     ]
    },
    {
     "name": "stderr",
     "output_type": "stream",
     "text": [
      "The attention mask and the pad token id were not set. As a consequence, you may observe unexpected behavior. Please pass your input's `attention_mask` to obtain reliable results.\n",
      "Setting `pad_token_id` to `eos_token_id`:128001 for open-end generation.\n"
     ]
    },
    {
     "name": "stdout",
     "output_type": "stream",
     "text": [
      "Found emotion: disgust\n",
      "Index: 24\n",
      "Predicted:  disgust\n",
      "True :  surprise\n",
      "Incorrect\n",
      "------------------------------------\n",
      "Iter 99\n",
      "------------------------------------\n"
     ]
    },
    {
     "name": "stderr",
     "output_type": "stream",
     "text": [
      "The attention mask and the pad token id were not set. As a consequence, you may observe unexpected behavior. Please pass your input's `attention_mask` to obtain reliable results.\n",
      "Setting `pad_token_id` to `eos_token_id`:128001 for open-end generation.\n"
     ]
    },
    {
     "name": "stdout",
     "output_type": "stream",
     "text": [
      "Found emotion: sadness\n",
      "Index: 22\n",
      "Predicted:  sadness\n",
      "True :  joy\n",
      "Incorrect\n",
      "------------------------------------\n",
      "Iter 100\n",
      "------------------------------------\n"
     ]
    },
    {
     "name": "stderr",
     "output_type": "stream",
     "text": [
      "The attention mask and the pad token id were not set. As a consequence, you may observe unexpected behavior. Please pass your input's `attention_mask` to obtain reliable results.\n",
      "Setting `pad_token_id` to `eos_token_id`:128001 for open-end generation.\n"
     ]
    },
    {
     "name": "stdout",
     "output_type": "stream",
     "text": [
      "Found emotion: joy\n",
      "Index: 18\n",
      "Predicted:  joy\n",
      "True :  neutral\n",
      "Incorrect\n",
      "------------------------------------\n",
      "Iter 101\n",
      "------------------------------------\n"
     ]
    },
    {
     "name": "stderr",
     "output_type": "stream",
     "text": [
      "The attention mask and the pad token id were not set. As a consequence, you may observe unexpected behavior. Please pass your input's `attention_mask` to obtain reliable results.\n",
      "Setting `pad_token_id` to `eos_token_id`:128001 for open-end generation.\n"
     ]
    },
    {
     "name": "stdout",
     "output_type": "stream",
     "text": [
      "Found emotion: joy\n",
      "Index: 22\n",
      "Predicted:  joy\n",
      "True :  joy\n",
      "Correct\n",
      "------------------------------------\n",
      "Iter 102\n",
      "------------------------------------\n"
     ]
    },
    {
     "name": "stderr",
     "output_type": "stream",
     "text": [
      "The attention mask and the pad token id were not set. As a consequence, you may observe unexpected behavior. Please pass your input's `attention_mask` to obtain reliable results.\n",
      "Setting `pad_token_id` to `eos_token_id`:128001 for open-end generation.\n"
     ]
    },
    {
     "name": "stdout",
     "output_type": "stream",
     "text": [
      "Found emotion: disgust\n",
      "Index: 22\n",
      "Predicted:  disgust\n",
      "True :  surprise\n",
      "Incorrect\n",
      "------------------------------------\n",
      "Iter 103\n",
      "------------------------------------\n"
     ]
    },
    {
     "name": "stderr",
     "output_type": "stream",
     "text": [
      "The attention mask and the pad token id were not set. As a consequence, you may observe unexpected behavior. Please pass your input's `attention_mask` to obtain reliable results.\n",
      "Setting `pad_token_id` to `eos_token_id`:128001 for open-end generation.\n"
     ]
    },
    {
     "name": "stdout",
     "output_type": "stream",
     "text": [
      "Found emotion: joy\n",
      "Index: 24\n",
      "Predicted:  joy\n",
      "True :  neutral\n",
      "Incorrect\n",
      "------------------------------------\n",
      "Iter 104\n",
      "------------------------------------\n"
     ]
    },
    {
     "name": "stderr",
     "output_type": "stream",
     "text": [
      "The attention mask and the pad token id were not set. As a consequence, you may observe unexpected behavior. Please pass your input's `attention_mask` to obtain reliable results.\n",
      "Setting `pad_token_id` to `eos_token_id`:128001 for open-end generation.\n"
     ]
    },
    {
     "name": "stdout",
     "output_type": "stream",
     "text": [
      "Found emotion: neutral\n",
      "Index: 18\n",
      "Predicted:  neutral\n",
      "True :  sadness\n",
      "Incorrect\n",
      "------------------------------------\n",
      "Iter 105\n",
      "------------------------------------\n"
     ]
    },
    {
     "name": "stderr",
     "output_type": "stream",
     "text": [
      "The attention mask and the pad token id were not set. As a consequence, you may observe unexpected behavior. Please pass your input's `attention_mask` to obtain reliable results.\n",
      "Setting `pad_token_id` to `eos_token_id`:128001 for open-end generation.\n"
     ]
    },
    {
     "name": "stdout",
     "output_type": "stream",
     "text": [
      "Found emotion: surprise\n",
      "Index: 18\n",
      "Predicted:  surprise\n",
      "True :  neutral\n",
      "Incorrect\n",
      "------------------------------------\n",
      "Iter 106\n",
      "------------------------------------\n"
     ]
    },
    {
     "name": "stderr",
     "output_type": "stream",
     "text": [
      "The attention mask and the pad token id were not set. As a consequence, you may observe unexpected behavior. Please pass your input's `attention_mask` to obtain reliable results.\n",
      "Setting `pad_token_id` to `eos_token_id`:128001 for open-end generation.\n"
     ]
    },
    {
     "name": "stdout",
     "output_type": "stream",
     "text": [
      "Found emotion: surprise\n",
      "Index: 22\n",
      "Predicted:  surprise\n",
      "True :  neutral\n",
      "Incorrect\n",
      "------------------------------------\n",
      "Iter 107\n",
      "------------------------------------\n"
     ]
    },
    {
     "name": "stderr",
     "output_type": "stream",
     "text": [
      "The attention mask and the pad token id were not set. As a consequence, you may observe unexpected behavior. Please pass your input's `attention_mask` to obtain reliable results.\n",
      "Setting `pad_token_id` to `eos_token_id`:128001 for open-end generation.\n"
     ]
    },
    {
     "name": "stdout",
     "output_type": "stream",
     "text": [
      "Found emotion: joy\n",
      "Index: 18\n",
      "Predicted:  joy\n",
      "True :  neutral\n",
      "Incorrect\n",
      "------------------------------------\n",
      "Iter 108\n",
      "------------------------------------\n"
     ]
    },
    {
     "name": "stderr",
     "output_type": "stream",
     "text": [
      "The attention mask and the pad token id were not set. As a consequence, you may observe unexpected behavior. Please pass your input's `attention_mask` to obtain reliable results.\n",
      "Setting `pad_token_id` to `eos_token_id`:128001 for open-end generation.\n"
     ]
    },
    {
     "name": "stdout",
     "output_type": "stream",
     "text": [
      "Found emotion: neutral\n",
      "Index: 24\n",
      "Predicted:  neutral\n",
      "True :  neutral\n",
      "Correct\n",
      "------------------------------------\n",
      "Iter 109\n",
      "------------------------------------\n"
     ]
    },
    {
     "name": "stderr",
     "output_type": "stream",
     "text": [
      "The attention mask and the pad token id were not set. As a consequence, you may observe unexpected behavior. Please pass your input's `attention_mask` to obtain reliable results.\n",
      "Setting `pad_token_id` to `eos_token_id`:128001 for open-end generation.\n"
     ]
    },
    {
     "name": "stdout",
     "output_type": "stream",
     "text": [
      "Found emotion: sadness\n",
      "Index: 6\n",
      "Predicted:  sadness\n",
      "True :  neutral\n",
      "Incorrect\n",
      "------------------------------------\n",
      "Iter 110\n",
      "------------------------------------\n"
     ]
    },
    {
     "name": "stderr",
     "output_type": "stream",
     "text": [
      "The attention mask and the pad token id were not set. As a consequence, you may observe unexpected behavior. Please pass your input's `attention_mask` to obtain reliable results.\n",
      "Setting `pad_token_id` to `eos_token_id`:128001 for open-end generation.\n"
     ]
    },
    {
     "name": "stdout",
     "output_type": "stream",
     "text": [
      "Found emotion: sadness\n",
      "Index: 22\n",
      "Predicted:  sadness\n",
      "True :  surprise\n",
      "Incorrect\n",
      "------------------------------------\n",
      "Iter 111\n",
      "------------------------------------\n"
     ]
    },
    {
     "name": "stderr",
     "output_type": "stream",
     "text": [
      "The attention mask and the pad token id were not set. As a consequence, you may observe unexpected behavior. Please pass your input's `attention_mask` to obtain reliable results.\n",
      "Setting `pad_token_id` to `eos_token_id`:128001 for open-end generation.\n"
     ]
    },
    {
     "name": "stdout",
     "output_type": "stream",
     "text": [
      "Found emotion: joy\n",
      "Index: 22\n",
      "Predicted:  joy\n",
      "True :  neutral\n",
      "Incorrect\n",
      "------------------------------------\n",
      "Iter 112\n",
      "------------------------------------\n"
     ]
    },
    {
     "name": "stderr",
     "output_type": "stream",
     "text": [
      "The attention mask and the pad token id were not set. As a consequence, you may observe unexpected behavior. Please pass your input's `attention_mask` to obtain reliable results.\n",
      "Setting `pad_token_id` to `eos_token_id`:128001 for open-end generation.\n"
     ]
    },
    {
     "name": "stdout",
     "output_type": "stream",
     "text": [
      "Found emotion: joy\n",
      "Index: 22\n",
      "Predicted:  joy\n",
      "True :  joy\n",
      "Correct\n",
      "------------------------------------\n",
      "Iter 113\n",
      "------------------------------------\n"
     ]
    },
    {
     "name": "stderr",
     "output_type": "stream",
     "text": [
      "The attention mask and the pad token id were not set. As a consequence, you may observe unexpected behavior. Please pass your input's `attention_mask` to obtain reliable results.\n",
      "Setting `pad_token_id` to `eos_token_id`:128001 for open-end generation.\n"
     ]
    },
    {
     "name": "stdout",
     "output_type": "stream",
     "text": [
      "Found emotion: surprise\n",
      "Index: 24\n",
      "Predicted:  surprise\n",
      "True :  neutral\n",
      "Incorrect\n",
      "------------------------------------\n",
      "Iter 114\n",
      "------------------------------------\n"
     ]
    },
    {
     "name": "stderr",
     "output_type": "stream",
     "text": [
      "The attention mask and the pad token id were not set. As a consequence, you may observe unexpected behavior. Please pass your input's `attention_mask` to obtain reliable results.\n",
      "Setting `pad_token_id` to `eos_token_id`:128001 for open-end generation.\n"
     ]
    },
    {
     "name": "stdout",
     "output_type": "stream",
     "text": [
      "Found emotion: neutral\n",
      "Index: 24\n",
      "Predicted:  neutral\n",
      "True :  neutral\n",
      "Correct\n",
      "------------------------------------\n",
      "Iter 115\n",
      "------------------------------------\n"
     ]
    },
    {
     "name": "stderr",
     "output_type": "stream",
     "text": [
      "The attention mask and the pad token id were not set. As a consequence, you may observe unexpected behavior. Please pass your input's `attention_mask` to obtain reliable results.\n",
      "Setting `pad_token_id` to `eos_token_id`:128001 for open-end generation.\n"
     ]
    },
    {
     "name": "stdout",
     "output_type": "stream",
     "text": [
      "Found emotion: neutral\n",
      "Index: 22\n",
      "Predicted:  neutral\n",
      "True :  neutral\n",
      "Correct\n",
      "------------------------------------\n",
      "Iter 116\n",
      "------------------------------------\n"
     ]
    },
    {
     "name": "stderr",
     "output_type": "stream",
     "text": [
      "The attention mask and the pad token id were not set. As a consequence, you may observe unexpected behavior. Please pass your input's `attention_mask` to obtain reliable results.\n",
      "Setting `pad_token_id` to `eos_token_id`:128001 for open-end generation.\n"
     ]
    },
    {
     "name": "stdout",
     "output_type": "stream",
     "text": [
      "Found emotion: surprise\n",
      "Index: 22\n",
      "Predicted:  surprise\n",
      "True :  neutral\n",
      "Incorrect\n",
      "------------------------------------\n",
      "Iter 117\n",
      "------------------------------------\n"
     ]
    },
    {
     "name": "stderr",
     "output_type": "stream",
     "text": [
      "The attention mask and the pad token id were not set. As a consequence, you may observe unexpected behavior. Please pass your input's `attention_mask` to obtain reliable results.\n",
      "Setting `pad_token_id` to `eos_token_id`:128001 for open-end generation.\n"
     ]
    },
    {
     "name": "stdout",
     "output_type": "stream",
     "text": [
      "Found emotion: joy\n",
      "Index: 22\n",
      "Predicted:  joy\n",
      "True :  joy\n",
      "Correct\n",
      "------------------------------------\n",
      "Iter 118\n",
      "------------------------------------\n"
     ]
    },
    {
     "name": "stderr",
     "output_type": "stream",
     "text": [
      "The attention mask and the pad token id were not set. As a consequence, you may observe unexpected behavior. Please pass your input's `attention_mask` to obtain reliable results.\n",
      "Setting `pad_token_id` to `eos_token_id`:128001 for open-end generation.\n"
     ]
    },
    {
     "name": "stdout",
     "output_type": "stream",
     "text": [
      "Found emotion: joy\n",
      "Index: 24\n",
      "Predicted:  joy\n",
      "True :  joy\n",
      "Correct\n",
      "------------------------------------\n",
      "Iter 119\n",
      "------------------------------------\n"
     ]
    },
    {
     "name": "stderr",
     "output_type": "stream",
     "text": [
      "The attention mask and the pad token id were not set. As a consequence, you may observe unexpected behavior. Please pass your input's `attention_mask` to obtain reliable results.\n",
      "Setting `pad_token_id` to `eos_token_id`:128001 for open-end generation.\n"
     ]
    },
    {
     "name": "stdout",
     "output_type": "stream",
     "text": [
      "Found emotion: joy\n",
      "Index: 25\n",
      "Predicted:  joy\n",
      "True :  joy\n",
      "Correct\n",
      "------------------------------------\n",
      "Iter 120\n",
      "------------------------------------\n"
     ]
    },
    {
     "name": "stderr",
     "output_type": "stream",
     "text": [
      "The attention mask and the pad token id were not set. As a consequence, you may observe unexpected behavior. Please pass your input's `attention_mask` to obtain reliable results.\n",
      "Setting `pad_token_id` to `eos_token_id`:128001 for open-end generation.\n"
     ]
    },
    {
     "name": "stdout",
     "output_type": "stream",
     "text": [
      "Found emotion: sadness\n",
      "Index: 23\n",
      "Predicted:  sadness\n",
      "True :  neutral\n",
      "Incorrect\n",
      "------------------------------------\n",
      "Iter 121\n",
      "------------------------------------\n"
     ]
    },
    {
     "name": "stderr",
     "output_type": "stream",
     "text": [
      "The attention mask and the pad token id were not set. As a consequence, you may observe unexpected behavior. Please pass your input's `attention_mask` to obtain reliable results.\n",
      "Setting `pad_token_id` to `eos_token_id`:128001 for open-end generation.\n"
     ]
    },
    {
     "name": "stdout",
     "output_type": "stream",
     "text": [
      "Found emotion: neutral\n",
      "Index: 25\n",
      "Predicted:  neutral\n",
      "True :  neutral\n",
      "Correct\n",
      "------------------------------------\n",
      "Iter 122\n",
      "------------------------------------\n"
     ]
    },
    {
     "name": "stderr",
     "output_type": "stream",
     "text": [
      "The attention mask and the pad token id were not set. As a consequence, you may observe unexpected behavior. Please pass your input's `attention_mask` to obtain reliable results.\n",
      "Setting `pad_token_id` to `eos_token_id`:128001 for open-end generation.\n"
     ]
    },
    {
     "name": "stdout",
     "output_type": "stream",
     "text": [
      "Found emotion: neutral\n",
      "Index: 23\n",
      "Predicted:  neutral\n",
      "True :  neutral\n",
      "Correct\n",
      "------------------------------------\n",
      "Iter 123\n",
      "------------------------------------\n"
     ]
    },
    {
     "name": "stderr",
     "output_type": "stream",
     "text": [
      "The attention mask and the pad token id were not set. As a consequence, you may observe unexpected behavior. Please pass your input's `attention_mask` to obtain reliable results.\n",
      "Setting `pad_token_id` to `eos_token_id`:128001 for open-end generation.\n"
     ]
    },
    {
     "name": "stdout",
     "output_type": "stream",
     "text": [
      "Found emotion: surprise\n",
      "Index: 25\n",
      "Predicted:  surprise\n",
      "True :  neutral\n",
      "Incorrect\n",
      "------------------------------------\n",
      "Iter 124\n",
      "------------------------------------\n"
     ]
    },
    {
     "name": "stderr",
     "output_type": "stream",
     "text": [
      "The attention mask and the pad token id were not set. As a consequence, you may observe unexpected behavior. Please pass your input's `attention_mask` to obtain reliable results.\n",
      "Setting `pad_token_id` to `eos_token_id`:128001 for open-end generation.\n"
     ]
    },
    {
     "name": "stdout",
     "output_type": "stream",
     "text": [
      "Found emotion: neutral\n",
      "Index: 25\n",
      "Predicted:  neutral\n",
      "True :  neutral\n",
      "Correct\n",
      "------------------------------------\n",
      "Iter 125\n",
      "------------------------------------\n"
     ]
    },
    {
     "name": "stderr",
     "output_type": "stream",
     "text": [
      "The attention mask and the pad token id were not set. As a consequence, you may observe unexpected behavior. Please pass your input's `attention_mask` to obtain reliable results.\n",
      "Setting `pad_token_id` to `eos_token_id`:128001 for open-end generation.\n"
     ]
    },
    {
     "name": "stdout",
     "output_type": "stream",
     "text": [
      "Found emotion: disgust\n",
      "Index: 23\n",
      "Predicted:  disgust\n",
      "True :  surprise\n",
      "Incorrect\n",
      "------------------------------------\n",
      "Iter 126\n",
      "------------------------------------\n"
     ]
    },
    {
     "name": "stderr",
     "output_type": "stream",
     "text": [
      "The attention mask and the pad token id were not set. As a consequence, you may observe unexpected behavior. Please pass your input's `attention_mask` to obtain reliable results.\n",
      "Setting `pad_token_id` to `eos_token_id`:128001 for open-end generation.\n"
     ]
    },
    {
     "name": "stdout",
     "output_type": "stream",
     "text": [
      "Found emotion: neutral\n",
      "Index: 23\n",
      "Predicted:  neutral\n",
      "True :  neutral\n",
      "Correct\n",
      "------------------------------------\n",
      "Iter 127\n",
      "------------------------------------\n"
     ]
    },
    {
     "name": "stderr",
     "output_type": "stream",
     "text": [
      "The attention mask and the pad token id were not set. As a consequence, you may observe unexpected behavior. Please pass your input's `attention_mask` to obtain reliable results.\n",
      "Setting `pad_token_id` to `eos_token_id`:128001 for open-end generation.\n"
     ]
    },
    {
     "name": "stdout",
     "output_type": "stream",
     "text": [
      "Found emotion: surprise\n",
      "Index: 23\n",
      "Predicted:  surprise\n",
      "True :  neutral\n",
      "Incorrect\n",
      "------------------------------------\n",
      "Iter 128\n",
      "------------------------------------\n"
     ]
    },
    {
     "name": "stderr",
     "output_type": "stream",
     "text": [
      "The attention mask and the pad token id were not set. As a consequence, you may observe unexpected behavior. Please pass your input's `attention_mask` to obtain reliable results.\n",
      "Setting `pad_token_id` to `eos_token_id`:128001 for open-end generation.\n"
     ]
    },
    {
     "name": "stdout",
     "output_type": "stream",
     "text": [
      "Found emotion: fear\n",
      "Index: 23\n",
      "Predicted:  fear\n",
      "True :  neutral\n",
      "Incorrect\n",
      "------------------------------------\n",
      "Iter 129\n",
      "------------------------------------\n"
     ]
    },
    {
     "name": "stderr",
     "output_type": "stream",
     "text": [
      "The attention mask and the pad token id were not set. As a consequence, you may observe unexpected behavior. Please pass your input's `attention_mask` to obtain reliable results.\n",
      "Setting `pad_token_id` to `eos_token_id`:128001 for open-end generation.\n"
     ]
    },
    {
     "name": "stdout",
     "output_type": "stream",
     "text": [
      "Found emotion: surprise\n",
      "Index: 25\n",
      "Predicted:  surprise\n",
      "True :  neutral\n",
      "Incorrect\n",
      "------------------------------------\n",
      "Iter 130\n",
      "------------------------------------\n"
     ]
    },
    {
     "name": "stderr",
     "output_type": "stream",
     "text": [
      "The attention mask and the pad token id were not set. As a consequence, you may observe unexpected behavior. Please pass your input's `attention_mask` to obtain reliable results.\n",
      "Setting `pad_token_id` to `eos_token_id`:128001 for open-end generation.\n"
     ]
    },
    {
     "name": "stdout",
     "output_type": "stream",
     "text": [
      "Found emotion: surprise\n",
      "Index: 23\n",
      "Predicted:  surprise\n",
      "True :  neutral\n",
      "Incorrect\n",
      "------------------------------------\n",
      "Iter 131\n",
      "------------------------------------\n"
     ]
    },
    {
     "name": "stderr",
     "output_type": "stream",
     "text": [
      "The attention mask and the pad token id were not set. As a consequence, you may observe unexpected behavior. Please pass your input's `attention_mask` to obtain reliable results.\n",
      "Setting `pad_token_id` to `eos_token_id`:128001 for open-end generation.\n"
     ]
    },
    {
     "name": "stdout",
     "output_type": "stream",
     "text": [
      "Found emotion: surprise\n",
      "Index: 25\n",
      "Predicted:  surprise\n",
      "True :  joy\n",
      "Incorrect\n",
      "------------------------------------\n",
      "Iter 132\n",
      "------------------------------------\n"
     ]
    },
    {
     "name": "stderr",
     "output_type": "stream",
     "text": [
      "The attention mask and the pad token id were not set. As a consequence, you may observe unexpected behavior. Please pass your input's `attention_mask` to obtain reliable results.\n",
      "Setting `pad_token_id` to `eos_token_id`:128001 for open-end generation.\n"
     ]
    },
    {
     "name": "stdout",
     "output_type": "stream",
     "text": [
      "Found emotion: disgust\n",
      "Index: 23\n",
      "Predicted:  disgust\n",
      "True :  neutral\n",
      "Incorrect\n",
      "------------------------------------\n",
      "Iter 133\n",
      "------------------------------------\n"
     ]
    },
    {
     "name": "stderr",
     "output_type": "stream",
     "text": [
      "The attention mask and the pad token id were not set. As a consequence, you may observe unexpected behavior. Please pass your input's `attention_mask` to obtain reliable results.\n",
      "Setting `pad_token_id` to `eos_token_id`:128001 for open-end generation.\n"
     ]
    },
    {
     "name": "stdout",
     "output_type": "stream",
     "text": [
      "Found emotion: anger\n",
      "Index: 25\n",
      "Predicted:  anger\n",
      "True :  anger\n",
      "Correct\n",
      "------------------------------------\n",
      "Iter 134\n",
      "------------------------------------\n"
     ]
    },
    {
     "name": "stderr",
     "output_type": "stream",
     "text": [
      "The attention mask and the pad token id were not set. As a consequence, you may observe unexpected behavior. Please pass your input's `attention_mask` to obtain reliable results.\n",
      "Setting `pad_token_id` to `eos_token_id`:128001 for open-end generation.\n"
     ]
    },
    {
     "name": "stdout",
     "output_type": "stream",
     "text": [
      "Found emotion: sadness\n",
      "Index: 22\n",
      "Predicted:  sadness\n",
      "True :  sadness\n",
      "Correct\n",
      "------------------------------------\n",
      "Iter 135\n",
      "------------------------------------\n"
     ]
    },
    {
     "name": "stderr",
     "output_type": "stream",
     "text": [
      "The attention mask and the pad token id were not set. As a consequence, you may observe unexpected behavior. Please pass your input's `attention_mask` to obtain reliable results.\n",
      "Setting `pad_token_id` to `eos_token_id`:128001 for open-end generation.\n"
     ]
    },
    {
     "name": "stdout",
     "output_type": "stream",
     "text": [
      "Found emotion: anger\n",
      "Index: 22\n",
      "Predicted:  anger\n",
      "True :  surprise\n",
      "Incorrect\n",
      "------------------------------------\n",
      "Iter 136\n",
      "------------------------------------\n"
     ]
    },
    {
     "name": "stderr",
     "output_type": "stream",
     "text": [
      "The attention mask and the pad token id were not set. As a consequence, you may observe unexpected behavior. Please pass your input's `attention_mask` to obtain reliable results.\n",
      "Setting `pad_token_id` to `eos_token_id`:128001 for open-end generation.\n"
     ]
    },
    {
     "name": "stdout",
     "output_type": "stream",
     "text": [
      "Found emotion: sadness\n",
      "Index: 22\n",
      "Predicted:  sadness\n",
      "True :  neutral\n",
      "Incorrect\n",
      "------------------------------------\n",
      "Iter 137\n",
      "------------------------------------\n"
     ]
    },
    {
     "name": "stderr",
     "output_type": "stream",
     "text": [
      "The attention mask and the pad token id were not set. As a consequence, you may observe unexpected behavior. Please pass your input's `attention_mask` to obtain reliable results.\n",
      "Setting `pad_token_id` to `eos_token_id`:128001 for open-end generation.\n"
     ]
    },
    {
     "name": "stdout",
     "output_type": "stream",
     "text": [
      "Found emotion: anger\n",
      "Index: 22\n",
      "Predicted:  anger\n",
      "True :  surprise\n",
      "Incorrect\n",
      "------------------------------------\n",
      "Iter 138\n",
      "------------------------------------\n"
     ]
    },
    {
     "name": "stderr",
     "output_type": "stream",
     "text": [
      "The attention mask and the pad token id were not set. As a consequence, you may observe unexpected behavior. Please pass your input's `attention_mask` to obtain reliable results.\n",
      "Setting `pad_token_id` to `eos_token_id`:128001 for open-end generation.\n"
     ]
    },
    {
     "name": "stdout",
     "output_type": "stream",
     "text": [
      "Found emotion: surprise\n",
      "Index: 24\n",
      "Predicted:  surprise\n",
      "True :  neutral\n",
      "Incorrect\n",
      "------------------------------------\n",
      "Iter 139\n",
      "------------------------------------\n"
     ]
    },
    {
     "name": "stderr",
     "output_type": "stream",
     "text": [
      "The attention mask and the pad token id were not set. As a consequence, you may observe unexpected behavior. Please pass your input's `attention_mask` to obtain reliable results.\n",
      "Setting `pad_token_id` to `eos_token_id`:128001 for open-end generation.\n"
     ]
    },
    {
     "name": "stdout",
     "output_type": "stream",
     "text": [
      "Found emotion: surprise\n",
      "Index: 22\n",
      "Predicted:  surprise\n",
      "True :  anger\n",
      "Incorrect\n",
      "------------------------------------\n",
      "Iter 140\n",
      "------------------------------------\n"
     ]
    },
    {
     "name": "stderr",
     "output_type": "stream",
     "text": [
      "The attention mask and the pad token id were not set. As a consequence, you may observe unexpected behavior. Please pass your input's `attention_mask` to obtain reliable results.\n",
      "Setting `pad_token_id` to `eos_token_id`:128001 for open-end generation.\n"
     ]
    },
    {
     "name": "stdout",
     "output_type": "stream",
     "text": [
      "Found emotion: sadness\n",
      "Index: 22\n",
      "Predicted:  sadness\n",
      "True :  anger\n",
      "Incorrect\n",
      "------------------------------------\n",
      "Iter 141\n",
      "------------------------------------\n"
     ]
    },
    {
     "name": "stderr",
     "output_type": "stream",
     "text": [
      "The attention mask and the pad token id were not set. As a consequence, you may observe unexpected behavior. Please pass your input's `attention_mask` to obtain reliable results.\n",
      "Setting `pad_token_id` to `eos_token_id`:128001 for open-end generation.\n"
     ]
    },
    {
     "name": "stdout",
     "output_type": "stream",
     "text": [
      "Found emotion: sadness\n",
      "Index: 22\n",
      "Predicted:  sadness\n",
      "True :  anger\n",
      "Incorrect\n",
      "------------------------------------\n",
      "Iter 142\n",
      "------------------------------------\n"
     ]
    },
    {
     "name": "stderr",
     "output_type": "stream",
     "text": [
      "The attention mask and the pad token id were not set. As a consequence, you may observe unexpected behavior. Please pass your input's `attention_mask` to obtain reliable results.\n",
      "Setting `pad_token_id` to `eos_token_id`:128001 for open-end generation.\n"
     ]
    },
    {
     "name": "stdout",
     "output_type": "stream",
     "text": [
      "Found emotion: sadness\n",
      "Index: 24\n",
      "Predicted:  sadness\n",
      "True :  anger\n",
      "Incorrect\n",
      "------------------------------------\n",
      "Iter 143\n",
      "------------------------------------\n"
     ]
    },
    {
     "name": "stderr",
     "output_type": "stream",
     "text": [
      "The attention mask and the pad token id were not set. As a consequence, you may observe unexpected behavior. Please pass your input's `attention_mask` to obtain reliable results.\n",
      "Setting `pad_token_id` to `eos_token_id`:128001 for open-end generation.\n"
     ]
    },
    {
     "name": "stdout",
     "output_type": "stream",
     "text": [
      "Found emotion: neutral\n",
      "Index: 25\n",
      "Predicted:  neutral\n",
      "True :  anger\n",
      "Incorrect\n",
      "------------------------------------\n",
      "Iter 144\n",
      "------------------------------------\n"
     ]
    },
    {
     "name": "stderr",
     "output_type": "stream",
     "text": [
      "The attention mask and the pad token id were not set. As a consequence, you may observe unexpected behavior. Please pass your input's `attention_mask` to obtain reliable results.\n",
      "Setting `pad_token_id` to `eos_token_id`:128001 for open-end generation.\n"
     ]
    },
    {
     "name": "stdout",
     "output_type": "stream",
     "text": [
      "Found emotion: anger\n",
      "Index: 25\n",
      "Predicted:  anger\n",
      "True :  anger\n",
      "Correct\n",
      "------------------------------------\n",
      "Iter 145\n",
      "------------------------------------\n"
     ]
    },
    {
     "name": "stderr",
     "output_type": "stream",
     "text": [
      "The attention mask and the pad token id were not set. As a consequence, you may observe unexpected behavior. Please pass your input's `attention_mask` to obtain reliable results.\n",
      "Setting `pad_token_id` to `eos_token_id`:128001 for open-end generation.\n"
     ]
    },
    {
     "name": "stdout",
     "output_type": "stream",
     "text": [
      "Found emotion: anger\n",
      "Index: 23\n",
      "Predicted:  anger\n",
      "True :  anger\n",
      "Correct\n",
      "------------------------------------\n",
      "Iter 146\n",
      "------------------------------------\n"
     ]
    },
    {
     "name": "stderr",
     "output_type": "stream",
     "text": [
      "The attention mask and the pad token id were not set. As a consequence, you may observe unexpected behavior. Please pass your input's `attention_mask` to obtain reliable results.\n",
      "Setting `pad_token_id` to `eos_token_id`:128001 for open-end generation.\n"
     ]
    },
    {
     "name": "stdout",
     "output_type": "stream",
     "text": [
      "Found emotion: anger\n",
      "Index: 25\n",
      "Predicted:  anger\n",
      "True :  anger\n",
      "Correct\n",
      "------------------------------------\n",
      "Iter 147\n",
      "------------------------------------\n"
     ]
    },
    {
     "name": "stderr",
     "output_type": "stream",
     "text": [
      "The attention mask and the pad token id were not set. As a consequence, you may observe unexpected behavior. Please pass your input's `attention_mask` to obtain reliable results.\n",
      "Setting `pad_token_id` to `eos_token_id`:128001 for open-end generation.\n"
     ]
    },
    {
     "name": "stdout",
     "output_type": "stream",
     "text": [
      "Found emotion: neutral\n",
      "Index: 23\n",
      "Predicted:  neutral\n",
      "True :  neutral\n",
      "Correct\n",
      "------------------------------------\n",
      "Iter 148\n",
      "------------------------------------\n"
     ]
    },
    {
     "name": "stderr",
     "output_type": "stream",
     "text": [
      "The attention mask and the pad token id were not set. As a consequence, you may observe unexpected behavior. Please pass your input's `attention_mask` to obtain reliable results.\n",
      "Setting `pad_token_id` to `eos_token_id`:128001 for open-end generation.\n"
     ]
    },
    {
     "name": "stdout",
     "output_type": "stream",
     "text": [
      "Found emotion: sadness\n",
      "Index: 25\n",
      "Predicted:  sadness\n",
      "True :  surprise\n",
      "Incorrect\n",
      "------------------------------------\n",
      "Iter 149\n",
      "------------------------------------\n"
     ]
    },
    {
     "name": "stderr",
     "output_type": "stream",
     "text": [
      "The attention mask and the pad token id were not set. As a consequence, you may observe unexpected behavior. Please pass your input's `attention_mask` to obtain reliable results.\n",
      "Setting `pad_token_id` to `eos_token_id`:128001 for open-end generation.\n"
     ]
    },
    {
     "name": "stdout",
     "output_type": "stream",
     "text": [
      "Found emotion: disgust\n",
      "Index: 23\n",
      "Predicted:  disgust\n",
      "True :  surprise\n",
      "Incorrect\n",
      "------------------------------------\n",
      "Iter 150\n",
      "------------------------------------\n"
     ]
    },
    {
     "name": "stderr",
     "output_type": "stream",
     "text": [
      "The attention mask and the pad token id were not set. As a consequence, you may observe unexpected behavior. Please pass your input's `attention_mask` to obtain reliable results.\n",
      "Setting `pad_token_id` to `eos_token_id`:128001 for open-end generation.\n"
     ]
    },
    {
     "name": "stdout",
     "output_type": "stream",
     "text": [
      "Found emotion: sadness\n",
      "Index: 23\n",
      "Predicted:  sadness\n",
      "True :  sadness\n",
      "Correct\n",
      "------------------------------------\n",
      "Iter 151\n",
      "------------------------------------\n"
     ]
    },
    {
     "name": "stderr",
     "output_type": "stream",
     "text": [
      "The attention mask and the pad token id were not set. As a consequence, you may observe unexpected behavior. Please pass your input's `attention_mask` to obtain reliable results.\n",
      "Setting `pad_token_id` to `eos_token_id`:128001 for open-end generation.\n"
     ]
    },
    {
     "name": "stdout",
     "output_type": "stream",
     "text": [
      "Found emotion: sadness\n",
      "Index: 23\n",
      "Predicted:  sadness\n",
      "True :  sadness\n",
      "Correct\n",
      "------------------------------------\n",
      "Iter 152\n",
      "------------------------------------\n"
     ]
    },
    {
     "name": "stderr",
     "output_type": "stream",
     "text": [
      "The attention mask and the pad token id were not set. As a consequence, you may observe unexpected behavior. Please pass your input's `attention_mask` to obtain reliable results.\n",
      "Setting `pad_token_id` to `eos_token_id`:128001 for open-end generation.\n"
     ]
    },
    {
     "name": "stdout",
     "output_type": "stream",
     "text": [
      "Found emotion: neutral\n",
      "Index: 25\n",
      "Predicted:  neutral\n",
      "True :  neutral\n",
      "Correct\n",
      "------------------------------------\n",
      "Iter 153\n",
      "------------------------------------\n"
     ]
    },
    {
     "name": "stderr",
     "output_type": "stream",
     "text": [
      "The attention mask and the pad token id were not set. As a consequence, you may observe unexpected behavior. Please pass your input's `attention_mask` to obtain reliable results.\n",
      "Setting `pad_token_id` to `eos_token_id`:128001 for open-end generation.\n"
     ]
    },
    {
     "name": "stdout",
     "output_type": "stream",
     "text": [
      "Found emotion: sadness\n",
      "Index: 25\n",
      "Predicted:  sadness\n",
      "True :  neutral\n",
      "Incorrect\n",
      "------------------------------------\n",
      "Iter 154\n",
      "------------------------------------\n"
     ]
    },
    {
     "name": "stderr",
     "output_type": "stream",
     "text": [
      "The attention mask and the pad token id were not set. As a consequence, you may observe unexpected behavior. Please pass your input's `attention_mask` to obtain reliable results.\n",
      "Setting `pad_token_id` to `eos_token_id`:128001 for open-end generation.\n"
     ]
    },
    {
     "name": "stdout",
     "output_type": "stream",
     "text": [
      "Found emotion: neutral\n",
      "Index: 23\n",
      "Predicted:  neutral\n",
      "True :  neutral\n",
      "Correct\n",
      "------------------------------------\n",
      "Iter 155\n",
      "------------------------------------\n"
     ]
    },
    {
     "name": "stderr",
     "output_type": "stream",
     "text": [
      "The attention mask and the pad token id were not set. As a consequence, you may observe unexpected behavior. Please pass your input's `attention_mask` to obtain reliable results.\n",
      "Setting `pad_token_id` to `eos_token_id`:128001 for open-end generation.\n"
     ]
    },
    {
     "name": "stdout",
     "output_type": "stream",
     "text": [
      "Found emotion: sadness\n",
      "Index: 23\n",
      "Predicted:  sadness\n",
      "True :  neutral\n",
      "Incorrect\n",
      "------------------------------------\n",
      "Iter 156\n",
      "------------------------------------\n"
     ]
    },
    {
     "name": "stderr",
     "output_type": "stream",
     "text": [
      "The attention mask and the pad token id were not set. As a consequence, you may observe unexpected behavior. Please pass your input's `attention_mask` to obtain reliable results.\n",
      "Setting `pad_token_id` to `eos_token_id`:128001 for open-end generation.\n"
     ]
    },
    {
     "name": "stdout",
     "output_type": "stream",
     "text": [
      "Found emotion: surprise\n",
      "Index: 25\n",
      "Predicted:  surprise\n",
      "True :  surprise\n",
      "Correct\n",
      "------------------------------------\n",
      "Iter 157\n",
      "------------------------------------\n"
     ]
    },
    {
     "name": "stderr",
     "output_type": "stream",
     "text": [
      "The attention mask and the pad token id were not set. As a consequence, you may observe unexpected behavior. Please pass your input's `attention_mask` to obtain reliable results.\n",
      "Setting `pad_token_id` to `eos_token_id`:128001 for open-end generation.\n"
     ]
    },
    {
     "name": "stdout",
     "output_type": "stream",
     "text": [
      "Found emotion: sadness\n",
      "Index: 23\n",
      "Predicted:  sadness\n",
      "True :  sadness\n",
      "Correct\n",
      "------------------------------------\n",
      "Iter 158\n",
      "------------------------------------\n"
     ]
    },
    {
     "name": "stderr",
     "output_type": "stream",
     "text": [
      "The attention mask and the pad token id were not set. As a consequence, you may observe unexpected behavior. Please pass your input's `attention_mask` to obtain reliable results.\n",
      "Setting `pad_token_id` to `eos_token_id`:128001 for open-end generation.\n"
     ]
    },
    {
     "name": "stdout",
     "output_type": "stream",
     "text": [
      "Found emotion: joy\n",
      "Index: 22\n",
      "Predicted:  joy\n",
      "True :  neutral\n",
      "Incorrect\n",
      "------------------------------------\n",
      "Iter 159\n",
      "------------------------------------\n"
     ]
    },
    {
     "name": "stderr",
     "output_type": "stream",
     "text": [
      "The attention mask and the pad token id were not set. As a consequence, you may observe unexpected behavior. Please pass your input's `attention_mask` to obtain reliable results.\n",
      "Setting `pad_token_id` to `eos_token_id`:128001 for open-end generation.\n"
     ]
    },
    {
     "name": "stdout",
     "output_type": "stream",
     "text": [
      "Found emotion: surprise\n",
      "Index: 22\n",
      "Predicted:  surprise\n",
      "True :  neutral\n",
      "Incorrect\n",
      "------------------------------------\n",
      "Iter 160\n",
      "------------------------------------\n"
     ]
    },
    {
     "name": "stderr",
     "output_type": "stream",
     "text": [
      "The attention mask and the pad token id were not set. As a consequence, you may observe unexpected behavior. Please pass your input's `attention_mask` to obtain reliable results.\n",
      "Setting `pad_token_id` to `eos_token_id`:128001 for open-end generation.\n"
     ]
    },
    {
     "name": "stdout",
     "output_type": "stream",
     "text": [
      "Found emotion: neutral\n",
      "Index: 22\n",
      "Predicted:  neutral\n",
      "True :  neutral\n",
      "Correct\n",
      "------------------------------------\n",
      "Iter 161\n",
      "------------------------------------\n"
     ]
    },
    {
     "name": "stderr",
     "output_type": "stream",
     "text": [
      "The attention mask and the pad token id were not set. As a consequence, you may observe unexpected behavior. Please pass your input's `attention_mask` to obtain reliable results.\n",
      "Setting `pad_token_id` to `eos_token_id`:128001 for open-end generation.\n"
     ]
    },
    {
     "name": "stdout",
     "output_type": "stream",
     "text": [
      "Found emotion: surprise\n",
      "Index: 22\n",
      "Predicted:  surprise\n",
      "True :  disgust\n",
      "Incorrect\n",
      "------------------------------------\n",
      "Iter 162\n",
      "------------------------------------\n"
     ]
    },
    {
     "name": "stderr",
     "output_type": "stream",
     "text": [
      "The attention mask and the pad token id were not set. As a consequence, you may observe unexpected behavior. Please pass your input's `attention_mask` to obtain reliable results.\n",
      "Setting `pad_token_id` to `eos_token_id`:128001 for open-end generation.\n"
     ]
    },
    {
     "name": "stdout",
     "output_type": "stream",
     "text": [
      "Found emotion: surprise\n",
      "Index: 22\n",
      "Predicted:  surprise\n",
      "True :  neutral\n",
      "Incorrect\n",
      "------------------------------------\n",
      "Iter 163\n",
      "------------------------------------\n"
     ]
    },
    {
     "name": "stderr",
     "output_type": "stream",
     "text": [
      "The attention mask and the pad token id were not set. As a consequence, you may observe unexpected behavior. Please pass your input's `attention_mask` to obtain reliable results.\n",
      "Setting `pad_token_id` to `eos_token_id`:128001 for open-end generation.\n"
     ]
    },
    {
     "name": "stdout",
     "output_type": "stream",
     "text": [
      "Found emotion: neutral\n",
      "Index: 22\n",
      "Predicted:  neutral\n",
      "True :  neutral\n",
      "Correct\n",
      "------------------------------------\n",
      "Iter 164\n",
      "------------------------------------\n"
     ]
    },
    {
     "name": "stderr",
     "output_type": "stream",
     "text": [
      "The attention mask and the pad token id were not set. As a consequence, you may observe unexpected behavior. Please pass your input's `attention_mask` to obtain reliable results.\n",
      "Setting `pad_token_id` to `eos_token_id`:128001 for open-end generation.\n"
     ]
    },
    {
     "name": "stdout",
     "output_type": "stream",
     "text": [
      "Found emotion: neutral\n",
      "Index: 24\n",
      "Predicted:  neutral\n",
      "True :  sadness\n",
      "Incorrect\n",
      "------------------------------------\n",
      "Iter 165\n",
      "------------------------------------\n"
     ]
    },
    {
     "name": "stderr",
     "output_type": "stream",
     "text": [
      "The attention mask and the pad token id were not set. As a consequence, you may observe unexpected behavior. Please pass your input's `attention_mask` to obtain reliable results.\n",
      "Setting `pad_token_id` to `eos_token_id`:128001 for open-end generation.\n"
     ]
    },
    {
     "name": "stdout",
     "output_type": "stream",
     "text": [
      "Found emotion: neutral\n",
      "Index: 22\n",
      "Predicted:  neutral\n",
      "True :  neutral\n",
      "Correct\n",
      "------------------------------------\n",
      "Iter 166\n",
      "------------------------------------\n"
     ]
    },
    {
     "name": "stderr",
     "output_type": "stream",
     "text": [
      "The attention mask and the pad token id were not set. As a consequence, you may observe unexpected behavior. Please pass your input's `attention_mask` to obtain reliable results.\n",
      "Setting `pad_token_id` to `eos_token_id`:128001 for open-end generation.\n"
     ]
    },
    {
     "name": "stdout",
     "output_type": "stream",
     "text": [
      "Found emotion: surprise\n",
      "Index: 22\n",
      "Predicted:  surprise\n",
      "True :  neutral\n",
      "Incorrect\n",
      "------------------------------------\n",
      "Iter 167\n",
      "------------------------------------\n"
     ]
    },
    {
     "name": "stderr",
     "output_type": "stream",
     "text": [
      "The attention mask and the pad token id were not set. As a consequence, you may observe unexpected behavior. Please pass your input's `attention_mask` to obtain reliable results.\n",
      "Setting `pad_token_id` to `eos_token_id`:128001 for open-end generation.\n"
     ]
    },
    {
     "name": "stdout",
     "output_type": "stream",
     "text": [
      "Found emotion: neutral\n",
      "Index: 23\n",
      "Predicted:  neutral\n",
      "True :  joy\n",
      "Incorrect\n",
      "------------------------------------\n",
      "Iter 168\n",
      "------------------------------------\n"
     ]
    },
    {
     "name": "stderr",
     "output_type": "stream",
     "text": [
      "The attention mask and the pad token id were not set. As a consequence, you may observe unexpected behavior. Please pass your input's `attention_mask` to obtain reliable results.\n",
      "Setting `pad_token_id` to `eos_token_id`:128001 for open-end generation.\n"
     ]
    },
    {
     "name": "stdout",
     "output_type": "stream",
     "text": [
      "Found emotion: surprise\n",
      "Index: 23\n",
      "Predicted:  surprise\n",
      "True :  joy\n",
      "Incorrect\n",
      "------------------------------------\n",
      "Iter 169\n",
      "------------------------------------\n"
     ]
    },
    {
     "name": "stderr",
     "output_type": "stream",
     "text": [
      "The attention mask and the pad token id were not set. As a consequence, you may observe unexpected behavior. Please pass your input's `attention_mask` to obtain reliable results.\n",
      "Setting `pad_token_id` to `eos_token_id`:128001 for open-end generation.\n"
     ]
    },
    {
     "name": "stdout",
     "output_type": "stream",
     "text": [
      "Found emotion: surprise\n",
      "Index: 23\n",
      "Predicted:  surprise\n",
      "True :  anger\n",
      "Incorrect\n",
      "------------------------------------\n",
      "Iter 170\n",
      "------------------------------------\n"
     ]
    },
    {
     "name": "stderr",
     "output_type": "stream",
     "text": [
      "The attention mask and the pad token id were not set. As a consequence, you may observe unexpected behavior. Please pass your input's `attention_mask` to obtain reliable results.\n",
      "Setting `pad_token_id` to `eos_token_id`:128001 for open-end generation.\n"
     ]
    },
    {
     "name": "stdout",
     "output_type": "stream",
     "text": [
      "Found emotion: anger\n",
      "Index: 23\n",
      "Predicted:  anger\n",
      "True :  neutral\n",
      "Incorrect\n",
      "------------------------------------\n",
      "Iter 171\n",
      "------------------------------------\n"
     ]
    },
    {
     "name": "stderr",
     "output_type": "stream",
     "text": [
      "The attention mask and the pad token id were not set. As a consequence, you may observe unexpected behavior. Please pass your input's `attention_mask` to obtain reliable results.\n",
      "Setting `pad_token_id` to `eos_token_id`:128001 for open-end generation.\n"
     ]
    },
    {
     "name": "stdout",
     "output_type": "stream",
     "text": [
      "Found emotion: sadness\n",
      "Index: 23\n",
      "Predicted:  sadness\n",
      "True :  anger\n",
      "Incorrect\n",
      "------------------------------------\n",
      "Iter 172\n",
      "------------------------------------\n"
     ]
    },
    {
     "name": "stderr",
     "output_type": "stream",
     "text": [
      "The attention mask and the pad token id were not set. As a consequence, you may observe unexpected behavior. Please pass your input's `attention_mask` to obtain reliable results.\n",
      "Setting `pad_token_id` to `eos_token_id`:128001 for open-end generation.\n"
     ]
    },
    {
     "name": "stdout",
     "output_type": "stream",
     "text": [
      "Found emotion: joy\n",
      "Index: 25\n",
      "Predicted:  joy\n",
      "True :  neutral\n",
      "Incorrect\n",
      "------------------------------------\n",
      "Iter 173\n",
      "------------------------------------\n"
     ]
    },
    {
     "name": "stderr",
     "output_type": "stream",
     "text": [
      "The attention mask and the pad token id were not set. As a consequence, you may observe unexpected behavior. Please pass your input's `attention_mask` to obtain reliable results.\n",
      "Setting `pad_token_id` to `eos_token_id`:128001 for open-end generation.\n"
     ]
    },
    {
     "name": "stdout",
     "output_type": "stream",
     "text": [
      "Found emotion: neutral\n",
      "Index: 25\n",
      "Predicted:  neutral\n",
      "True :  neutral\n",
      "Correct\n",
      "------------------------------------\n",
      "Iter 174\n",
      "------------------------------------\n"
     ]
    },
    {
     "name": "stderr",
     "output_type": "stream",
     "text": [
      "The attention mask and the pad token id were not set. As a consequence, you may observe unexpected behavior. Please pass your input's `attention_mask` to obtain reliable results.\n",
      "Setting `pad_token_id` to `eos_token_id`:128001 for open-end generation.\n"
     ]
    },
    {
     "name": "stdout",
     "output_type": "stream",
     "text": [
      "Found emotion: neutral\n",
      "Index: 25\n",
      "Predicted:  neutral\n",
      "True :  neutral\n",
      "Correct\n",
      "------------------------------------\n",
      "Iter 175\n",
      "------------------------------------\n"
     ]
    },
    {
     "name": "stderr",
     "output_type": "stream",
     "text": [
      "The attention mask and the pad token id were not set. As a consequence, you may observe unexpected behavior. Please pass your input's `attention_mask` to obtain reliable results.\n",
      "Setting `pad_token_id` to `eos_token_id`:128001 for open-end generation.\n"
     ]
    },
    {
     "name": "stdout",
     "output_type": "stream",
     "text": [
      "Found emotion: neutral\n",
      "Index: 23\n",
      "Predicted:  neutral\n",
      "True :  neutral\n",
      "Correct\n",
      "------------------------------------\n",
      "Iter 176\n",
      "------------------------------------\n"
     ]
    },
    {
     "name": "stderr",
     "output_type": "stream",
     "text": [
      "The attention mask and the pad token id were not set. As a consequence, you may observe unexpected behavior. Please pass your input's `attention_mask` to obtain reliable results.\n",
      "Setting `pad_token_id` to `eos_token_id`:128001 for open-end generation.\n"
     ]
    },
    {
     "name": "stdout",
     "output_type": "stream",
     "text": [
      "Found emotion: anger\n",
      "Index: 23\n",
      "Predicted:  anger\n",
      "True :  neutral\n",
      "Incorrect\n",
      "------------------------------------\n",
      "Iter 177\n",
      "------------------------------------\n"
     ]
    },
    {
     "name": "stderr",
     "output_type": "stream",
     "text": [
      "The attention mask and the pad token id were not set. As a consequence, you may observe unexpected behavior. Please pass your input's `attention_mask` to obtain reliable results.\n",
      "Setting `pad_token_id` to `eos_token_id`:128001 for open-end generation.\n"
     ]
    },
    {
     "name": "stdout",
     "output_type": "stream",
     "text": [
      "Found emotion: sadness\n",
      "Index: 25\n",
      "Predicted:  sadness\n",
      "True :  neutral\n",
      "Incorrect\n",
      "------------------------------------\n",
      "Iter 178\n",
      "------------------------------------\n"
     ]
    },
    {
     "name": "stderr",
     "output_type": "stream",
     "text": [
      "The attention mask and the pad token id were not set. As a consequence, you may observe unexpected behavior. Please pass your input's `attention_mask` to obtain reliable results.\n",
      "Setting `pad_token_id` to `eos_token_id`:128001 for open-end generation.\n"
     ]
    },
    {
     "name": "stdout",
     "output_type": "stream",
     "text": [
      "Found emotion: sadness\n",
      "Index: 22\n",
      "Predicted:  sadness\n",
      "True :  joy\n",
      "Incorrect\n",
      "------------------------------------\n",
      "Iter 179\n",
      "------------------------------------\n"
     ]
    },
    {
     "name": "stderr",
     "output_type": "stream",
     "text": [
      "The attention mask and the pad token id were not set. As a consequence, you may observe unexpected behavior. Please pass your input's `attention_mask` to obtain reliable results.\n",
      "Setting `pad_token_id` to `eos_token_id`:128001 for open-end generation.\n"
     ]
    },
    {
     "name": "stdout",
     "output_type": "stream",
     "text": [
      "Found emotion: surprise\n",
      "Index: 22\n",
      "Predicted:  surprise\n",
      "True :  surprise\n",
      "Correct\n",
      "------------------------------------\n",
      "Iter 180\n",
      "------------------------------------\n"
     ]
    },
    {
     "name": "stderr",
     "output_type": "stream",
     "text": [
      "The attention mask and the pad token id were not set. As a consequence, you may observe unexpected behavior. Please pass your input's `attention_mask` to obtain reliable results.\n",
      "Setting `pad_token_id` to `eos_token_id`:128001 for open-end generation.\n"
     ]
    },
    {
     "name": "stdout",
     "output_type": "stream",
     "text": [
      "Found emotion: fear\n",
      "Index: 24\n",
      "Predicted:  fear\n",
      "True :  surprise\n",
      "Incorrect\n",
      "------------------------------------\n",
      "Iter 181\n",
      "------------------------------------\n"
     ]
    },
    {
     "name": "stderr",
     "output_type": "stream",
     "text": [
      "The attention mask and the pad token id were not set. As a consequence, you may observe unexpected behavior. Please pass your input's `attention_mask` to obtain reliable results.\n",
      "Setting `pad_token_id` to `eos_token_id`:128001 for open-end generation.\n"
     ]
    },
    {
     "name": "stdout",
     "output_type": "stream",
     "text": [
      "Found emotion: joy\n",
      "Index: 24\n",
      "Predicted:  joy\n",
      "True :  joy\n",
      "Correct\n",
      "------------------------------------\n",
      "Iter 182\n",
      "------------------------------------\n"
     ]
    },
    {
     "name": "stderr",
     "output_type": "stream",
     "text": [
      "The attention mask and the pad token id were not set. As a consequence, you may observe unexpected behavior. Please pass your input's `attention_mask` to obtain reliable results.\n",
      "Setting `pad_token_id` to `eos_token_id`:128001 for open-end generation.\n"
     ]
    },
    {
     "name": "stdout",
     "output_type": "stream",
     "text": [
      "Found emotion: surprise\n",
      "Index: 18\n",
      "Predicted:  surprise\n",
      "True :  surprise\n",
      "Correct\n",
      "------------------------------------\n",
      "Iter 183\n",
      "------------------------------------\n"
     ]
    },
    {
     "name": "stderr",
     "output_type": "stream",
     "text": [
      "The attention mask and the pad token id were not set. As a consequence, you may observe unexpected behavior. Please pass your input's `attention_mask` to obtain reliable results.\n",
      "Setting `pad_token_id` to `eos_token_id`:128001 for open-end generation.\n"
     ]
    },
    {
     "name": "stdout",
     "output_type": "stream",
     "text": [
      "Found emotion: fear\n",
      "Index: 24\n",
      "Predicted:  fear\n",
      "True :  surprise\n",
      "Incorrect\n",
      "------------------------------------\n",
      "Iter 184\n",
      "------------------------------------\n"
     ]
    },
    {
     "name": "stderr",
     "output_type": "stream",
     "text": [
      "The attention mask and the pad token id were not set. As a consequence, you may observe unexpected behavior. Please pass your input's `attention_mask` to obtain reliable results.\n",
      "Setting `pad_token_id` to `eos_token_id`:128001 for open-end generation.\n"
     ]
    },
    {
     "name": "stdout",
     "output_type": "stream",
     "text": [
      "Found emotion: joy\n",
      "Index: 6\n",
      "Predicted:  joy\n",
      "True :  joy\n",
      "Correct\n",
      "------------------------------------\n",
      "Iter 185\n",
      "------------------------------------\n"
     ]
    },
    {
     "name": "stderr",
     "output_type": "stream",
     "text": [
      "The attention mask and the pad token id were not set. As a consequence, you may observe unexpected behavior. Please pass your input's `attention_mask` to obtain reliable results.\n",
      "Setting `pad_token_id` to `eos_token_id`:128001 for open-end generation.\n"
     ]
    },
    {
     "name": "stdout",
     "output_type": "stream",
     "text": [
      "Found emotion: surprise\n",
      "Index: 22\n",
      "Predicted:  surprise\n",
      "True :  joy\n",
      "Incorrect\n",
      "------------------------------------\n",
      "Iter 186\n",
      "------------------------------------\n"
     ]
    },
    {
     "name": "stderr",
     "output_type": "stream",
     "text": [
      "The attention mask and the pad token id were not set. As a consequence, you may observe unexpected behavior. Please pass your input's `attention_mask` to obtain reliable results.\n",
      "Setting `pad_token_id` to `eos_token_id`:128001 for open-end generation.\n"
     ]
    },
    {
     "name": "stdout",
     "output_type": "stream",
     "text": [
      "Found emotion: neutral\n",
      "Index: 6\n",
      "Predicted:  neutral\n",
      "True :  sadness\n",
      "Incorrect\n",
      "------------------------------------\n",
      "Iter 187\n",
      "------------------------------------\n"
     ]
    },
    {
     "name": "stderr",
     "output_type": "stream",
     "text": [
      "The attention mask and the pad token id were not set. As a consequence, you may observe unexpected behavior. Please pass your input's `attention_mask` to obtain reliable results.\n",
      "Setting `pad_token_id` to `eos_token_id`:128001 for open-end generation.\n"
     ]
    },
    {
     "name": "stdout",
     "output_type": "stream",
     "text": [
      "Found emotion: joy\n",
      "Index: 18\n",
      "Predicted:  joy\n",
      "True :  neutral\n",
      "Incorrect\n",
      "------------------------------------\n",
      "Iter 188\n",
      "------------------------------------\n"
     ]
    },
    {
     "name": "stderr",
     "output_type": "stream",
     "text": [
      "The attention mask and the pad token id were not set. As a consequence, you may observe unexpected behavior. Please pass your input's `attention_mask` to obtain reliable results.\n",
      "Setting `pad_token_id` to `eos_token_id`:128001 for open-end generation.\n"
     ]
    },
    {
     "name": "stdout",
     "output_type": "stream",
     "text": [
      "Found emotion: joy\n",
      "Index: 18\n",
      "Predicted:  joy\n",
      "True :  neutral\n",
      "Incorrect\n",
      "------------------------------------\n",
      "Iter 189\n",
      "------------------------------------\n"
     ]
    },
    {
     "name": "stderr",
     "output_type": "stream",
     "text": [
      "The attention mask and the pad token id were not set. As a consequence, you may observe unexpected behavior. Please pass your input's `attention_mask` to obtain reliable results.\n",
      "Setting `pad_token_id` to `eos_token_id`:128001 for open-end generation.\n"
     ]
    },
    {
     "name": "stdout",
     "output_type": "stream",
     "text": [
      "Found emotion: neutral\n",
      "Index: 18\n",
      "Predicted:  neutral\n",
      "True :  neutral\n",
      "Correct\n",
      "------------------------------------\n",
      "Iter 190\n",
      "------------------------------------\n"
     ]
    },
    {
     "name": "stderr",
     "output_type": "stream",
     "text": [
      "The attention mask and the pad token id were not set. As a consequence, you may observe unexpected behavior. Please pass your input's `attention_mask` to obtain reliable results.\n",
      "Setting `pad_token_id` to `eos_token_id`:128001 for open-end generation.\n"
     ]
    },
    {
     "name": "stdout",
     "output_type": "stream",
     "text": [
      "Found emotion: anger\n",
      "Index: 24\n",
      "Predicted:  anger\n",
      "True :  sadness\n",
      "Incorrect\n",
      "------------------------------------\n",
      "Iter 191\n",
      "------------------------------------\n"
     ]
    },
    {
     "name": "stderr",
     "output_type": "stream",
     "text": [
      "The attention mask and the pad token id were not set. As a consequence, you may observe unexpected behavior. Please pass your input's `attention_mask` to obtain reliable results.\n",
      "Setting `pad_token_id` to `eos_token_id`:128001 for open-end generation.\n"
     ]
    },
    {
     "name": "stdout",
     "output_type": "stream",
     "text": [
      "Found emotion: surprise\n",
      "Index: 18\n",
      "Predicted:  surprise\n",
      "True :  surprise\n",
      "Correct\n",
      "------------------------------------\n",
      "Iter 192\n",
      "------------------------------------\n"
     ]
    },
    {
     "name": "stderr",
     "output_type": "stream",
     "text": [
      "The attention mask and the pad token id were not set. As a consequence, you may observe unexpected behavior. Please pass your input's `attention_mask` to obtain reliable results.\n",
      "Setting `pad_token_id` to `eos_token_id`:128001 for open-end generation.\n"
     ]
    },
    {
     "name": "stdout",
     "output_type": "stream",
     "text": [
      "Found emotion: joy\n",
      "Index: 22\n",
      "Predicted:  joy\n",
      "True :  neutral\n",
      "Incorrect\n",
      "------------------------------------\n",
      "Iter 193\n",
      "------------------------------------\n"
     ]
    },
    {
     "name": "stderr",
     "output_type": "stream",
     "text": [
      "The attention mask and the pad token id were not set. As a consequence, you may observe unexpected behavior. Please pass your input's `attention_mask` to obtain reliable results.\n",
      "Setting `pad_token_id` to `eos_token_id`:128001 for open-end generation.\n"
     ]
    },
    {
     "name": "stdout",
     "output_type": "stream",
     "text": [
      "Found emotion: neutral\n",
      "Index: 22\n",
      "Predicted:  neutral\n",
      "True :  neutral\n",
      "Correct\n",
      "------------------------------------\n",
      "Iter 194\n",
      "------------------------------------\n"
     ]
    },
    {
     "name": "stderr",
     "output_type": "stream",
     "text": [
      "The attention mask and the pad token id were not set. As a consequence, you may observe unexpected behavior. Please pass your input's `attention_mask` to obtain reliable results.\n",
      "Setting `pad_token_id` to `eos_token_id`:128001 for open-end generation.\n"
     ]
    },
    {
     "name": "stdout",
     "output_type": "stream",
     "text": [
      "Found emotion: joy\n",
      "Index: 24\n",
      "Predicted:  joy\n",
      "True :  joy\n",
      "Correct\n",
      "------------------------------------\n",
      "Iter 195\n",
      "------------------------------------\n"
     ]
    },
    {
     "name": "stderr",
     "output_type": "stream",
     "text": [
      "The attention mask and the pad token id were not set. As a consequence, you may observe unexpected behavior. Please pass your input's `attention_mask` to obtain reliable results.\n",
      "Setting `pad_token_id` to `eos_token_id`:128001 for open-end generation.\n"
     ]
    },
    {
     "name": "stdout",
     "output_type": "stream",
     "text": [
      "Found emotion: neutral\n",
      "Index: 24\n",
      "Predicted:  neutral\n",
      "True :  joy\n",
      "Incorrect\n",
      "------------------------------------\n",
      "Iter 196\n",
      "------------------------------------\n"
     ]
    },
    {
     "name": "stderr",
     "output_type": "stream",
     "text": [
      "The attention mask and the pad token id were not set. As a consequence, you may observe unexpected behavior. Please pass your input's `attention_mask` to obtain reliable results.\n",
      "Setting `pad_token_id` to `eos_token_id`:128001 for open-end generation.\n"
     ]
    },
    {
     "name": "stdout",
     "output_type": "stream",
     "text": [
      "Found emotion: neutral\n",
      "Index: 24\n",
      "Predicted:  neutral\n",
      "True :  neutral\n",
      "Correct\n",
      "------------------------------------\n",
      "Iter 197\n",
      "------------------------------------\n"
     ]
    },
    {
     "name": "stderr",
     "output_type": "stream",
     "text": [
      "The attention mask and the pad token id were not set. As a consequence, you may observe unexpected behavior. Please pass your input's `attention_mask` to obtain reliable results.\n",
      "Setting `pad_token_id` to `eos_token_id`:128001 for open-end generation.\n"
     ]
    },
    {
     "name": "stdout",
     "output_type": "stream",
     "text": [
      "Found emotion: sadness\n",
      "Index: 24\n",
      "Predicted:  sadness\n",
      "True :  neutral\n",
      "Incorrect\n",
      "------------------------------------\n",
      "Iter 198\n",
      "------------------------------------\n"
     ]
    },
    {
     "name": "stderr",
     "output_type": "stream",
     "text": [
      "The attention mask and the pad token id were not set. As a consequence, you may observe unexpected behavior. Please pass your input's `attention_mask` to obtain reliable results.\n",
      "Setting `pad_token_id` to `eos_token_id`:128001 for open-end generation.\n"
     ]
    },
    {
     "name": "stdout",
     "output_type": "stream",
     "text": [
      "Found emotion: surprise\n",
      "Index: 22\n",
      "Predicted:  surprise\n",
      "True :  neutral\n",
      "Incorrect\n",
      "------------------------------------\n",
      "Iter 199\n",
      "------------------------------------\n"
     ]
    },
    {
     "name": "stderr",
     "output_type": "stream",
     "text": [
      "The attention mask and the pad token id were not set. As a consequence, you may observe unexpected behavior. Please pass your input's `attention_mask` to obtain reliable results.\n",
      "Setting `pad_token_id` to `eos_token_id`:128001 for open-end generation.\n"
     ]
    },
    {
     "name": "stdout",
     "output_type": "stream",
     "text": [
      "Found emotion: surprise\n",
      "Index: 22\n",
      "Predicted:  surprise\n",
      "True :  neutral\n",
      "Incorrect\n",
      "------------------------------------\n",
      "Iter 200\n",
      "------------------------------------\n"
     ]
    },
    {
     "name": "stderr",
     "output_type": "stream",
     "text": [
      "The attention mask and the pad token id were not set. As a consequence, you may observe unexpected behavior. Please pass your input's `attention_mask` to obtain reliable results.\n",
      "Setting `pad_token_id` to `eos_token_id`:128001 for open-end generation.\n"
     ]
    },
    {
     "name": "stdout",
     "output_type": "stream",
     "text": [
      "Found emotion: surprise\n",
      "Index: 24\n",
      "Predicted:  surprise\n",
      "True :  surprise\n",
      "Correct\n",
      "------------------------------------\n",
      "Iter 201\n",
      "------------------------------------\n"
     ]
    },
    {
     "name": "stderr",
     "output_type": "stream",
     "text": [
      "The attention mask and the pad token id were not set. As a consequence, you may observe unexpected behavior. Please pass your input's `attention_mask` to obtain reliable results.\n",
      "Setting `pad_token_id` to `eos_token_id`:128001 for open-end generation.\n"
     ]
    },
    {
     "name": "stdout",
     "output_type": "stream",
     "text": [
      "Found emotion: surprise\n",
      "Index: 25\n",
      "Predicted:  surprise\n",
      "True :  neutral\n",
      "Incorrect\n",
      "------------------------------------\n",
      "Iter 202\n",
      "------------------------------------\n"
     ]
    },
    {
     "name": "stderr",
     "output_type": "stream",
     "text": [
      "The attention mask and the pad token id were not set. As a consequence, you may observe unexpected behavior. Please pass your input's `attention_mask` to obtain reliable results.\n",
      "Setting `pad_token_id` to `eos_token_id`:128001 for open-end generation.\n"
     ]
    },
    {
     "name": "stdout",
     "output_type": "stream",
     "text": [
      "Found emotion: surprise\n",
      "Index: 25\n",
      "Predicted:  surprise\n",
      "True :  joy\n",
      "Incorrect\n",
      "------------------------------------\n",
      "Iter 203\n",
      "------------------------------------\n"
     ]
    },
    {
     "name": "stderr",
     "output_type": "stream",
     "text": [
      "The attention mask and the pad token id were not set. As a consequence, you may observe unexpected behavior. Please pass your input's `attention_mask` to obtain reliable results.\n",
      "Setting `pad_token_id` to `eos_token_id`:128001 for open-end generation.\n"
     ]
    },
    {
     "name": "stdout",
     "output_type": "stream",
     "text": [
      "Found emotion: sadness\n",
      "Index: 23\n",
      "Predicted:  sadness\n",
      "True :  neutral\n",
      "Incorrect\n",
      "------------------------------------\n",
      "Iter 204\n",
      "------------------------------------\n"
     ]
    },
    {
     "name": "stderr",
     "output_type": "stream",
     "text": [
      "The attention mask and the pad token id were not set. As a consequence, you may observe unexpected behavior. Please pass your input's `attention_mask` to obtain reliable results.\n",
      "Setting `pad_token_id` to `eos_token_id`:128001 for open-end generation.\n"
     ]
    },
    {
     "name": "stdout",
     "output_type": "stream",
     "text": [
      "Found emotion: surprise\n",
      "Index: 25\n",
      "Predicted:  surprise\n",
      "True :  fear\n",
      "Incorrect\n",
      "------------------------------------\n",
      "Iter 205\n",
      "------------------------------------\n"
     ]
    },
    {
     "name": "stderr",
     "output_type": "stream",
     "text": [
      "The attention mask and the pad token id were not set. As a consequence, you may observe unexpected behavior. Please pass your input's `attention_mask` to obtain reliable results.\n",
      "Setting `pad_token_id` to `eos_token_id`:128001 for open-end generation.\n"
     ]
    },
    {
     "name": "stdout",
     "output_type": "stream",
     "text": [
      "Found emotion: neutral\n",
      "Index: 25\n",
      "Predicted:  neutral\n",
      "True :  sadness\n",
      "Incorrect\n",
      "------------------------------------\n",
      "Iter 206\n",
      "------------------------------------\n"
     ]
    },
    {
     "name": "stderr",
     "output_type": "stream",
     "text": [
      "The attention mask and the pad token id were not set. As a consequence, you may observe unexpected behavior. Please pass your input's `attention_mask` to obtain reliable results.\n",
      "Setting `pad_token_id` to `eos_token_id`:128001 for open-end generation.\n"
     ]
    },
    {
     "name": "stdout",
     "output_type": "stream",
     "text": [
      "Found emotion: neutral\n",
      "Index: 17\n",
      "Predicted:  neutral\n",
      "True :  neutral\n",
      "Correct\n",
      "------------------------------------\n",
      "Iter 207\n",
      "------------------------------------\n"
     ]
    },
    {
     "name": "stderr",
     "output_type": "stream",
     "text": [
      "The attention mask and the pad token id were not set. As a consequence, you may observe unexpected behavior. Please pass your input's `attention_mask` to obtain reliable results.\n",
      "Setting `pad_token_id` to `eos_token_id`:128001 for open-end generation.\n"
     ]
    },
    {
     "name": "stdout",
     "output_type": "stream",
     "text": [
      "Found emotion: fear\n",
      "Index: 6\n",
      "Predicted:  fear\n",
      "True :  joy\n",
      "Incorrect\n",
      "------------------------------------\n",
      "Iter 208\n",
      "------------------------------------\n"
     ]
    },
    {
     "name": "stderr",
     "output_type": "stream",
     "text": [
      "The attention mask and the pad token id were not set. As a consequence, you may observe unexpected behavior. Please pass your input's `attention_mask` to obtain reliable results.\n",
      "Setting `pad_token_id` to `eos_token_id`:128001 for open-end generation.\n"
     ]
    },
    {
     "name": "stdout",
     "output_type": "stream",
     "text": [
      "Found emotion: sadness\n",
      "Index: 22\n",
      "Predicted:  sadness\n",
      "True :  sadness\n",
      "Correct\n",
      "------------------------------------\n",
      "Iter 209\n",
      "------------------------------------\n"
     ]
    },
    {
     "name": "stderr",
     "output_type": "stream",
     "text": [
      "The attention mask and the pad token id were not set. As a consequence, you may observe unexpected behavior. Please pass your input's `attention_mask` to obtain reliable results.\n",
      "Setting `pad_token_id` to `eos_token_id`:128001 for open-end generation.\n"
     ]
    },
    {
     "name": "stdout",
     "output_type": "stream",
     "text": [
      "Found emotion: anger\n",
      "Index: 22\n",
      "Predicted:  anger\n",
      "True :  neutral\n",
      "Incorrect\n",
      "------------------------------------\n",
      "Iter 210\n",
      "------------------------------------\n"
     ]
    },
    {
     "name": "stderr",
     "output_type": "stream",
     "text": [
      "The attention mask and the pad token id were not set. As a consequence, you may observe unexpected behavior. Please pass your input's `attention_mask` to obtain reliable results.\n",
      "Setting `pad_token_id` to `eos_token_id`:128001 for open-end generation.\n"
     ]
    },
    {
     "name": "stdout",
     "output_type": "stream",
     "text": [
      "Found emotion: surprise\n",
      "Index: 24\n",
      "Predicted:  surprise\n",
      "True :  surprise\n",
      "Correct\n",
      "------------------------------------\n",
      "Iter 211\n",
      "------------------------------------\n"
     ]
    },
    {
     "name": "stderr",
     "output_type": "stream",
     "text": [
      "The attention mask and the pad token id were not set. As a consequence, you may observe unexpected behavior. Please pass your input's `attention_mask` to obtain reliable results.\n",
      "Setting `pad_token_id` to `eos_token_id`:128001 for open-end generation.\n"
     ]
    },
    {
     "name": "stdout",
     "output_type": "stream",
     "text": [
      "Found emotion: surprise\n",
      "Index: 22\n",
      "Predicted:  surprise\n",
      "True :  surprise\n",
      "Correct\n",
      "------------------------------------\n",
      "Iter 212\n",
      "------------------------------------\n"
     ]
    },
    {
     "name": "stderr",
     "output_type": "stream",
     "text": [
      "The attention mask and the pad token id were not set. As a consequence, you may observe unexpected behavior. Please pass your input's `attention_mask` to obtain reliable results.\n",
      "Setting `pad_token_id` to `eos_token_id`:128001 for open-end generation.\n"
     ]
    },
    {
     "name": "stdout",
     "output_type": "stream",
     "text": [
      "Found emotion: disgust\n",
      "Index: 24\n",
      "Predicted:  disgust\n",
      "True :  neutral\n",
      "Incorrect\n",
      "------------------------------------\n",
      "Iter 213\n",
      "------------------------------------\n"
     ]
    },
    {
     "name": "stderr",
     "output_type": "stream",
     "text": [
      "The attention mask and the pad token id were not set. As a consequence, you may observe unexpected behavior. Please pass your input's `attention_mask` to obtain reliable results.\n",
      "Setting `pad_token_id` to `eos_token_id`:128001 for open-end generation.\n"
     ]
    },
    {
     "name": "stdout",
     "output_type": "stream",
     "text": [
      "Found emotion: neutral\n",
      "Index: 22\n",
      "Predicted:  neutral\n",
      "True :  neutral\n",
      "Correct\n",
      "------------------------------------\n",
      "Iter 214\n",
      "------------------------------------\n"
     ]
    },
    {
     "name": "stderr",
     "output_type": "stream",
     "text": [
      "The attention mask and the pad token id were not set. As a consequence, you may observe unexpected behavior. Please pass your input's `attention_mask` to obtain reliable results.\n",
      "Setting `pad_token_id` to `eos_token_id`:128001 for open-end generation.\n"
     ]
    },
    {
     "name": "stdout",
     "output_type": "stream",
     "text": [
      "Found emotion: sadness\n",
      "Index: 22\n",
      "Predicted:  sadness\n",
      "True :  neutral\n",
      "Incorrect\n",
      "------------------------------------\n",
      "Iter 215\n",
      "------------------------------------\n"
     ]
    },
    {
     "name": "stderr",
     "output_type": "stream",
     "text": [
      "The attention mask and the pad token id were not set. As a consequence, you may observe unexpected behavior. Please pass your input's `attention_mask` to obtain reliable results.\n",
      "Setting `pad_token_id` to `eos_token_id`:128001 for open-end generation.\n"
     ]
    },
    {
     "name": "stdout",
     "output_type": "stream",
     "text": [
      "Found emotion: surprise\n",
      "Index: 22\n",
      "Predicted:  surprise\n",
      "True :  surprise\n",
      "Correct\n",
      "------------------------------------\n",
      "Iter 216\n",
      "------------------------------------\n"
     ]
    },
    {
     "name": "stderr",
     "output_type": "stream",
     "text": [
      "The attention mask and the pad token id were not set. As a consequence, you may observe unexpected behavior. Please pass your input's `attention_mask` to obtain reliable results.\n",
      "Setting `pad_token_id` to `eos_token_id`:128001 for open-end generation.\n"
     ]
    },
    {
     "name": "stdout",
     "output_type": "stream",
     "text": [
      "Found emotion: sadness\n",
      "Index: 6\n",
      "Predicted:  sadness\n",
      "True :  neutral\n",
      "Incorrect\n",
      "------------------------------------\n",
      "Iter 217\n",
      "------------------------------------\n"
     ]
    },
    {
     "name": "stderr",
     "output_type": "stream",
     "text": [
      "The attention mask and the pad token id were not set. As a consequence, you may observe unexpected behavior. Please pass your input's `attention_mask` to obtain reliable results.\n",
      "Setting `pad_token_id` to `eos_token_id`:128001 for open-end generation.\n"
     ]
    },
    {
     "name": "stdout",
     "output_type": "stream",
     "text": [
      "Found emotion: sadness\n",
      "Index: 25\n",
      "Predicted:  sadness\n",
      "True :  neutral\n",
      "Incorrect\n",
      "------------------------------------\n",
      "Iter 218\n",
      "------------------------------------\n"
     ]
    },
    {
     "name": "stderr",
     "output_type": "stream",
     "text": [
      "The attention mask and the pad token id were not set. As a consequence, you may observe unexpected behavior. Please pass your input's `attention_mask` to obtain reliable results.\n",
      "Setting `pad_token_id` to `eos_token_id`:128001 for open-end generation.\n"
     ]
    },
    {
     "name": "stdout",
     "output_type": "stream",
     "text": [
      "Found emotion: neutral\n",
      "Index: 25\n",
      "Predicted:  neutral\n",
      "True :  neutral\n",
      "Correct\n",
      "------------------------------------\n",
      "Iter 219\n",
      "------------------------------------\n"
     ]
    },
    {
     "name": "stderr",
     "output_type": "stream",
     "text": [
      "The attention mask and the pad token id were not set. As a consequence, you may observe unexpected behavior. Please pass your input's `attention_mask` to obtain reliable results.\n",
      "Setting `pad_token_id` to `eos_token_id`:128001 for open-end generation.\n"
     ]
    },
    {
     "name": "stdout",
     "output_type": "stream",
     "text": [
      "Found emotion: sadness\n",
      "Index: 23\n",
      "Predicted:  sadness\n",
      "True :  neutral\n",
      "Incorrect\n",
      "------------------------------------\n",
      "Iter 220\n",
      "------------------------------------\n"
     ]
    },
    {
     "name": "stderr",
     "output_type": "stream",
     "text": [
      "The attention mask and the pad token id were not set. As a consequence, you may observe unexpected behavior. Please pass your input's `attention_mask` to obtain reliable results.\n",
      "Setting `pad_token_id` to `eos_token_id`:128001 for open-end generation.\n"
     ]
    },
    {
     "name": "stdout",
     "output_type": "stream",
     "text": [
      "Found emotion: neutral\n",
      "Index: 25\n",
      "Predicted:  neutral\n",
      "True :  neutral\n",
      "Correct\n",
      "------------------------------------\n",
      "Iter 221\n",
      "------------------------------------\n"
     ]
    },
    {
     "name": "stderr",
     "output_type": "stream",
     "text": [
      "The attention mask and the pad token id were not set. As a consequence, you may observe unexpected behavior. Please pass your input's `attention_mask` to obtain reliable results.\n",
      "Setting `pad_token_id` to `eos_token_id`:128001 for open-end generation.\n"
     ]
    },
    {
     "name": "stdout",
     "output_type": "stream",
     "text": [
      "Found emotion: disgust\n",
      "Index: 23\n",
      "Predicted:  disgust\n",
      "True :  neutral\n",
      "Incorrect\n",
      "------------------------------------\n",
      "Iter 222\n",
      "------------------------------------\n"
     ]
    },
    {
     "name": "stderr",
     "output_type": "stream",
     "text": [
      "The attention mask and the pad token id were not set. As a consequence, you may observe unexpected behavior. Please pass your input's `attention_mask` to obtain reliable results.\n",
      "Setting `pad_token_id` to `eos_token_id`:128001 for open-end generation.\n"
     ]
    },
    {
     "name": "stdout",
     "output_type": "stream",
     "text": [
      "Found emotion: anger\n",
      "Index: 25\n",
      "Predicted:  anger\n",
      "True :  disgust\n",
      "Incorrect\n",
      "------------------------------------\n",
      "Iter 223\n",
      "------------------------------------\n"
     ]
    },
    {
     "name": "stderr",
     "output_type": "stream",
     "text": [
      "The attention mask and the pad token id were not set. As a consequence, you may observe unexpected behavior. Please pass your input's `attention_mask` to obtain reliable results.\n",
      "Setting `pad_token_id` to `eos_token_id`:128001 for open-end generation.\n"
     ]
    },
    {
     "name": "stdout",
     "output_type": "stream",
     "text": [
      "Found emotion: sadness\n",
      "Index: 25\n",
      "Predicted:  sadness\n",
      "True :  neutral\n",
      "Incorrect\n",
      "------------------------------------\n",
      "Iter 224\n",
      "------------------------------------\n"
     ]
    },
    {
     "name": "stderr",
     "output_type": "stream",
     "text": [
      "The attention mask and the pad token id were not set. As a consequence, you may observe unexpected behavior. Please pass your input's `attention_mask` to obtain reliable results.\n",
      "Setting `pad_token_id` to `eos_token_id`:128001 for open-end generation.\n"
     ]
    },
    {
     "name": "stdout",
     "output_type": "stream",
     "text": [
      "Found emotion: sadness\n",
      "Index: 25\n",
      "Predicted:  sadness\n",
      "True :  disgust\n",
      "Incorrect\n",
      "------------------------------------\n",
      "Iter 225\n",
      "------------------------------------\n"
     ]
    },
    {
     "name": "stderr",
     "output_type": "stream",
     "text": [
      "The attention mask and the pad token id were not set. As a consequence, you may observe unexpected behavior. Please pass your input's `attention_mask` to obtain reliable results.\n",
      "Setting `pad_token_id` to `eos_token_id`:128001 for open-end generation.\n"
     ]
    },
    {
     "name": "stdout",
     "output_type": "stream",
     "text": [
      "Found emotion: anger\n",
      "Index: 23\n",
      "Predicted:  anger\n",
      "True :  surprise\n",
      "Incorrect\n",
      "------------------------------------\n",
      "Iter 226\n",
      "------------------------------------\n"
     ]
    },
    {
     "name": "stderr",
     "output_type": "stream",
     "text": [
      "The attention mask and the pad token id were not set. As a consequence, you may observe unexpected behavior. Please pass your input's `attention_mask` to obtain reliable results.\n",
      "Setting `pad_token_id` to `eos_token_id`:128001 for open-end generation.\n"
     ]
    },
    {
     "name": "stdout",
     "output_type": "stream",
     "text": [
      "Found emotion: anger\n",
      "Index: 22\n",
      "Predicted:  anger\n",
      "True :  anger\n",
      "Correct\n",
      "------------------------------------\n",
      "Iter 227\n",
      "------------------------------------\n"
     ]
    },
    {
     "name": "stderr",
     "output_type": "stream",
     "text": [
      "The attention mask and the pad token id were not set. As a consequence, you may observe unexpected behavior. Please pass your input's `attention_mask` to obtain reliable results.\n",
      "Setting `pad_token_id` to `eos_token_id`:128001 for open-end generation.\n"
     ]
    },
    {
     "name": "stdout",
     "output_type": "stream",
     "text": [
      "Found emotion: surprise\n",
      "Index: 22\n",
      "Predicted:  surprise\n",
      "True :  neutral\n",
      "Incorrect\n",
      "------------------------------------\n",
      "Iter 228\n",
      "------------------------------------\n"
     ]
    },
    {
     "name": "stderr",
     "output_type": "stream",
     "text": [
      "The attention mask and the pad token id were not set. As a consequence, you may observe unexpected behavior. Please pass your input's `attention_mask` to obtain reliable results.\n",
      "Setting `pad_token_id` to `eos_token_id`:128001 for open-end generation.\n"
     ]
    },
    {
     "name": "stdout",
     "output_type": "stream",
     "text": [
      "No emotion found.\n",
      "Predicted:  \n",
      "True :  neutral\n",
      "Incorrect\n",
      "------------------------------------\n",
      "Iter 229\n",
      "------------------------------------\n"
     ]
    },
    {
     "name": "stderr",
     "output_type": "stream",
     "text": [
      "The attention mask and the pad token id were not set. As a consequence, you may observe unexpected behavior. Please pass your input's `attention_mask` to obtain reliable results.\n",
      "Setting `pad_token_id` to `eos_token_id`:128001 for open-end generation.\n"
     ]
    },
    {
     "name": "stdout",
     "output_type": "stream",
     "text": [
      "Found emotion: neutral\n",
      "Index: 22\n",
      "Predicted:  neutral\n",
      "True :  neutral\n",
      "Correct\n",
      "------------------------------------\n",
      "Iter 230\n",
      "------------------------------------\n"
     ]
    },
    {
     "name": "stderr",
     "output_type": "stream",
     "text": [
      "The attention mask and the pad token id were not set. As a consequence, you may observe unexpected behavior. Please pass your input's `attention_mask` to obtain reliable results.\n",
      "Setting `pad_token_id` to `eos_token_id`:128001 for open-end generation.\n"
     ]
    },
    {
     "name": "stdout",
     "output_type": "stream",
     "text": [
      "Found emotion: neutral\n",
      "Index: 24\n",
      "Predicted:  neutral\n",
      "True :  joy\n",
      "Incorrect\n",
      "------------------------------------\n",
      "Iter 231\n",
      "------------------------------------\n"
     ]
    },
    {
     "name": "stderr",
     "output_type": "stream",
     "text": [
      "The attention mask and the pad token id were not set. As a consequence, you may observe unexpected behavior. Please pass your input's `attention_mask` to obtain reliable results.\n",
      "Setting `pad_token_id` to `eos_token_id`:128001 for open-end generation.\n"
     ]
    },
    {
     "name": "stdout",
     "output_type": "stream",
     "text": [
      "Found emotion: neutral\n",
      "Index: 24\n",
      "Predicted:  neutral\n",
      "True :  neutral\n",
      "Correct\n",
      "------------------------------------\n",
      "Iter 232\n",
      "------------------------------------\n"
     ]
    },
    {
     "name": "stderr",
     "output_type": "stream",
     "text": [
      "The attention mask and the pad token id were not set. As a consequence, you may observe unexpected behavior. Please pass your input's `attention_mask` to obtain reliable results.\n",
      "Setting `pad_token_id` to `eos_token_id`:128001 for open-end generation.\n"
     ]
    },
    {
     "name": "stdout",
     "output_type": "stream",
     "text": [
      "Found emotion: joy\n",
      "Index: 24\n",
      "Predicted:  joy\n",
      "True :  neutral\n",
      "Incorrect\n",
      "------------------------------------\n",
      "Iter 233\n",
      "------------------------------------\n"
     ]
    },
    {
     "name": "stderr",
     "output_type": "stream",
     "text": [
      "The attention mask and the pad token id were not set. As a consequence, you may observe unexpected behavior. Please pass your input's `attention_mask` to obtain reliable results.\n",
      "Setting `pad_token_id` to `eos_token_id`:128001 for open-end generation.\n"
     ]
    },
    {
     "name": "stdout",
     "output_type": "stream",
     "text": [
      "Found emotion: surprise\n",
      "Index: 22\n",
      "Predicted:  surprise\n",
      "True :  surprise\n",
      "Correct\n",
      "------------------------------------\n",
      "Iter 234\n",
      "------------------------------------\n"
     ]
    },
    {
     "name": "stderr",
     "output_type": "stream",
     "text": [
      "The attention mask and the pad token id were not set. As a consequence, you may observe unexpected behavior. Please pass your input's `attention_mask` to obtain reliable results.\n",
      "Setting `pad_token_id` to `eos_token_id`:128001 for open-end generation.\n"
     ]
    },
    {
     "name": "stdout",
     "output_type": "stream",
     "text": [
      "Found emotion: sadness\n",
      "Index: 24\n",
      "Predicted:  sadness\n",
      "True :  surprise\n",
      "Incorrect\n",
      "------------------------------------\n",
      "Iter 235\n",
      "------------------------------------\n"
     ]
    },
    {
     "name": "stderr",
     "output_type": "stream",
     "text": [
      "The attention mask and the pad token id were not set. As a consequence, you may observe unexpected behavior. Please pass your input's `attention_mask` to obtain reliable results.\n",
      "Setting `pad_token_id` to `eos_token_id`:128001 for open-end generation.\n"
     ]
    },
    {
     "name": "stdout",
     "output_type": "stream",
     "text": [
      "Found emotion: neutral\n",
      "Index: 25\n",
      "Predicted:  neutral\n",
      "True :  neutral\n",
      "Correct\n",
      "------------------------------------\n",
      "Iter 236\n",
      "------------------------------------\n"
     ]
    },
    {
     "name": "stderr",
     "output_type": "stream",
     "text": [
      "The attention mask and the pad token id were not set. As a consequence, you may observe unexpected behavior. Please pass your input's `attention_mask` to obtain reliable results.\n",
      "Setting `pad_token_id` to `eos_token_id`:128001 for open-end generation.\n"
     ]
    },
    {
     "name": "stdout",
     "output_type": "stream",
     "text": [
      "Found emotion: sadness\n",
      "Index: 25\n",
      "Predicted:  sadness\n",
      "True :  disgust\n",
      "Incorrect\n",
      "------------------------------------\n",
      "Iter 237\n",
      "------------------------------------\n"
     ]
    },
    {
     "name": "stderr",
     "output_type": "stream",
     "text": [
      "The attention mask and the pad token id were not set. As a consequence, you may observe unexpected behavior. Please pass your input's `attention_mask` to obtain reliable results.\n",
      "Setting `pad_token_id` to `eos_token_id`:128001 for open-end generation.\n"
     ]
    },
    {
     "name": "stdout",
     "output_type": "stream",
     "text": [
      "Found emotion: anger\n",
      "Index: 25\n",
      "Predicted:  anger\n",
      "True :  surprise\n",
      "Incorrect\n",
      "------------------------------------\n",
      "Iter 238\n",
      "------------------------------------\n"
     ]
    },
    {
     "name": "stderr",
     "output_type": "stream",
     "text": [
      "The attention mask and the pad token id were not set. As a consequence, you may observe unexpected behavior. Please pass your input's `attention_mask` to obtain reliable results.\n",
      "Setting `pad_token_id` to `eos_token_id`:128001 for open-end generation.\n"
     ]
    },
    {
     "name": "stdout",
     "output_type": "stream",
     "text": [
      "Found emotion: surprise\n",
      "Index: 25\n",
      "Predicted:  surprise\n",
      "True :  neutral\n",
      "Incorrect\n",
      "------------------------------------\n",
      "Iter 239\n",
      "------------------------------------\n"
     ]
    },
    {
     "name": "stderr",
     "output_type": "stream",
     "text": [
      "The attention mask and the pad token id were not set. As a consequence, you may observe unexpected behavior. Please pass your input's `attention_mask` to obtain reliable results.\n",
      "Setting `pad_token_id` to `eos_token_id`:128001 for open-end generation.\n"
     ]
    },
    {
     "name": "stdout",
     "output_type": "stream",
     "text": [
      "Found emotion: anger\n",
      "Index: 25\n",
      "Predicted:  anger\n",
      "True :  neutral\n",
      "Incorrect\n",
      "------------------------------------\n",
      "Iter 240\n",
      "------------------------------------\n"
     ]
    },
    {
     "name": "stderr",
     "output_type": "stream",
     "text": [
      "The attention mask and the pad token id were not set. As a consequence, you may observe unexpected behavior. Please pass your input's `attention_mask` to obtain reliable results.\n",
      "Setting `pad_token_id` to `eos_token_id`:128001 for open-end generation.\n"
     ]
    },
    {
     "name": "stdout",
     "output_type": "stream",
     "text": [
      "Found emotion: anger\n",
      "Index: 25\n",
      "Predicted:  anger\n",
      "True :  anger\n",
      "Correct\n",
      "------------------------------------\n",
      "Iter 241\n",
      "------------------------------------\n"
     ]
    },
    {
     "name": "stderr",
     "output_type": "stream",
     "text": [
      "The attention mask and the pad token id were not set. As a consequence, you may observe unexpected behavior. Please pass your input's `attention_mask` to obtain reliable results.\n",
      "Setting `pad_token_id` to `eos_token_id`:128001 for open-end generation.\n"
     ]
    },
    {
     "name": "stdout",
     "output_type": "stream",
     "text": [
      "Found emotion: sadness\n",
      "Index: 25\n",
      "Predicted:  sadness\n",
      "True :  surprise\n",
      "Incorrect\n",
      "------------------------------------\n",
      "Iter 242\n",
      "------------------------------------\n"
     ]
    },
    {
     "name": "stderr",
     "output_type": "stream",
     "text": [
      "The attention mask and the pad token id were not set. As a consequence, you may observe unexpected behavior. Please pass your input's `attention_mask` to obtain reliable results.\n",
      "Setting `pad_token_id` to `eos_token_id`:128001 for open-end generation.\n"
     ]
    },
    {
     "name": "stdout",
     "output_type": "stream",
     "text": [
      "Found emotion: surprise\n",
      "Index: 25\n",
      "Predicted:  surprise\n",
      "True :  surprise\n",
      "Correct\n",
      "------------------------------------\n",
      "Iter 243\n",
      "------------------------------------\n"
     ]
    },
    {
     "name": "stderr",
     "output_type": "stream",
     "text": [
      "The attention mask and the pad token id were not set. As a consequence, you may observe unexpected behavior. Please pass your input's `attention_mask` to obtain reliable results.\n",
      "Setting `pad_token_id` to `eos_token_id`:128001 for open-end generation.\n"
     ]
    },
    {
     "name": "stdout",
     "output_type": "stream",
     "text": [
      "Found emotion: joy\n",
      "Index: 22\n",
      "Predicted:  joy\n",
      "True :  neutral\n",
      "Incorrect\n",
      "------------------------------------\n",
      "Iter 244\n",
      "------------------------------------\n"
     ]
    },
    {
     "name": "stderr",
     "output_type": "stream",
     "text": [
      "The attention mask and the pad token id were not set. As a consequence, you may observe unexpected behavior. Please pass your input's `attention_mask` to obtain reliable results.\n",
      "Setting `pad_token_id` to `eos_token_id`:128001 for open-end generation.\n"
     ]
    },
    {
     "name": "stdout",
     "output_type": "stream",
     "text": [
      "Found emotion: anger\n",
      "Index: 22\n",
      "Predicted:  anger\n",
      "True :  sadness\n",
      "Incorrect\n",
      "------------------------------------\n",
      "Iter 245\n",
      "------------------------------------\n"
     ]
    },
    {
     "name": "stderr",
     "output_type": "stream",
     "text": [
      "The attention mask and the pad token id were not set. As a consequence, you may observe unexpected behavior. Please pass your input's `attention_mask` to obtain reliable results.\n",
      "Setting `pad_token_id` to `eos_token_id`:128001 for open-end generation.\n"
     ]
    },
    {
     "name": "stdout",
     "output_type": "stream",
     "text": [
      "Found emotion: surprise\n",
      "Index: 24\n",
      "Predicted:  surprise\n",
      "True :  surprise\n",
      "Correct\n",
      "------------------------------------\n",
      "Iter 246\n",
      "------------------------------------\n"
     ]
    },
    {
     "name": "stderr",
     "output_type": "stream",
     "text": [
      "The attention mask and the pad token id were not set. As a consequence, you may observe unexpected behavior. Please pass your input's `attention_mask` to obtain reliable results.\n",
      "Setting `pad_token_id` to `eos_token_id`:128001 for open-end generation.\n"
     ]
    },
    {
     "name": "stdout",
     "output_type": "stream",
     "text": [
      "Found emotion: joy\n",
      "Index: 22\n",
      "Predicted:  joy\n",
      "True :  neutral\n",
      "Incorrect\n",
      "------------------------------------\n",
      "Iter 247\n",
      "------------------------------------\n"
     ]
    },
    {
     "name": "stderr",
     "output_type": "stream",
     "text": [
      "The attention mask and the pad token id were not set. As a consequence, you may observe unexpected behavior. Please pass your input's `attention_mask` to obtain reliable results.\n",
      "Setting `pad_token_id` to `eos_token_id`:128001 for open-end generation.\n"
     ]
    },
    {
     "name": "stdout",
     "output_type": "stream",
     "text": [
      "Found emotion: disgust\n",
      "Index: 22\n",
      "Predicted:  disgust\n",
      "True :  anger\n",
      "Incorrect\n",
      "------------------------------------\n",
      "Iter 248\n",
      "------------------------------------\n"
     ]
    },
    {
     "name": "stderr",
     "output_type": "stream",
     "text": [
      "The attention mask and the pad token id were not set. As a consequence, you may observe unexpected behavior. Please pass your input's `attention_mask` to obtain reliable results.\n",
      "Setting `pad_token_id` to `eos_token_id`:128001 for open-end generation.\n"
     ]
    },
    {
     "name": "stdout",
     "output_type": "stream",
     "text": [
      "Found emotion: sadness\n",
      "Index: 22\n",
      "Predicted:  sadness\n",
      "True :  neutral\n",
      "Incorrect\n",
      "------------------------------------\n",
      "Iter 249\n",
      "------------------------------------\n"
     ]
    },
    {
     "name": "stderr",
     "output_type": "stream",
     "text": [
      "The attention mask and the pad token id were not set. As a consequence, you may observe unexpected behavior. Please pass your input's `attention_mask` to obtain reliable results.\n",
      "Setting `pad_token_id` to `eos_token_id`:128001 for open-end generation.\n"
     ]
    },
    {
     "name": "stdout",
     "output_type": "stream",
     "text": [
      "Found emotion: disgust\n",
      "Index: 22\n",
      "Predicted:  disgust\n",
      "True :  disgust\n",
      "Correct\n",
      "------------------------------------\n",
      "Iter 250\n",
      "------------------------------------\n"
     ]
    },
    {
     "name": "stderr",
     "output_type": "stream",
     "text": [
      "The attention mask and the pad token id were not set. As a consequence, you may observe unexpected behavior. Please pass your input's `attention_mask` to obtain reliable results.\n",
      "Setting `pad_token_id` to `eos_token_id`:128001 for open-end generation.\n"
     ]
    },
    {
     "name": "stdout",
     "output_type": "stream",
     "text": [
      "Found emotion: surprise\n",
      "Index: 24\n",
      "Predicted:  surprise\n",
      "True :  anger\n",
      "Incorrect\n",
      "------------------------------------\n",
      "Iter 251\n",
      "------------------------------------\n"
     ]
    },
    {
     "name": "stderr",
     "output_type": "stream",
     "text": [
      "The attention mask and the pad token id were not set. As a consequence, you may observe unexpected behavior. Please pass your input's `attention_mask` to obtain reliable results.\n",
      "Setting `pad_token_id` to `eos_token_id`:128001 for open-end generation.\n"
     ]
    },
    {
     "name": "stdout",
     "output_type": "stream",
     "text": [
      "Found emotion: neutral\n",
      "Index: 22\n",
      "Predicted:  neutral\n",
      "True :  neutral\n",
      "Correct\n",
      "------------------------------------\n",
      "Iter 252\n",
      "------------------------------------\n"
     ]
    },
    {
     "name": "stderr",
     "output_type": "stream",
     "text": [
      "The attention mask and the pad token id were not set. As a consequence, you may observe unexpected behavior. Please pass your input's `attention_mask` to obtain reliable results.\n",
      "Setting `pad_token_id` to `eos_token_id`:128001 for open-end generation.\n"
     ]
    },
    {
     "name": "stdout",
     "output_type": "stream",
     "text": [
      "Found emotion: surprise\n",
      "Index: 25\n",
      "Predicted:  surprise\n",
      "True :  disgust\n",
      "Incorrect\n",
      "------------------------------------\n",
      "Iter 253\n",
      "------------------------------------\n"
     ]
    },
    {
     "name": "stderr",
     "output_type": "stream",
     "text": [
      "The attention mask and the pad token id were not set. As a consequence, you may observe unexpected behavior. Please pass your input's `attention_mask` to obtain reliable results.\n",
      "Setting `pad_token_id` to `eos_token_id`:128001 for open-end generation.\n"
     ]
    },
    {
     "name": "stdout",
     "output_type": "stream",
     "text": [
      "Found emotion: sadness\n",
      "Index: 23\n",
      "Predicted:  sadness\n",
      "True :  sadness\n",
      "Correct\n",
      "------------------------------------\n",
      "Iter 254\n",
      "------------------------------------\n"
     ]
    },
    {
     "name": "stderr",
     "output_type": "stream",
     "text": [
      "The attention mask and the pad token id were not set. As a consequence, you may observe unexpected behavior. Please pass your input's `attention_mask` to obtain reliable results.\n",
      "Setting `pad_token_id` to `eos_token_id`:128001 for open-end generation.\n"
     ]
    },
    {
     "name": "stdout",
     "output_type": "stream",
     "text": [
      "Found emotion: anger\n",
      "Index: 23\n",
      "Predicted:  anger\n",
      "True :  anger\n",
      "Correct\n",
      "------------------------------------\n",
      "Iter 255\n",
      "------------------------------------\n"
     ]
    },
    {
     "name": "stderr",
     "output_type": "stream",
     "text": [
      "The attention mask and the pad token id were not set. As a consequence, you may observe unexpected behavior. Please pass your input's `attention_mask` to obtain reliable results.\n",
      "Setting `pad_token_id` to `eos_token_id`:128001 for open-end generation.\n"
     ]
    },
    {
     "name": "stdout",
     "output_type": "stream",
     "text": [
      "Found emotion: disgust\n",
      "Index: 25\n",
      "Predicted:  disgust\n",
      "True :  anger\n",
      "Incorrect\n",
      "------------------------------------\n",
      "Iter 256\n",
      "------------------------------------\n"
     ]
    },
    {
     "name": "stderr",
     "output_type": "stream",
     "text": [
      "The attention mask and the pad token id were not set. As a consequence, you may observe unexpected behavior. Please pass your input's `attention_mask` to obtain reliable results.\n",
      "Setting `pad_token_id` to `eos_token_id`:128001 for open-end generation.\n"
     ]
    },
    {
     "name": "stdout",
     "output_type": "stream",
     "text": [
      "Found emotion: joy\n",
      "Index: 23\n",
      "Predicted:  joy\n",
      "True :  neutral\n",
      "Incorrect\n",
      "------------------------------------\n",
      "Iter 257\n",
      "------------------------------------\n"
     ]
    },
    {
     "name": "stderr",
     "output_type": "stream",
     "text": [
      "The attention mask and the pad token id were not set. As a consequence, you may observe unexpected behavior. Please pass your input's `attention_mask` to obtain reliable results.\n",
      "Setting `pad_token_id` to `eos_token_id`:128001 for open-end generation.\n"
     ]
    },
    {
     "name": "stdout",
     "output_type": "stream",
     "text": [
      "Found emotion: sadness\n",
      "Index: 23\n",
      "Predicted:  sadness\n",
      "True :  sadness\n",
      "Correct\n",
      "------------------------------------\n",
      "Iter 258\n",
      "------------------------------------\n"
     ]
    },
    {
     "name": "stderr",
     "output_type": "stream",
     "text": [
      "The attention mask and the pad token id were not set. As a consequence, you may observe unexpected behavior. Please pass your input's `attention_mask` to obtain reliable results.\n",
      "Setting `pad_token_id` to `eos_token_id`:128001 for open-end generation.\n"
     ]
    },
    {
     "name": "stdout",
     "output_type": "stream",
     "text": [
      "Found emotion: surprise\n",
      "Index: 23\n",
      "Predicted:  surprise\n",
      "True :  neutral\n",
      "Incorrect\n",
      "------------------------------------\n",
      "Iter 259\n",
      "------------------------------------\n"
     ]
    },
    {
     "name": "stderr",
     "output_type": "stream",
     "text": [
      "The attention mask and the pad token id were not set. As a consequence, you may observe unexpected behavior. Please pass your input's `attention_mask` to obtain reliable results.\n",
      "Setting `pad_token_id` to `eos_token_id`:128001 for open-end generation.\n"
     ]
    },
    {
     "name": "stdout",
     "output_type": "stream",
     "text": [
      "Found emotion: anger\n",
      "Index: 25\n",
      "Predicted:  anger\n",
      "True :  neutral\n",
      "Incorrect\n",
      "------------------------------------\n",
      "Iter 260\n",
      "------------------------------------\n"
     ]
    },
    {
     "name": "stderr",
     "output_type": "stream",
     "text": [
      "The attention mask and the pad token id were not set. As a consequence, you may observe unexpected behavior. Please pass your input's `attention_mask` to obtain reliable results.\n",
      "Setting `pad_token_id` to `eos_token_id`:128001 for open-end generation.\n"
     ]
    },
    {
     "name": "stdout",
     "output_type": "stream",
     "text": [
      "Found emotion: disgust\n",
      "Index: 23\n",
      "Predicted:  disgust\n",
      "True :  anger\n",
      "Incorrect\n",
      "------------------------------------\n",
      "Iter 261\n",
      "------------------------------------\n"
     ]
    },
    {
     "name": "stderr",
     "output_type": "stream",
     "text": [
      "The attention mask and the pad token id were not set. As a consequence, you may observe unexpected behavior. Please pass your input's `attention_mask` to obtain reliable results.\n",
      "Setting `pad_token_id` to `eos_token_id`:128001 for open-end generation.\n"
     ]
    },
    {
     "name": "stdout",
     "output_type": "stream",
     "text": [
      "Found emotion: neutral\n",
      "Index: 25\n",
      "Predicted:  neutral\n",
      "True :  neutral\n",
      "Correct\n",
      "------------------------------------\n",
      "Iter 262\n",
      "------------------------------------\n"
     ]
    },
    {
     "name": "stderr",
     "output_type": "stream",
     "text": [
      "The attention mask and the pad token id were not set. As a consequence, you may observe unexpected behavior. Please pass your input's `attention_mask` to obtain reliable results.\n",
      "Setting `pad_token_id` to `eos_token_id`:128001 for open-end generation.\n"
     ]
    },
    {
     "name": "stdout",
     "output_type": "stream",
     "text": [
      "Found emotion: joy\n",
      "Index: 24\n",
      "Predicted:  joy\n",
      "True :  joy\n",
      "Correct\n",
      "------------------------------------\n",
      "Iter 263\n",
      "------------------------------------\n"
     ]
    },
    {
     "name": "stderr",
     "output_type": "stream",
     "text": [
      "The attention mask and the pad token id were not set. As a consequence, you may observe unexpected behavior. Please pass your input's `attention_mask` to obtain reliable results.\n",
      "Setting `pad_token_id` to `eos_token_id`:128001 for open-end generation.\n"
     ]
    },
    {
     "name": "stdout",
     "output_type": "stream",
     "text": [
      "Found emotion: anger\n",
      "Index: 24\n",
      "Predicted:  anger\n",
      "True :  joy\n",
      "Incorrect\n",
      "------------------------------------\n",
      "Iter 264\n",
      "------------------------------------\n"
     ]
    },
    {
     "name": "stderr",
     "output_type": "stream",
     "text": [
      "The attention mask and the pad token id were not set. As a consequence, you may observe unexpected behavior. Please pass your input's `attention_mask` to obtain reliable results.\n",
      "Setting `pad_token_id` to `eos_token_id`:128001 for open-end generation.\n"
     ]
    },
    {
     "name": "stdout",
     "output_type": "stream",
     "text": [
      "Found emotion: sadness\n",
      "Index: 24\n",
      "Predicted:  sadness\n",
      "True :  sadness\n",
      "Correct\n",
      "------------------------------------\n",
      "Iter 265\n",
      "------------------------------------\n"
     ]
    },
    {
     "name": "stderr",
     "output_type": "stream",
     "text": [
      "The attention mask and the pad token id were not set. As a consequence, you may observe unexpected behavior. Please pass your input's `attention_mask` to obtain reliable results.\n",
      "Setting `pad_token_id` to `eos_token_id`:128001 for open-end generation.\n"
     ]
    },
    {
     "name": "stdout",
     "output_type": "stream",
     "text": [
      "Found emotion: disgust\n",
      "Index: 24\n",
      "Predicted:  disgust\n",
      "True :  neutral\n",
      "Incorrect\n",
      "------------------------------------\n",
      "Iter 266\n",
      "------------------------------------\n"
     ]
    },
    {
     "name": "stderr",
     "output_type": "stream",
     "text": [
      "The attention mask and the pad token id were not set. As a consequence, you may observe unexpected behavior. Please pass your input's `attention_mask` to obtain reliable results.\n",
      "Setting `pad_token_id` to `eos_token_id`:128001 for open-end generation.\n"
     ]
    },
    {
     "name": "stdout",
     "output_type": "stream",
     "text": [
      "Found emotion: joy\n",
      "Index: 24\n",
      "Predicted:  joy\n",
      "True :  joy\n",
      "Correct\n",
      "------------------------------------\n",
      "Iter 267\n",
      "------------------------------------\n"
     ]
    },
    {
     "name": "stderr",
     "output_type": "stream",
     "text": [
      "The attention mask and the pad token id were not set. As a consequence, you may observe unexpected behavior. Please pass your input's `attention_mask` to obtain reliable results.\n",
      "Setting `pad_token_id` to `eos_token_id`:128001 for open-end generation.\n"
     ]
    },
    {
     "name": "stdout",
     "output_type": "stream",
     "text": [
      "Found emotion: anger\n",
      "Index: 24\n",
      "Predicted:  anger\n",
      "True :  neutral\n",
      "Incorrect\n",
      "------------------------------------\n",
      "Iter 268\n",
      "------------------------------------\n"
     ]
    },
    {
     "name": "stderr",
     "output_type": "stream",
     "text": [
      "The attention mask and the pad token id were not set. As a consequence, you may observe unexpected behavior. Please pass your input's `attention_mask` to obtain reliable results.\n",
      "Setting `pad_token_id` to `eos_token_id`:128001 for open-end generation.\n"
     ]
    },
    {
     "name": "stdout",
     "output_type": "stream",
     "text": [
      "Found emotion: joy\n",
      "Index: 24\n",
      "Predicted:  joy\n",
      "True :  joy\n",
      "Correct\n",
      "------------------------------------\n",
      "Iter 269\n",
      "------------------------------------\n"
     ]
    },
    {
     "name": "stderr",
     "output_type": "stream",
     "text": [
      "The attention mask and the pad token id were not set. As a consequence, you may observe unexpected behavior. Please pass your input's `attention_mask` to obtain reliable results.\n",
      "Setting `pad_token_id` to `eos_token_id`:128001 for open-end generation.\n"
     ]
    },
    {
     "name": "stdout",
     "output_type": "stream",
     "text": [
      "Found emotion: surprise\n",
      "Index: 24\n",
      "Predicted:  surprise\n",
      "True :  neutral\n",
      "Incorrect\n",
      "------------------------------------\n",
      "Iter 270\n",
      "------------------------------------\n"
     ]
    },
    {
     "name": "stderr",
     "output_type": "stream",
     "text": [
      "The attention mask and the pad token id were not set. As a consequence, you may observe unexpected behavior. Please pass your input's `attention_mask` to obtain reliable results.\n",
      "Setting `pad_token_id` to `eos_token_id`:128001 for open-end generation.\n"
     ]
    },
    {
     "name": "stdout",
     "output_type": "stream",
     "text": [
      "Found emotion: sadness\n",
      "Index: 24\n",
      "Predicted:  sadness\n",
      "True :  sadness\n",
      "Correct\n",
      "------------------------------------\n",
      "Iter 271\n",
      "------------------------------------\n"
     ]
    },
    {
     "name": "stderr",
     "output_type": "stream",
     "text": [
      "The attention mask and the pad token id were not set. As a consequence, you may observe unexpected behavior. Please pass your input's `attention_mask` to obtain reliable results.\n",
      "Setting `pad_token_id` to `eos_token_id`:128001 for open-end generation.\n"
     ]
    },
    {
     "name": "stdout",
     "output_type": "stream",
     "text": [
      "Found emotion: surprise\n",
      "Index: 25\n",
      "Predicted:  surprise\n",
      "True :  neutral\n",
      "Incorrect\n",
      "------------------------------------\n",
      "Iter 272\n",
      "------------------------------------\n"
     ]
    },
    {
     "name": "stderr",
     "output_type": "stream",
     "text": [
      "The attention mask and the pad token id were not set. As a consequence, you may observe unexpected behavior. Please pass your input's `attention_mask` to obtain reliable results.\n",
      "Setting `pad_token_id` to `eos_token_id`:128001 for open-end generation.\n"
     ]
    },
    {
     "name": "stdout",
     "output_type": "stream",
     "text": [
      "Found emotion: joy\n",
      "Index: 24\n",
      "Predicted:  joy\n",
      "True :  neutral\n",
      "Incorrect\n",
      "------------------------------------\n",
      "Iter 273\n",
      "------------------------------------\n"
     ]
    },
    {
     "name": "stderr",
     "output_type": "stream",
     "text": [
      "The attention mask and the pad token id were not set. As a consequence, you may observe unexpected behavior. Please pass your input's `attention_mask` to obtain reliable results.\n",
      "Setting `pad_token_id` to `eos_token_id`:128001 for open-end generation.\n"
     ]
    },
    {
     "name": "stdout",
     "output_type": "stream",
     "text": [
      "Found emotion: anger\n",
      "Index: 22\n",
      "Predicted:  anger\n",
      "True :  neutral\n",
      "Incorrect\n",
      "------------------------------------\n",
      "Iter 274\n",
      "------------------------------------\n"
     ]
    },
    {
     "name": "stderr",
     "output_type": "stream",
     "text": [
      "The attention mask and the pad token id were not set. As a consequence, you may observe unexpected behavior. Please pass your input's `attention_mask` to obtain reliable results.\n",
      "Setting `pad_token_id` to `eos_token_id`:128001 for open-end generation.\n"
     ]
    },
    {
     "name": "stdout",
     "output_type": "stream",
     "text": [
      "Found emotion: joy\n",
      "Index: 24\n",
      "Predicted:  joy\n",
      "True :  joy\n",
      "Correct\n",
      "------------------------------------\n",
      "Iter 275\n",
      "------------------------------------\n"
     ]
    },
    {
     "name": "stderr",
     "output_type": "stream",
     "text": [
      "The attention mask and the pad token id were not set. As a consequence, you may observe unexpected behavior. Please pass your input's `attention_mask` to obtain reliable results.\n",
      "Setting `pad_token_id` to `eos_token_id`:128001 for open-end generation.\n"
     ]
    },
    {
     "name": "stdout",
     "output_type": "stream",
     "text": [
      "Found emotion: joy\n",
      "Index: 22\n",
      "Predicted:  joy\n",
      "True :  joy\n",
      "Correct\n",
      "------------------------------------\n",
      "Iter 276\n",
      "------------------------------------\n"
     ]
    },
    {
     "name": "stderr",
     "output_type": "stream",
     "text": [
      "The attention mask and the pad token id were not set. As a consequence, you may observe unexpected behavior. Please pass your input's `attention_mask` to obtain reliable results.\n",
      "Setting `pad_token_id` to `eos_token_id`:128001 for open-end generation.\n"
     ]
    },
    {
     "name": "stdout",
     "output_type": "stream",
     "text": [
      "Found emotion: anger\n",
      "Index: 24\n",
      "Predicted:  anger\n",
      "True :  neutral\n",
      "Incorrect\n",
      "------------------------------------\n",
      "Iter 277\n",
      "------------------------------------\n"
     ]
    },
    {
     "name": "stderr",
     "output_type": "stream",
     "text": [
      "The attention mask and the pad token id were not set. As a consequence, you may observe unexpected behavior. Please pass your input's `attention_mask` to obtain reliable results.\n",
      "Setting `pad_token_id` to `eos_token_id`:128001 for open-end generation.\n"
     ]
    },
    {
     "name": "stdout",
     "output_type": "stream",
     "text": [
      "Found emotion: sadness\n",
      "Index: 22\n",
      "Predicted:  sadness\n",
      "True :  neutral\n",
      "Incorrect\n",
      "------------------------------------\n",
      "Iter 278\n",
      "------------------------------------\n"
     ]
    },
    {
     "name": "stderr",
     "output_type": "stream",
     "text": [
      "The attention mask and the pad token id were not set. As a consequence, you may observe unexpected behavior. Please pass your input's `attention_mask` to obtain reliable results.\n",
      "Setting `pad_token_id` to `eos_token_id`:128001 for open-end generation.\n"
     ]
    },
    {
     "name": "stdout",
     "output_type": "stream",
     "text": [
      "Found emotion: neutral\n",
      "Index: 22\n",
      "Predicted:  neutral\n",
      "True :  neutral\n",
      "Correct\n",
      "------------------------------------\n",
      "Iter 279\n",
      "------------------------------------\n"
     ]
    },
    {
     "name": "stderr",
     "output_type": "stream",
     "text": [
      "The attention mask and the pad token id were not set. As a consequence, you may observe unexpected behavior. Please pass your input's `attention_mask` to obtain reliable results.\n",
      "Setting `pad_token_id` to `eos_token_id`:128001 for open-end generation.\n"
     ]
    },
    {
     "name": "stdout",
     "output_type": "stream",
     "text": [
      "Found emotion: neutral\n",
      "Index: 24\n",
      "Predicted:  neutral\n",
      "True :  joy\n",
      "Incorrect\n",
      "------------------------------------\n",
      "Iter 280\n",
      "------------------------------------\n"
     ]
    },
    {
     "name": "stderr",
     "output_type": "stream",
     "text": [
      "The attention mask and the pad token id were not set. As a consequence, you may observe unexpected behavior. Please pass your input's `attention_mask` to obtain reliable results.\n",
      "Setting `pad_token_id` to `eos_token_id`:128001 for open-end generation.\n"
     ]
    },
    {
     "name": "stdout",
     "output_type": "stream",
     "text": [
      "Found emotion: surprise\n",
      "Index: 24\n",
      "Predicted:  surprise\n",
      "True :  neutral\n",
      "Incorrect\n",
      "------------------------------------\n",
      "Iter 281\n",
      "------------------------------------\n"
     ]
    },
    {
     "name": "stderr",
     "output_type": "stream",
     "text": [
      "The attention mask and the pad token id were not set. As a consequence, you may observe unexpected behavior. Please pass your input's `attention_mask` to obtain reliable results.\n",
      "Setting `pad_token_id` to `eos_token_id`:128001 for open-end generation.\n"
     ]
    },
    {
     "name": "stdout",
     "output_type": "stream",
     "text": [
      "Found emotion: sadness\n",
      "Index: 6\n",
      "Predicted:  sadness\n",
      "True :  sadness\n",
      "Correct\n",
      "------------------------------------\n",
      "Iter 282\n",
      "------------------------------------\n"
     ]
    },
    {
     "name": "stderr",
     "output_type": "stream",
     "text": [
      "The attention mask and the pad token id were not set. As a consequence, you may observe unexpected behavior. Please pass your input's `attention_mask` to obtain reliable results.\n",
      "Setting `pad_token_id` to `eos_token_id`:128001 for open-end generation.\n"
     ]
    },
    {
     "name": "stdout",
     "output_type": "stream",
     "text": [
      "Found emotion: sadness\n",
      "Index: 22\n",
      "Predicted:  sadness\n",
      "True :  sadness\n",
      "Correct\n",
      "------------------------------------\n",
      "Iter 283\n",
      "------------------------------------\n"
     ]
    },
    {
     "name": "stderr",
     "output_type": "stream",
     "text": [
      "The attention mask and the pad token id were not set. As a consequence, you may observe unexpected behavior. Please pass your input's `attention_mask` to obtain reliable results.\n",
      "Setting `pad_token_id` to `eos_token_id`:128001 for open-end generation.\n"
     ]
    },
    {
     "name": "stdout",
     "output_type": "stream",
     "text": [
      "Found emotion: sadness\n",
      "Index: 22\n",
      "Predicted:  sadness\n",
      "True :  sadness\n",
      "Correct\n",
      "------------------------------------\n",
      "Iter 284\n",
      "------------------------------------\n"
     ]
    },
    {
     "name": "stderr",
     "output_type": "stream",
     "text": [
      "The attention mask and the pad token id were not set. As a consequence, you may observe unexpected behavior. Please pass your input's `attention_mask` to obtain reliable results.\n",
      "Setting `pad_token_id` to `eos_token_id`:128001 for open-end generation.\n"
     ]
    },
    {
     "name": "stdout",
     "output_type": "stream",
     "text": [
      "Found emotion: sadness\n",
      "Index: 24\n",
      "Predicted:  sadness\n",
      "True :  sadness\n",
      "Correct\n",
      "------------------------------------\n",
      "Iter 285\n",
      "------------------------------------\n"
     ]
    },
    {
     "name": "stderr",
     "output_type": "stream",
     "text": [
      "The attention mask and the pad token id were not set. As a consequence, you may observe unexpected behavior. Please pass your input's `attention_mask` to obtain reliable results.\n",
      "Setting `pad_token_id` to `eos_token_id`:128001 for open-end generation.\n"
     ]
    },
    {
     "name": "stdout",
     "output_type": "stream",
     "text": [
      "Found emotion: joy\n",
      "Index: 24\n",
      "Predicted:  joy\n",
      "True :  joy\n",
      "Correct\n",
      "------------------------------------\n",
      "Iter 286\n",
      "------------------------------------\n"
     ]
    },
    {
     "name": "stderr",
     "output_type": "stream",
     "text": [
      "The attention mask and the pad token id were not set. As a consequence, you may observe unexpected behavior. Please pass your input's `attention_mask` to obtain reliable results.\n",
      "Setting `pad_token_id` to `eos_token_id`:128001 for open-end generation.\n"
     ]
    },
    {
     "name": "stdout",
     "output_type": "stream",
     "text": [
      "Found emotion: joy\n",
      "Index: 24\n",
      "Predicted:  joy\n",
      "True :  joy\n",
      "Correct\n",
      "------------------------------------\n",
      "Iter 287\n",
      "------------------------------------\n"
     ]
    },
    {
     "name": "stderr",
     "output_type": "stream",
     "text": [
      "The attention mask and the pad token id were not set. As a consequence, you may observe unexpected behavior. Please pass your input's `attention_mask` to obtain reliable results.\n",
      "Setting `pad_token_id` to `eos_token_id`:128001 for open-end generation.\n"
     ]
    },
    {
     "name": "stdout",
     "output_type": "stream",
     "text": [
      "Found emotion: neutral\n",
      "Index: 24\n",
      "Predicted:  neutral\n",
      "True :  neutral\n",
      "Correct\n",
      "------------------------------------\n",
      "Iter 288\n",
      "------------------------------------\n"
     ]
    },
    {
     "name": "stderr",
     "output_type": "stream",
     "text": [
      "The attention mask and the pad token id were not set. As a consequence, you may observe unexpected behavior. Please pass your input's `attention_mask` to obtain reliable results.\n",
      "Setting `pad_token_id` to `eos_token_id`:128001 for open-end generation.\n"
     ]
    },
    {
     "name": "stdout",
     "output_type": "stream",
     "text": [
      "Found emotion: neutral\n",
      "Index: 24\n",
      "Predicted:  neutral\n",
      "True :  neutral\n",
      "Correct\n",
      "------------------------------------\n",
      "Iter 289\n",
      "------------------------------------\n"
     ]
    },
    {
     "name": "stderr",
     "output_type": "stream",
     "text": [
      "The attention mask and the pad token id were not set. As a consequence, you may observe unexpected behavior. Please pass your input's `attention_mask` to obtain reliable results.\n",
      "Setting `pad_token_id` to `eos_token_id`:128001 for open-end generation.\n"
     ]
    },
    {
     "name": "stdout",
     "output_type": "stream",
     "text": [
      "Found emotion: neutral\n",
      "Index: 22\n",
      "Predicted:  neutral\n",
      "True :  surprise\n",
      "Incorrect\n",
      "------------------------------------\n",
      "Iter 290\n",
      "------------------------------------\n"
     ]
    },
    {
     "name": "stderr",
     "output_type": "stream",
     "text": [
      "The attention mask and the pad token id were not set. As a consequence, you may observe unexpected behavior. Please pass your input's `attention_mask` to obtain reliable results.\n",
      "Setting `pad_token_id` to `eos_token_id`:128001 for open-end generation.\n"
     ]
    },
    {
     "name": "stdout",
     "output_type": "stream",
     "text": [
      "Found emotion: sadness\n",
      "Index: 22\n",
      "Predicted:  sadness\n",
      "True :  sadness\n",
      "Correct\n",
      "------------------------------------\n",
      "Iter 291\n",
      "------------------------------------\n"
     ]
    },
    {
     "name": "stderr",
     "output_type": "stream",
     "text": [
      "The attention mask and the pad token id were not set. As a consequence, you may observe unexpected behavior. Please pass your input's `attention_mask` to obtain reliable results.\n",
      "Setting `pad_token_id` to `eos_token_id`:128001 for open-end generation.\n"
     ]
    },
    {
     "name": "stdout",
     "output_type": "stream",
     "text": [
      "Found emotion: sadness\n",
      "Index: 25\n",
      "Predicted:  sadness\n",
      "True :  neutral\n",
      "Incorrect\n",
      "------------------------------------\n",
      "Iter 292\n",
      "------------------------------------\n"
     ]
    },
    {
     "name": "stderr",
     "output_type": "stream",
     "text": [
      "The attention mask and the pad token id were not set. As a consequence, you may observe unexpected behavior. Please pass your input's `attention_mask` to obtain reliable results.\n",
      "Setting `pad_token_id` to `eos_token_id`:128001 for open-end generation.\n"
     ]
    },
    {
     "name": "stdout",
     "output_type": "stream",
     "text": [
      "Found emotion: sadness\n",
      "Index: 22\n",
      "Predicted:  sadness\n",
      "True :  fear\n",
      "Incorrect\n",
      "------------------------------------\n",
      "Iter 293\n",
      "------------------------------------\n"
     ]
    },
    {
     "name": "stderr",
     "output_type": "stream",
     "text": [
      "The attention mask and the pad token id were not set. As a consequence, you may observe unexpected behavior. Please pass your input's `attention_mask` to obtain reliable results.\n",
      "Setting `pad_token_id` to `eos_token_id`:128001 for open-end generation.\n"
     ]
    },
    {
     "name": "stdout",
     "output_type": "stream",
     "text": [
      "Found emotion: sadness\n",
      "Index: 24\n",
      "Predicted:  sadness\n",
      "True :  neutral\n",
      "Incorrect\n",
      "------------------------------------\n",
      "Iter 294\n",
      "------------------------------------\n"
     ]
    },
    {
     "name": "stderr",
     "output_type": "stream",
     "text": [
      "The attention mask and the pad token id were not set. As a consequence, you may observe unexpected behavior. Please pass your input's `attention_mask` to obtain reliable results.\n",
      "Setting `pad_token_id` to `eos_token_id`:128001 for open-end generation.\n"
     ]
    },
    {
     "name": "stdout",
     "output_type": "stream",
     "text": [
      "Found emotion: surprise\n",
      "Index: 24\n",
      "Predicted:  surprise\n",
      "True :  anger\n",
      "Incorrect\n",
      "------------------------------------\n",
      "Iter 295\n",
      "------------------------------------\n"
     ]
    },
    {
     "name": "stderr",
     "output_type": "stream",
     "text": [
      "The attention mask and the pad token id were not set. As a consequence, you may observe unexpected behavior. Please pass your input's `attention_mask` to obtain reliable results.\n",
      "Setting `pad_token_id` to `eos_token_id`:128001 for open-end generation.\n"
     ]
    },
    {
     "name": "stdout",
     "output_type": "stream",
     "text": [
      "Found emotion: sadness\n",
      "Index: 24\n",
      "Predicted:  sadness\n",
      "True :  anger\n",
      "Incorrect\n",
      "------------------------------------\n",
      "Iter 296\n",
      "------------------------------------\n"
     ]
    },
    {
     "name": "stderr",
     "output_type": "stream",
     "text": [
      "The attention mask and the pad token id were not set. As a consequence, you may observe unexpected behavior. Please pass your input's `attention_mask` to obtain reliable results.\n",
      "Setting `pad_token_id` to `eos_token_id`:128001 for open-end generation.\n"
     ]
    },
    {
     "name": "stdout",
     "output_type": "stream",
     "text": [
      "Found emotion: surprise\n",
      "Index: 24\n",
      "Predicted:  surprise\n",
      "True :  surprise\n",
      "Correct\n",
      "------------------------------------\n",
      "Iter 297\n",
      "------------------------------------\n"
     ]
    },
    {
     "name": "stderr",
     "output_type": "stream",
     "text": [
      "The attention mask and the pad token id were not set. As a consequence, you may observe unexpected behavior. Please pass your input's `attention_mask` to obtain reliable results.\n",
      "Setting `pad_token_id` to `eos_token_id`:128001 for open-end generation.\n"
     ]
    },
    {
     "name": "stdout",
     "output_type": "stream",
     "text": [
      "No emotion found.\n",
      "Predicted:  \n",
      "True :  anger\n",
      "Incorrect\n",
      "------------------------------------\n",
      "Iter 298\n",
      "------------------------------------\n"
     ]
    },
    {
     "name": "stderr",
     "output_type": "stream",
     "text": [
      "The attention mask and the pad token id were not set. As a consequence, you may observe unexpected behavior. Please pass your input's `attention_mask` to obtain reliable results.\n",
      "Setting `pad_token_id` to `eos_token_id`:128001 for open-end generation.\n"
     ]
    },
    {
     "name": "stdout",
     "output_type": "stream",
     "text": [
      "Found emotion: sadness\n",
      "Index: 24\n",
      "Predicted:  sadness\n",
      "True :  joy\n",
      "Incorrect\n",
      "------------------------------------\n",
      "Iter 299\n",
      "------------------------------------\n"
     ]
    },
    {
     "name": "stderr",
     "output_type": "stream",
     "text": [
      "The attention mask and the pad token id were not set. As a consequence, you may observe unexpected behavior. Please pass your input's `attention_mask` to obtain reliable results.\n",
      "Setting `pad_token_id` to `eos_token_id`:128001 for open-end generation.\n"
     ]
    },
    {
     "name": "stdout",
     "output_type": "stream",
     "text": [
      "Found emotion: sadness\n",
      "Index: 24\n",
      "Predicted:  sadness\n",
      "True :  sadness\n",
      "Correct\n",
      "------------------------------------\n",
      "Iter 300\n",
      "------------------------------------\n"
     ]
    },
    {
     "name": "stderr",
     "output_type": "stream",
     "text": [
      "The attention mask and the pad token id were not set. As a consequence, you may observe unexpected behavior. Please pass your input's `attention_mask` to obtain reliable results.\n",
      "Setting `pad_token_id` to `eos_token_id`:128001 for open-end generation.\n"
     ]
    },
    {
     "name": "stdout",
     "output_type": "stream",
     "text": [
      "Found emotion: surprise\n",
      "Index: 24\n",
      "Predicted:  surprise\n",
      "True :  surprise\n",
      "Correct\n",
      "------------------------------------\n",
      "Iter 301\n",
      "------------------------------------\n"
     ]
    },
    {
     "name": "stderr",
     "output_type": "stream",
     "text": [
      "The attention mask and the pad token id were not set. As a consequence, you may observe unexpected behavior. Please pass your input's `attention_mask` to obtain reliable results.\n",
      "Setting `pad_token_id` to `eos_token_id`:128001 for open-end generation.\n"
     ]
    },
    {
     "name": "stdout",
     "output_type": "stream",
     "text": [
      "Found emotion: neutral\n",
      "Index: 25\n",
      "Predicted:  neutral\n",
      "True :  neutral\n",
      "Correct\n",
      "------------------------------------\n",
      "Iter 302\n",
      "------------------------------------\n"
     ]
    },
    {
     "name": "stderr",
     "output_type": "stream",
     "text": [
      "The attention mask and the pad token id were not set. As a consequence, you may observe unexpected behavior. Please pass your input's `attention_mask` to obtain reliable results.\n",
      "Setting `pad_token_id` to `eos_token_id`:128001 for open-end generation.\n"
     ]
    },
    {
     "name": "stdout",
     "output_type": "stream",
     "text": [
      "Found emotion: anger\n",
      "Index: 25\n",
      "Predicted:  anger\n",
      "True :  sadness\n",
      "Incorrect\n",
      "------------------------------------\n",
      "Iter 303\n",
      "------------------------------------\n"
     ]
    },
    {
     "name": "stderr",
     "output_type": "stream",
     "text": [
      "The attention mask and the pad token id were not set. As a consequence, you may observe unexpected behavior. Please pass your input's `attention_mask` to obtain reliable results.\n",
      "Setting `pad_token_id` to `eos_token_id`:128001 for open-end generation.\n"
     ]
    },
    {
     "name": "stdout",
     "output_type": "stream",
     "text": [
      "Found emotion: neutral\n",
      "Index: 25\n",
      "Predicted:  neutral\n",
      "True :  neutral\n",
      "Correct\n",
      "------------------------------------\n",
      "Iter 304\n",
      "------------------------------------\n"
     ]
    },
    {
     "name": "stderr",
     "output_type": "stream",
     "text": [
      "The attention mask and the pad token id were not set. As a consequence, you may observe unexpected behavior. Please pass your input's `attention_mask` to obtain reliable results.\n",
      "Setting `pad_token_id` to `eos_token_id`:128001 for open-end generation.\n"
     ]
    },
    {
     "name": "stdout",
     "output_type": "stream",
     "text": [
      "Found emotion: neutral\n",
      "Index: 25\n",
      "Predicted:  neutral\n",
      "True :  neutral\n",
      "Correct\n",
      "------------------------------------\n",
      "Iter 305\n",
      "------------------------------------\n"
     ]
    },
    {
     "name": "stderr",
     "output_type": "stream",
     "text": [
      "The attention mask and the pad token id were not set. As a consequence, you may observe unexpected behavior. Please pass your input's `attention_mask` to obtain reliable results.\n",
      "Setting `pad_token_id` to `eos_token_id`:128001 for open-end generation.\n"
     ]
    },
    {
     "name": "stdout",
     "output_type": "stream",
     "text": [
      "Found emotion: anger\n",
      "Index: 25\n",
      "Predicted:  anger\n",
      "True :  neutral\n",
      "Incorrect\n",
      "------------------------------------\n",
      "Iter 306\n",
      "------------------------------------\n"
     ]
    },
    {
     "name": "stderr",
     "output_type": "stream",
     "text": [
      "The attention mask and the pad token id were not set. As a consequence, you may observe unexpected behavior. Please pass your input's `attention_mask` to obtain reliable results.\n",
      "Setting `pad_token_id` to `eos_token_id`:128001 for open-end generation.\n"
     ]
    },
    {
     "name": "stdout",
     "output_type": "stream",
     "text": [
      "Found emotion: joy\n",
      "Index: 22\n",
      "Predicted:  joy\n",
      "True :  neutral\n",
      "Incorrect\n",
      "------------------------------------\n",
      "Iter 307\n",
      "------------------------------------\n"
     ]
    },
    {
     "name": "stderr",
     "output_type": "stream",
     "text": [
      "The attention mask and the pad token id were not set. As a consequence, you may observe unexpected behavior. Please pass your input's `attention_mask` to obtain reliable results.\n",
      "Setting `pad_token_id` to `eos_token_id`:128001 for open-end generation.\n"
     ]
    },
    {
     "name": "stdout",
     "output_type": "stream",
     "text": [
      "Found emotion: neutral\n",
      "Index: 24\n",
      "Predicted:  neutral\n",
      "True :  neutral\n",
      "Correct\n",
      "------------------------------------\n",
      "Iter 308\n",
      "------------------------------------\n"
     ]
    },
    {
     "name": "stderr",
     "output_type": "stream",
     "text": [
      "The attention mask and the pad token id were not set. As a consequence, you may observe unexpected behavior. Please pass your input's `attention_mask` to obtain reliable results.\n",
      "Setting `pad_token_id` to `eos_token_id`:128001 for open-end generation.\n"
     ]
    },
    {
     "name": "stdout",
     "output_type": "stream",
     "text": [
      "Found emotion: sadness\n",
      "Index: 24\n",
      "Predicted:  sadness\n",
      "True :  joy\n",
      "Incorrect\n",
      "------------------------------------\n",
      "Iter 309\n",
      "------------------------------------\n"
     ]
    },
    {
     "name": "stderr",
     "output_type": "stream",
     "text": [
      "The attention mask and the pad token id were not set. As a consequence, you may observe unexpected behavior. Please pass your input's `attention_mask` to obtain reliable results.\n",
      "Setting `pad_token_id` to `eos_token_id`:128001 for open-end generation.\n"
     ]
    },
    {
     "name": "stdout",
     "output_type": "stream",
     "text": [
      "Found emotion: surprise\n",
      "Index: 24\n",
      "Predicted:  surprise\n",
      "True :  anger\n",
      "Incorrect\n",
      "------------------------------------\n",
      "Iter 310\n",
      "------------------------------------\n"
     ]
    },
    {
     "name": "stderr",
     "output_type": "stream",
     "text": [
      "The attention mask and the pad token id were not set. As a consequence, you may observe unexpected behavior. Please pass your input's `attention_mask` to obtain reliable results.\n",
      "Setting `pad_token_id` to `eos_token_id`:128001 for open-end generation.\n"
     ]
    },
    {
     "name": "stdout",
     "output_type": "stream",
     "text": [
      "Found emotion: surprise\n",
      "Index: 24\n",
      "Predicted:  surprise\n",
      "True :  neutral\n",
      "Incorrect\n",
      "------------------------------------\n",
      "Iter 311\n",
      "------------------------------------\n"
     ]
    },
    {
     "name": "stderr",
     "output_type": "stream",
     "text": [
      "The attention mask and the pad token id were not set. As a consequence, you may observe unexpected behavior. Please pass your input's `attention_mask` to obtain reliable results.\n",
      "Setting `pad_token_id` to `eos_token_id`:128001 for open-end generation.\n"
     ]
    },
    {
     "name": "stdout",
     "output_type": "stream",
     "text": [
      "Found emotion: joy\n",
      "Index: 24\n",
      "Predicted:  joy\n",
      "True :  joy\n",
      "Correct\n",
      "------------------------------------\n",
      "Iter 312\n",
      "------------------------------------\n"
     ]
    },
    {
     "name": "stderr",
     "output_type": "stream",
     "text": [
      "The attention mask and the pad token id were not set. As a consequence, you may observe unexpected behavior. Please pass your input's `attention_mask` to obtain reliable results.\n",
      "Setting `pad_token_id` to `eos_token_id`:128001 for open-end generation.\n"
     ]
    },
    {
     "name": "stdout",
     "output_type": "stream",
     "text": [
      "Found emotion: neutral\n",
      "Index: 22\n",
      "Predicted:  neutral\n",
      "True :  neutral\n",
      "Correct\n",
      "------------------------------------\n",
      "Iter 313\n",
      "------------------------------------\n"
     ]
    },
    {
     "name": "stderr",
     "output_type": "stream",
     "text": [
      "The attention mask and the pad token id were not set. As a consequence, you may observe unexpected behavior. Please pass your input's `attention_mask` to obtain reliable results.\n",
      "Setting `pad_token_id` to `eos_token_id`:128001 for open-end generation.\n"
     ]
    },
    {
     "name": "stdout",
     "output_type": "stream",
     "text": [
      "Found emotion: sadness\n",
      "Index: 24\n",
      "Predicted:  sadness\n",
      "True :  neutral\n",
      "Incorrect\n",
      "------------------------------------\n",
      "Iter 314\n",
      "------------------------------------\n"
     ]
    },
    {
     "name": "stderr",
     "output_type": "stream",
     "text": [
      "The attention mask and the pad token id were not set. As a consequence, you may observe unexpected behavior. Please pass your input's `attention_mask` to obtain reliable results.\n",
      "Setting `pad_token_id` to `eos_token_id`:128001 for open-end generation.\n"
     ]
    },
    {
     "name": "stdout",
     "output_type": "stream",
     "text": [
      "Found emotion: disgust\n",
      "Index: 22\n",
      "Predicted:  disgust\n",
      "True :  sadness\n",
      "Incorrect\n",
      "------------------------------------\n",
      "Iter 315\n",
      "------------------------------------\n"
     ]
    },
    {
     "name": "stderr",
     "output_type": "stream",
     "text": [
      "The attention mask and the pad token id were not set. As a consequence, you may observe unexpected behavior. Please pass your input's `attention_mask` to obtain reliable results.\n",
      "Setting `pad_token_id` to `eos_token_id`:128001 for open-end generation.\n"
     ]
    },
    {
     "name": "stdout",
     "output_type": "stream",
     "text": [
      "Found emotion: joy\n",
      "Index: 24\n",
      "Predicted:  joy\n",
      "True :  neutral\n",
      "Incorrect\n",
      "------------------------------------\n",
      "Iter 316\n",
      "------------------------------------\n"
     ]
    },
    {
     "name": "stderr",
     "output_type": "stream",
     "text": [
      "The attention mask and the pad token id were not set. As a consequence, you may observe unexpected behavior. Please pass your input's `attention_mask` to obtain reliable results.\n",
      "Setting `pad_token_id` to `eos_token_id`:128001 for open-end generation.\n"
     ]
    },
    {
     "name": "stdout",
     "output_type": "stream",
     "text": [
      "Found emotion: surprise\n",
      "Index: 24\n",
      "Predicted:  surprise\n",
      "True :  surprise\n",
      "Correct\n",
      "------------------------------------\n",
      "Iter 317\n",
      "------------------------------------\n"
     ]
    },
    {
     "name": "stderr",
     "output_type": "stream",
     "text": [
      "The attention mask and the pad token id were not set. As a consequence, you may observe unexpected behavior. Please pass your input's `attention_mask` to obtain reliable results.\n",
      "Setting `pad_token_id` to `eos_token_id`:128001 for open-end generation.\n"
     ]
    },
    {
     "name": "stdout",
     "output_type": "stream",
     "text": [
      "Found emotion: sadness\n",
      "Index: 24\n",
      "Predicted:  sadness\n",
      "True :  neutral\n",
      "Incorrect\n",
      "------------------------------------\n",
      "Iter 318\n",
      "------------------------------------\n"
     ]
    },
    {
     "name": "stderr",
     "output_type": "stream",
     "text": [
      "The attention mask and the pad token id were not set. As a consequence, you may observe unexpected behavior. Please pass your input's `attention_mask` to obtain reliable results.\n",
      "Setting `pad_token_id` to `eos_token_id`:128001 for open-end generation.\n"
     ]
    },
    {
     "name": "stdout",
     "output_type": "stream",
     "text": [
      "Found emotion: sadness\n",
      "Index: 22\n",
      "Predicted:  sadness\n",
      "True :  neutral\n",
      "Incorrect\n",
      "------------------------------------\n",
      "Iter 319\n",
      "------------------------------------\n"
     ]
    },
    {
     "name": "stderr",
     "output_type": "stream",
     "text": [
      "The attention mask and the pad token id were not set. As a consequence, you may observe unexpected behavior. Please pass your input's `attention_mask` to obtain reliable results.\n",
      "Setting `pad_token_id` to `eos_token_id`:128001 for open-end generation.\n"
     ]
    },
    {
     "name": "stdout",
     "output_type": "stream",
     "text": [
      "Found emotion: neutral\n",
      "Index: 24\n",
      "Predicted:  neutral\n",
      "True :  neutral\n",
      "Correct\n",
      "------------------------------------\n",
      "Iter 320\n",
      "------------------------------------\n"
     ]
    },
    {
     "name": "stderr",
     "output_type": "stream",
     "text": [
      "The attention mask and the pad token id were not set. As a consequence, you may observe unexpected behavior. Please pass your input's `attention_mask` to obtain reliable results.\n",
      "Setting `pad_token_id` to `eos_token_id`:128001 for open-end generation.\n"
     ]
    },
    {
     "name": "stdout",
     "output_type": "stream",
     "text": [
      "Found emotion: joy\n",
      "Index: 18\n",
      "Predicted:  joy\n",
      "True :  neutral\n",
      "Incorrect\n",
      "------------------------------------\n",
      "Iter 321\n",
      "------------------------------------\n"
     ]
    },
    {
     "name": "stderr",
     "output_type": "stream",
     "text": [
      "The attention mask and the pad token id were not set. As a consequence, you may observe unexpected behavior. Please pass your input's `attention_mask` to obtain reliable results.\n",
      "Setting `pad_token_id` to `eos_token_id`:128001 for open-end generation.\n"
     ]
    },
    {
     "name": "stdout",
     "output_type": "stream",
     "text": [
      "Found emotion: joy\n",
      "Index: 22\n",
      "Predicted:  joy\n",
      "True :  joy\n",
      "Correct\n",
      "------------------------------------\n",
      "Iter 322\n",
      "------------------------------------\n"
     ]
    },
    {
     "name": "stderr",
     "output_type": "stream",
     "text": [
      "The attention mask and the pad token id were not set. As a consequence, you may observe unexpected behavior. Please pass your input's `attention_mask` to obtain reliable results.\n",
      "Setting `pad_token_id` to `eos_token_id`:128001 for open-end generation.\n"
     ]
    },
    {
     "name": "stdout",
     "output_type": "stream",
     "text": [
      "Found emotion: fear\n",
      "Index: 22\n",
      "Predicted:  fear\n",
      "True :  anger\n",
      "Incorrect\n",
      "------------------------------------\n",
      "Iter 323\n",
      "------------------------------------\n"
     ]
    },
    {
     "name": "stderr",
     "output_type": "stream",
     "text": [
      "The attention mask and the pad token id were not set. As a consequence, you may observe unexpected behavior. Please pass your input's `attention_mask` to obtain reliable results.\n",
      "Setting `pad_token_id` to `eos_token_id`:128001 for open-end generation.\n"
     ]
    },
    {
     "name": "stdout",
     "output_type": "stream",
     "text": [
      "Found emotion: sadness\n",
      "Index: 24\n",
      "Predicted:  sadness\n",
      "True :  neutral\n",
      "Incorrect\n",
      "------------------------------------\n",
      "Iter 324\n",
      "------------------------------------\n"
     ]
    },
    {
     "name": "stderr",
     "output_type": "stream",
     "text": [
      "The attention mask and the pad token id were not set. As a consequence, you may observe unexpected behavior. Please pass your input's `attention_mask` to obtain reliable results.\n",
      "Setting `pad_token_id` to `eos_token_id`:128001 for open-end generation.\n"
     ]
    },
    {
     "name": "stdout",
     "output_type": "stream",
     "text": [
      "Found emotion: anger\n",
      "Index: 24\n",
      "Predicted:  anger\n",
      "True :  neutral\n",
      "Incorrect\n",
      "------------------------------------\n",
      "Iter 325\n",
      "------------------------------------\n"
     ]
    },
    {
     "name": "stderr",
     "output_type": "stream",
     "text": [
      "The attention mask and the pad token id were not set. As a consequence, you may observe unexpected behavior. Please pass your input's `attention_mask` to obtain reliable results.\n",
      "Setting `pad_token_id` to `eos_token_id`:128001 for open-end generation.\n"
     ]
    },
    {
     "name": "stdout",
     "output_type": "stream",
     "text": [
      "Found emotion: joy\n",
      "Index: 22\n",
      "Predicted:  joy\n",
      "True :  neutral\n",
      "Incorrect\n",
      "------------------------------------\n",
      "Iter 326\n",
      "------------------------------------\n"
     ]
    },
    {
     "name": "stderr",
     "output_type": "stream",
     "text": [
      "The attention mask and the pad token id were not set. As a consequence, you may observe unexpected behavior. Please pass your input's `attention_mask` to obtain reliable results.\n",
      "Setting `pad_token_id` to `eos_token_id`:128001 for open-end generation.\n"
     ]
    },
    {
     "name": "stdout",
     "output_type": "stream",
     "text": [
      "Found emotion: anger\n",
      "Index: 22\n",
      "Predicted:  anger\n",
      "True :  surprise\n",
      "Incorrect\n",
      "------------------------------------\n",
      "Iter 327\n",
      "------------------------------------\n"
     ]
    },
    {
     "name": "stderr",
     "output_type": "stream",
     "text": [
      "The attention mask and the pad token id were not set. As a consequence, you may observe unexpected behavior. Please pass your input's `attention_mask` to obtain reliable results.\n",
      "Setting `pad_token_id` to `eos_token_id`:128001 for open-end generation.\n"
     ]
    },
    {
     "name": "stdout",
     "output_type": "stream",
     "text": [
      "Found emotion: surprise\n",
      "Index: 24\n",
      "Predicted:  surprise\n",
      "True :  surprise\n",
      "Correct\n",
      "------------------------------------\n",
      "Iter 328\n",
      "------------------------------------\n"
     ]
    },
    {
     "name": "stderr",
     "output_type": "stream",
     "text": [
      "The attention mask and the pad token id were not set. As a consequence, you may observe unexpected behavior. Please pass your input's `attention_mask` to obtain reliable results.\n",
      "Setting `pad_token_id` to `eos_token_id`:128001 for open-end generation.\n"
     ]
    },
    {
     "name": "stdout",
     "output_type": "stream",
     "text": [
      "Found emotion: neutral\n",
      "Index: 24\n",
      "Predicted:  neutral\n",
      "True :  neutral\n",
      "Correct\n",
      "------------------------------------\n",
      "Iter 329\n",
      "------------------------------------\n"
     ]
    },
    {
     "name": "stderr",
     "output_type": "stream",
     "text": [
      "The attention mask and the pad token id were not set. As a consequence, you may observe unexpected behavior. Please pass your input's `attention_mask` to obtain reliable results.\n",
      "Setting `pad_token_id` to `eos_token_id`:128001 for open-end generation.\n"
     ]
    },
    {
     "name": "stdout",
     "output_type": "stream",
     "text": [
      "Found emotion: surprise\n",
      "Index: 24\n",
      "Predicted:  surprise\n",
      "True :  sadness\n",
      "Incorrect\n",
      "------------------------------------\n",
      "Iter 330\n",
      "------------------------------------\n"
     ]
    },
    {
     "name": "stderr",
     "output_type": "stream",
     "text": [
      "The attention mask and the pad token id were not set. As a consequence, you may observe unexpected behavior. Please pass your input's `attention_mask` to obtain reliable results.\n",
      "Setting `pad_token_id` to `eos_token_id`:128001 for open-end generation.\n"
     ]
    },
    {
     "name": "stdout",
     "output_type": "stream",
     "text": [
      "Found emotion: sadness\n",
      "Index: 22\n",
      "Predicted:  sadness\n",
      "True :  sadness\n",
      "Correct\n",
      "------------------------------------\n",
      "Iter 331\n",
      "------------------------------------\n"
     ]
    },
    {
     "name": "stderr",
     "output_type": "stream",
     "text": [
      "The attention mask and the pad token id were not set. As a consequence, you may observe unexpected behavior. Please pass your input's `attention_mask` to obtain reliable results.\n",
      "Setting `pad_token_id` to `eos_token_id`:128001 for open-end generation.\n"
     ]
    },
    {
     "name": "stdout",
     "output_type": "stream",
     "text": [
      "Found emotion: surprise\n",
      "Index: 24\n",
      "Predicted:  surprise\n",
      "True :  anger\n",
      "Incorrect\n",
      "------------------------------------\n",
      "Iter 332\n",
      "------------------------------------\n"
     ]
    },
    {
     "name": "stderr",
     "output_type": "stream",
     "text": [
      "The attention mask and the pad token id were not set. As a consequence, you may observe unexpected behavior. Please pass your input's `attention_mask` to obtain reliable results.\n",
      "Setting `pad_token_id` to `eos_token_id`:128001 for open-end generation.\n"
     ]
    },
    {
     "name": "stdout",
     "output_type": "stream",
     "text": [
      "Found emotion: surprise\n",
      "Index: 22\n",
      "Predicted:  surprise\n",
      "True :  neutral\n",
      "Incorrect\n",
      "------------------------------------\n",
      "Iter 333\n",
      "------------------------------------\n"
     ]
    },
    {
     "name": "stderr",
     "output_type": "stream",
     "text": [
      "The attention mask and the pad token id were not set. As a consequence, you may observe unexpected behavior. Please pass your input's `attention_mask` to obtain reliable results.\n",
      "Setting `pad_token_id` to `eos_token_id`:128001 for open-end generation.\n"
     ]
    },
    {
     "name": "stdout",
     "output_type": "stream",
     "text": [
      "Found emotion: neutral\n",
      "Index: 24\n",
      "Predicted:  neutral\n",
      "True :  neutral\n",
      "Correct\n",
      "------------------------------------\n",
      "Iter 334\n",
      "------------------------------------\n"
     ]
    },
    {
     "name": "stderr",
     "output_type": "stream",
     "text": [
      "The attention mask and the pad token id were not set. As a consequence, you may observe unexpected behavior. Please pass your input's `attention_mask` to obtain reliable results.\n",
      "Setting `pad_token_id` to `eos_token_id`:128001 for open-end generation.\n"
     ]
    },
    {
     "name": "stdout",
     "output_type": "stream",
     "text": [
      "Found emotion: joy\n",
      "Index: 25\n",
      "Predicted:  joy\n",
      "True :  anger\n",
      "Incorrect\n",
      "------------------------------------\n",
      "Iter 335\n",
      "------------------------------------\n"
     ]
    },
    {
     "name": "stderr",
     "output_type": "stream",
     "text": [
      "The attention mask and the pad token id were not set. As a consequence, you may observe unexpected behavior. Please pass your input's `attention_mask` to obtain reliable results.\n",
      "Setting `pad_token_id` to `eos_token_id`:128001 for open-end generation.\n"
     ]
    },
    {
     "name": "stdout",
     "output_type": "stream",
     "text": [
      "Found emotion: surprise\n",
      "Index: 25\n",
      "Predicted:  surprise\n",
      "True :  sadness\n",
      "Incorrect\n",
      "------------------------------------\n",
      "Iter 336\n",
      "------------------------------------\n"
     ]
    },
    {
     "name": "stderr",
     "output_type": "stream",
     "text": [
      "The attention mask and the pad token id were not set. As a consequence, you may observe unexpected behavior. Please pass your input's `attention_mask` to obtain reliable results.\n",
      "Setting `pad_token_id` to `eos_token_id`:128001 for open-end generation.\n"
     ]
    },
    {
     "name": "stdout",
     "output_type": "stream",
     "text": [
      "Found emotion: disgust\n",
      "Index: 25\n",
      "Predicted:  disgust\n",
      "True :  neutral\n",
      "Incorrect\n",
      "------------------------------------\n",
      "Iter 337\n",
      "------------------------------------\n"
     ]
    },
    {
     "name": "stderr",
     "output_type": "stream",
     "text": [
      "The attention mask and the pad token id were not set. As a consequence, you may observe unexpected behavior. Please pass your input's `attention_mask` to obtain reliable results.\n",
      "Setting `pad_token_id` to `eos_token_id`:128001 for open-end generation.\n"
     ]
    },
    {
     "name": "stdout",
     "output_type": "stream",
     "text": [
      "Found emotion: anger\n",
      "Index: 7\n",
      "Predicted:  anger\n",
      "True :  anger\n",
      "Correct\n",
      "------------------------------------\n",
      "Iter 338\n",
      "------------------------------------\n"
     ]
    },
    {
     "name": "stderr",
     "output_type": "stream",
     "text": [
      "The attention mask and the pad token id were not set. As a consequence, you may observe unexpected behavior. Please pass your input's `attention_mask` to obtain reliable results.\n",
      "Setting `pad_token_id` to `eos_token_id`:128001 for open-end generation.\n"
     ]
    },
    {
     "name": "stdout",
     "output_type": "stream",
     "text": [
      "Found emotion: joy\n",
      "Index: 22\n",
      "Predicted:  joy\n",
      "True :  neutral\n",
      "Incorrect\n",
      "------------------------------------\n",
      "Iter 339\n",
      "------------------------------------\n"
     ]
    },
    {
     "name": "stderr",
     "output_type": "stream",
     "text": [
      "The attention mask and the pad token id were not set. As a consequence, you may observe unexpected behavior. Please pass your input's `attention_mask` to obtain reliable results.\n",
      "Setting `pad_token_id` to `eos_token_id`:128001 for open-end generation.\n"
     ]
    },
    {
     "name": "stdout",
     "output_type": "stream",
     "text": [
      "Found emotion: joy\n",
      "Index: 24\n",
      "Predicted:  joy\n",
      "True :  neutral\n",
      "Incorrect\n",
      "------------------------------------\n",
      "Iter 340\n",
      "------------------------------------\n"
     ]
    },
    {
     "name": "stderr",
     "output_type": "stream",
     "text": [
      "The attention mask and the pad token id were not set. As a consequence, you may observe unexpected behavior. Please pass your input's `attention_mask` to obtain reliable results.\n",
      "Setting `pad_token_id` to `eos_token_id`:128001 for open-end generation.\n"
     ]
    },
    {
     "name": "stdout",
     "output_type": "stream",
     "text": [
      "Found emotion: surprise\n",
      "Index: 24\n",
      "Predicted:  surprise\n",
      "True :  neutral\n",
      "Incorrect\n",
      "------------------------------------\n",
      "Iter 341\n",
      "------------------------------------\n"
     ]
    },
    {
     "name": "stderr",
     "output_type": "stream",
     "text": [
      "The attention mask and the pad token id were not set. As a consequence, you may observe unexpected behavior. Please pass your input's `attention_mask` to obtain reliable results.\n",
      "Setting `pad_token_id` to `eos_token_id`:128001 for open-end generation.\n"
     ]
    },
    {
     "name": "stdout",
     "output_type": "stream",
     "text": [
      "Found emotion: joy\n",
      "Index: 24\n",
      "Predicted:  joy\n",
      "True :  joy\n",
      "Correct\n",
      "------------------------------------\n",
      "Iter 342\n",
      "------------------------------------\n"
     ]
    },
    {
     "name": "stderr",
     "output_type": "stream",
     "text": [
      "The attention mask and the pad token id were not set. As a consequence, you may observe unexpected behavior. Please pass your input's `attention_mask` to obtain reliable results.\n",
      "Setting `pad_token_id` to `eos_token_id`:128001 for open-end generation.\n"
     ]
    },
    {
     "name": "stdout",
     "output_type": "stream",
     "text": [
      "Found emotion: anger\n",
      "Index: 24\n",
      "Predicted:  anger\n",
      "True :  anger\n",
      "Correct\n",
      "------------------------------------\n",
      "Iter 343\n",
      "------------------------------------\n"
     ]
    },
    {
     "name": "stderr",
     "output_type": "stream",
     "text": [
      "The attention mask and the pad token id were not set. As a consequence, you may observe unexpected behavior. Please pass your input's `attention_mask` to obtain reliable results.\n",
      "Setting `pad_token_id` to `eos_token_id`:128001 for open-end generation.\n"
     ]
    },
    {
     "name": "stdout",
     "output_type": "stream",
     "text": [
      "Found emotion: neutral\n",
      "Index: 24\n",
      "Predicted:  neutral\n",
      "True :  neutral\n",
      "Correct\n",
      "------------------------------------\n",
      "Iter 344\n",
      "------------------------------------\n"
     ]
    },
    {
     "name": "stderr",
     "output_type": "stream",
     "text": [
      "The attention mask and the pad token id were not set. As a consequence, you may observe unexpected behavior. Please pass your input's `attention_mask` to obtain reliable results.\n",
      "Setting `pad_token_id` to `eos_token_id`:128001 for open-end generation.\n"
     ]
    },
    {
     "name": "stdout",
     "output_type": "stream",
     "text": [
      "Found emotion: anger\n",
      "Index: 24\n",
      "Predicted:  anger\n",
      "True :  neutral\n",
      "Incorrect\n",
      "------------------------------------\n",
      "Iter 345\n",
      "------------------------------------\n"
     ]
    },
    {
     "name": "stderr",
     "output_type": "stream",
     "text": [
      "The attention mask and the pad token id were not set. As a consequence, you may observe unexpected behavior. Please pass your input's `attention_mask` to obtain reliable results.\n",
      "Setting `pad_token_id` to `eos_token_id`:128001 for open-end generation.\n"
     ]
    },
    {
     "name": "stdout",
     "output_type": "stream",
     "text": [
      "Found emotion: surprise\n",
      "Index: 22\n",
      "Predicted:  surprise\n",
      "True :  surprise\n",
      "Correct\n",
      "------------------------------------\n",
      "Iter 346\n",
      "------------------------------------\n"
     ]
    },
    {
     "name": "stderr",
     "output_type": "stream",
     "text": [
      "The attention mask and the pad token id were not set. As a consequence, you may observe unexpected behavior. Please pass your input's `attention_mask` to obtain reliable results.\n",
      "Setting `pad_token_id` to `eos_token_id`:128001 for open-end generation.\n"
     ]
    },
    {
     "name": "stdout",
     "output_type": "stream",
     "text": [
      "Found emotion: surprise\n",
      "Index: 6\n",
      "Predicted:  surprise\n",
      "True :  surprise\n",
      "Correct\n",
      "------------------------------------\n",
      "Iter 347\n",
      "------------------------------------\n"
     ]
    },
    {
     "name": "stderr",
     "output_type": "stream",
     "text": [
      "The attention mask and the pad token id were not set. As a consequence, you may observe unexpected behavior. Please pass your input's `attention_mask` to obtain reliable results.\n",
      "Setting `pad_token_id` to `eos_token_id`:128001 for open-end generation.\n"
     ]
    },
    {
     "name": "stdout",
     "output_type": "stream",
     "text": [
      "Found emotion: fear\n",
      "Index: 25\n",
      "Predicted:  fear\n",
      "True :  neutral\n",
      "Incorrect\n",
      "------------------------------------\n",
      "Iter 348\n",
      "------------------------------------\n"
     ]
    },
    {
     "name": "stderr",
     "output_type": "stream",
     "text": [
      "The attention mask and the pad token id were not set. As a consequence, you may observe unexpected behavior. Please pass your input's `attention_mask` to obtain reliable results.\n",
      "Setting `pad_token_id` to `eos_token_id`:128001 for open-end generation.\n"
     ]
    },
    {
     "name": "stdout",
     "output_type": "stream",
     "text": [
      "Found emotion: surprise\n",
      "Index: 7\n",
      "Predicted:  surprise\n",
      "True :  neutral\n",
      "Incorrect\n",
      "------------------------------------\n",
      "Iter 349\n",
      "------------------------------------\n"
     ]
    },
    {
     "name": "stderr",
     "output_type": "stream",
     "text": [
      "The attention mask and the pad token id were not set. As a consequence, you may observe unexpected behavior. Please pass your input's `attention_mask` to obtain reliable results.\n",
      "Setting `pad_token_id` to `eos_token_id`:128001 for open-end generation.\n"
     ]
    },
    {
     "name": "stdout",
     "output_type": "stream",
     "text": [
      "Found emotion: joy\n",
      "Index: 23\n",
      "Predicted:  joy\n",
      "True :  neutral\n",
      "Incorrect\n",
      "------------------------------------\n",
      "Iter 350\n",
      "------------------------------------\n"
     ]
    },
    {
     "name": "stderr",
     "output_type": "stream",
     "text": [
      "The attention mask and the pad token id were not set. As a consequence, you may observe unexpected behavior. Please pass your input's `attention_mask` to obtain reliable results.\n",
      "Setting `pad_token_id` to `eos_token_id`:128001 for open-end generation.\n"
     ]
    },
    {
     "name": "stdout",
     "output_type": "stream",
     "text": [
      "Found emotion: joy\n",
      "Index: 7\n",
      "Predicted:  joy\n",
      "True :  surprise\n",
      "Incorrect\n",
      "------------------------------------\n",
      "Iter 351\n",
      "------------------------------------\n"
     ]
    },
    {
     "name": "stderr",
     "output_type": "stream",
     "text": [
      "The attention mask and the pad token id were not set. As a consequence, you may observe unexpected behavior. Please pass your input's `attention_mask` to obtain reliable results.\n",
      "Setting `pad_token_id` to `eos_token_id`:128001 for open-end generation.\n"
     ]
    },
    {
     "name": "stdout",
     "output_type": "stream",
     "text": [
      "Found emotion: anger\n",
      "Index: 22\n",
      "Predicted:  anger\n",
      "True :  neutral\n",
      "Incorrect\n",
      "------------------------------------\n",
      "Iter 352\n",
      "------------------------------------\n"
     ]
    },
    {
     "name": "stderr",
     "output_type": "stream",
     "text": [
      "The attention mask and the pad token id were not set. As a consequence, you may observe unexpected behavior. Please pass your input's `attention_mask` to obtain reliable results.\n",
      "Setting `pad_token_id` to `eos_token_id`:128001 for open-end generation.\n"
     ]
    },
    {
     "name": "stdout",
     "output_type": "stream",
     "text": [
      "Found emotion: disgust\n",
      "Index: 22\n",
      "Predicted:  disgust\n",
      "True :  neutral\n",
      "Incorrect\n",
      "------------------------------------\n",
      "Iter 353\n",
      "------------------------------------\n"
     ]
    },
    {
     "name": "stderr",
     "output_type": "stream",
     "text": [
      "The attention mask and the pad token id were not set. As a consequence, you may observe unexpected behavior. Please pass your input's `attention_mask` to obtain reliable results.\n",
      "Setting `pad_token_id` to `eos_token_id`:128001 for open-end generation.\n"
     ]
    },
    {
     "name": "stdout",
     "output_type": "stream",
     "text": [
      "Found emotion: surprise\n",
      "Index: 18\n",
      "Predicted:  surprise\n",
      "True :  neutral\n",
      "Incorrect\n",
      "------------------------------------\n",
      "Iter 354\n",
      "------------------------------------\n"
     ]
    },
    {
     "name": "stderr",
     "output_type": "stream",
     "text": [
      "The attention mask and the pad token id were not set. As a consequence, you may observe unexpected behavior. Please pass your input's `attention_mask` to obtain reliable results.\n",
      "Setting `pad_token_id` to `eos_token_id`:128001 for open-end generation.\n"
     ]
    },
    {
     "name": "stdout",
     "output_type": "stream",
     "text": [
      "Found emotion: surprise\n",
      "Index: 6\n",
      "Predicted:  surprise\n",
      "True :  neutral\n",
      "Incorrect\n",
      "------------------------------------\n",
      "Iter 355\n",
      "------------------------------------\n"
     ]
    },
    {
     "name": "stderr",
     "output_type": "stream",
     "text": [
      "The attention mask and the pad token id were not set. As a consequence, you may observe unexpected behavior. Please pass your input's `attention_mask` to obtain reliable results.\n",
      "Setting `pad_token_id` to `eos_token_id`:128001 for open-end generation.\n"
     ]
    },
    {
     "name": "stdout",
     "output_type": "stream",
     "text": [
      "Found emotion: anger\n",
      "Index: 6\n",
      "Predicted:  anger\n",
      "True :  joy\n",
      "Incorrect\n",
      "------------------------------------\n",
      "Iter 356\n",
      "------------------------------------\n"
     ]
    },
    {
     "name": "stderr",
     "output_type": "stream",
     "text": [
      "The attention mask and the pad token id were not set. As a consequence, you may observe unexpected behavior. Please pass your input's `attention_mask` to obtain reliable results.\n",
      "Setting `pad_token_id` to `eos_token_id`:128001 for open-end generation.\n"
     ]
    },
    {
     "name": "stdout",
     "output_type": "stream",
     "text": [
      "Found emotion: joy\n",
      "Index: 22\n",
      "Predicted:  joy\n",
      "True :  surprise\n",
      "Incorrect\n",
      "------------------------------------\n",
      "Iter 357\n",
      "------------------------------------\n"
     ]
    },
    {
     "name": "stderr",
     "output_type": "stream",
     "text": [
      "The attention mask and the pad token id were not set. As a consequence, you may observe unexpected behavior. Please pass your input's `attention_mask` to obtain reliable results.\n",
      "Setting `pad_token_id` to `eos_token_id`:128001 for open-end generation.\n"
     ]
    },
    {
     "name": "stdout",
     "output_type": "stream",
     "text": [
      "Found emotion: neutral\n",
      "Index: 22\n",
      "Predicted:  neutral\n",
      "True :  neutral\n",
      "Correct\n",
      "------------------------------------\n",
      "Iter 358\n",
      "------------------------------------\n"
     ]
    },
    {
     "name": "stderr",
     "output_type": "stream",
     "text": [
      "The attention mask and the pad token id were not set. As a consequence, you may observe unexpected behavior. Please pass your input's `attention_mask` to obtain reliable results.\n",
      "Setting `pad_token_id` to `eos_token_id`:128001 for open-end generation.\n"
     ]
    },
    {
     "name": "stdout",
     "output_type": "stream",
     "text": [
      "Found emotion: fear\n",
      "Index: 24\n",
      "Predicted:  fear\n",
      "True :  neutral\n",
      "Incorrect\n",
      "------------------------------------\n",
      "Iter 359\n",
      "------------------------------------\n"
     ]
    },
    {
     "name": "stderr",
     "output_type": "stream",
     "text": [
      "The attention mask and the pad token id were not set. As a consequence, you may observe unexpected behavior. Please pass your input's `attention_mask` to obtain reliable results.\n",
      "Setting `pad_token_id` to `eos_token_id`:128001 for open-end generation.\n"
     ]
    },
    {
     "name": "stdout",
     "output_type": "stream",
     "text": [
      "Found emotion: surprise\n",
      "Index: 24\n",
      "Predicted:  surprise\n",
      "True :  neutral\n",
      "Incorrect\n",
      "------------------------------------\n",
      "Iter 360\n",
      "------------------------------------\n"
     ]
    },
    {
     "name": "stderr",
     "output_type": "stream",
     "text": [
      "The attention mask and the pad token id were not set. As a consequence, you may observe unexpected behavior. Please pass your input's `attention_mask` to obtain reliable results.\n",
      "Setting `pad_token_id` to `eos_token_id`:128001 for open-end generation.\n"
     ]
    },
    {
     "name": "stdout",
     "output_type": "stream",
     "text": [
      "Found emotion: joy\n",
      "Index: 24\n",
      "Predicted:  joy\n",
      "True :  neutral\n",
      "Incorrect\n",
      "------------------------------------\n",
      "Iter 361\n",
      "------------------------------------\n"
     ]
    },
    {
     "name": "stderr",
     "output_type": "stream",
     "text": [
      "The attention mask and the pad token id were not set. As a consequence, you may observe unexpected behavior. Please pass your input's `attention_mask` to obtain reliable results.\n",
      "Setting `pad_token_id` to `eos_token_id`:128001 for open-end generation.\n"
     ]
    },
    {
     "name": "stdout",
     "output_type": "stream",
     "text": [
      "Found emotion: sadness\n",
      "Index: 24\n",
      "Predicted:  sadness\n",
      "True :  disgust\n",
      "Incorrect\n",
      "------------------------------------\n",
      "Iter 362\n",
      "------------------------------------\n"
     ]
    },
    {
     "name": "stderr",
     "output_type": "stream",
     "text": [
      "The attention mask and the pad token id were not set. As a consequence, you may observe unexpected behavior. Please pass your input's `attention_mask` to obtain reliable results.\n",
      "Setting `pad_token_id` to `eos_token_id`:128001 for open-end generation.\n"
     ]
    },
    {
     "name": "stdout",
     "output_type": "stream",
     "text": [
      "Found emotion: neutral\n",
      "Index: 24\n",
      "Predicted:  neutral\n",
      "True :  neutral\n",
      "Correct\n",
      "------------------------------------\n",
      "Iter 363\n",
      "------------------------------------\n"
     ]
    },
    {
     "name": "stderr",
     "output_type": "stream",
     "text": [
      "The attention mask and the pad token id were not set. As a consequence, you may observe unexpected behavior. Please pass your input's `attention_mask` to obtain reliable results.\n",
      "Setting `pad_token_id` to `eos_token_id`:128001 for open-end generation.\n"
     ]
    },
    {
     "name": "stdout",
     "output_type": "stream",
     "text": [
      "Found emotion: neutral\n",
      "Index: 18\n",
      "Predicted:  neutral\n",
      "True :  joy\n",
      "Incorrect\n",
      "------------------------------------\n",
      "Iter 364\n",
      "------------------------------------\n"
     ]
    },
    {
     "name": "stderr",
     "output_type": "stream",
     "text": [
      "The attention mask and the pad token id were not set. As a consequence, you may observe unexpected behavior. Please pass your input's `attention_mask` to obtain reliable results.\n",
      "Setting `pad_token_id` to `eos_token_id`:128001 for open-end generation.\n"
     ]
    },
    {
     "name": "stdout",
     "output_type": "stream",
     "text": [
      "Found emotion: surprise\n",
      "Index: 18\n",
      "Predicted:  surprise\n",
      "True :  neutral\n",
      "Incorrect\n",
      "------------------------------------\n",
      "Iter 365\n",
      "------------------------------------\n"
     ]
    },
    {
     "name": "stderr",
     "output_type": "stream",
     "text": [
      "The attention mask and the pad token id were not set. As a consequence, you may observe unexpected behavior. Please pass your input's `attention_mask` to obtain reliable results.\n",
      "Setting `pad_token_id` to `eos_token_id`:128001 for open-end generation.\n"
     ]
    },
    {
     "name": "stdout",
     "output_type": "stream",
     "text": [
      "Found emotion: surprise\n",
      "Index: 25\n",
      "Predicted:  surprise\n",
      "True :  joy\n",
      "Incorrect\n",
      "------------------------------------\n",
      "Iter 366\n",
      "------------------------------------\n"
     ]
    },
    {
     "name": "stderr",
     "output_type": "stream",
     "text": [
      "The attention mask and the pad token id were not set. As a consequence, you may observe unexpected behavior. Please pass your input's `attention_mask` to obtain reliable results.\n",
      "Setting `pad_token_id` to `eos_token_id`:128001 for open-end generation.\n"
     ]
    },
    {
     "name": "stdout",
     "output_type": "stream",
     "text": [
      "Found emotion: neutral\n",
      "Index: 18\n",
      "Predicted:  neutral\n",
      "True :  joy\n",
      "Incorrect\n",
      "------------------------------------\n",
      "Iter 367\n",
      "------------------------------------\n"
     ]
    },
    {
     "name": "stderr",
     "output_type": "stream",
     "text": [
      "The attention mask and the pad token id were not set. As a consequence, you may observe unexpected behavior. Please pass your input's `attention_mask` to obtain reliable results.\n",
      "Setting `pad_token_id` to `eos_token_id`:128001 for open-end generation.\n"
     ]
    },
    {
     "name": "stdout",
     "output_type": "stream",
     "text": [
      "Found emotion: surprise\n",
      "Index: 25\n",
      "Predicted:  surprise\n",
      "True :  neutral\n",
      "Incorrect\n",
      "------------------------------------\n",
      "Iter 368\n",
      "------------------------------------\n"
     ]
    },
    {
     "name": "stderr",
     "output_type": "stream",
     "text": [
      "The attention mask and the pad token id were not set. As a consequence, you may observe unexpected behavior. Please pass your input's `attention_mask` to obtain reliable results.\n",
      "Setting `pad_token_id` to `eos_token_id`:128001 for open-end generation.\n"
     ]
    },
    {
     "name": "stdout",
     "output_type": "stream",
     "text": [
      "Found emotion: joy\n",
      "Index: 25\n",
      "Predicted:  joy\n",
      "True :  joy\n",
      "Correct\n",
      "------------------------------------\n",
      "Iter 369\n",
      "------------------------------------\n"
     ]
    },
    {
     "name": "stderr",
     "output_type": "stream",
     "text": [
      "The attention mask and the pad token id were not set. As a consequence, you may observe unexpected behavior. Please pass your input's `attention_mask` to obtain reliable results.\n",
      "Setting `pad_token_id` to `eos_token_id`:128001 for open-end generation.\n"
     ]
    },
    {
     "name": "stdout",
     "output_type": "stream",
     "text": [
      "Found emotion: anger\n",
      "Index: 25\n",
      "Predicted:  anger\n",
      "True :  neutral\n",
      "Incorrect\n",
      "------------------------------------\n",
      "Iter 370\n",
      "------------------------------------\n"
     ]
    },
    {
     "name": "stderr",
     "output_type": "stream",
     "text": [
      "The attention mask and the pad token id were not set. As a consequence, you may observe unexpected behavior. Please pass your input's `attention_mask` to obtain reliable results.\n",
      "Setting `pad_token_id` to `eos_token_id`:128001 for open-end generation.\n"
     ]
    },
    {
     "name": "stdout",
     "output_type": "stream",
     "text": [
      "Found emotion: sadness\n",
      "Index: 25\n",
      "Predicted:  sadness\n",
      "True :  fear\n",
      "Incorrect\n",
      "------------------------------------\n",
      "Iter 371\n",
      "------------------------------------\n"
     ]
    },
    {
     "name": "stderr",
     "output_type": "stream",
     "text": [
      "The attention mask and the pad token id were not set. As a consequence, you may observe unexpected behavior. Please pass your input's `attention_mask` to obtain reliable results.\n",
      "Setting `pad_token_id` to `eos_token_id`:128001 for open-end generation.\n"
     ]
    },
    {
     "name": "stdout",
     "output_type": "stream",
     "text": [
      "Found emotion: anger\n",
      "Index: 22\n",
      "Predicted:  anger\n",
      "True :  anger\n",
      "Correct\n",
      "------------------------------------\n",
      "Iter 372\n",
      "------------------------------------\n"
     ]
    },
    {
     "name": "stderr",
     "output_type": "stream",
     "text": [
      "The attention mask and the pad token id were not set. As a consequence, you may observe unexpected behavior. Please pass your input's `attention_mask` to obtain reliable results.\n",
      "Setting `pad_token_id` to `eos_token_id`:128001 for open-end generation.\n"
     ]
    },
    {
     "name": "stdout",
     "output_type": "stream",
     "text": [
      "Found emotion: neutral\n",
      "Index: 22\n",
      "Predicted:  neutral\n",
      "True :  anger\n",
      "Incorrect\n",
      "------------------------------------\n",
      "Iter 373\n",
      "------------------------------------\n"
     ]
    },
    {
     "name": "stderr",
     "output_type": "stream",
     "text": [
      "The attention mask and the pad token id were not set. As a consequence, you may observe unexpected behavior. Please pass your input's `attention_mask` to obtain reliable results.\n",
      "Setting `pad_token_id` to `eos_token_id`:128001 for open-end generation.\n"
     ]
    },
    {
     "name": "stdout",
     "output_type": "stream",
     "text": [
      "Found emotion: anger\n",
      "Index: 24\n",
      "Predicted:  anger\n",
      "True :  anger\n",
      "Correct\n",
      "------------------------------------\n",
      "Iter 374\n",
      "------------------------------------\n"
     ]
    },
    {
     "name": "stderr",
     "output_type": "stream",
     "text": [
      "The attention mask and the pad token id were not set. As a consequence, you may observe unexpected behavior. Please pass your input's `attention_mask` to obtain reliable results.\n",
      "Setting `pad_token_id` to `eos_token_id`:128001 for open-end generation.\n"
     ]
    },
    {
     "name": "stdout",
     "output_type": "stream",
     "text": [
      "Found emotion: neutral\n",
      "Index: 24\n",
      "Predicted:  neutral\n",
      "True :  anger\n",
      "Incorrect\n",
      "------------------------------------\n",
      "Iter 375\n",
      "------------------------------------\n"
     ]
    },
    {
     "name": "stderr",
     "output_type": "stream",
     "text": [
      "The attention mask and the pad token id were not set. As a consequence, you may observe unexpected behavior. Please pass your input's `attention_mask` to obtain reliable results.\n",
      "Setting `pad_token_id` to `eos_token_id`:128001 for open-end generation.\n"
     ]
    },
    {
     "name": "stdout",
     "output_type": "stream",
     "text": [
      "Found emotion: joy\n",
      "Index: 24\n",
      "Predicted:  joy\n",
      "True :  anger\n",
      "Incorrect\n",
      "------------------------------------\n",
      "Iter 376\n",
      "------------------------------------\n"
     ]
    },
    {
     "name": "stderr",
     "output_type": "stream",
     "text": [
      "The attention mask and the pad token id were not set. As a consequence, you may observe unexpected behavior. Please pass your input's `attention_mask` to obtain reliable results.\n",
      "Setting `pad_token_id` to `eos_token_id`:128001 for open-end generation.\n"
     ]
    },
    {
     "name": "stdout",
     "output_type": "stream",
     "text": [
      "Found emotion: joy\n",
      "Index: 22\n",
      "Predicted:  joy\n",
      "True :  neutral\n",
      "Incorrect\n",
      "------------------------------------\n",
      "Iter 377\n",
      "------------------------------------\n"
     ]
    },
    {
     "name": "stderr",
     "output_type": "stream",
     "text": [
      "The attention mask and the pad token id were not set. As a consequence, you may observe unexpected behavior. Please pass your input's `attention_mask` to obtain reliable results.\n",
      "Setting `pad_token_id` to `eos_token_id`:128001 for open-end generation.\n"
     ]
    },
    {
     "name": "stdout",
     "output_type": "stream",
     "text": [
      "Found emotion: neutral\n",
      "Index: 22\n",
      "Predicted:  neutral\n",
      "True :  neutral\n",
      "Correct\n",
      "------------------------------------\n",
      "Iter 378\n",
      "------------------------------------\n"
     ]
    },
    {
     "name": "stderr",
     "output_type": "stream",
     "text": [
      "The attention mask and the pad token id were not set. As a consequence, you may observe unexpected behavior. Please pass your input's `attention_mask` to obtain reliable results.\n",
      "Setting `pad_token_id` to `eos_token_id`:128001 for open-end generation.\n"
     ]
    },
    {
     "name": "stdout",
     "output_type": "stream",
     "text": [
      "Found emotion: sadness\n",
      "Index: 22\n",
      "Predicted:  sadness\n",
      "True :  neutral\n",
      "Incorrect\n",
      "------------------------------------\n",
      "Iter 379\n",
      "------------------------------------\n"
     ]
    },
    {
     "name": "stderr",
     "output_type": "stream",
     "text": [
      "The attention mask and the pad token id were not set. As a consequence, you may observe unexpected behavior. Please pass your input's `attention_mask` to obtain reliable results.\n",
      "Setting `pad_token_id` to `eos_token_id`:128001 for open-end generation.\n"
     ]
    },
    {
     "name": "stdout",
     "output_type": "stream",
     "text": [
      "Found emotion: disgust\n",
      "Index: 22\n",
      "Predicted:  disgust\n",
      "True :  neutral\n",
      "Incorrect\n",
      "------------------------------------\n",
      "Iter 380\n",
      "------------------------------------\n"
     ]
    },
    {
     "name": "stderr",
     "output_type": "stream",
     "text": [
      "The attention mask and the pad token id were not set. As a consequence, you may observe unexpected behavior. Please pass your input's `attention_mask` to obtain reliable results.\n",
      "Setting `pad_token_id` to `eos_token_id`:128001 for open-end generation.\n"
     ]
    },
    {
     "name": "stdout",
     "output_type": "stream",
     "text": [
      "Found emotion: joy\n",
      "Index: 24\n",
      "Predicted:  joy\n",
      "True :  neutral\n",
      "Incorrect\n",
      "------------------------------------\n",
      "Iter 381\n",
      "------------------------------------\n"
     ]
    },
    {
     "name": "stderr",
     "output_type": "stream",
     "text": [
      "The attention mask and the pad token id were not set. As a consequence, you may observe unexpected behavior. Please pass your input's `attention_mask` to obtain reliable results.\n",
      "Setting `pad_token_id` to `eos_token_id`:128001 for open-end generation.\n"
     ]
    },
    {
     "name": "stdout",
     "output_type": "stream",
     "text": [
      "Found emotion: surprise\n",
      "Index: 22\n",
      "Predicted:  surprise\n",
      "True :  neutral\n",
      "Incorrect\n",
      "------------------------------------\n",
      "Iter 382\n",
      "------------------------------------\n"
     ]
    },
    {
     "name": "stderr",
     "output_type": "stream",
     "text": [
      "The attention mask and the pad token id were not set. As a consequence, you may observe unexpected behavior. Please pass your input's `attention_mask` to obtain reliable results.\n",
      "Setting `pad_token_id` to `eos_token_id`:128001 for open-end generation.\n"
     ]
    },
    {
     "name": "stdout",
     "output_type": "stream",
     "text": [
      "Found emotion: surprise\n",
      "Index: 24\n",
      "Predicted:  surprise\n",
      "True :  surprise\n",
      "Correct\n",
      "------------------------------------\n",
      "Iter 383\n",
      "------------------------------------\n"
     ]
    },
    {
     "name": "stderr",
     "output_type": "stream",
     "text": [
      "The attention mask and the pad token id were not set. As a consequence, you may observe unexpected behavior. Please pass your input's `attention_mask` to obtain reliable results.\n",
      "Setting `pad_token_id` to `eos_token_id`:128001 for open-end generation.\n"
     ]
    },
    {
     "name": "stdout",
     "output_type": "stream",
     "text": [
      "Found emotion: neutral\n",
      "Index: 22\n",
      "Predicted:  neutral\n",
      "True :  neutral\n",
      "Correct\n",
      "------------------------------------\n",
      "Iter 384\n",
      "------------------------------------\n"
     ]
    },
    {
     "name": "stderr",
     "output_type": "stream",
     "text": [
      "The attention mask and the pad token id were not set. As a consequence, you may observe unexpected behavior. Please pass your input's `attention_mask` to obtain reliable results.\n",
      "Setting `pad_token_id` to `eos_token_id`:128001 for open-end generation.\n"
     ]
    },
    {
     "name": "stdout",
     "output_type": "stream",
     "text": [
      "Found emotion: neutral\n",
      "Index: 18\n",
      "Predicted:  neutral\n",
      "True :  neutral\n",
      "Correct\n",
      "------------------------------------\n",
      "Iter 385\n",
      "------------------------------------\n"
     ]
    },
    {
     "name": "stderr",
     "output_type": "stream",
     "text": [
      "The attention mask and the pad token id were not set. As a consequence, you may observe unexpected behavior. Please pass your input's `attention_mask` to obtain reliable results.\n",
      "Setting `pad_token_id` to `eos_token_id`:128001 for open-end generation.\n"
     ]
    },
    {
     "name": "stdout",
     "output_type": "stream",
     "text": [
      "Found emotion: neutral\n",
      "Index: 25\n",
      "Predicted:  neutral\n",
      "True :  neutral\n",
      "Correct\n",
      "------------------------------------\n",
      "Iter 386\n",
      "------------------------------------\n"
     ]
    },
    {
     "name": "stderr",
     "output_type": "stream",
     "text": [
      "The attention mask and the pad token id were not set. As a consequence, you may observe unexpected behavior. Please pass your input's `attention_mask` to obtain reliable results.\n",
      "Setting `pad_token_id` to `eos_token_id`:128001 for open-end generation.\n"
     ]
    },
    {
     "name": "stdout",
     "output_type": "stream",
     "text": [
      "Found emotion: anger\n",
      "Index: 25\n",
      "Predicted:  anger\n",
      "True :  joy\n",
      "Incorrect\n",
      "------------------------------------\n",
      "Iter 387\n",
      "------------------------------------\n"
     ]
    },
    {
     "name": "stderr",
     "output_type": "stream",
     "text": [
      "The attention mask and the pad token id were not set. As a consequence, you may observe unexpected behavior. Please pass your input's `attention_mask` to obtain reliable results.\n",
      "Setting `pad_token_id` to `eos_token_id`:128001 for open-end generation.\n"
     ]
    },
    {
     "name": "stdout",
     "output_type": "stream",
     "text": [
      "Found emotion: surprise\n",
      "Index: 25\n",
      "Predicted:  surprise\n",
      "True :  surprise\n",
      "Correct\n",
      "------------------------------------\n",
      "Iter 388\n",
      "------------------------------------\n"
     ]
    },
    {
     "name": "stderr",
     "output_type": "stream",
     "text": [
      "The attention mask and the pad token id were not set. As a consequence, you may observe unexpected behavior. Please pass your input's `attention_mask` to obtain reliable results.\n",
      "Setting `pad_token_id` to `eos_token_id`:128001 for open-end generation.\n"
     ]
    },
    {
     "name": "stdout",
     "output_type": "stream",
     "text": [
      "Found emotion: neutral\n",
      "Index: 7\n",
      "Predicted:  neutral\n",
      "True :  neutral\n",
      "Correct\n",
      "------------------------------------\n",
      "Iter 389\n",
      "------------------------------------\n"
     ]
    },
    {
     "name": "stderr",
     "output_type": "stream",
     "text": [
      "The attention mask and the pad token id were not set. As a consequence, you may observe unexpected behavior. Please pass your input's `attention_mask` to obtain reliable results.\n",
      "Setting `pad_token_id` to `eos_token_id`:128001 for open-end generation.\n"
     ]
    },
    {
     "name": "stdout",
     "output_type": "stream",
     "text": [
      "Found emotion: anger\n",
      "Index: 25\n",
      "Predicted:  anger\n",
      "True :  neutral\n",
      "Incorrect\n",
      "------------------------------------\n",
      "Iter 390\n",
      "------------------------------------\n"
     ]
    },
    {
     "name": "stderr",
     "output_type": "stream",
     "text": [
      "The attention mask and the pad token id were not set. As a consequence, you may observe unexpected behavior. Please pass your input's `attention_mask` to obtain reliable results.\n",
      "Setting `pad_token_id` to `eos_token_id`:128001 for open-end generation.\n"
     ]
    },
    {
     "name": "stdout",
     "output_type": "stream",
     "text": [
      "Found emotion: joy\n",
      "Index: 25\n",
      "Predicted:  joy\n",
      "True :  joy\n",
      "Correct\n",
      "------------------------------------\n",
      "Iter 391\n",
      "------------------------------------\n"
     ]
    },
    {
     "name": "stderr",
     "output_type": "stream",
     "text": [
      "The attention mask and the pad token id were not set. As a consequence, you may observe unexpected behavior. Please pass your input's `attention_mask` to obtain reliable results.\n",
      "Setting `pad_token_id` to `eos_token_id`:128001 for open-end generation.\n"
     ]
    },
    {
     "name": "stdout",
     "output_type": "stream",
     "text": [
      "Found emotion: joy\n",
      "Index: 23\n",
      "Predicted:  joy\n",
      "True :  joy\n",
      "Correct\n",
      "------------------------------------\n",
      "Iter 392\n",
      "------------------------------------\n"
     ]
    },
    {
     "name": "stderr",
     "output_type": "stream",
     "text": [
      "The attention mask and the pad token id were not set. As a consequence, you may observe unexpected behavior. Please pass your input's `attention_mask` to obtain reliable results.\n",
      "Setting `pad_token_id` to `eos_token_id`:128001 for open-end generation.\n"
     ]
    },
    {
     "name": "stdout",
     "output_type": "stream",
     "text": [
      "Found emotion: surprise\n",
      "Index: 25\n",
      "Predicted:  surprise\n",
      "True :  surprise\n",
      "Correct\n",
      "------------------------------------\n",
      "Iter 393\n",
      "------------------------------------\n"
     ]
    },
    {
     "name": "stderr",
     "output_type": "stream",
     "text": [
      "The attention mask and the pad token id were not set. As a consequence, you may observe unexpected behavior. Please pass your input's `attention_mask` to obtain reliable results.\n",
      "Setting `pad_token_id` to `eos_token_id`:128001 for open-end generation.\n"
     ]
    },
    {
     "name": "stdout",
     "output_type": "stream",
     "text": [
      "Found emotion: sadness\n",
      "Index: 22\n",
      "Predicted:  sadness\n",
      "True :  neutral\n",
      "Incorrect\n",
      "------------------------------------\n",
      "Iter 394\n",
      "------------------------------------\n"
     ]
    },
    {
     "name": "stderr",
     "output_type": "stream",
     "text": [
      "The attention mask and the pad token id were not set. As a consequence, you may observe unexpected behavior. Please pass your input's `attention_mask` to obtain reliable results.\n",
      "Setting `pad_token_id` to `eos_token_id`:128001 for open-end generation.\n"
     ]
    },
    {
     "name": "stdout",
     "output_type": "stream",
     "text": [
      "Found emotion: joy\n",
      "Index: 22\n",
      "Predicted:  joy\n",
      "True :  joy\n",
      "Correct\n",
      "------------------------------------\n",
      "Iter 395\n",
      "------------------------------------\n"
     ]
    },
    {
     "name": "stderr",
     "output_type": "stream",
     "text": [
      "The attention mask and the pad token id were not set. As a consequence, you may observe unexpected behavior. Please pass your input's `attention_mask` to obtain reliable results.\n",
      "Setting `pad_token_id` to `eos_token_id`:128001 for open-end generation.\n"
     ]
    },
    {
     "name": "stdout",
     "output_type": "stream",
     "text": [
      "Found emotion: anger\n",
      "Index: 24\n",
      "Predicted:  anger\n",
      "True :  neutral\n",
      "Incorrect\n",
      "------------------------------------\n",
      "Iter 396\n",
      "------------------------------------\n"
     ]
    },
    {
     "name": "stderr",
     "output_type": "stream",
     "text": [
      "The attention mask and the pad token id were not set. As a consequence, you may observe unexpected behavior. Please pass your input's `attention_mask` to obtain reliable results.\n",
      "Setting `pad_token_id` to `eos_token_id`:128001 for open-end generation.\n"
     ]
    },
    {
     "name": "stdout",
     "output_type": "stream",
     "text": [
      "Found emotion: fear\n",
      "Index: 22\n",
      "Predicted:  fear\n",
      "True :  neutral\n",
      "Incorrect\n",
      "------------------------------------\n",
      "Iter 397\n",
      "------------------------------------\n"
     ]
    },
    {
     "name": "stderr",
     "output_type": "stream",
     "text": [
      "The attention mask and the pad token id were not set. As a consequence, you may observe unexpected behavior. Please pass your input's `attention_mask` to obtain reliable results.\n",
      "Setting `pad_token_id` to `eos_token_id`:128001 for open-end generation.\n"
     ]
    },
    {
     "name": "stdout",
     "output_type": "stream",
     "text": [
      "Found emotion: surprise\n",
      "Index: 24\n",
      "Predicted:  surprise\n",
      "True :  neutral\n",
      "Incorrect\n",
      "------------------------------------\n",
      "Iter 398\n",
      "------------------------------------\n"
     ]
    },
    {
     "name": "stderr",
     "output_type": "stream",
     "text": [
      "The attention mask and the pad token id were not set. As a consequence, you may observe unexpected behavior. Please pass your input's `attention_mask` to obtain reliable results.\n",
      "Setting `pad_token_id` to `eos_token_id`:128001 for open-end generation.\n"
     ]
    },
    {
     "name": "stdout",
     "output_type": "stream",
     "text": [
      "Found emotion: fear\n",
      "Index: 22\n",
      "Predicted:  fear\n",
      "True :  sadness\n",
      "Incorrect\n",
      "------------------------------------\n",
      "Iter 399\n",
      "------------------------------------\n"
     ]
    },
    {
     "name": "stderr",
     "output_type": "stream",
     "text": [
      "The attention mask and the pad token id were not set. As a consequence, you may observe unexpected behavior. Please pass your input's `attention_mask` to obtain reliable results.\n",
      "Setting `pad_token_id` to `eos_token_id`:128001 for open-end generation.\n"
     ]
    },
    {
     "name": "stdout",
     "output_type": "stream",
     "text": [
      "Found emotion: disgust\n",
      "Index: 24\n",
      "Predicted:  disgust\n",
      "True :  sadness\n",
      "Incorrect\n",
      "------------------------------------\n",
      "Iter 400\n",
      "------------------------------------\n"
     ]
    },
    {
     "name": "stderr",
     "output_type": "stream",
     "text": [
      "The attention mask and the pad token id were not set. As a consequence, you may observe unexpected behavior. Please pass your input's `attention_mask` to obtain reliable results.\n",
      "Setting `pad_token_id` to `eos_token_id`:128001 for open-end generation.\n"
     ]
    },
    {
     "name": "stdout",
     "output_type": "stream",
     "text": [
      "Found emotion: neutral\n",
      "Index: 22\n",
      "Predicted:  neutral\n",
      "True :  joy\n",
      "Incorrect\n",
      "------------------------------------\n",
      "Iter 401\n",
      "------------------------------------\n"
     ]
    },
    {
     "name": "stderr",
     "output_type": "stream",
     "text": [
      "The attention mask and the pad token id were not set. As a consequence, you may observe unexpected behavior. Please pass your input's `attention_mask` to obtain reliable results.\n",
      "Setting `pad_token_id` to `eos_token_id`:128001 for open-end generation.\n"
     ]
    },
    {
     "name": "stdout",
     "output_type": "stream",
     "text": [
      "Found emotion: fear\n",
      "Index: 24\n",
      "Predicted:  fear\n",
      "True :  fear\n",
      "Correct\n",
      "------------------------------------\n",
      "Iter 402\n",
      "------------------------------------\n"
     ]
    },
    {
     "name": "stderr",
     "output_type": "stream",
     "text": [
      "The attention mask and the pad token id were not set. As a consequence, you may observe unexpected behavior. Please pass your input's `attention_mask` to obtain reliable results.\n",
      "Setting `pad_token_id` to `eos_token_id`:128001 for open-end generation.\n"
     ]
    },
    {
     "name": "stdout",
     "output_type": "stream",
     "text": [
      "Found emotion: neutral\n",
      "Index: 23\n",
      "Predicted:  neutral\n",
      "True :  neutral\n",
      "Correct\n",
      "------------------------------------\n",
      "Iter 403\n",
      "------------------------------------\n"
     ]
    },
    {
     "name": "stderr",
     "output_type": "stream",
     "text": [
      "The attention mask and the pad token id were not set. As a consequence, you may observe unexpected behavior. Please pass your input's `attention_mask` to obtain reliable results.\n",
      "Setting `pad_token_id` to `eos_token_id`:128001 for open-end generation.\n"
     ]
    },
    {
     "name": "stdout",
     "output_type": "stream",
     "text": [
      "Found emotion: neutral\n",
      "Index: 25\n",
      "Predicted:  neutral\n",
      "True :  neutral\n",
      "Correct\n",
      "------------------------------------\n",
      "Iter 404\n",
      "------------------------------------\n"
     ]
    },
    {
     "name": "stderr",
     "output_type": "stream",
     "text": [
      "The attention mask and the pad token id were not set. As a consequence, you may observe unexpected behavior. Please pass your input's `attention_mask` to obtain reliable results.\n",
      "Setting `pad_token_id` to `eos_token_id`:128001 for open-end generation.\n"
     ]
    },
    {
     "name": "stdout",
     "output_type": "stream",
     "text": [
      "Found emotion: neutral\n",
      "Index: 23\n",
      "Predicted:  neutral\n",
      "True :  neutral\n",
      "Correct\n",
      "------------------------------------\n",
      "Iter 405\n",
      "------------------------------------\n",
      "Found emotion: joy\n",
      "Index: 18\n",
      "Predicted:  joy\n",
      "True :  neutral\n",
      "Incorrect\n",
      "------------------------------------\n"
     ]
    }
   ],
   "source": [
    "pred_labels_list = []\n",
    "true_labels_list = []\n",
    "correct=0\n",
    "for i in range(len(test_dataset)-1000):\n",
    "    print(f\"Iter {i}\")\n",
    "    print(\"------------------------------------\")\n",
    "    # predict\n",
    "    prompt = test_dataset[\"instruction\"][i]\n",
    "    output = get_full_output(prompt)\n",
    "    pred_labels_list.append(output)\n",
    "    # extract\n",
    "    if len(output.split(\"utterance_id :: emotion_label\\n[/INST]\")) == 2:\n",
    "        output = extract_first_emotion(output.split(\"utterance_id :: emotion_label\\n[/INST]\")[1])\n",
    "        print(\"Predicted: \", output)\n",
    "    else:\n",
    "        output = output.split(\"utterance_id :: emotion_label\\n[/INST]\")[1]\n",
    "        output = extract_emotion_label(output.strip())\n",
    "        print(\"Predicted: \", output.strip().lower())\n",
    "    # baseline\n",
    "    baseline_output = test_dataset[\"out\"][i]\n",
    "    baseline_output = extract_emotion_label(baseline_output.strip())\n",
    "    baseline_output = baseline_output.strip().lower()\n",
    "    print(\"True : \", baseline_output)\n",
    "    true_labels_list.append(baseline_output)\n",
    "    # Accuracy\n",
    "    if output == baseline_output:\n",
    "        print(\"Correct\")\n",
    "        correct += 1\n",
    "    else:\n",
    "        print(\"Incorrect\")\n",
    "    print(\"------------------------------------\")"
   ]
  },
  {
   "cell_type": "code",
   "execution_count": 38,
   "id": "201949cd-3f2c-4548-b16c-26920bd040cc",
   "metadata": {},
   "outputs": [
    {
     "name": "stdout",
     "output_type": "stream",
     "text": [
      "164\n"
     ]
    }
   ],
   "source": [
    "print(correct)"
   ]
  },
  {
   "cell_type": "code",
   "execution_count": 39,
   "id": "c32ebc61-36aa-4b7d-aa66-be46ff3aa588",
   "metadata": {},
   "outputs": [
    {
     "name": "stdout",
     "output_type": "stream",
     "text": [
      "Accuracy: 0.4039408866995074\n"
     ]
    }
   ],
   "source": [
    "print(\"Accuracy: {}\".format(correct / 406))"
   ]
  },
  {
   "cell_type": "code",
   "execution_count": null,
   "id": "44bdbb06-b1f2-4dbc-a00b-6044504b2f6b",
   "metadata": {},
   "outputs": [],
   "source": []
  }
 ],
 "metadata": {
  "kernelspec": {
   "display_name": "Python 3 (ipykernel)",
   "language": "python",
   "name": "python3"
  },
  "language_info": {
   "codemirror_mode": {
    "name": "ipython",
    "version": 3
   },
   "file_extension": ".py",
   "mimetype": "text/x-python",
   "name": "python",
   "nbconvert_exporter": "python",
   "pygments_lexer": "ipython3",
   "version": "3.8.20"
  }
 },
 "nbformat": 4,
 "nbformat_minor": 5
}
